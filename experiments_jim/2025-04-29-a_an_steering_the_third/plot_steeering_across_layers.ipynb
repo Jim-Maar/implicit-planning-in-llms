{
 "cells": [
  {
   "cell_type": "code",
   "execution_count": null,
   "id": "0d7fdbd1-818f-4729-8c95-1aabe3aa546c",
   "metadata": {},
   "outputs": [
    {
     "name": "stdout",
     "output_type": "stream",
     "text": [
      "PyTorch version: 2.7.0+cu126\n",
      "Transformers version: 4.51.3\n",
      "CUDA available: True\n",
      "CUDA version: 12.6\n",
      "Current device: 0\n",
      "Device name: NVIDIA A100-SXM4-80GB\n"
     ]
    },
    {
     "data": {
      "application/vnd.jupyter.widget-view+json": {
       "model_id": "7f478943f0e84969b8361c395f3fde4c",
       "version_major": 2,
       "version_minor": 0
      },
      "text/plain": [
       "VBox(children=(HTML(value='<center> <img\\nsrc=https://huggingface.co/front/assets/huggingface_logo-noborder.sv…"
      ]
     },
     "metadata": {},
     "output_type": "display_data"
    },
    {
     "name": "stdout",
     "output_type": "stream",
     "text": [
      "Hugging Face login successful (using provided token).\n"
     ]
    },
    {
     "name": "stderr",
     "output_type": "stream",
     "text": [
      "Token has not been saved to git credential helper.\n"
     ]
    }
   ],
   "source": [
    "# -*- coding: utf-8 -*-\n",
    "\"\"\"\n",
    "Created on Wed Apr 23 10:57:41 2025\n",
    "\n",
    "@author: Paper001\n",
    "\"\"\"\n",
    "import dotenv\n",
    "import os\n",
    "import matplotlib.pyplot as plt\n",
    "import numpy as np\n",
    "import pandas as pd\n",
    "import torch\n",
    "import transformers\n",
    "from transformers import AutoTokenizer, AutoModelForCausalLM, BitsAndBytesConfig\n",
    "from dataclasses import dataclass\n",
    "\n",
    "# from utils.data_generation.a_an_data import datasets\n",
    "\n",
    "import gc\n",
    "from contextlib import contextmanager\n",
    "from typing import List, Dict, Optional, Callable\n",
    "import einops\n",
    "from tqdm import tqdm\n",
    "\n",
    "from utils.data import (\n",
    "    a_an_something_questions,\n",
    "    a_habit_questions,\n",
    "    a_rabbit_questions,\n",
    "    an_ape_questions,\n",
    "    lines_that_rhyme_with_pain,\n",
    "    lines_that_rhyme_with_quick,\n",
    "    example_based_rhymed_prompts_quick,\n",
    "    example_based_unrhymed_prompts_quick,\n",
    "    rhymed_couplets,\n",
    "    unrhymed_couplets,\n",
    "    lines_that_rhyme_with_rabbit,\n",
    "    lines_that_rhyme_with_habit,\n",
    "    lines_that_rhyme_with_rabbit_general,\n",
    "    lines_that_rhyme_with_rabbit_oneshot,\n",
    "    lines_that_rhyme_with_habit_general,\n",
    "    lines_that_rhyme_with_habit_oneshot,\n",
    "    a_pear_or_an_apple_questions,\n",
    "    a_pear_questions,\n",
    "    an_apple_questions,\n",
    "    a_date_questions,\n",
    "    a_date_or_a_pear_questions,\n",
    ")\n",
    "\n",
    "print(f\"PyTorch version: {torch.__version__}\")\n",
    "print(f\"Transformers version: {transformers.__version__}\")\n",
    "print(f\"CUDA available: {torch.cuda.is_available()}\")\n",
    "if torch.cuda.is_available():\n",
    "    print(f\"CUDA version: {torch.version.cuda}\")\n",
    "    print(f\"Current device: {torch.cuda.current_device()}\")\n",
    "    print(f\"Device name: {torch.cuda.get_device_name(torch.cuda.current_device())}\")\n",
    "# %%\n",
    "dotenv.load_dotenv(\"hf.env\")\n",
    "# @title 1.5. For access to Gemma models, log in to HuggingFace \n",
    "from huggingface_hub import login\n",
    "HUGGING_FACE_TOKEN = os.getenv(\"HUGGINGFACE_TOKEN\")\n",
    "try:\n",
    "     login(token=HUGGING_FACE_TOKEN)\n",
    "     print(\"Hugging Face login successful (using provided token).\")\n",
    "except Exception as e:\n",
    "     print(f\"Hugging Face login failed. Error: {e}\")\n",
    "# %%\n",
    "MODEL_ID = \"google/gemma-2-9b-it\" # Or \"google/gemma-2-9b\" if you prefer the base model\n",
    "# Set to True if you have limited VRAM (e.g., < 24GB). Requires bitsandbytes\n",
    "USE_4BIT_QUANTIZATION = False\n",
    "\n",
    "POSITIVE_PROMPTS = [\n",
    "    \"This story should be very optimistic and uplifting.\",\n",
    "    \"Write a hopeful and positive narrative.\",\n",
    "    \"Generate text with a cheerful and encouraging tone.\",\n",
    "]\n",
    "NEGATIVE_PROMPTS = [\n",
    "    \"This story should be very pessimistic and bleak.\",\n",
    "    \"Write a depressing and negative narrative.\",\n",
    "    \"Generate text with a gloomy and discouraging tone.\",\n",
    "]\n",
    "\n",
    "# The prompt to use for actual generation\n",
    "GENERATION_PROMPT = \"Write a short paragraph about the future of artificial intelligence.\"\n",
    "\n",
    "# How strongly to apply the steering vector. Tune this value (e.g., 0.5 to 5.0)\n",
    "STEERING_MULTIPLIER = 1.5\n",
    "\n",
    "# --- Generation Parameters ---\n",
    "MAX_NEW_TOKENS = 150\n",
    "TEMPERATURE = 0.7\n",
    "DO_SAMPLE = True"
   ]
  },
  {
   "cell_type": "code",
   "execution_count": 3,
   "id": "b4d9e79d-2df4-4789-aa1f-e643807a3f7a",
   "metadata": {},
   "outputs": [
    {
     "name": "stdout",
     "output_type": "stream",
     "text": [
      "Loading model: google/gemma-2-9b-it\n",
      "Using device: cuda\n",
      "Using dtype: torch.bfloat16\n"
     ]
    },
    {
     "data": {
      "application/vnd.jupyter.widget-view+json": {
       "model_id": "685dbd13043642ce8b4af2f21a76bbd0",
       "version_major": 2,
       "version_minor": 0
      },
      "text/plain": [
       "tokenizer_config.json:   0%|          | 0.00/47.0k [00:00<?, ?B/s]"
      ]
     },
     "metadata": {},
     "output_type": "display_data"
    },
    {
     "data": {
      "application/vnd.jupyter.widget-view+json": {
       "model_id": "3513469992c34ef098c0fd957091e3ed",
       "version_major": 2,
       "version_minor": 0
      },
      "text/plain": [
       "tokenizer.model:   0%|          | 0.00/4.24M [00:00<?, ?B/s]"
      ]
     },
     "metadata": {},
     "output_type": "display_data"
    },
    {
     "data": {
      "application/vnd.jupyter.widget-view+json": {
       "model_id": "bfc4928676104fb3ad1905f866aa4b8f",
       "version_major": 2,
       "version_minor": 0
      },
      "text/plain": [
       "tokenizer.json:   0%|          | 0.00/17.5M [00:00<?, ?B/s]"
      ]
     },
     "metadata": {},
     "output_type": "display_data"
    },
    {
     "data": {
      "application/vnd.jupyter.widget-view+json": {
       "model_id": "315a91f07d1e4960b4422a22dd6393a7",
       "version_major": 2,
       "version_minor": 0
      },
      "text/plain": [
       "special_tokens_map.json:   0%|          | 0.00/636 [00:00<?, ?B/s]"
      ]
     },
     "metadata": {},
     "output_type": "display_data"
    },
    {
     "data": {
      "application/vnd.jupyter.widget-view+json": {
       "model_id": "47937d0e327f49098556f0ee7f819a82",
       "version_major": 2,
       "version_minor": 0
      },
      "text/plain": [
       "config.json:   0%|          | 0.00/857 [00:00<?, ?B/s]"
      ]
     },
     "metadata": {},
     "output_type": "display_data"
    },
    {
     "data": {
      "application/vnd.jupyter.widget-view+json": {
       "model_id": "b83f88905c484c378629be0023f61fba",
       "version_major": 2,
       "version_minor": 0
      },
      "text/plain": [
       "model.safetensors.index.json:   0%|          | 0.00/39.1k [00:00<?, ?B/s]"
      ]
     },
     "metadata": {},
     "output_type": "display_data"
    },
    {
     "data": {
      "application/vnd.jupyter.widget-view+json": {
       "model_id": "acbb39e84a3f466b91d80425a87eed78",
       "version_major": 2,
       "version_minor": 0
      },
      "text/plain": [
       "Fetching 4 files:   0%|          | 0/4 [00:00<?, ?it/s]"
      ]
     },
     "metadata": {},
     "output_type": "display_data"
    },
    {
     "data": {
      "application/vnd.jupyter.widget-view+json": {
       "model_id": "1fd70ad07f3f4840a5e33c4278cf090c",
       "version_major": 2,
       "version_minor": 0
      },
      "text/plain": [
       "model-00004-of-00004.safetensors:   0%|          | 0.00/3.67G [00:00<?, ?B/s]"
      ]
     },
     "metadata": {},
     "output_type": "display_data"
    },
    {
     "data": {
      "application/vnd.jupyter.widget-view+json": {
       "model_id": "5bc425b0a73c49508eb40c0c8ac4826b",
       "version_major": 2,
       "version_minor": 0
      },
      "text/plain": [
       "model-00001-of-00004.safetensors:   0%|          | 0.00/4.90G [00:00<?, ?B/s]"
      ]
     },
     "metadata": {},
     "output_type": "display_data"
    },
    {
     "data": {
      "application/vnd.jupyter.widget-view+json": {
       "model_id": "d9267b3e570c4e8496c1c5e16ec9d7bb",
       "version_major": 2,
       "version_minor": 0
      },
      "text/plain": [
       "model-00003-of-00004.safetensors:   0%|          | 0.00/4.96G [00:00<?, ?B/s]"
      ]
     },
     "metadata": {},
     "output_type": "display_data"
    },
    {
     "data": {
      "application/vnd.jupyter.widget-view+json": {
       "model_id": "4b457fd9fdf74ec085c3b16bfcbfd846",
       "version_major": 2,
       "version_minor": 0
      },
      "text/plain": [
       "model-00002-of-00004.safetensors:   0%|          | 0.00/4.95G [00:00<?, ?B/s]"
      ]
     },
     "metadata": {},
     "output_type": "display_data"
    },
    {
     "data": {
      "application/vnd.jupyter.widget-view+json": {
       "model_id": "ceb07640c5954598bcd6b491d8347613",
       "version_major": 2,
       "version_minor": 0
      },
      "text/plain": [
       "Loading checkpoint shards:   0%|          | 0/4 [00:00<?, ?it/s]"
      ]
     },
     "metadata": {},
     "output_type": "display_data"
    },
    {
     "data": {
      "application/vnd.jupyter.widget-view+json": {
       "model_id": "63fda1da05b9419cb37b9c677ff7cf99",
       "version_major": 2,
       "version_minor": 0
      },
      "text/plain": [
       "generation_config.json:   0%|          | 0.00/173 [00:00<?, ?B/s]"
      ]
     },
     "metadata": {},
     "output_type": "display_data"
    },
    {
     "name": "stdout",
     "output_type": "stream",
     "text": [
      "Model loaded on device(s): {'': 0}\n"
     ]
    }
   ],
   "source": [
    "\n",
    "words_rhyme_quick='''sick, tick, brick, click, trick, kick, thick, pick, stick, lick, flick, slick, wick, prick, chick, nick, clique, hick, shtick, arithmetic, candlestick, dipstick, gimmick, lipstick, maverick, picnic, politic, rhetoric, seasick, sidekick, toothpick, yardstick, Benedict, carsick, chopstick, heretic, homesick, joystick, lunatic, matchstick, nitpick, slapstick, drumstick, kinesthetic, statistic, dramatic, magnetic, Olympic, specific, terrific, acoustic, forensic'''.split()\n",
    "words_rhyme_quick=[w.strip(',') for w in words_rhyme_quick]\n",
    "\n",
    "words_rhyme_pain='''rain, main, train, plain, stain, brain, chain, gain, drain, Spain, lane, vain, cane, sane, bane, mane, crane, plane, strain, grain, Maine, Jane, reign, deign, feign, campaign, champagne, cocaine, contain, disdain, domain, explain, humane, inane, insane, maintain, membrane, migraine, mundane, profane, remain, restrain, retain, sustain, terrain, Ukraine, Bahrain, cellophane, entertain, hurricane, microphone, windowpane, abstain, again, arcane, complain, constrain, detain, dingbane, germane, Great Dane, inhumane, insane, mundane, novocaine, obtain, ordain, pertain, propane, refrain, urbane'''.split()\n",
    "words_rhyme_pain=[w.strip(',') for w in words_rhyme_pain]\n",
    "\n",
    "\n",
    "pain_rhymes1=[w.split()[-1] for w in lines_that_rhyme_with_pain[:23]]\n",
    "pain_rhymes2=[w.split()[-1] for w in lines_that_rhyme_with_pain[23:]]\n",
    "\n",
    "pain_rhymes_from_lines=list(set([w.split()[-1] for w in lines_that_rhyme_with_pain]))\n",
    "quick_rhymes_from_lines=list(set([w.split()[-1] for w in lines_that_rhyme_with_quick]))\n",
    "\n",
    "pain_rhymes_outside_lines=[w for w in words_rhyme_pain if w not in pain_rhymes_from_lines]\n",
    "quick_rhymes_outside_lines=[w for w in words_rhyme_quick if w not in quick_rhymes_from_lines]\n",
    "\n",
    "pain_rhymes_all=[\"pain\"]+pain_rhymes_from_lines+pain_rhymes_outside_lines\n",
    "quick_rhymes_all=[\"quick\"]+quick_rhymes_from_lines+quick_rhymes_outside_lines\n",
    "\n",
    "\n",
    "# %%\n",
    "# ## 3. Load Model and Tokenizer\n",
    "\n",
    "# +\n",
    "# Configure quantization if needed\n",
    "quantization_config = None\n",
    "if USE_4BIT_QUANTIZATION:\n",
    "    quantization_config = BitsAndBytesConfig(\n",
    "        load_in_4bit=True,\n",
    "        bnb_4bit_compute_dtype=torch.bfloat16 # Recommended for new models\n",
    "    )\n",
    "    print(\"Using 4-bit quantization.\")\n",
    "\n",
    "# Determine device and dtype\n",
    "device = torch.device(\"cuda\" if torch.cuda.is_available() else \"cpu\")\n",
    "dtype = torch.bfloat16 if torch.cuda.is_available() and torch.cuda.get_device_capability()[0] >= 8 else torch.float32 # BF16 recommended on Ampere+\n",
    "\n",
    "print(f\"Loading model: {MODEL_ID}\")\n",
    "print(f\"Using device: {device}\")\n",
    "print(f\"Using dtype: {dtype}\")\n",
    "\n",
    "# Load Tokenizer\n",
    "tokenizer = AutoTokenizer.from_pretrained(MODEL_ID)\n",
    "if tokenizer.pad_token is None:\n",
    "    tokenizer.pad_token = tokenizer.eos_token # Set pad token if not present\n",
    "\n",
    "# Load Model\n",
    "model = AutoModelForCausalLM.from_pretrained(\n",
    "    MODEL_ID,\n",
    "    torch_dtype=dtype,\n",
    "    quantization_config=quantization_config,\n",
    "    # device=device,\n",
    "    device_map=\"auto\", # Automatically distribute across GPUs if available\n",
    "    # use_auth_token=YOUR_HF_TOKEN, # Add if model requires authentication\n",
    "    trust_remote_code=True # Gemma requires this for some versions/variants\n",
    ")\n",
    "\n",
    "print(f\"Model loaded on device(s): {model.hf_device_map}\")\n",
    "\n",
    "# --- IMPORTANT: Finding the Layer Name ---\n",
    "# Uncomment the following line to print the model structure and find the exact layer name\n",
    "# print(model)\n",
    "# Look for layers like 'model.layers[INDEX].mlp...' or 'model.layers[INDEX].self_attn...'\n",
    "\n",
    "# Ensure model is in evaluation mode\n",
    "model.eval()\n",
    "# %%\n",
    "# ## 4. Hooking and Activation Handling Functions\n",
    "\n",
    "# +\n",
    "# Global storage for captured activations\n",
    "activation_storage = {}\n",
    "\n",
    "def get_module_by_name(model, module_name):\n",
    "    \"\"\"Helper function to get a module object from its name string.\"\"\"\n",
    "    names = module_name.split('.')\n",
    "    module = model\n",
    "    for name in names:\n",
    "        module = getattr(module, name)\n",
    "    return module\n",
    "\n",
    "def capture_activation_hook(module, input, output, layer_name):\n",
    "    \"\"\"Hook function to capture the output activation of a specific layer.\"\"\"\n",
    "    # We usually care about the last token's activation for steering calculation\n",
    "    # Output shape is often (batch_size, sequence_length, hidden_dim)\n",
    "    # Store the activation corresponding to the last token position\n",
    "    if isinstance(output, torch.Tensor):\n",
    "        activation_storage[layer_name] = output[:, -1, :].detach().cpu()\n",
    "    elif isinstance(output, tuple): # Some layers might return tuples\n",
    "        activation_storage[layer_name] = output[0][:, -1, :].detach().cpu()\n",
    "    else:\n",
    "         print(f\"Warning: Unexpected output type from layer {layer_name}: {type(output)}\")\n",
    "\n",
    "def capture_activation_hook_fast(module, input, output, layer_name):\n",
    "    \"\"\"Hook function to capture the output activation of a specific layer.\"\"\"\n",
    "    # We usually care about the last token's activation for steering calculation\n",
    "    # Output shape is often (batch_size, sequence_length, hidden_dim)\n",
    "    # Store the activation corresponding to the last token position\n",
    "    if isinstance(output, torch.Tensor):\n",
    "        activation_storage[layer_name] = output[:, -1, :].detach().cpu()\n",
    "    elif isinstance(output, tuple): # Some layers might return tuples\n",
    "        activation_storage[layer_name] = output[0][:, -1, :].detach().cpu()\n",
    "    else:\n",
    "         print(f\"Warning: Unexpected output type from layer {layer_name}: {type(output)}\")\n",
    "\n",
    "\n",
    "def get_activations_fast(model, tokenizer, prompts: List[str], layer_name: str) -> Optional[torch.Tensor]:\n",
    "    \"\"\"\n",
    "    Runs prompts through the model and captures activations from the target layer.\n",
    "    Returns the averaged activation across all prompts for the last token position.\n",
    "    \"\"\"\n",
    "    global activation_storage\n",
    "    activation_storage = {} # Clear previous activations\n",
    "\n",
    "    inputs = tokenizer(prompts, return_tensors=\"pt\", padding=True, truncation=True)\n",
    "\n",
    "    target_module = get_module_by_name(model, layer_name)\n",
    "    hook_handle = target_module.register_forward_hook(\n",
    "        lambda module, input, output: capture_activation_hook_fast(module, input, output, layer_name)\n",
    "    )\n",
    "\n",
    "    with torch.no_grad():\n",
    "        inputs = tokenizer(prompts, return_tensors=\"pt\", padding=True, truncation=True).to(model.device)\n",
    "        # We only need the forward pass, not generation here\n",
    "        _ = model(**inputs)\n",
    "\n",
    "        if layer_name in activation_storage:\n",
    "                # Assuming batch size is 1 when processing one prompt at a time\n",
    "            last_token_activations = activation_storage[layer_name] # Shape (num_prompts, hidden_dim)\n",
    "            del activation_storage[layer_name] # Clear for next prompt\n",
    "        else:\n",
    "            print(f\"Warning: Activation for layer {layer_name} not captured for prompts: '{prompts}'\")\n",
    "                \n",
    "    hook_handle.remove() # Clean up the hook\n",
    "\n",
    "    # Stack and average activations across all prompts\n",
    "    # Resulting shape: (num_prompts, hidden_dim) -> (hidden_dim)\n",
    "    avg_activation = last_token_activations.mean(dim=0).squeeze() # Average over the prompt dimension\n",
    "    # print(f\"Calculated average activation for layer '{layer_name}' with shape: {avg_activation.shape}\")\n",
    "    return avg_activation\n",
    "# %%\n",
    " # --- Steering Hook during Generation ---\n",
    "\n",
    "# Global variable to hold the steering vector during generation\n",
    "steering_vector_internal = None\n",
    "steering_multiplier_internal = 1.0\n",
    "\n",
    "def steering_hook(module, input, output):\n",
    "    \"\"\"Hook function to modify activations during generation.\"\"\"\n",
    "    global steering_vector_internal, steering_multiplier_internal\n",
    "    if steering_vector_internal is not None:\n",
    "        if isinstance(output, torch.Tensor):\n",
    "            # Add steering vector (broadcasts across sequence length)\n",
    "            # Shape adjustment might be needed depending on layer output structure\n",
    "            # Assuming output is (batch_size, seq_len, hidden_dim)\n",
    "            # and steering_vector is (hidden_dim)\n",
    "            if output.shape[1] != 1:\n",
    "                output[:, -1, :] += (steering_vector_internal.to(output.device, dtype=output.dtype) * steering_multiplier_internal)\n",
    "            return output\n",
    "        elif isinstance(output, tuple): # Handle layers returning tuples\n",
    "            # Assuming the tensor to modify is the first element\n",
    "            modified_tensor = output[0]\n",
    "            # print(modified_tensor.shape)\n",
    "            if modified_tensor.shape[1] != 1:\n",
    "                modified_tensor[:, -1, :] += (steering_vector_internal.to(output[0].device, dtype=output[0].dtype) * steering_multiplier_internal)\n",
    "            return (modified_tensor,) + output[1:]\n",
    "        else:\n",
    "            print(f\"Warning: Steering hook encountered unexpected output type: {type(output)}\")\n",
    "            return output # Return original if type is unknown\n",
    "    return output # Return original if no steering vector\n",
    "\n",
    "@contextmanager\n",
    "def apply_steering(model, layer, steering_vector, multiplier):\n",
    "    \"\"\"Context manager to temporarily apply the steering hook.\"\"\"\n",
    "    global steering_vector_internal, steering_multiplier_internal\n",
    "    layer_name = f\"model.layers.{layer}\"\n",
    "\n",
    "    # Ensure previous hook (if any) on the same layer is removed\n",
    "    # This basic implementation assumes only one steering hook at a time on this layer\n",
    "    # More robust solutions might track handles explicitly.\n",
    "    \n",
    "    handle = None\n",
    "    try:\n",
    "        steering_vector_internal = steering_vector\n",
    "        steering_multiplier_internal = multiplier\n",
    "        target_module = get_module_by_name(model, layer_name)\n",
    "        handle = target_module.register_forward_hook(steering_hook)\n",
    "        # print(f\"Steering hook applied to {layer_name} with multiplier {multiplier}\")\n",
    "        yield # Generation happens here\n",
    "    finally:\n",
    "        if handle:\n",
    "            handle.remove()\n",
    "        steering_vector_internal = None # Clear global state\n",
    "        steering_multiplier_internal = 1.0\n",
    "        # print(f\"Steering hook removed from {layer_name}\")\n",
    "        gc.collect() # Suggest garbage collection\n",
    "        torch.cuda.empty_cache() # Clear cache if using GPU\n",
    "\n",
    "def generate_steered_output(steering_vector, model, tokenizer, generation_prompt, batch_size, layer=20, steering_multiplier=STEERING_MULTIPLIER):\n",
    "    inputs = tokenizer([generation_prompt] * batch_size, return_tensors=\"pt\", padding=True).to(model.device)\n",
    "    if steering_vector is None:\n",
    "        # print(inputs.input_ids.shape)\n",
    "        with torch.no_grad():\n",
    "            outputs = model.generate(\n",
    "                **inputs,\n",
    "                max_new_tokens=MAX_NEW_TOKENS,\n",
    "                temperature=TEMPERATURE,\n",
    "                do_sample=DO_SAMPLE,\n",
    "                pad_token_id=tokenizer.eos_token_id # Important for generation\n",
    "            )\n",
    "    else:\n",
    "        with torch.no_grad():\n",
    "            # Apply the steering hook using the context manager\n",
    "            with apply_steering(model, layer, steering_vector, steering_multiplier):\n",
    "                outputs = model.generate(\n",
    "                    **inputs, # Use the same input tokens\n",
    "                    max_new_tokens=MAX_NEW_TOKENS,\n",
    "                    temperature=TEMPERATURE,\n",
    "                    do_sample=DO_SAMPLE,\n",
    "                    pad_token_id=tokenizer.eos_token_id,\n",
    "                )\n",
    "    text = tokenizer.batch_decode(outputs, skip_special_tokens=True)\n",
    "\n",
    "    del outputs, inputs\n",
    "    gc.collect()\n",
    "    if torch.cuda.is_available():\n",
    "        torch.cuda.empty_cache()\n",
    "\n",
    "    return text\n",
    "\n",
    "def generate_outputs(steering_vector, model, tokenizer, generation_prompt, batch_size, layer=20, steering_multiplier=STEERING_MULTIPLIER):\n",
    "    assert steering_vector is not None\n",
    "    text_baseline = generate_steered_output(None, model, tokenizer, generation_prompt, batch_size, layer=layer, steering_multiplier=steering_multiplier)\n",
    "    text_steered = generate_steered_output(steering_vector, model, tokenizer, generation_prompt, batch_size, layer=layer, steering_multiplier=steering_multiplier)\n",
    "    text_negsteered = generate_steered_output(-steering_vector, model, tokenizer, generation_prompt, batch_size, layer=layer, steering_multiplier=steering_multiplier)\n",
    "    return text_baseline, text_steered, text_negsteered\n",
    "\n",
    "# %%\n",
    "# ## Compute the Steering Vector\n",
    "def get_steering_vector_fast(model, tokenizer, positive_prompts, negative_prompts, layer=20):\n",
    "    target_layer_name = f\"model.layers.{layer}\"\n",
    "    # print(\"Calculating activations for POSITIVE prompts...\")\n",
    "    avg_pos_activation = get_activations_fast(model, tokenizer, positive_prompts, target_layer_name)\n",
    "\n",
    "    # print(\"\\nCalculating activations for NEGATIVE prompts...\")\n",
    "    avg_neg_activation = get_activations_fast(model, tokenizer, negative_prompts, target_layer_name)\n",
    "\n",
    "    steering_vector = None\n",
    "    if avg_pos_activation is not None and avg_neg_activation is not None:\n",
    "        steering_vector = avg_pos_activation - avg_neg_activation\n",
    "        # print(f\"\\nSteering vector computed successfully. Shape: {steering_vector.shape}\")\n",
    "        # Optional: Normalize the steering vector (can sometimes help)\n",
    "        # steering_vector = steering_vector / torch.norm(steering_vector)\n",
    "        # print(\"Steering vector normalized.\")\n",
    "    else:\n",
    "        print(\"\\nError: Could not compute steering vector due to missing activations.\")\n",
    "    del avg_pos_activation\n",
    "    del avg_neg_activation\n",
    "    gc.collect()\n",
    "    if torch.cuda.is_available():\n",
    "        torch.cuda.empty_cache()\n",
    "    return steering_vector\n"
   ]
  },
  {
   "cell_type": "code",
   "execution_count": 4,
   "id": "ade74e33",
   "metadata": {},
   "outputs": [
    {
     "data": {
      "text/plain": [
       "device(type='cuda', index=0)"
      ]
     },
     "execution_count": 4,
     "metadata": {},
     "output_type": "execute_result"
    }
   ],
   "source": [
    "model.device"
   ]
  },
  {
   "cell_type": "code",
   "execution_count": 5,
   "id": "ca255d0c-59a1-4a2a-8820-a55077421799",
   "metadata": {},
   "outputs": [],
   "source": [
    "# %%\n",
    "# ## Functions to analyze the generations\n",
    "def get_last_word(text, num_examples=0, extra_line=True, num_words=1):\n",
    "    if num_examples > 0:\n",
    "        if \"\\n\\n\" not in text:\n",
    "            return \"\"\n",
    "        return get_last_word(text.split(\"\\n\\n\")[num_examples], num_examples=0, extra_line=extra_line, num_words=num_words)\n",
    "    lines = text.split(\"\\n\")\n",
    "    if extra_line:\n",
    "        lines = lines[1:]\n",
    "    if len(lines) < 2:\n",
    "        # print(f\"Failed to get last word: {text}\")\n",
    "        return \"\"\n",
    "    second_line = lines[1]\n",
    "    second_line_words = second_line.split(\" \")\n",
    "    second_line_words = [word for word in second_line_words if word != \"\"]\n",
    "    if len(second_line_words) == 0:\n",
    "        # print(f\"Failed to get last word: {text}\")\n",
    "        return \"\"\n",
    "    last_word = \" \".join(second_line_words[-num_words:])\n",
    "    if last_word == \"\":\n",
    "        if len(second_line_words) == 1:\n",
    "            # print(f\"Failed to get last word: {text}\")\n",
    "            return \"\"\n",
    "        last_word = \" \".join(second_line_words[-num_words-1:])\n",
    "    return last_word\n",
    "\n",
    "def get_last_word_fraction(texts, words, num_examples=0, extra_line=True, num_words=1):\n",
    "    if isinstance(words, str):\n",
    "        words = [words]\n",
    "    last_words = [get_last_word(line, num_examples, extra_line=extra_line, num_words=num_words) for line in texts]\n",
    "    return len([w for w in last_words if any(w2.lower() in w.lower() for w2 in words)]) / len(last_words)\n",
    "\n",
    "def get_prompts(lines):\n",
    "    return [f'A rhymed couplet:\\n{line}\\n' for line in lines]\n",
    "\n",
    "POSITIVE_PROMPTS = [\n",
    "    \"This story should be very optimistic and uplifting.\",\n",
    "    \"Write a hopeful and positive narrative.\",\n",
    "    \"Generate text with a cheerful and encouraging tone.\",\n",
    "]\n",
    "NEGATIVE_PROMPTS = [\n",
    "    \"This story should be very pessimistic and bleak.\",\n",
    "    \"Write a depressing and negative narrative.\",\n",
    "    \"Generate text with a gloomy and discouraging tone.\",\n",
    "]\n",
    "\n",
    "# The prompt to use for actual generation\n",
    "GENERATION_PROMPT = \"Write a short paragraph about the future of artificial intelligence.\"\n",
    "\n",
    "from tqdm import tqdm\n",
    "STEERING_MULTIPLIER = 1.5\n",
    "LAYER = 27\n",
    "MAX_NEW_TOKENS = 2"
   ]
  },
  {
   "cell_type": "code",
   "execution_count": 6,
   "id": "64da7077",
   "metadata": {},
   "outputs": [],
   "source": [
    "MAX_NEW_TOKENS = 5"
   ]
  },
  {
   "cell_type": "code",
   "execution_count": 7,
   "id": "a6449cb7",
   "metadata": {},
   "outputs": [],
   "source": [
    "@dataclass\n",
    "class SteeringExperimentConfig:\n",
    "    experiment_name: str\n",
    "    generation_prompt: str\n",
    "    positive_prompts: List[str]\n",
    "    negative_prompts: List[str]\n",
    "    wordlists: Dict[str, List[str]] = None\n",
    "    positive_words: List[str] = None\n",
    "    negative_words: List[str] = None\n",
    "    layer: int = 27\n",
    "    batch_size: int = 500\n",
    "    max_tokens: int = 5\n",
    "    steering_multiplier: float = 1.5\n",
    "    save_vectors: bool = False\n",
    "    num_examples: int = 0\n",
    "    extra_line: bool = True\n",
    "    num_words: int = 1"
   ]
  },
  {
   "cell_type": "code",
   "execution_count": 8,
   "id": "ace27317",
   "metadata": {},
   "outputs": [],
   "source": [
    "def get_nice_output(rollouts, num_examples=0, extra_line=True):\n",
    "    lines_list = [rollout.split(\"\\n\") for rollout in rollouts]\n",
    "    num_lines = 2\n",
    "    if extra_line:\n",
    "        num_lines += 1\n",
    "    num_lines = num_lines + (num_lines + 1) * num_examples\n",
    "    nice_output = [\"\\n\".join(lines[:num_lines]) for lines in lines_list]\n",
    "    return nice_output\n",
    "\n",
    "def print_nice_output(rollouts, num_examples=0, extra_line=True, n = 5):\n",
    "    nice_output = get_nice_output(rollouts, num_examples, extra_line)\n",
    "    for output in nice_output[:n]:\n",
    "        print(output)\n",
    "        print()\n"
   ]
  },
  {
   "cell_type": "code",
   "execution_count": 9,
   "id": "508ca212",
   "metadata": {},
   "outputs": [],
   "source": [
    "def get_statistics(cfg: SteeringExperimentConfig):\n",
    "    # model, tokenizer, positive_prompts, negative_prompts, generation_prompt, positive_words, negative_words, batch_size=500, layer=27, steering_multiplier=1.5, max_new_tokens=30, one_shot=False\n",
    "    experiment_name = cfg.experiment_name\n",
    "    positive_prompts = cfg.positive_prompts\n",
    "    negative_prompts = cfg.negative_prompts\n",
    "    generation_prompt = cfg.generation_prompt\n",
    "    positive_words = cfg.positive_words\n",
    "    negative_words = cfg.negative_words\n",
    "    batch_size = cfg.batch_size\n",
    "    layer = cfg.layer\n",
    "    steering_multiplier = cfg.steering_multiplier\n",
    "    num_examples = cfg.num_examples\n",
    "    extra_line = cfg.extra_line\n",
    "    num_words = cfg.num_words\n",
    "    print(f\"\\nExperiment: {experiment_name}\")\n",
    "    steering_vector = get_steering_vector_fast(model, tokenizer, positive_prompts, negative_prompts, layer)\n",
    "\n",
    "    \"\"\"apple_token = tokenizer.encode(\"apple\")[1]\n",
    "    unembedding_matrix = model.lm_head.weight\n",
    "    apple_token_unembedding = unembedding_matrix[apple_token]\n",
    "    steering_vector = apple_token_unembedding / apple_token_unembedding.norm() * steering_vector.norm()\"\"\"\n",
    "\n",
    "    text_unsteered, text_steered, text_negsteered = generate_outputs(steering_vector, model, tokenizer, generation_prompt, batch_size, layer, steering_multiplier)\n",
    "    print(\"\\nUnsteered:\")\n",
    "    print_nice_output(text_unsteered, num_examples, extra_line)\n",
    "    print(\"\\nSteered:\")\n",
    "    print_nice_output(text_steered, num_examples, extra_line)\n",
    "    print(\"\\nNegsteered:\")\n",
    "    print_nice_output(text_negsteered, num_examples, extra_line)\n",
    "    positive_words_fraction_baseline = get_last_word_fraction(text_unsteered, positive_words, num_examples=num_examples, extra_line=extra_line, num_words=num_words)\n",
    "    positive_words_fraction_steered = get_last_word_fraction(text_steered, positive_words, num_examples=num_examples, extra_line=extra_line, num_words=num_words)\n",
    "    positive_words_fraction_negsteered = get_last_word_fraction(text_negsteered, positive_words, num_examples=num_examples, extra_line=extra_line, num_words=num_words)\n",
    "    negative_words_fraction_baseline = get_last_word_fraction(text_unsteered, negative_words, num_examples=num_examples, extra_line=extra_line, num_words=num_words)\n",
    "    negative_words_fraction_steered = get_last_word_fraction(text_steered, negative_words, num_examples=num_examples, extra_line=extra_line, num_words=num_words)\n",
    "    negative_words_fraction_negsteered = get_last_word_fraction(text_negsteered, negative_words, num_examples=num_examples, extra_line=extra_line, num_words=num_words)\n",
    "    print()\n",
    "    print(f\"Positive words fraction baseline: {positive_words_fraction_baseline}\")\n",
    "    print(f\"Positive words fraction steered: {positive_words_fraction_steered}\")\n",
    "    print(f\"Positive words fraction negsteered: {positive_words_fraction_negsteered}\")\n",
    "    print(f\"Negative words fraction baseline: {negative_words_fraction_baseline}\")\n",
    "    print(f\"Negative words fraction steered: {negative_words_fraction_steered}\")\n",
    "    print(f\"Negative words fraction negsteered: {negative_words_fraction_negsteered}\")\n",
    "    return text_unsteered, text_steered, text_negsteered"
   ]
  },
  {
   "cell_type": "code",
   "execution_count": 10,
   "id": "235632bf",
   "metadata": {},
   "outputs": [],
   "source": [
    "def get_suggestiveness(lines, word1, word2, batch_size=100, num_examples=0, extra_line=True):\n",
    "    print(batch_size)\n",
    "    suggestiveness_scores = []\n",
    "    for prompt in lines:\n",
    "        couplet = generate_steered_output(None, model, tokenizer, prompt, batch_size)\n",
    "        suggestiveness_word1 = get_last_word_fraction(couplet, word1, num_examples=num_examples, extra_line=extra_line)\n",
    "        suggestiveness_word2 = get_last_word_fraction(couplet, word2, num_examples=num_examples, extra_line=extra_line)\n",
    "        if suggestiveness_word1 == 0 and suggestiveness_word2 == 0:\n",
    "            continue\n",
    "        suggestiveness = suggestiveness_word1 - suggestiveness_word2\n",
    "        suggestiveness_scores.append(suggestiveness)\n",
    "        print(f\"Prompt: {prompt}, Suggestiveness {word1}: {suggestiveness_word1}, Suggestiveness {word2}: {suggestiveness_word2}, Suggestiveness: {suggestiveness}\")\n",
    "    suggestiveness_scores = np.array(suggestiveness_scores)\n",
    "    return suggestiveness_scores"
   ]
  },
  {
   "cell_type": "code",
   "execution_count": 11,
   "id": "168fb280",
   "metadata": {},
   "outputs": [
    {
     "data": {
      "text/plain": [
       "['Answer the qustion using the correct article:\\nWhat fruit is really sour?\\nThe answer is a lemon\\n\\nAnswer the qustion using the correct article:\\nWhat fruit is guacamole made of?\\nThe answer is an avocado\\n\\nAnswer the qustion using the correct article:\\nWhat fruit has a distinctive bell shape and is narrower at the stem?\\n',\n",
       " \"Answer the qustion using the correct article:\\nWhat fruit is really sour?\\nThe answer is a lemon\\n\\nAnswer the qustion using the correct article:\\nWhat fruit is guacamole made of?\\nThe answer is an avocado\\n\\nAnswer the qustion using the correct article:\\nWhat fruit is traditionally the first item in the song 'The Twelve Days of Christmas' (a partridge in...)?\\n\",\n",
       " 'Answer the qustion using the correct article:\\nWhat fruit is really sour?\\nThe answer is a lemon\\n\\nAnswer the qustion using the correct article:\\nWhat fruit is guacamole made of?\\nThe answer is an avocado\\n\\nAnswer the qustion using the correct article:\\nWhat fruit comes in varieties like Bartlett, Anjou, and Bosc?\\n']"
      ]
     },
     "execution_count": 11,
     "metadata": {},
     "output_type": "execute_result"
    }
   ],
   "source": [
    "# one_shot_prompt = \"What item uses sand to measure time?\\nAn hourglass\\n\\nHow do you call a person who defends clients in court?\\nA lawyer\"\n",
    "one_shot_prompt = \"Answer the qustion using the correct article:\\nWhat fruit is really sour?\\nA lemon\\n\\nAnswer the qustion using the correct article:\\nWhat fruit is guacamole made of?\\nAn avocado\\n\\nAnswer the qustion using the correct article:\\n\"\n",
    "one_shot_prompt_the_answer_is = \"Answer the qustion using the correct article:\\nWhat fruit is really sour?\\nThe answer is a lemon\\n\\nAnswer the qustion using the correct article:\\nWhat fruit is guacamole made of?\\nThe answer is an avocado\\n\\nAnswer the qustion using the correct article:\\n\"\n",
    "one_shot_prompt_the = \"Answer the qustion using the article \\\"the\\\":\\nWhat fruit is really sour?\\nThe lemon\\n\\nAnswer the qustion using the article \\\"the\\\":\\nWhat fruit is guacamole made of?\\nThe avocado\\n\\nAnswer the qustion using the article \\\"the\\\":\\n\"\n",
    "\n",
    "# one_shot_prompt = \"Answer the qustion using the correct article:\\n\"\n",
    "a_pear_questions_one_shot = [one_shot_prompt + question for question in a_pear_questions]\n",
    "an_apple_questions_one_shot = [one_shot_prompt + question for question in an_apple_questions]\n",
    "a_pear_or_an_apple_questions_one_shot = [one_shot_prompt + question for question in a_pear_or_an_apple_questions]\n",
    "a_date_questions_one_shot = [one_shot_prompt + question for question in a_date_questions]\n",
    "a_date_or_a_pear_questions_one_shot = [one_shot_prompt + question for question in a_date_or_a_pear_questions]\n",
    "\n",
    "a_pear_questions_one_shot_the_answer_is = [one_shot_prompt_the_answer_is + question for question in a_pear_questions]\n",
    "a_pear_questions_one_shot_the = [one_shot_prompt_the + question for question in a_pear_questions]\n",
    "an_apple_questions_one_shot_the_answer_is = [one_shot_prompt_the_answer_is + question for question in an_apple_questions]\n",
    "an_apple_questions_one_shot_the = [one_shot_prompt_the + question for question in an_apple_questions]\n",
    "a_pear_or_an_apple_questions_one_shot_the_answer_is = [one_shot_prompt_the_answer_is + question for question in a_pear_or_an_apple_questions]\n",
    "a_pear_or_an_apple_questions_one_shot_the = [one_shot_prompt_the + question for question in a_pear_or_an_apple_questions]\n",
    "a_date_questions_one_shot_the_answer_is = [one_shot_prompt_the_answer_is + question for question in a_date_questions]\n",
    "a_date_questions_one_shot_the = [one_shot_prompt_the + question for question in a_date_questions]\n",
    "\n",
    "a_pear_questions_one_shot_the_answer_is[:3]"
   ]
  },
  {
   "cell_type": "code",
   "execution_count": 12,
   "id": "b511d7c2",
   "metadata": {},
   "outputs": [
    {
     "data": {
      "text/plain": [
       "'Answer the qustion using the correct article:\\nWhat fruit is really sour?\\nA lemon\\n\\nAnswer the qustion using the correct article:\\nWhat fruit is guacamole made of?\\nAn avocado\\n\\nAnswer the qustion using the correct article:\\nWhat fruit might be featured in a still life painting?\\n'"
      ]
     },
     "execution_count": 12,
     "metadata": {},
     "output_type": "execute_result"
    }
   ],
   "source": [
    "a_pear_or_an_apple_questions_one_shot[12]"
   ]
  },
  {
   "cell_type": "code",
   "execution_count": 13,
   "id": "b7bec73b",
   "metadata": {},
   "outputs": [],
   "source": [
    "a_pear_suggestive_indices = [1, 2, 3, 4, 5, 6, 9, 11]\n",
    "# array([ 0.02,  0.85,  1.  ,  0.99,  0.79,  0.99,  0.87, -0.86,  0.02, 0.94,  0.3 ,  1.  ,  0.06])\n",
    "a_pear_questions_one_shot_suggestive = [a_pear_questions_one_shot[i] for i in a_pear_suggestive_indices]\n",
    "a_pear_questions_one_shot_the_answer_is_suggestive = [a_pear_questions_one_shot_the_answer_is[i] for i in a_pear_suggestive_indices]\n",
    "a_pear_questions_one_shot_the_suggestive = [a_pear_questions_one_shot_the[i] for i in a_pear_suggestive_indices]\n",
    "\n",
    "an_apple_suggestive_indices = [0, 1, 3, 4, 5, 6, 7, 8, 9, 10, 11, 13, 14]\n",
    "# array([1.  , 1.  , 0.3 , 0.82, 1.  , 1.  , 1.  , 0.98, 0.98, 1.  , 1.  , 1.  , 0.73, 1.  , 1.  ])\n",
    "an_apple_questions_one_shot_suggestive = [an_apple_questions_one_shot[i] for i in an_apple_suggestive_indices]\n",
    "an_apple_questions_one_shot_the_answer_is_suggestive = [an_apple_questions_one_shot_the_answer_is[i] for i in an_apple_suggestive_indices]\n",
    "an_apple_questions_one_shot_the_suggestive = [an_apple_questions_one_shot_the[i] for i in an_apple_suggestive_indices]\n",
    "\n",
    "a_date_suggestive_indices = [0, 1, 2, 3, 4, 5, 6, 7, 11, 12]\n",
    "# array([-0.99,  0.01, -0.55,  0.74,  0.91, -0.04, -0.49, -0.61, -0.12, 0.08, -0.01, -0.43])\n",
    "a_date_questions_one_shot_suggestive = [a_date_questions_one_shot[i] for i in a_date_suggestive_indices]\n",
    "a_date_questions_one_shot_the_answer_is_suggestive = [a_date_questions_one_shot_the_answer_is[i] for i in a_date_suggestive_indices]\n",
    "a_date_questions_one_shot_the_suggestive = [a_date_questions_one_shot_the[i] for i in a_date_suggestive_indices]"
   ]
  },
  {
   "cell_type": "code",
   "execution_count": 14,
   "id": "5453e287",
   "metadata": {},
   "outputs": [
    {
     "data": {
      "text/plain": [
       "device(type='cuda', index=0)"
      ]
     },
     "execution_count": 14,
     "metadata": {},
     "output_type": "execute_result"
    }
   ],
   "source": [
    "model.device"
   ]
  },
  {
   "cell_type": "code",
   "execution_count": 15,
   "id": "09729ae1",
   "metadata": {},
   "outputs": [],
   "source": [
    "cfg_an_apple_to_a_pear_1_5 = SteeringExperimentConfig(\n",
    "    experiment_name='an_apple_to_a_pear',\n",
    "    generation_prompt=a_pear_or_an_apple_questions_one_shot_the[12],\n",
    "    positive_prompts=a_pear_questions_one_shot_suggestive,\n",
    "    negative_prompts=an_apple_questions_one_shot_suggestive,\n",
    "    positive_words=[\"the pear\"],\n",
    "    negative_words=[\"the apple\"],\n",
    "    layer=34,\n",
    "    steering_multiplier=5.0,\n",
    "    num_examples=2,\n",
    "    extra_line=True,\n",
    "    batch_size=200,\n",
    "    num_words=2,\n",
    ")\n",
    "\n",
    "cfg_a_pear_to_a_date_1_5 = SteeringExperimentConfig(\n",
    "    experiment_name='a_pear_to_a_date',\n",
    "    generation_prompt=a_date_or_a_pear_questions_one_shot[-2],\n",
    "    positive_prompts=a_date_questions_one_shot_suggestive,\n",
    "    negative_prompts=a_pear_questions_one_shot_suggestive,\n",
    "    positive_words=[\"date\"],\n",
    "    negative_words=[\"pear\"],\n",
    "    layer=28,\n",
    "    steering_multiplier=1.5,\n",
    "    num_examples=2,\n",
    "    extra_line=True,\n",
    "    batch_size=200,\n",
    ")\n",
    "\n",
    "cfg_a_date_to_a_pear_1_5 = SteeringExperimentConfig(\n",
    "    experiment_name='a_date_to_a_pear',\n",
    "    generation_prompt=a_date_or_a_pear_questions_one_shot[6],\n",
    "    positive_prompts=a_pear_questions_one_shot_suggestive,\n",
    "    negative_prompts=a_date_questions_one_shot_suggestive,\n",
    "    positive_words=[\"pear\"],\n",
    "    negative_words=[\"date\"],\n",
    "    layer=31,\n",
    "    steering_multiplier=7.0,\n",
    "    num_examples=2,\n",
    "    extra_line=True,\n",
    "    batch_size=200,\n",
    ")\n",
    "\n",
    "cfg_a_pear_to_an_apple_1_5 = SteeringExperimentConfig(\n",
    "    experiment_name='a_pear_to_an_apple',\n",
    "    generation_prompt=\"A rhyming couplet:\\nI climbed the tree without a care,\\nTo grab\",\n",
    "    positive_prompts=an_apple_questions_one_shot_suggestive,\n",
    "    negative_prompts=a_pear_questions_one_shot_suggestive,\n",
    "    positive_words=[\"apple\"],\n",
    "    negative_words=[\"pear\"],\n",
    "    layer=29,\n",
    "    steering_multiplier=1.5,\n",
    "    num_examples=0,\n",
    "    extra_line=True,\n",
    "    batch_size=200,\n",
    ")\n",
    "\n",
    "# text_unsteered_a_pear_to_an_apple, text_steered_a_pear_to_an_apple, text_negsteered_a_pear_to_an_apple = get_statistics(cfg_a_pear_to_an_apple_1_5)\n",
    "# text_unsteered_a_date_to_a_pear, text_steered_a_date_to_a_pear, text_negsteered_a_date_to_a_pear = get_statistics(cfg_a_date_to_a_pear_1_5)\n",
    "# text_unsteered_a_pear_to_a_date, text_steered_a_pear_to_a_date, text_negsteered_a_pear_to_a_date = get_statistics(cfg_a_pear_to_a_date_1_5)\n",
    "# text_unsteered_an_apple_to_a_pear, text_steered_an_apple_to_a_pear, text_negsteered_an_apple_to_a_pear = get_statistics(cfg_an_apple_to_a_pear_1_5)"
   ]
  },
  {
   "cell_type": "code",
   "execution_count": 16,
   "id": "1d72682b",
   "metadata": {},
   "outputs": [
    {
     "name": "stderr",
     "output_type": "stream",
     "text": [
      "Asking to truncate to max_length but no maximum length is provided and the model has no predefined maximum length. Default to no truncation.\n"
     ]
    }
   ],
   "source": [
    "# save steering vector\n",
    "steering_vector = get_steering_vector_fast(model, tokenizer, a_pear_questions_one_shot_suggestive, an_apple_questions_one_shot_suggestive, 29)\n",
    "torch.save(steering_vector, \"steering_vectors/steering_vector_an_apple_to_a_pear_layer_29.pt\")\n"
   ]
  },
  {
   "cell_type": "code",
   "execution_count": 17,
   "id": "2ddca195",
   "metadata": {},
   "outputs": [
    {
     "data": {
      "text/plain": [
       "'Answer the qustion using the correct article:\\nWhat fruit is really sour?\\nA lemon\\n\\nAnswer the qustion using the correct article:\\nWhat fruit is guacamole made of?\\nAn avocado\\n\\nAnswer the qustion using the correct article:\\nWhat fruit might be featured in a still life painting?\\n'"
      ]
     },
     "execution_count": 17,
     "metadata": {},
     "output_type": "execute_result"
    }
   ],
   "source": [
    "a_pear_or_an_apple_questions_one_shot[12]"
   ]
  },
  {
   "cell_type": "code",
   "execution_count": 18,
   "id": "d97579e9",
   "metadata": {},
   "outputs": [
    {
     "data": {
      "text/plain": [
       "'Answer the qustion using the article \"the\":\\nWhat fruit is really sour?\\nThe lemon\\n\\nAnswer the qustion using the article \"the\":\\nWhat fruit is guacamole made of?\\nThe avocado\\n\\nAnswer the qustion using the article \"the\":\\nWhat fruit might be featured in a still life painting?\\n'"
      ]
     },
     "execution_count": 18,
     "metadata": {},
     "output_type": "execute_result"
    }
   ],
   "source": [
    "a_pear_or_an_apple_questions_one_shot_the[12]"
   ]
  },
  {
   "cell_type": "code",
   "execution_count": 19,
   "id": "8b0f0212",
   "metadata": {},
   "outputs": [
    {
     "data": {
      "text/plain": [
       "'Answer the qustion using the correct article:\\nWhat fruit is really sour?\\nA lemon\\n\\nAnswer the qustion using the correct article:\\nWhat fruit is guacamole made of?\\nAn avocado\\n\\nAnswer the qustion using the correct article:\\nWhat fruit is sometimes used as a natural sugar substitute in recipes?\\n'"
      ]
     },
     "execution_count": 19,
     "metadata": {},
     "output_type": "execute_result"
    }
   ],
   "source": [
    "a_date_or_a_pear_questions_one_shot[6]"
   ]
  },
  {
   "cell_type": "code",
   "execution_count": 20,
   "id": "fa69041c",
   "metadata": {},
   "outputs": [
    {
     "name": "stdout",
     "output_type": "stream",
     "text": [
      "hello\n"
     ]
    }
   ],
   "source": [
    "print(\"hello\")"
   ]
  },
  {
   "cell_type": "code",
   "execution_count": 21,
   "id": "1f75f830",
   "metadata": {},
   "outputs": [],
   "source": [
    "# get token for apple"
   ]
  },
  {
   "cell_type": "code",
   "execution_count": 22,
   "id": "228a146f-45a9-4f6e-9c33-cd23c565f4de",
   "metadata": {},
   "outputs": [
    {
     "name": "stdout",
     "output_type": "stream",
     "text": [
      "mkdir: cannot create directory ‘steering_vectors’: File exists\n"
     ]
    },
    {
     "name": "stderr",
     "output_type": "stream",
     "text": [
      "huggingface/tokenizers: The current process just got forked, after parallelism has already been used. Disabling parallelism to avoid deadlocks...\n",
      "To disable this warning, you can either:\n",
      "\t- Avoid using `tokenizers` before the fork if possible\n",
      "\t- Explicitly set the environment variable TOKENIZERS_PARALLELISM=(true | false)\n"
     ]
    }
   ],
   "source": [
    "!mkdir steering_vectors"
   ]
  },
  {
   "cell_type": "code",
   "execution_count": 36,
   "id": "5df6ecaa-d7e8-4c5b-b847-67b7074dca00",
   "metadata": {},
   "outputs": [],
   "source": [
    "\n",
    "def analyze_layers_for_wordlists(model, tokenizer, negative_prompts_list, positive_prompts, \n",
    "                               generation_prompt, wordlists_dict, \n",
    "                               num_layers=1, batch_size=500, steering_multiplier=1.0,save_vectors=False, num_examples=0, extra_line=True, num_words=1):\n",
    "    \"\"\"\n",
    "    Analyze steering effects across layers for multiple wordlists and negative prompts.\n",
    "    \n",
    "    Args:\n",
    "        model: The language model\n",
    "        tokenizer: The tokenizer for the model\n",
    "        negative_prompts_list: List of negative prompts variants for steering\n",
    "        positive_prompts: Positive prompts for steering\n",
    "        generation_prompt: The prompt to generate completions from\n",
    "        wordlists_dict: Dictionary of wordlists to analyze {name: wordlist}\n",
    "        num_layers: Number of layers to analyze\n",
    "        batch_size: batch_size\n",
    "        steering_multiplier: Multiplier for steering vector\n",
    "        num_examples: Number of examples provided in the prompt (zero-shot, one-shot, two-shot, etc.)\n",
    "        num_words: Number of words to consider in the last word\n",
    "    Returns:\n",
    "        DataFrame with analysis results\n",
    "    \"\"\"\n",
    "    results = []\n",
    "    \n",
    "    for neg_prompt_idx, negative_prompts in enumerate(negative_prompts_list):\n",
    "        neg_prompt_name = f\"neg_prompt_v{neg_prompt_idx+1}\"\n",
    "        print(f\"Processing negative prompt variant: {neg_prompt_name}\")\n",
    "        \n",
    "        for layer in tqdm(range(num_layers), desc=f\"Analyzing layers for {neg_prompt_name}\"):\n",
    "            # print(f\"Layer {layer}\")\n",
    "            \n",
    "            # Get steering vector for this layer with current negative prompt variant\n",
    "            steering_vector = get_steering_vector_fast(\n",
    "                model, tokenizer, negative_prompts, positive_prompts, layer=layer\n",
    "            )\n",
    "\n",
    "            if save_vectors: torch.save(steering_vector,f\"steering_vectors_quick_to_pain/steering_vector_quick_to_pain_layer_{layer}.pt\")\n",
    "            \n",
    "            # Generate text with positive and negative steering\n",
    "            steered_text = generate_steered_output(\n",
    "                steering_vector, model, tokenizer, generation_prompt, \n",
    "                batch_size, layer=layer, steering_multiplier=steering_multiplier\n",
    "            )\n",
    "            \n",
    "            negsteered_text = generate_steered_output(\n",
    "                -steering_vector, model, tokenizer, generation_prompt, \n",
    "                batch_size, layer=layer, steering_multiplier=steering_multiplier\n",
    "            )\n",
    "            \n",
    "            # Analyze each wordlist\n",
    "            for wordlist_name, wordlist in wordlists_dict.items():\n",
    "                # Get fractions for positive steering\n",
    "                pos_fraction = get_last_word_fraction(steered_text, wordlist, num_examples=num_examples, extra_line=extra_line, num_words=num_words)\n",
    "                \n",
    "                # Get fractions for negative steering\n",
    "                neg_fraction = get_last_word_fraction(negsteered_text, wordlist, num_examples=num_examples, extra_line=extra_line, num_words=num_words)\n",
    "                \n",
    "                # Store results\n",
    "                results.append({\n",
    "                    \"layer\": layer,\n",
    "                    \"wordlist\": wordlist_name,\n",
    "                    \"steering\": \"positive\",\n",
    "                    \"neg_prompt_variant\": neg_prompt_name,\n",
    "                    \"last_word_fraction\": pos_fraction\n",
    "                })\n",
    "                \n",
    "                results.append({\n",
    "                    \"layer\": layer,\n",
    "                    \"wordlist\": wordlist_name,\n",
    "                    \"steering\": \"negative\",\n",
    "                    \"neg_prompt_variant\": neg_prompt_name,\n",
    "                    \"last_word_fraction\": neg_fraction\n",
    "                })\n",
    "    \n",
    "    # Convert to DataFrame\n",
    "    return pd.DataFrame(results)\n",
    "\n",
    "def plot_layer_analysis(results_df):\n",
    "    \"\"\"\n",
    "    Plot the results of layer analysis with multiple negative prompt variants.\n",
    "    \n",
    "    Args:\n",
    "        results_df: DataFrame with analysis results\n",
    "    \"\"\"\n",
    "    wordlists = results_df[\"wordlist\"].unique()\n",
    "    neg_prompt_variants = results_df[\"neg_prompt_variant\"].unique()\n",
    "    \n",
    "    # Create figure with subplots - one row per wordlist\n",
    "    fig, axes = plt.subplots(nrows=len(wordlists), figsize=(14, 5*len(wordlists)))\n",
    "    if len(wordlists) == 1:\n",
    "        axes = [axes]  # Make iterable for single subplot\n",
    "    \n",
    "    # Colors for different variants\n",
    "    colors = ['blue', 'green', 'purple', 'orange', 'brown', 'pink']\n",
    "    \n",
    "    # Plot each wordlist in its own subplot\n",
    "    for i, wordlist in enumerate(wordlists):\n",
    "        wordlist_data = results_df[results_df[\"wordlist\"] == wordlist]\n",
    "        \n",
    "        for v_idx, variant in enumerate(neg_prompt_variants):\n",
    "            variant_data = wordlist_data[wordlist_data[\"neg_prompt_variant\"] == variant]\n",
    "            \n",
    "            # Get positive and negative steering data for this variant\n",
    "            pos_data = variant_data[variant_data[\"steering\"] == \"positive\"]\n",
    "            neg_data = variant_data[variant_data[\"steering\"] == \"negative\"]\n",
    "            \n",
    "            # Plot with distinct colors and markers for each variant\n",
    "            color = colors[v_idx % len(colors)]\n",
    "            axes[i].plot(pos_data[\"layer\"], pos_data[\"last_word_fraction\"], \n",
    "                        label=f\"{variant} - Positive\", marker='o', linestyle='-', color=color)\n",
    "            axes[i].plot(neg_data[\"layer\"], neg_data[\"last_word_fraction\"], \n",
    "                        label=f\"{variant} - Negative\", marker='x', linestyle='--', color=color)\n",
    "        \n",
    "        axes[i].set_title(f\"Wordlist: {wordlist}\")\n",
    "        axes[i].set_xlabel(\"Layer\")\n",
    "        axes[i].set_ylabel(\"Last Word Fraction\")\n",
    "        axes[i].legend(bbox_to_anchor=(1.05, 1), loc='upper left')\n",
    "        axes[i].grid(True, alpha=0.3)\n",
    "    \n",
    "    plt.tight_layout()\n",
    "    return fig\n",
    "\n",
    "def plot_comparative_analysis(results_df):\n",
    "    \"\"\"\n",
    "    Plot comparison between negative prompt variants for each wordlist.\n",
    "    \n",
    "    Args:\n",
    "        results_df: DataFrame with analysis results\n",
    "    \"\"\"\n",
    "    wordlists = results_df[\"wordlist\"].unique()\n",
    "    neg_prompt_variants = results_df[\"neg_prompt_variant\"].unique()\n",
    "    \n",
    "    if len(neg_prompt_variants) < 2:\n",
    "        print(\"Need at least 2 negative prompt variants for comparison\")\n",
    "        return None\n",
    "    \n",
    "    # Create a figure with 2 rows per wordlist (pos and neg steering)\n",
    "    fig, axes = plt.subplots(\n",
    "        nrows=2*len(wordlists), \n",
    "        figsize=(14, 4*len(wordlists)),\n",
    "        squeeze=False\n",
    "    )\n",
    "    \n",
    "    for w_idx, wordlist in enumerate(wordlists):\n",
    "        wordlist_data = results_df[results_df[\"wordlist\"] == wordlist]\n",
    "        \n",
    "        # First row: Positive steering comparison\n",
    "        pos_row = w_idx * 2\n",
    "        pos_data = wordlist_data[wordlist_data[\"steering\"] == \"positive\"]\n",
    "        \n",
    "        for v_idx, variant in enumerate(neg_prompt_variants):\n",
    "            variant_pos = pos_data[pos_data[\"neg_prompt_variant\"] == variant]\n",
    "            axes[pos_row, 0].plot(\n",
    "                variant_pos[\"layer\"], \n",
    "                variant_pos[\"last_word_fraction\"],\n",
    "                label=variant,\n",
    "                marker='o' if v_idx == 0 else 'x'\n",
    "            )\n",
    "        \n",
    "        axes[pos_row, 0].set_title(f\"{wordlist} - Positive Steering Comparison\")\n",
    "        axes[pos_row, 0].set_xlabel(\"Layer\")\n",
    "        axes[pos_row, 0].set_ylabel(\"Last Word Fraction\")\n",
    "        axes[pos_row, 0].legend()\n",
    "        axes[pos_row, 0].grid(True, alpha=0.3)\n",
    "        \n",
    "        # Second row: Negative steering comparison\n",
    "        neg_row = w_idx * 2 + 1\n",
    "        neg_data = wordlist_data[wordlist_data[\"steering\"] == \"negative\"]\n",
    "        \n",
    "        for v_idx, variant in enumerate(neg_prompt_variants):\n",
    "            variant_neg = neg_data[neg_data[\"neg_prompt_variant\"] == variant]\n",
    "            axes[neg_row, 0].plot(\n",
    "                variant_neg[\"layer\"], \n",
    "                variant_neg[\"last_word_fraction\"],\n",
    "                label=variant,\n",
    "                marker='o' if v_idx == 0 else 'x'\n",
    "            )\n",
    "        \n",
    "        axes[neg_row, 0].set_title(f\"{wordlist} - Negative Steering Comparison\")\n",
    "        axes[neg_row, 0].set_xlabel(\"Layer\")\n",
    "        axes[neg_row, 0].set_ylabel(\"Last Word Fraction\")\n",
    "        axes[neg_row, 0].legend()\n",
    "        axes[neg_row, 0].grid(True, alpha=0.3)\n",
    "    \n",
    "    plt.tight_layout()\n",
    "    return fig"
   ]
  },
  {
   "cell_type": "code",
   "execution_count": 37,
   "id": "b236699c",
   "metadata": {},
   "outputs": [],
   "source": [
    "from dataclasses import dataclass"
   ]
  },
  {
   "cell_type": "code",
   "execution_count": null,
   "id": "cb9e87c7",
   "metadata": {},
   "outputs": [],
   "source": [
    "def save_and_plot_results(results, filename):\n",
    "    # Save results to CSV for future analysis\n",
    "    results.to_csv(filename, index=False)\n",
    "        \n",
    "        # Plot combined results\n",
    "    fig1 = plot_layer_analysis(results)\n",
    "    plt.savefig(filename, dpi=300)\n",
    "        \n",
    "        # Plot comparative analysis\n",
    "    fig2 = plot_comparative_analysis(results)\n",
    "    plt.savefig(filename, dpi=300)\n",
    "        \n",
    "    plt.show()\n",
    "\n",
    "def run_analysis(cfg: SteeringExperimentConfig):\n",
    "    print(f\"Running analysis for {cfg.experiment_name}\")\n",
    "    results = analyze_layers_for_wordlists(\n",
    "        model=model,\n",
    "        tokenizer=tokenizer,\n",
    "        negative_prompts_list=[cfg.negative_prompts],\n",
    "        positive_prompts=cfg.positive_prompts,\n",
    "        generation_prompt=cfg.generation_prompt,\n",
    "        wordlists_dict=cfg.wordlists,\n",
    "        num_layers=model.config.num_hidden_layers,\n",
    "        batch_size=500,\n",
    "        steering_multiplier=cfg.steering_multiplier,\n",
    "        save_vectors=cfg.save_vectors,\n",
    "        num_examples=cfg.num_examples,\n",
    "        extra_line=cfg.extra_line,\n",
    "        num_words=cfg.num_words,\n",
    "    )\n",
    "    save_and_plot_results(results, f\"layer_analysis_results_{cfg.experiment_name}.png\")\n",
    "    return results"
   ]
  },
  {
   "cell_type": "code",
   "execution_count": 48,
   "id": "6dcc2971",
   "metadata": {},
   "outputs": [],
   "source": [
    "MAX_NEW_TOKENS = 5"
   ]
  },
  {
   "cell_type": "code",
   "execution_count": 49,
   "id": "729d8ae9",
   "metadata": {},
   "outputs": [],
   "source": [
    "# Define all the Experiment Configs\n",
    "\n",
    "# Quick to Pain / (maybe Pain to Quick ...)\n",
    "cfg_quick_to_pain = SteeringExperimentConfig(\n",
    "    experiment_name='quick_to_pain',\n",
    "    generation_prompt='A rhymed couplet:\\nA leopard appeared, fierce and quick\\n',\n",
    "    positive_prompts=get_prompts(lines_that_rhyme_with_quick),\n",
    "    negative_prompts=get_prompts(lines_that_rhyme_with_pain),\n",
    "    wordlists={\n",
    "        \"all_quick_rhymes\": quick_rhymes_all,\n",
    "        \"all_pain_rhymes\": pain_rhymes_all,\n",
    "        \"quick\": [\"quick\"],\n",
    "        \"stick\": [\"stick\"],\n",
    "        \"trick\": [\"trick\"],\n",
    "        \"rain\": [\"rain\"],\n",
    "        \"pain\": [\"pain\"],\n",
    "        \"crane\": [\"crane\"],\n",
    "    }\n",
    ")\n",
    "\n",
    "# Rabbit to Habit Cheating\n",
    "cfg_rabbit_to_habit_cheating = SteeringExperimentConfig(\n",
    "    experiment_name='rabbit_to_habit_cheating',\n",
    "    generation_prompt='A rhymed couplet:\\nHe saw a carrot and had to grab it\\n',\n",
    "    positive_prompts=[f\"A rhymed couplet that ends with rabbit:\\n{line}\" for line in lines_that_rhyme_with_rabbit_general],\n",
    "    negative_prompts=[f\"A rhymed couplet that ends with habit:\\n{line}\" for line in lines_that_rhyme_with_habit_general],\n",
    "    wordlists={\n",
    "        \"rabbit\": [\"rabbit\"],\n",
    "        \"habit\": [\"habit\"],\n",
    "    }\n",
    ")\n",
    "\n",
    "# Rabbit to Habit Oneshot\n",
    "cfg_rabbit_to_habit_oneshot = SteeringExperimentConfig(\n",
    "    experiment_name='rabbit_to_habit_oneshot',\n",
    "    generation_prompt='A rhymed couplet:\\nHe saw a carrot and had to grab it\\n',\n",
    "    positive_prompts=lines_that_rhyme_with_rabbit_oneshot,\n",
    "    negative_prompts=lines_that_rhyme_with_habit_oneshot,\n",
    "    wordlists={\n",
    "        \"rabbit\": [\"rabbit\"],\n",
    "        \"habit\": [\"habit\"],\n",
    "    }\n",
    ")\n",
    "\n",
    "# Quick to unrhymed\n",
    "cfg_quick_to_unrhymed = SteeringExperimentConfig(\n",
    "    experiment_name='quick_to_unrhymed',\n",
    "    generation_prompt=example_based_unrhymed_prompts_quick[10],\n",
    "    positive_prompts=example_based_unrhymed_prompts_quick,\n",
    "    negative_prompts=example_based_rhymed_prompts_quick,\n",
    "    wordlists={\n",
    "        \"all_quick_rhymes\": quick_rhymes_all,\n",
    "        \"all_pain_rhymes\": pain_rhymes_all,\n",
    "        \"quick\": [\"quick\"],\n",
    "        \"stick\": [\"stick\"],\n",
    "        \"trick\": [\"trick\"],\n",
    "        \"rain\": [\"rain\"],\n",
    "        \"pain\": [\"pain\"],\n",
    "        \"mane\": [\"mane\"],\n",
    "    },\n",
    "    num_examples=1,\n",
    "    extra_line=False,\n",
    ")\n",
    "\n",
    "one_shot_prompt = \"Uses sand to measure time:\\nAn hourglass\"\n",
    "rabbit_one_shot_prompts = [one_shot_prompt + \"\\n\\n\" + line for line in a_rabbit_questions]\n",
    "habit_one_shot_prompts = [one_shot_prompt + \"\\n\\n\" + line for line in a_habit_questions]\n",
    "ape_one_shot_prompts = [one_shot_prompt + \"\\n\\n\" + line for line in an_ape_questions]\n",
    "\n",
    "# a / an generalization\n",
    "cfg_a_an_generalization = SteeringExperimentConfig(\n",
    "    experiment_name='a_an_generalization',\n",
    "    generation_prompt='A rhymed couplet:\\nHe saw a carrot and had to grab it\\n',\n",
    "    positive_prompts=rabbit_one_shot_prompts,\n",
    "    negative_prompts=habit_one_shot_prompts,\n",
    "    wordlists={\n",
    "        \"rabbit\": [\"rabbit\"],\n",
    "        \"habit\": [\"habit\"],\n",
    "    },\n",
    "    num_examples=0,\n",
    ")\n",
    "\n",
    "a_rabbit_questions_and_article_one_shot = [line + \"A \" for line in rabbit_one_shot_prompts]\n",
    "a_habit_questions_and_article_one_shot = [line + \"A \" for line in habit_one_shot_prompts]\n",
    "an_ape_questions_and_article_one_shot = [line + \"An \" for line in ape_one_shot_prompts]\n",
    "\n",
    "# a / an generalization with article\n",
    "cfg_a_an_generalization_with_article = SteeringExperimentConfig(\n",
    "    experiment_name='a_an_generalization_with_article',\n",
    "    generation_prompt='A rhymed couplet:\\nHe saw a carrot and had to grab it\\n',\n",
    "    positive_prompts=a_rabbit_questions_and_article_one_shot,\n",
    "    negative_prompts=a_habit_questions_and_article_one_shot,\n",
    "    wordlists={\n",
    "        \"rabbit\": [\"rabbit\"],\n",
    "        \"habit\": [\"habit\"],\n",
    "    },\n",
    "    num_examples=0,\n",
    ")\n",
    "\n",
    "cfg_brick_to_rain = SteeringExperimentConfig(\n",
    "    experiment_name='brick_to_rain',\n",
    "    generation_prompt='A rhymed couplet:\\nThe house was built with sturdy, reddish brick\\n',\n",
    "    positive_prompts=get_prompts(lines_that_rhyme_with_pain),\n",
    "    negative_prompts=get_prompts(lines_that_rhyme_with_quick),\n",
    "    wordlists = {\n",
    "        \"all_brick_rhymes\": quick_rhymes_all,\n",
    "        \"all_rain_rhymes\": pain_rhymes_all,\n",
    "        \"quick\": [\"quick\"],\n",
    "        \"trick\": [\"trick\"],\n",
    "        \"pain\": [\"pain\"],\n",
    "        \"rain\": [\"rain\"],\n",
    "    },\n",
    "    num_examples=0,\n",
    "    extra_line=True,\n",
    ")\n",
    "\n",
    "cfg_an_apple_to_a_pear_1_5 = SteeringExperimentConfig(\n",
    "    experiment_name='an_apple_to_a_pear',\n",
    "    generation_prompt=a_pear_or_an_apple_questions_one_shot[12],\n",
    "    positive_prompts=a_pear_questions_one_shot_suggestive,\n",
    "    negative_prompts=an_apple_questions_one_shot_suggestive,\n",
    "    # positive_words=[\"pear\"],\n",
    "    # negative_words=[\"apple\"],\n",
    "    # layer=27,\n",
    "    steering_multiplier=1.5,\n",
    "    num_examples=2,\n",
    "    extra_line=True,\n",
    "    # batch_size=200,\n",
    "    wordlists={\n",
    "        \"apple\": [\"apple\"],\n",
    "        \"pear\": [\"pear\"],\n",
    "    }\n",
    ")\n",
    "\n",
    "cfg_a_date_to_a_pear_1_5 = SteeringExperimentConfig(\n",
    "    experiment_name='a_date_to_a_pear',\n",
    "    generation_prompt=a_date_or_a_pear_questions_one_shot[6],\n",
    "    positive_prompts=a_pear_questions_one_shot_suggestive,\n",
    "    negative_prompts=a_date_questions_one_shot_suggestive,\n",
    "    steering_multiplier=2.0,\n",
    "    num_examples=2,\n",
    "    extra_line=True,\n",
    "    wordlists={\n",
    "        \"date\": [\"date\"],\n",
    "        \"pear\": [\"pear\"],\n",
    "    }\n",
    ")\n",
    "\n",
    "cfg_an_apple_to_a_pear_the_answer_is_1_5 = SteeringExperimentConfig(\n",
    "    experiment_name='an_apple_to_a_pear_the_answer_is',\n",
    "    generation_prompt=a_pear_or_an_apple_questions_one_shot_the_answer_is[12],\n",
    "    positive_prompts=a_pear_questions_one_shot_the_answer_is_suggestive,\n",
    "    negative_prompts=an_apple_questions_one_shot_the_answer_is_suggestive,\n",
    "    # positive_words=[\"pear\"],\n",
    "    # negative_words=[\"apple\"],\n",
    "    # layer=27,\n",
    "    steering_multiplier=5.0,\n",
    "    num_examples=2,\n",
    "    extra_line=True,\n",
    "    batch_size=500,\n",
    "    wordlists={\n",
    "        \"apple\": [\"apple\"],\n",
    "        \"pear\": [\"pear\"],\n",
    "    },\n",
    "    num_words=1,\n",
    ")\n",
    "\n",
    "cfg_an_apple_to_a_pear_the_1_5 = SteeringExperimentConfig(\n",
    "    experiment_name='an_apple_to_a_pear_the',\n",
    "    generation_prompt=a_pear_or_an_apple_questions_one_shot_the[12],\n",
    "    positive_prompts=a_pear_questions_one_shot_suggestive,\n",
    "    negative_prompts=an_apple_questions_one_shot_suggestive,\n",
    "    # positive_words=[\"pear\"],\n",
    "    # negative_words=[\"apple\"],\n",
    "    # layer=27,\n",
    "    steering_multiplier=5.0,\n",
    "    num_examples=2,\n",
    "    extra_line=True,\n",
    "    batch_size=1000,\n",
    "    wordlists={\n",
    "        \"the apple\": [\"the apple\"],\n",
    "        \"the pear\": [\"the pear\"],\n",
    "        \"a pear\": [\"a pear\"],\n",
    "        \"an apple\": [\"an apple\"],\n",
    "    },\n",
    "    num_words=2,\n",
    ")\n",
    "\n",
    "cfg_an_apple_to_a_pear_the_1_5_no_generalization = SteeringExperimentConfig(\n",
    "    experiment_name='an_apple_to_a_pear_the_1_5_no_generalization',\n",
    "    generation_prompt=a_pear_or_an_apple_questions_one_shot_the[12],\n",
    "    positive_prompts=a_pear_questions_one_shot_the_suggestive,\n",
    "    negative_prompts=an_apple_questions_one_shot_the_suggestive,\n",
    "    # positive_words=[\"pear\"],\n",
    "    # negative_words=[\"apple\"],\n",
    "    # layer=27,\n",
    "    steering_multiplier=5.0,\n",
    "    num_examples=2,\n",
    "    extra_line=True,\n",
    "    batch_size=1000,\n",
    "    wordlists={\n",
    "        \"the apple\": [\"the apple\"],\n",
    "        \"the pear\": [\"the pear\"],\n",
    "    },\n",
    "    num_words=2,\n",
    ")\n"
   ]
  },
  {
   "cell_type": "code",
   "execution_count": 50,
   "id": "c54d4eb5",
   "metadata": {},
   "outputs": [],
   "source": [
    "MAX_NEW_TOKENS = 5"
   ]
  },
  {
   "cell_type": "code",
   "execution_count": 51,
   "id": "626eb72a",
   "metadata": {},
   "outputs": [
    {
     "name": "stdout",
     "output_type": "stream",
     "text": [
      "Running analysis for an_apple_to_a_pear_the_answer_is\n",
      "Processing negative prompt variant: neg_prompt_v1\n"
     ]
    },
    {
     "name": "stderr",
     "output_type": "stream",
     "text": [
      "Analyzing layers for neg_prompt_v1: 100%|██████████| 1/1 [00:24<00:00, 24.33s/it]\n"
     ]
    },
    {
     "name": "stdout",
     "output_type": "stream",
     "text": [
      "Need at least 2 negative prompt variants for comparison\n"
     ]
    },
    {
     "data": {
      "image/png": "[encoded data removed]",
      "text/plain": [
       "<Figure size 1400x1000 with 2 Axes>"
      ]
     },
     "metadata": {},
     "output_type": "display_data"
    },
    {
     "data": {
      "text/html": [
       "<div>\n",
       "<style scoped>\n",
       "    .dataframe tbody tr th:only-of-type {\n",
       "        vertical-align: middle;\n",
       "    }\n",
       "\n",
       "    .dataframe tbody tr th {\n",
       "        vertical-align: top;\n",
       "    }\n",
       "\n",
       "    .dataframe thead th {\n",
       "        text-align: right;\n",
       "    }\n",
       "</style>\n",
       "<table border=\"1\" class=\"dataframe\">\n",
       "  <thead>\n",
       "    <tr style=\"text-align: right;\">\n",
       "      <th></th>\n",
       "      <th>layer</th>\n",
       "      <th>wordlist</th>\n",
       "      <th>steering</th>\n",
       "      <th>neg_prompt_variant</th>\n",
       "      <th>last_word_fraction</th>\n",
       "    </tr>\n",
       "  </thead>\n",
       "  <tbody>\n",
       "    <tr>\n",
       "      <th>0</th>\n",
       "      <td>0</td>\n",
       "      <td>apple</td>\n",
       "      <td>positive</td>\n",
       "      <td>neg_prompt_v1</td>\n",
       "      <td>0.282</td>\n",
       "    </tr>\n",
       "    <tr>\n",
       "      <th>1</th>\n",
       "      <td>0</td>\n",
       "      <td>apple</td>\n",
       "      <td>negative</td>\n",
       "      <td>neg_prompt_v1</td>\n",
       "      <td>0.418</td>\n",
       "    </tr>\n",
       "    <tr>\n",
       "      <th>2</th>\n",
       "      <td>0</td>\n",
       "      <td>pear</td>\n",
       "      <td>positive</td>\n",
       "      <td>neg_prompt_v1</td>\n",
       "      <td>0.710</td>\n",
       "    </tr>\n",
       "    <tr>\n",
       "      <th>3</th>\n",
       "      <td>0</td>\n",
       "      <td>pear</td>\n",
       "      <td>negative</td>\n",
       "      <td>neg_prompt_v1</td>\n",
       "      <td>0.570</td>\n",
       "    </tr>\n",
       "  </tbody>\n",
       "</table>\n",
       "</div>"
      ],
      "text/plain": [
       "   layer wordlist  steering neg_prompt_variant  last_word_fraction\n",
       "0      0    apple  positive      neg_prompt_v1               0.282\n",
       "1      0    apple  negative      neg_prompt_v1               0.418\n",
       "2      0     pear  positive      neg_prompt_v1               0.710\n",
       "3      0     pear  negative      neg_prompt_v1               0.570"
      ]
     },
     "execution_count": 51,
     "metadata": {},
     "output_type": "execute_result"
    }
   ],
   "source": [
    "# cfg_quick_to_pain, cfg_rabbit_to_habit_cheating, cfg_rabbit_to_habit_oneshot, cfg_quick_to_unrhymed, cfg_rhyming_to_unrhyming, cfg_a_an_generalization, cfg_a_an_generalization_with_article\n",
    "# run_analysis(cfg_quick_to_pain)\n",
    "# run_analysis(cfg_rabbit_to_habit_cheating)\n",
    "# run_analysis(cfg_rabbit_to_habit_oneshot)\n",
    "# run_analysis(cfg_quick_to_unrhymed)\n",
    "# run_analysis(cfg_rhyming_to_unrhyming)\n",
    "# run_analysis(cfg_a_an_generalization)\n",
    "# run_analysis(cfg_a_an_generalization_with_article)\n",
    "# run_analysis(cfg_brick_to_rain)\n",
    "# run_analysis(cfg_an_apple_to_a_pear_1_5)\n",
    "# run_analysis(cfg_a_date_to_a_pear_1_5)\n",
    "# run_analysis(cfg_an_apple_to_a_pear_the_answer_is_1_5)\n",
    "# run_analysis(cfg_an_apple_to_a_pear_the_1_5)\n",
    "# run_analysis(cfg_an_apple_to_a_pear_the_1_5_no_generalization)\n",
    "run_analysis(cfg_an_apple_to_a_pear_the_answer_is_1_5)"
   ]
  },
  {
   "cell_type": "code",
   "execution_count": 32,
   "id": "0d1bc539",
   "metadata": {},
   "outputs": [],
   "source": [
    "generation_prompt=a_pear_or_an_apple_qustions_one_shot[12]"
   ]
  }
 ],
 "metadata": {
  "kernelspec": {
   "display_name": ".venv",
   "language": "python",
   "name": "python3"
  },
  "language_info": {
   "codemirror_mode": {
    "name": "ipython",
    "version": 3
   },
   "file_extension": ".py",
   "mimetype": "text/x-python",
   "name": "python",
   "nbconvert_exporter": "python",
   "pygments_lexer": "ipython3",
   "version": "3.10.12"
  }
 },
 "nbformat": 4,
 "nbformat_minor": 5
}
