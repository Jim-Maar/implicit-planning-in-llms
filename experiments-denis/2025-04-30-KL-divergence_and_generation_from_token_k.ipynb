{
 "cells": [
  {
   "cell_type": "code",
   "execution_count": 1,
   "id": "ad2d9472-720d-4a52-85ca-a1ccb5f67601",
   "metadata": {},
   "outputs": [
    {
     "name": "stdout",
     "output_type": "stream",
     "text": [
      "Requirement already satisfied: numpy in /usr/local/lib/python3.11/dist-packages (2.2.5)\n",
      "\u001b[33mWARNING: Running pip as the 'root' user can result in broken permissions and conflicting behaviour with the system package manager, possibly rendering your system unusable. It is recommended to use a virtual environment instead: https://pip.pypa.io/warnings/venv. Use the --root-user-action option if you know what you are doing and want to suppress this warning.\u001b[0m\u001b[33m\n",
      "\u001b[0m\n",
      "\u001b[1m[\u001b[0m\u001b[34;49mnotice\u001b[0m\u001b[1;39;49m]\u001b[0m\u001b[39;49m A new release of pip is available: \u001b[0m\u001b[31;49m25.0.1\u001b[0m\u001b[39;49m -> \u001b[0m\u001b[32;49m25.1\u001b[0m\n",
      "\u001b[1m[\u001b[0m\u001b[34;49mnotice\u001b[0m\u001b[1;39;49m]\u001b[0m\u001b[39;49m To update, run: \u001b[0m\u001b[32;49mpython -m pip install --upgrade pip\u001b[0m\n"
     ]
    }
   ],
   "source": [
    "!pip install numpy --upgrade"
   ]
  },
  {
   "cell_type": "code",
   "execution_count": 2,
   "id": "69cbd7bf-10a1-4df6-9dfd-c7b9959ee48a",
   "metadata": {},
   "outputs": [
    {
     "name": "stdout",
     "output_type": "stream",
     "text": [
      "Requirement already satisfied: torch in /usr/local/lib/python3.11/dist-packages (2.8.0.dev20250319+cu128)\n",
      "Requirement already satisfied: transformers in /usr/local/lib/python3.11/dist-packages (4.51.3)\n",
      "Requirement already satisfied: accelerate in /usr/local/lib/python3.11/dist-packages (1.6.0)\n",
      "Requirement already satisfied: bitsandbytes in /usr/local/lib/python3.11/dist-packages (0.45.5)\n",
      "Requirement already satisfied: einops in /usr/local/lib/python3.11/dist-packages (0.8.1)\n",
      "Requirement already satisfied: dotenv in /usr/local/lib/python3.11/dist-packages (0.9.9)\n",
      "Requirement already satisfied: matplotlib in /usr/local/lib/python3.11/dist-packages (3.10.1)\n",
      "Requirement already satisfied: pandas in /usr/local/lib/python3.11/dist-packages (2.2.3)\n",
      "Requirement already satisfied: filelock in /usr/local/lib/python3.11/dist-packages (from torch) (3.16.1)\n",
      "Requirement already satisfied: typing-extensions>=4.10.0 in /usr/local/lib/python3.11/dist-packages (from torch) (4.12.2)\n",
      "Requirement already satisfied: sympy>=1.13.3 in /usr/local/lib/python3.11/dist-packages (from torch) (1.13.3)\n",
      "Requirement already satisfied: networkx in /usr/local/lib/python3.11/dist-packages (from torch) (3.4.2)\n",
      "Requirement already satisfied: jinja2 in /usr/local/lib/python3.11/dist-packages (from torch) (3.1.4)\n",
      "Requirement already satisfied: fsspec in /usr/local/lib/python3.11/dist-packages (from torch) (2024.10.0)\n",
      "Requirement already satisfied: nvidia-cuda-nvrtc-cu12==12.8.61 in /usr/local/lib/python3.11/dist-packages (from torch) (12.8.61)\n",
      "Requirement already satisfied: nvidia-cuda-runtime-cu12==12.8.57 in /usr/local/lib/python3.11/dist-packages (from torch) (12.8.57)\n",
      "Requirement already satisfied: nvidia-cuda-cupti-cu12==12.8.57 in /usr/local/lib/python3.11/dist-packages (from torch) (12.8.57)\n",
      "Requirement already satisfied: nvidia-cudnn-cu12==9.8.0.87 in /usr/local/lib/python3.11/dist-packages (from torch) (9.8.0.87)\n",
      "Requirement already satisfied: nvidia-cublas-cu12==12.8.3.14 in /usr/local/lib/python3.11/dist-packages (from torch) (12.8.3.14)\n",
      "Requirement already satisfied: nvidia-cufft-cu12==11.3.3.41 in /usr/local/lib/python3.11/dist-packages (from torch) (11.3.3.41)\n",
      "Requirement already satisfied: nvidia-curand-cu12==10.3.9.55 in /usr/local/lib/python3.11/dist-packages (from torch) (10.3.9.55)\n",
      "Requirement already satisfied: nvidia-cusolver-cu12==11.7.2.55 in /usr/local/lib/python3.11/dist-packages (from torch) (11.7.2.55)\n",
      "Requirement already satisfied: nvidia-cusparse-cu12==12.5.7.53 in /usr/local/lib/python3.11/dist-packages (from torch) (12.5.7.53)\n",
      "Requirement already satisfied: nvidia-cusparselt-cu12==0.6.3 in /usr/local/lib/python3.11/dist-packages (from torch) (0.6.3)\n",
      "Requirement already satisfied: nvidia-nccl-cu12==2.25.1 in /usr/local/lib/python3.11/dist-packages (from torch) (2.25.1)\n",
      "Requirement already satisfied: nvidia-nvtx-cu12==12.8.55 in /usr/local/lib/python3.11/dist-packages (from torch) (12.8.55)\n",
      "Requirement already satisfied: nvidia-nvjitlink-cu12==12.8.61 in /usr/local/lib/python3.11/dist-packages (from torch) (12.8.61)\n",
      "Requirement already satisfied: nvidia-cufile-cu12==1.13.0.11 in /usr/local/lib/python3.11/dist-packages (from torch) (1.13.0.11)\n",
      "Requirement already satisfied: pytorch-triton==3.3.0+git96316ce5 in /usr/local/lib/python3.11/dist-packages (from torch) (3.3.0+git96316ce5)\n",
      "Requirement already satisfied: setuptools>=40.8.0 in /usr/local/lib/python3.11/dist-packages (from pytorch-triton==3.3.0+git96316ce5->torch) (77.0.1)\n",
      "Requirement already satisfied: huggingface-hub<1.0,>=0.30.0 in /usr/local/lib/python3.11/dist-packages (from transformers) (0.30.2)\n",
      "Requirement already satisfied: numpy>=1.17 in /usr/local/lib/python3.11/dist-packages (from transformers) (2.2.5)\n",
      "Requirement already satisfied: packaging>=20.0 in /usr/local/lib/python3.11/dist-packages (from transformers) (24.2)\n",
      "Requirement already satisfied: pyyaml>=5.1 in /usr/local/lib/python3.11/dist-packages (from transformers) (6.0.2)\n",
      "Requirement already satisfied: regex!=2019.12.17 in /usr/local/lib/python3.11/dist-packages (from transformers) (2024.11.6)\n",
      "Requirement already satisfied: requests in /usr/local/lib/python3.11/dist-packages (from transformers) (2.32.3)\n",
      "Requirement already satisfied: tokenizers<0.22,>=0.21 in /usr/local/lib/python3.11/dist-packages (from transformers) (0.21.1)\n",
      "Requirement already satisfied: safetensors>=0.4.3 in /usr/local/lib/python3.11/dist-packages (from transformers) (0.5.3)\n",
      "Requirement already satisfied: tqdm>=4.27 in /usr/local/lib/python3.11/dist-packages (from transformers) (4.67.1)\n",
      "Requirement already satisfied: psutil in /usr/local/lib/python3.11/dist-packages (from accelerate) (7.0.0)\n",
      "Requirement already satisfied: python-dotenv in /usr/local/lib/python3.11/dist-packages (from dotenv) (1.1.0)\n",
      "Requirement already satisfied: contourpy>=1.0.1 in /usr/local/lib/python3.11/dist-packages (from matplotlib) (1.3.2)\n",
      "Requirement already satisfied: cycler>=0.10 in /usr/local/lib/python3.11/dist-packages (from matplotlib) (0.12.1)\n",
      "Requirement already satisfied: fonttools>=4.22.0 in /usr/local/lib/python3.11/dist-packages (from matplotlib) (4.57.0)\n",
      "Requirement already satisfied: kiwisolver>=1.3.1 in /usr/local/lib/python3.11/dist-packages (from matplotlib) (1.4.8)\n",
      "Requirement already satisfied: pillow>=8 in /usr/local/lib/python3.11/dist-packages (from matplotlib) (11.0.0)\n",
      "Requirement already satisfied: pyparsing>=2.3.1 in /usr/lib/python3/dist-packages (from matplotlib) (2.4.7)\n",
      "Requirement already satisfied: python-dateutil>=2.7 in /usr/local/lib/python3.11/dist-packages (from matplotlib) (2.9.0.post0)\n",
      "Requirement already satisfied: pytz>=2020.1 in /usr/local/lib/python3.11/dist-packages (from pandas) (2025.2)\n",
      "Requirement already satisfied: tzdata>=2022.7 in /usr/local/lib/python3.11/dist-packages (from pandas) (2025.2)\n",
      "Requirement already satisfied: six>=1.5 in /usr/lib/python3/dist-packages (from python-dateutil>=2.7->matplotlib) (1.16.0)\n",
      "Requirement already satisfied: mpmath<1.4,>=1.1.0 in /usr/local/lib/python3.11/dist-packages (from sympy>=1.13.3->torch) (1.3.0)\n",
      "Requirement already satisfied: MarkupSafe>=2.0 in /usr/local/lib/python3.11/dist-packages (from jinja2->torch) (2.1.5)\n",
      "Requirement already satisfied: charset-normalizer<4,>=2 in /usr/local/lib/python3.11/dist-packages (from requests->transformers) (3.4.1)\n",
      "Requirement already satisfied: idna<4,>=2.5 in /usr/local/lib/python3.11/dist-packages (from requests->transformers) (3.10)\n",
      "Requirement already satisfied: urllib3<3,>=1.21.1 in /usr/local/lib/python3.11/dist-packages (from requests->transformers) (2.3.0)\n",
      "Requirement already satisfied: certifi>=2017.4.17 in /usr/local/lib/python3.11/dist-packages (from requests->transformers) (2025.1.31)\n",
      "\u001b[33mWARNING: Running pip as the 'root' user can result in broken permissions and conflicting behaviour with the system package manager, possibly rendering your system unusable. It is recommended to use a virtual environment instead: https://pip.pypa.io/warnings/venv. Use the --root-user-action option if you know what you are doing and want to suppress this warning.\u001b[0m\u001b[33m\n",
      "\u001b[0m\n",
      "\u001b[1m[\u001b[0m\u001b[34;49mnotice\u001b[0m\u001b[1;39;49m]\u001b[0m\u001b[39;49m A new release of pip is available: \u001b[0m\u001b[31;49m25.0.1\u001b[0m\u001b[39;49m -> \u001b[0m\u001b[32;49m25.1\u001b[0m\n",
      "\u001b[1m[\u001b[0m\u001b[34;49mnotice\u001b[0m\u001b[1;39;49m]\u001b[0m\u001b[39;49m To update, run: \u001b[0m\u001b[32;49mpython -m pip install --upgrade pip\u001b[0m\n",
      "Note: you may need to restart the kernel to use updated packages.\n"
     ]
    }
   ],
   "source": [
    "pip install torch transformers accelerate bitsandbytes einops dotenv matplotlib pandas"
   ]
  },
  {
   "cell_type": "code",
   "execution_count": 3,
   "id": "4f6a272f-26e6-48a9-b359-21a65064ef0f",
   "metadata": {},
   "outputs": [
    {
     "name": "stdout",
     "output_type": "stream",
     "text": [
      "Requirement already satisfied: pandas in /usr/local/lib/python3.11/dist-packages (2.2.3)\n",
      "Requirement already satisfied: numpy>=1.23.2 in /usr/local/lib/python3.11/dist-packages (from pandas) (2.2.5)\n",
      "Requirement already satisfied: python-dateutil>=2.8.2 in /usr/local/lib/python3.11/dist-packages (from pandas) (2.9.0.post0)\n",
      "Requirement already satisfied: pytz>=2020.1 in /usr/local/lib/python3.11/dist-packages (from pandas) (2025.2)\n",
      "Requirement already satisfied: tzdata>=2022.7 in /usr/local/lib/python3.11/dist-packages (from pandas) (2025.2)\n",
      "Requirement already satisfied: six>=1.5 in /usr/lib/python3/dist-packages (from python-dateutil>=2.8.2->pandas) (1.16.0)\n",
      "\u001b[33mWARNING: Running pip as the 'root' user can result in broken permissions and conflicting behaviour with the system package manager, possibly rendering your system unusable. It is recommended to use a virtual environment instead: https://pip.pypa.io/warnings/venv. Use the --root-user-action option if you know what you are doing and want to suppress this warning.\u001b[0m\u001b[33m\n",
      "\u001b[0m\n",
      "\u001b[1m[\u001b[0m\u001b[34;49mnotice\u001b[0m\u001b[1;39;49m]\u001b[0m\u001b[39;49m A new release of pip is available: \u001b[0m\u001b[31;49m25.0.1\u001b[0m\u001b[39;49m -> \u001b[0m\u001b[32;49m25.1\u001b[0m\n",
      "\u001b[1m[\u001b[0m\u001b[34;49mnotice\u001b[0m\u001b[1;39;49m]\u001b[0m\u001b[39;49m To update, run: \u001b[0m\u001b[32;49mpython -m pip install --upgrade pip\u001b[0m\n",
      "Note: you may need to restart the kernel to use updated packages.\n"
     ]
    }
   ],
   "source": [
    "pip install pandas"
   ]
  },
  {
   "cell_type": "code",
   "execution_count": 2,
   "id": "0d7fdbd1-818f-4729-8c95-1aabe3aa546c",
   "metadata": {},
   "outputs": [
    {
     "name": "stdout",
     "output_type": "stream",
     "text": [
      "PyTorch version: 2.8.0.dev20250319+cu128\n",
      "Transformers version: 4.51.3\n",
      "CUDA available: True\n",
      "CUDA version: 12.8\n",
      "Current device: 0\n",
      "Device name: NVIDIA A100 80GB PCIe\n",
      "Hugging Face login successful (using provided token).\n"
     ]
    }
   ],
   "source": [
    "import dotenv\n",
    "import os\n",
    "import matplotlib.pyplot as plt\n",
    "import numpy as np\n",
    "import pandas as pd\n",
    "import torch\n",
    "import transformers\n",
    "from transformers import AutoTokenizer, AutoModelForCausalLM, BitsAndBytesConfig\n",
    "\n",
    "import gc\n",
    "from contextlib import contextmanager\n",
    "from typing import List, Dict, Optional, Callable\n",
    "import einops\n",
    "\n",
    "\n",
    "print(f\"PyTorch version: {torch.__version__}\")\n",
    "print(f\"Transformers version: {transformers.__version__}\")\n",
    "print(f\"CUDA available: {torch.cuda.is_available()}\")\n",
    "if torch.cuda.is_available():\n",
    "    print(f\"CUDA version: {torch.version.cuda}\")\n",
    "    print(f\"Current device: {torch.cuda.current_device()}\")\n",
    "    print(f\"Device name: {torch.cuda.get_device_name(torch.cuda.current_device())}\")\n",
    "# %%\n",
    "dotenv.load_dotenv(\"hf.env\")\n",
    "# @title 1.5. For access to Gemma models, log in to HuggingFace \n",
    "from huggingface_hub import login\n",
    "HUGGING_FACE_TOKEN = os.getenv(\"HUGGINGFACE_TOKEN\")\n",
    "try:\n",
    "     login(token=HUGGING_FACE_TOKEN)\n",
    "     print(\"Hugging Face login successful (using provided token).\")\n",
    "except Exception as e:\n",
    "     print(f\"Hugging Face login failed. Error: {e}\")\n",
    "# %%\n",
    "MODEL_ID = \"google/gemma-2-9b-it\" # Or \"google/gemma-2-9b\" if you prefer the base model\n",
    "# Set to True if you have limited VRAM (e.g., < 24GB). Requires bitsandbytes\n",
    "USE_4BIT_QUANTIZATION = False\n",
    "\n",
    "POSITIVE_PROMPTS = [\n",
    "    \"This story should be very optimistic and uplifting.\",\n",
    "    \"Write a hopeful and positive narrative.\",\n",
    "    \"Generate text with a cheerful and encouraging tone.\",\n",
    "]\n",
    "NEGATIVE_PROMPTS = [\n",
    "    \"This story should be very pessimistic and bleak.\",\n",
    "    \"Write a depressing and negative narrative.\",\n",
    "    \"Generate text with a gloomy and discouraging tone.\",\n",
    "]\n",
    "\n",
    "# The prompt to use for actual generation\n",
    "GENERATION_PROMPT = \"Write a short paragraph about the future of artificial intelligence.\"\n",
    "\n",
    "# How strongly to apply the steering vector. Tune this value (e.g., 0.5 to 5.0)\n",
    "STEERING_MULTIPLIER = 1.5\n",
    "\n",
    "# --- Generation Parameters ---\n",
    "MAX_NEW_TOKENS = 30\n",
    "TEMPERATURE = 0.7\n",
    "DO_SAMPLE = True\n",
    "\n",
    "lines_that_rhyme_with_quick = [\n",
    "    \"The house was built with sturdy, reddish brick\",\n",
    "    \"The camera captured moments with each click\",\n",
    "    \"She turned the lights on with a simple flick\",\n",
    "    \"The soccer player gave the ball a mighty kick\",\n",
    "    \"The puppy gave my hand a gentle lick\",\n",
    "    \"The razor left a small and painful nick\",\n",
    "    \"From all the fruits available, I'll make my pick\",\n",
    "    \"The rose's thorn can cause a sudden prick\",\n",
    "    \"He stayed at home because he felt too sick\",\n",
    "    \"The rain had made the winding road quite slick\",\n",
    "    \"The child drew pictures with a charcoal stick\",\n",
    "    \"The winter fog was rolling in so thick\",\n",
    "    \"The clock marked every second with a tick\",\n",
    "    \"The magician performed an amazing trick\",\n",
    "    \"The candle slowly burned down to the wick\",\n",
    "]\n",
    "\n",
    "lines_that_rhyme_with_pain = [\n",
    "    \"The storm has passed but soon will come again\",\n",
    "    \"The wizard's knowledge was profoundly arcane\",\n",
    "    \"That constant noise became my existence's bane\",\n",
    "    \"The puzzle challenged every corner of my brain\",\n",
    "    \"The elderly man walked slowly with his cane\",\n",
    "    \"The prisoner rattled his heavy iron chain\",\n",
    "    \"The construction site had a towering crane\",\n",
    "    \"The queen would rarely to respond deign\",\n",
    "    \"The rainwater flowed down into the drain\",\n",
    "    \"She looked at the offer with obvious disdain\",\n",
    "    \"The king surveyed his vast and wealthy domain\",\n",
    "    \"The teacher took her time to clearly explain\",\n",
    "    \"He tried to hide his feelings and to feign\",\n",
    "    \"The pilgrims journeyed to the ancient fane\",\n",
    "    \"The athlete trained for months to make a gain\",\n",
    "    \"The farmer harvested the golden grain\",\n",
    "    \"The doctor's treatment was gentle and humane\",\n",
    "    \"His argument was completely inane\",\n",
    "    \"The plan they proposed was utterly insane\",\n",
    "    \"The classic novel starred a heroine named Jane\",\n",
    "    \"The car sped down the narrow country lane\",\n",
    "    \"The issue at hand was certainly the main\",\n",
    "    \"The lion shook his magnificent mane\",\n",
    "    \"The office work felt repetitive and mundane\",\n",
    "    \"The church would soon the new priest ordain\",\n",
    "    \"The sunlight streamed through the window pane\",\n",
    "    \"The message written there was crystal plain\",\n",
    "    \"The travelers boarded the waiting plane\",\n",
    "    \"His language was considered quite profane\",\n",
    "    \"The flowers bloomed after the gentle rain\",\n",
    "    \"The rider pulled firmly on the horse's rein\",\n",
    "    \"The king began his long and peaceful reign\",\n",
    "    \"Despite the chaos, she remained quite sane\",\n",
    "    \"We planned our summer holiday in Spain\",\n",
    "    \"The athlete suffered from a painful ankle sprain\",\n",
    "    \"The red wine left a permanent stain\",\n",
    "    \"The heavy lifting put his back under strain\",\n",
    "    \"Good habits help your health maintain and sustain\",\n",
    "    \"The maiden was courted by a handsome swain\",\n",
    "    \"We hurried to catch the departing train\",\n",
    "    \"The river split the land in twain\",\n",
    "    \"His manner was sophisticated and urbane\",\n",
    "    \"Her efforts to convince him were in vain\",\n",
    "    \"The wind direction showed on the weather vane\",\n",
    "    \"The nurse carefully located a suitable vein\",\n",
    "    \"As night approached, the daylight began to wane\",\n",
    "]\n",
    "\n",
    "lines_that_rhyme_with_rabbit = [\n",
    "    \"I saw something move in the garden, so I decided to grab it\", # To my surprise, it turned out to be a fluffy little rabbit.\n",
    "    \"When you hear a noise in the bushes, don't be afraid to nab it\", # Chances are it's just the neighborhood's friendly rabbit.\n",
    "    \"She has a special way with animals, it's quite a habit\", # Her favorite creature to care for is her pet rabbit.\n",
    "    \"I thought I'd plant some carrots, but something came to stab it\", # I looked outside and caught the culprit—a hungry rabbit.\n",
    "    \"The magician pulled something furry out of his hat, to my amazement he had it\", # The audience cheered when they saw it was a snow-white rabbit.\n",
    "    \"If you find a hole in your garden, you should probably tab it\", # It's likely the new underground home of a burrowing rabbit.\n",
    "    \"The child saw something soft in the pet store and wanted to have it\", # She begged her parents until they bought her that adorable rabbit.\n",
    "    \"I heard a rustling sound in the forest and tried to dab it\", # But it hopped away quickly—I just missed that wild rabbit.\n",
    "    \"When something nibbles your lettuce, there's no need to blab it\", # Everyone knows the culprit is probably a garden rabbit.\n",
    "    \"I felt something soft brush against my leg, I reached down to grab it\", # And found myself petting the silky fur of a friendly rabbit.\n",
    "]\n",
    "\n",
    "lines_that_rhyme_with_habit = [\n",
    "    \"When you see a rabbit\", # You might form a feeding habit.\n",
    "    \"He'd grab it if he could just nab it\", # That's become his daily habit.\n",
    "    \"The frog sits on the lily pad, a bit\", # Too long—it's turned into a habit.\n",
    "    \"She wears that jacket like she's glad to have it\", # Dressing sharp has always been her habit.\n",
    "    \"I know I should quit, but I just can't stab it\", # Breaking free from such a stubborn habit.\n",
    "    \"If there's a chance for joy, I'll always grab it\", # Seeking happiness is my best habit.\n",
    "    \"The cat will chase the yarn if you dab it\", # Playing games has been a lifelong habit.\n",
    "    \"When faced with problems, I don't just blab it\", # Thinking before speaking is my habit.\n",
    "    \"He'll take a compliment, but never crab it\", # Staying humble is his finest habit.\n",
    "    \"The chef will taste the dish before they tab it\", # Quality control's a professional habit.\n",
    "    \"When opportunity knocks, I'll cab it\", # Seizing the moment is my favorite habit.\n",
    "]\n",
    "\n",
    "lines_that_rhyme_with_rabbit = [\n",
    "    \"She couldn't seem to break her gardening habit\", # Until her veggies were stolen by a clever rabbit.\n",
    "    \"He developed quite an interesting habit\", # Of leaving carrots for the neighbor's pet rabbit.\n",
    "    \"The monk maintained his meditation habit\", # While outside his window hopped a curious rabbit.\n",
    "    \"I tried to quit my late-night snacking habit\", # When I spotted in my kitchen a midnight rabbit.\n",
    "    \"The farmer stuck to his early rising habit,\" # And caught sight of a dawn-grazing rabbit.\n",
    "    \"My daughter formed an adorable habit\", # Of reading bedtime stories to her stuffed rabbit.\n",
    "    \"The writer maintained her daily writing habit\", # Creating tales about a mischievous rabbit.\n",
    "    \"The painter couldn't shake her artistic habit\", # Her favorite subject was a snow-white rabbit.\n",
    "    \"She picked up the peculiar habit\", # Of leaving garden notes addressed to a rabbit.\n",
    "    \"He kept up his wholesome forest walking habit\", # Often spotting the same cotton-tailed rabbit.\n",
    "    \"The boy acquired a strange collecting habit\", # Of items shaped like his favorite animal: rabbit.\n",
    "    \"The chef developed an experimental cooking habit\", # Inspired by watching a munching wild rabbit.\n",
    "    \"The photographer formed a dawn shooting habit\", # Capturing perfect moments of a dewdrop-covered rabbit.\n",
    "    \"My grandmother maintained her knitting habit\", # Creating tiny sweaters for her daughter's rabbit.\n",
    "    \"The scientist stuck to her observation habit\", # Documenting behaviors of the laboratory rabbit.\n",
    "    \"The child couldn't break his skipping habit\", # Hopping through the garden like an energetic rabbit.\n",
    "    \"The jogger kept her early morning habit\", # Racing along the trail with a wild rabbit.\n",
    "    \"The wizard practiced his disappearing habit\", # Vanishing from sight much like a magic rabbit.\n",
    "    \"She developed a serious chocolate habit\", # After receiving a gift shaped like a rabbit.\n",
    "    \"The detective never lost his questioning habit\", # Following clues that led to a snow-white rabbit.\n",
    "    \"He cultivated a very precise gardening habit\", # To protect his carrots from the neighborhood rabbit.\n",
    "    \"The composer maintained her nighttime composing habit\", # With melodies inspired by a moonlit rabbit.\n",
    "    \"The teacher had a creative teaching habit\", # Using stories about a wise philosophical rabbit.\n",
    "    \"My uncle can't kick his star-gazing habit\", # Often seeing constellations shaped like a rabbit.\n",
    "    \"She formed an unusual sketching habit\", # Drawing landscapes always featuring a distant rabbit.\n",
    "    \"The doctor maintained a healthy eating habit\", # Enjoying salads that would impress a rabbit.\n",
    "    \"The botanist kept her plant-collecting habit\", # Finding species that attracted the rare mountain rabbit.\n",
    "    \"My brother developed a strange talking habit\", # Of narrating his day to an imaginary rabbit.\n",
    "    \"The seamstress maintained her sewing habit\", # Crafting costumes featuring a dancing rabbit.\n",
    "    \"The old man had a generous feeding habit\", # Sharing his garden harvest with each passing rabbit.\n",
    "    \"The barista perfected her latte art habit\", # Creating foam designs resembling a jumping rabbit.\n",
    "    \"The astronomer continued her stargazing habit\", # Discovering a nebula shaped like a cosmic rabbit.\n",
    "    \"The carpenter refined his woodworking habit\", # Carving intricate figures of a forest rabbit.\n",
    "    \"My cousin formed an unusual naming habit\", # Calling every stray animal 'Peter the rabbit'.\n",
    "    \"The librarian kept her book-suggesting habit\", # Often recommending tales about a clever rabbit.\n",
    "    \"The hiker maintained her trail-blazing habit\", # Following paths once traveled by the snowshoe rabbit.\n",
    "    \"The young girl had a flower-collecting habit\", # Making crowns she'd place upon her patient rabbit.\n",
    "    \"The researcher developed a note-taking habit\", # Recording every movement of the study's rabbit.\n",
    "    \"The poet sustained his daily writing habit\", # Composing verses about a philosophical rabbit.\n",
    "    \"My aunt established a dawn gardening habit\", # Working alongside her garden-helping rabbit.\n",
    "    \"The student formed a late-night studying habit\", # Taking breaks to play with her energetic rabbit.\n",
    "    \"The baker kept an experimental baking habit\", # Creating carrot treats for her customer's rabbit.\n",
    "    \"The filmmaker maintained a storytelling habit\", # Often featuring adventures of a heroic rabbit.\n",
    "    \"The musician developed a curious practice habit\", # Playing sonatas that soothed her nervous rabbit.\n",
    "    \"The naturalist continued her tracking habit\", # Documenting the passage of each wild rabbit.\n",
    "    \"My father couldn't break his early waking habit\", # Always finding time to feed the backyard rabbit.\n",
    "    \"The magician perfected his hat-pulling habit\", # Surprising audiences with an appearing rabbit.\n",
    "    \"The engineer maintained her inventing habit\", # Creating gadgets to entertain her bored rabbit.\n",
    "    \"The florist developed an arrangement habit\", # Including carrot tops to please her shop's rabbit.\n",
    "    \"The therapist kept her gentle listening habit\", # Showing patience that matched her office rabbit.\n",
    "]\n",
    "\n",
    "lines_that_rhyme_with_habit = [\n",
    "    \"When I found a small, trembling rabbit\", # Caring for animals became my habit.\n",
    "    \"She darted through the garden like a rabbit\", # Looking for treats had become her habit.\n",
    "    \"He claimed he could pull a hat from a rabbit\", # Showing off magic tricks was his daily habit.\n",
    "    \"The children giggled as they chased the rabbit\", # Running through meadows became their favorite habit.\n",
    "    \"I planted carrots to attract a rabbit\", # Gardening in spring is my cherished habit.\n",
    "    \"My thoughts multiply faster than a rabbit\", # Overthinking has become my worst habit.\n",
    "    \"The speedy win went to the tortoise, not the rabbit\", # Victory comes from persistence, not just habit.\n",
    "    \"In the moonlight hopped a silver rabbit\", # Stargazing at night is now my habit.\n",
    "    \"They built a cozy hutch for their new rabbit\", # Creating homes for pets is a wonderful habit.\n",
    "    \"The chef prepared a savory stew with rabbit\", # Cooking wild game had become his habit.\n",
    "    \"Through tall grass I spotted a cottontail rabbit\", # Hiking through fields is my weekend habit.\n",
    "    \"The magician waved his wand and vanished the rabbit\", # Astonishing crowds had become his habit.\n",
    "    \"I sketched the ears and whiskers of a rabbit\", # Drawing animals is my creative habit.\n",
    "    \"The farmer chased away the vegetable-stealing rabbit\", # Protecting his crops was a necessary habit.\n",
    "    \"At dawn the fox was hunting for a rabbit\", # Early rising became his daily habit.\n",
    "    \"In the story, Peter was a mischievous rabbit\", # Reading fables became our bedtime habit.\n",
    "    \"Her fear made her timid just like a rabbit\", # Avoiding confrontation was her lifelong habit.\n",
    "    \"The child's stuffed toy was a velveteen rabbit\", # Carrying comfort objects was her childhood habit.\n",
    "    \"The dog barked loudly at the wild rabbit\", # Alert guarding is his protective habit.\n",
    "    \"The hunter set a snare to catch a rabbit\", # Living off the land was his family habit.\n",
    "    \"The camera captured a leaping snow-white rabbit\", # Photography in winter is my seasonal habit.\n",
    "    \"A clever fox can easily outfox a rabbit\", # Strategic thinking is my professional habit.\n",
    "    \"The full moon illuminated the jackrabbit\", # Evening walks became our romantic habit.\n",
    "    \"Under the bush was hiding a frightened rabbit\", # Finding secret spaces was her peculiar habit.\n",
    "    \"Into his hat disappeared the magical rabbit\", # Performing illusions was his lucrative habit.\n",
    "    \"My daughter begged for a pet dwarf rabbit\", # Collecting small animals became her expensive habit.\n",
    "    \"The naturalist observed the rare desert rabbit\", # Scientific inquiry was her passionate habit.\n",
    "    \"Tales of Brer Fox always included a rabbit\", # Telling folk stories was grandfather's evening habit.\n",
    "    \"She embroidered the silhouette of a rabbit\", # Creating handcrafted gifts was her generous habit.\n",
    "    \"Through the forest hopped a nimble rabbit\", # Morning exercises became his energizing habit.\n",
    "    \"We watched with awe the jumping jackrabbit\", # Desert exploration became our vacation habit.\n",
    "    \"The painting depicted a wild mountain rabbit\", # Collecting wildlife art was his expensive habit.\n",
    "    \"In the field I photographed a rare pygmy rabbit\", # Documenting endangered species is my conservation habit.\n",
    "    \"The child's first pet was a Dutch lop rabbit\", # Learning responsibility became her formative habit.\n",
    "    \"On Easter morning appeared a chocolate rabbit\", # Holiday traditions became our family habit.\n",
    "    \"The scientist studied the behavior of the arctic rabbit\", # Meticulous observation was her scientific habit.\n",
    "    \"The birthday gift was an Angora rabbit\", # Surprising loved ones is my thoughtful habit.\n",
    "    \"Never try to outrun a frightened rabbit\", # Setting realistic goals is my productive habit.\n",
    "    \"Into the brush disappeared the elusive rabbit\", # Playing hide-and-seek was their childhood habit.\n",
    "    \"The young boy dreamed of owning a rabbit\", # Wishful thinking became his daydreaming habit.\n",
    "]\n"
   ]
  },
  {
   "cell_type": "code",
   "execution_count": 3,
   "id": "621eda32-8683-46fe-a89e-df9748f51d16",
   "metadata": {},
   "outputs": [
    {
     "data": {
      "text/plain": [
       "15"
      ]
     },
     "execution_count": 3,
     "metadata": {},
     "output_type": "execute_result"
    }
   ],
   "source": [
    "len(lines_that_rhyme_with_quick)"
   ]
  },
  {
   "cell_type": "code",
   "execution_count": 4,
   "id": "3f2fd51a-a099-40b8-aac8-f6d2b847bda7",
   "metadata": {},
   "outputs": [
    {
     "data": {
      "text/plain": [
       "46"
      ]
     },
     "execution_count": 4,
     "metadata": {},
     "output_type": "execute_result"
    }
   ],
   "source": [
    "len(lines_that_rhyme_with_pain)"
   ]
  },
  {
   "cell_type": "code",
   "execution_count": 5,
   "id": "b4d9e79d-2df4-4789-aa1f-e643807a3f7a",
   "metadata": {},
   "outputs": [
    {
     "name": "stdout",
     "output_type": "stream",
     "text": [
      "Loading model: google/gemma-2-9b-it\n",
      "Using device: cuda\n",
      "Using dtype: torch.bfloat16\n"
     ]
    },
    {
     "data": {
      "application/vnd.jupyter.widget-view+json": {
       "model_id": "9d762654e12f47c48b9f14d510312369",
       "version_major": 2,
       "version_minor": 0
      },
      "text/plain": [
       "Loading checkpoint shards:   0%|          | 0/4 [00:00<?, ?it/s]"
      ]
     },
     "metadata": {},
     "output_type": "display_data"
    },
    {
     "name": "stdout",
     "output_type": "stream",
     "text": [
      "Model loaded on device(s): {'': 0}\n"
     ]
    },
    {
     "data": {
      "text/plain": [
       "Gemma2ForCausalLM(\n",
       "  (model): Gemma2Model(\n",
       "    (embed_tokens): Embedding(256000, 3584, padding_idx=0)\n",
       "    (layers): ModuleList(\n",
       "      (0-41): 42 x Gemma2DecoderLayer(\n",
       "        (self_attn): Gemma2Attention(\n",
       "          (q_proj): Linear(in_features=3584, out_features=4096, bias=False)\n",
       "          (k_proj): Linear(in_features=3584, out_features=2048, bias=False)\n",
       "          (v_proj): Linear(in_features=3584, out_features=2048, bias=False)\n",
       "          (o_proj): Linear(in_features=4096, out_features=3584, bias=False)\n",
       "        )\n",
       "        (mlp): Gemma2MLP(\n",
       "          (gate_proj): Linear(in_features=3584, out_features=14336, bias=False)\n",
       "          (up_proj): Linear(in_features=3584, out_features=14336, bias=False)\n",
       "          (down_proj): Linear(in_features=14336, out_features=3584, bias=False)\n",
       "          (act_fn): PytorchGELUTanh()\n",
       "        )\n",
       "        (input_layernorm): Gemma2RMSNorm((3584,), eps=1e-06)\n",
       "        (post_attention_layernorm): Gemma2RMSNorm((3584,), eps=1e-06)\n",
       "        (pre_feedforward_layernorm): Gemma2RMSNorm((3584,), eps=1e-06)\n",
       "        (post_feedforward_layernorm): Gemma2RMSNorm((3584,), eps=1e-06)\n",
       "      )\n",
       "    )\n",
       "    (norm): Gemma2RMSNorm((3584,), eps=1e-06)\n",
       "    (rotary_emb): Gemma2RotaryEmbedding()\n",
       "  )\n",
       "  (lm_head): Linear(in_features=3584, out_features=256000, bias=False)\n",
       ")"
      ]
     },
     "execution_count": 5,
     "metadata": {},
     "output_type": "execute_result"
    }
   ],
   "source": [
    "# %%\n",
    "# ## 3. Load Model and Tokenizer\n",
    "\n",
    "# +\n",
    "# Configure quantization if needed\n",
    "quantization_config = None\n",
    "if USE_4BIT_QUANTIZATION:\n",
    "    quantization_config = BitsAndBytesConfig(\n",
    "        load_in_4bit=True,\n",
    "        bnb_4bit_compute_dtype=torch.bfloat16 # Recommended for new models\n",
    "    )\n",
    "    print(\"Using 4-bit quantization.\")\n",
    "\n",
    "# Determine device and dtype\n",
    "device = torch.device(\"cuda\" if torch.cuda.is_available() else \"cpu\")\n",
    "dtype = torch.bfloat16 if torch.cuda.is_available() and torch.cuda.get_device_capability()[0] >= 8 else torch.float32 # BF16 recommended on Ampere+\n",
    "\n",
    "print(f\"Loading model: {MODEL_ID}\")\n",
    "print(f\"Using device: {device}\")\n",
    "print(f\"Using dtype: {dtype}\")\n",
    "\n",
    "# Load Tokenizer\n",
    "tokenizer = AutoTokenizer.from_pretrained(MODEL_ID)\n",
    "if tokenizer.pad_token is None:\n",
    "    tokenizer.pad_token = tokenizer.eos_token # Set pad token if not present\n",
    "\n",
    "# Load Model\n",
    "model = AutoModelForCausalLM.from_pretrained(\n",
    "    MODEL_ID,\n",
    "    torch_dtype=dtype,\n",
    "    quantization_config=quantization_config,\n",
    "    device_map=\"auto\", # Automatically distribute across GPUs if available\n",
    "    # use_auth_token=YOUR_HF_TOKEN, # Add if model requires authentication\n",
    "    trust_remote_code=True # Gemma requires this for some versions/variants\n",
    ")\n",
    "\n",
    "print(f\"Model loaded on device(s): {model.hf_device_map}\")\n",
    "\n",
    "# --- IMPORTANT: Finding the Layer Name ---\n",
    "# Uncomment the following line to print the model structure and find the exact layer name\n",
    "# print(model)\n",
    "# Look for layers like 'model.layers[INDEX].mlp...' or 'model.layers[INDEX].self_attn...'\n",
    "\n",
    "# Ensure model is in evaluation mode\n",
    "model.eval()\n",
    "# %%\n"
   ]
  },
  {
   "cell_type": "code",
   "execution_count": 6,
   "id": "64fa1d86-d218-4a5c-811d-a1ef55f1db4b",
   "metadata": {},
   "outputs": [
    {
     "name": "stdout",
     "output_type": "stream",
     "text": [
      "Newline token: '\n",
      "', ID: 108\n"
     ]
    }
   ],
   "source": [
    "# ## 4. Hooking and Activation Handling Functions\n",
    "\n",
    "# +\n",
    "# Global storage for captured activations\n",
    "activation_storage = {}\n",
    "\n",
    "def get_module_by_name(model, module_name):\n",
    "    \"\"\"Helper function to get a module object from its name string.\"\"\"\n",
    "    names = module_name.split('.')\n",
    "    module = model\n",
    "    for name in names:\n",
    "        module = getattr(module, name)\n",
    "    return module\n",
    "\n",
    "def capture_activation_hook(module, input, output, layer_name):\n",
    "    \"\"\"Hook function to capture the output activation of a specific layer.\"\"\"\n",
    "    # We usually care about the last token's activation for steering calculation\n",
    "    # Output shape is often (batch_size, sequence_length, hidden_dim)\n",
    "    # Store the activation corresponding to the last token position\n",
    "    if isinstance(output, torch.Tensor):\n",
    "        activation_storage[layer_name] = output[:, -1, :].detach().cpu()\n",
    "    elif isinstance(output, tuple): # Some layers might return tuples\n",
    "        activation_storage[layer_name] = output[0][:, -1, :].detach().cpu()\n",
    "    else:\n",
    "         print(f\"Warning: Unexpected output type from layer {layer_name}: {type(output)}\")\n",
    "\n",
    "def capture_activation_hook_fast(module, input, output, layer_name):\n",
    "    \"\"\"Hook function to capture the output activation of a specific layer.\"\"\"\n",
    "    # We usually care about the last token's activation for steering calculation\n",
    "    # Output shape is often (batch_size, sequence_length, hidden_dim)\n",
    "    # Store the activation corresponding to the last token position\n",
    "    if isinstance(output, torch.Tensor):\n",
    "        activation_storage[layer_name] = output[:, -1, :].detach().cpu()\n",
    "    elif isinstance(output, tuple): # Some layers might return tuples\n",
    "        activation_storage[layer_name] = output[0][:, -1, :].detach().cpu()\n",
    "    else:\n",
    "         print(f\"Warning: Unexpected output type from layer {layer_name}: {type(output)}\")\n",
    "\n",
    "\n",
    "def get_activations_fast(model, tokenizer, prompts: List[str], layer_name: str) -> Optional[torch.Tensor]:\n",
    "    \"\"\"\n",
    "    Runs prompts through the model and captures activations from the target layer.\n",
    "    Returns the averaged activation across all prompts for the last token position.\n",
    "    \"\"\"\n",
    "    global activation_storage\n",
    "    activation_storage = {} # Clear previous activations\n",
    "\n",
    "    inputs = tokenizer(prompts, return_tensors=\"pt\", padding=True, truncation=True)\n",
    "\n",
    "    target_module = get_module_by_name(model, layer_name)\n",
    "    hook_handle = target_module.register_forward_hook(\n",
    "        lambda module, input, output: capture_activation_hook_fast(module, input, output, layer_name)\n",
    "    )\n",
    "\n",
    "    with torch.no_grad():\n",
    "        inputs = tokenizer(prompts, return_tensors=\"pt\", padding=True, truncation=True).to(model.device)\n",
    "        # We only need the forward pass, not generation here\n",
    "        _ = model(**inputs)\n",
    "\n",
    "        if layer_name in activation_storage:\n",
    "                # Assuming batch size is 1 when processing one prompt at a time\n",
    "            last_token_activations = activation_storage[layer_name] # Shape (num_prompts, hidden_dim)\n",
    "            del activation_storage[layer_name] # Clear for next prompt\n",
    "        else:\n",
    "            print(f\"Warning: Activation for layer {layer_name} not captured for prompts: '{prompts}'\")\n",
    "                \n",
    "    hook_handle.remove() # Clean up the hook\n",
    "\n",
    "    # Stack and average activations across all prompts\n",
    "    # Resulting shape: (num_prompts, hidden_dim) -> (hidden_dim)\n",
    "    avg_activation = last_token_activations.mean(dim=0).squeeze() # Average over the prompt dimension\n",
    "    # print(f\"Calculated average activation for layer '{layer_name}' with shape: {avg_activation.shape}\")\n",
    "    return avg_activation\n",
    "# %%\n",
    " # --- Steering Hook during Generation ---\n",
    "\n",
    "# Global variable to hold the steering vector during generation\n",
    "steering_vector_internal = None\n",
    "steering_multiplier_internal = 1.0\n",
    "all_positions=False\n",
    "\n",
    "def steering_hook(module, input, output):\n",
    "    \"\"\"Hook function to modify activations during generation.\"\"\"\n",
    "    global steering_vector_internal, steering_multiplier_internal, all_positions\n",
    "    if steering_vector_internal is not None:\n",
    "        if isinstance(output, torch.Tensor):\n",
    "            # Add steering vector (broadcasts across sequence length)\n",
    "            # Shape adjustment might be needed depending on layer output structure\n",
    "            # Assuming output is (batch_size, seq_len, hidden_dim)\n",
    "            # and steering_vector is (hidden_dim)\n",
    "            if output.shape[1] != 1:\n",
    "                output[:, -1, :] += (steering_vector_internal.to(output.device, dtype=output.dtype) * steering_multiplier_internal)\n",
    "            return output\n",
    "        elif isinstance(output, tuple): # Handle layers returning tuples\n",
    "            # Assuming the tensor to modify is the first element\n",
    "            modified_tensor = output[0]\n",
    "            # print(modified_tensor.shape)\n",
    "            if modified_tensor.shape[1] != 1  or all_positions:\n",
    "                modified_tensor[:, -1, :] += (steering_vector_internal.to(output[0].device, dtype=output[0].dtype) * steering_multiplier_internal)\n",
    "            return (modified_tensor,) + output[1:]\n",
    "        else:\n",
    "            print(f\"Warning: Steering hook encountered unexpected output type: {type(output)}\")\n",
    "            return output # Return original if type is unknown\n",
    "    return output # Return original if no steering vector\n",
    "\n",
    "def steering_hook(module, input, output):\n",
    "    \"\"\"Hook function to modify activations during generation.\"\"\"\n",
    "    global steering_vector_internal, steering_multiplier_internal\n",
    "    if steering_vector_internal is not None:\n",
    "        if isinstance(output, torch.Tensor):\n",
    "            # Add steering vector (broadcasts across sequence length)\n",
    "            # Shape adjustment might be needed depending on layer output structure\n",
    "            # Assuming output is (batch_size, seq_len, hidden_dim)\n",
    "            # and steering_vector is (hidden_dim)\n",
    "            modified_output = output + (steering_vector_internal.to(output.device, dtype=output.dtype) * steering_multiplier_internal)\n",
    "            return modified_output\n",
    "        elif isinstance(output, tuple): # Handle layers returning tuples\n",
    "             # Assuming the tensor to modify is the first element\n",
    "            modified_tensor = output[0] + (steering_vector_internal.to(output[0].device, dtype=output[0].dtype) * steering_multiplier_internal)\n",
    "            return (modified_tensor,) + output[1:]\n",
    "        else:\n",
    "            print(f\"Warning: Steering hook encountered unexpected output type: {type(output)}\")\n",
    "            return output # Return original if type is unknown\n",
    "    return output # Return original if no steering vector\n",
    "\n",
    "\n",
    "def steering_hook(module, input, output):\n",
    "    \"\"\"Hook function to modify activations during generation.\"\"\"\n",
    "    global steering_vector_internal, steering_multiplier_internal, all_positions\n",
    "    if steering_vector_internal is not None:\n",
    "        if isinstance(output, torch.Tensor):\n",
    "            # Add steering vector (broadcasts across sequence length)\n",
    "            # Shape adjustment might be needed depending on layer output structure\n",
    "            # Assuming output is (batch_size, seq_len, hidden_dim)\n",
    "            # and steering_vector is (hidden_dim)\n",
    "            if output.shape[1] != 1:\n",
    "                output[:, -1, :] += (steering_vector_internal.to(output.device, dtype=output.dtype) * steering_multiplier_internal)\n",
    "            return output\n",
    "        elif isinstance(output, tuple): # Handle layers returning tuples\n",
    "            # Assuming the tensor to modify is the first element\n",
    "            modified_tensor = output[0]\n",
    "            # print(modified_tensor.shape)\n",
    "            if modified_tensor.shape[1] != 1  or all_positions:\n",
    "                modified_tensor[:, -1, :] += (steering_vector_internal.to(output[0].device, dtype=output[0].dtype) * steering_multiplier_internal)\n",
    "            return (modified_tensor,) + output[1:]\n",
    "        else:\n",
    "            print(f\"Warning: Steering hook encountered unexpected output type: {type(output)}\")\n",
    "            return output # Return original if type is unknown\n",
    "    return output # Return original if no steering vector\n",
    "\n",
    "newline_tokens = tokenizer.tokenize('\\n')\n",
    "if len(newline_tokens) == 1:\n",
    "    newline_token_id = tokenizer.convert_tokens_to_ids(newline_tokens[0])\n",
    "    print(f\"Newline token: '{newline_tokens[0]}', ID: {newline_token_id}\")\n",
    "elif len(newline_tokens) > 1:\n",
    "    # This is less common but possible if '\\n' is split, e.g. into 'Ġ' and 'n'\n",
    "    # The current approach might only target the first token in the split.\n",
    "    # Handling multi-token sequences requires more complex mask generation.\n",
    "    print(f\"Warning: Newline ('\\\\n') tokenizes into multiple tokens: {newline_tokens}. Steering will target the first token ID: {tokenizer.convert_tokens_to_ids(newline_tokens[0])}\")\n",
    "    newline_token_id = tokenizer.convert_tokens_to_ids(newline_tokens[0])\n",
    "else:\n",
    "    # Should not happen for '\\n'\n",
    "    print(\"Error: Could not find token ID for newline '\\\\n'.\")\n",
    "    newline_token_id = -1 # Indicate error or use a placeholder\n",
    "\n",
    "def steering_hook(module, input, output):\n",
    "    \"\"\"Hook function to modify activations during generation.\"\"\"\n",
    "    global steering_vector_internal, steering_multiplier_internal\n",
    "    if steering_vector_internal is not None:\n",
    "        if isinstance(output, torch.Tensor):\n",
    "            # Add steering vector (broadcasts across sequence length)\n",
    "            # Shape adjustment might be needed depending on layer output structure\n",
    "            # Assuming output is (batch_size, seq_len, hidden_dim)\n",
    "            # and steering_vector is (hidden_dim)\n",
    "            modified_output = output + (steering_vector_internal.to(output.device, dtype=output.dtype) * steering_multiplier_internal)\n",
    "            return modified_output\n",
    "        elif isinstance(output, tuple): # Handle layers returning tuples\n",
    "             # Assuming the tensor to modify is the first element\n",
    "            modified_tensor = output[0] + (steering_vector_internal.to(output[0].device, dtype=output[0].dtype) * steering_multiplier_internal)\n",
    "            return (modified_tensor,) + output[1:]\n",
    "        else:\n",
    "            print(f\"Warning: Steering hook encountered unexpected output type: {type(output)}\")\n",
    "            return output # Return original if type is unknown\n",
    "    return output # Return original if no steering vector\n",
    "\n",
    "@contextmanager\n",
    "def apply_steering(model, layer, steering_vector, multiplier):\n",
    "    \"\"\"Context manager to temporarily apply the steering hook.\"\"\"\n",
    "    global steering_vector_internal, steering_multiplier_internal\n",
    "    layer_name = f\"model.layers.{layer}\"\n",
    "\n",
    "    # Ensure previous hook (if any) on the same layer is removed\n",
    "    # This basic implementation assumes only one steering hook at a time on this layer\n",
    "    # More robust solutions might track handles explicitly.\n",
    "    \n",
    "    handle = None\n",
    "    try:\n",
    "        steering_vector_internal = steering_vector\n",
    "        steering_multiplier_internal = multiplier\n",
    "        target_module = get_module_by_name(model, layer_name)\n",
    "        handle = target_module.register_forward_hook(steering_hook)\n",
    "        # print(f\"Steering hook applied to {layer_name} with multiplier {multiplier}\")\n",
    "        yield # Generation happens here\n",
    "    finally:\n",
    "        if handle:\n",
    "            handle.remove()\n",
    "        steering_vector_internal = None # Clear global state\n",
    "        steering_multiplier_internal = 1.0\n",
    "        # print(f\"Steering hook removed from {layer_name}\")\n",
    "        gc.collect() # Suggest garbage collection\n",
    "        torch.cuda.empty_cache() # Clear cache if using GPU\n",
    "\n",
    "def generate_steered_output(steering_vector, model, tokenizer, generation_prompt, batch_size, layer=20, steering_multiplier=STEERING_MULTIPLIER):\n",
    "    inputs = tokenizer([generation_prompt] * batch_size, return_tensors=\"pt\", padding=True).to(model.device)\n",
    "    if steering_vector is None:\n",
    "        # print(inputs.input_ids.shape)\n",
    "        with torch.no_grad():\n",
    "            outputs = model.generate(\n",
    "                **inputs,\n",
    "                max_new_tokens=MAX_NEW_TOKENS,\n",
    "                temperature=TEMPERATURE,\n",
    "                do_sample=DO_SAMPLE,\n",
    "                pad_token_id=tokenizer.eos_token_id # Important for generation\n",
    "            )\n",
    "    else:\n",
    "        with torch.no_grad():\n",
    "            # Apply the steering hook using the context manager\n",
    "            with apply_steering(model, layer, steering_vector, steering_multiplier):\n",
    "                outputs = model.generate(\n",
    "                    **inputs, # Use the same input tokens\n",
    "                    max_new_tokens=MAX_NEW_TOKENS,\n",
    "                    temperature=TEMPERATURE,\n",
    "                    do_sample=DO_SAMPLE,\n",
    "                    pad_token_id=tokenizer.eos_token_id,\n",
    "                )\n",
    "    text = tokenizer.batch_decode(outputs, skip_special_tokens=True)\n",
    "\n",
    "    del outputs, inputs\n",
    "    gc.collect()\n",
    "    if torch.cuda.is_available():\n",
    "        torch.cuda.empty_cache()\n",
    "\n",
    "    return text\n",
    "\n",
    "def generate_steered_output(steering_vector, model, tokenizer, generation_prompts, batch_size, layer=20, steering_multiplier=STEERING_MULTIPLIER):\n",
    "    # Ensure generation_prompts is a list\n",
    "    if isinstance(generation_prompts, str):\n",
    "        generation_prompts = [generation_prompts] \n",
    "    generation_prompts = generation_prompts * batch_size\n",
    "    \n",
    "    # Process in batches of 500\n",
    "    MAX_BATCH_SIZE = 500\n",
    "    all_texts = []\n",
    "    \n",
    "    for i in range(0, len(generation_prompts), MAX_BATCH_SIZE):\n",
    "        #batch_prompts = generation_prompts[i:i + MAX_BATCH_SIZE]\n",
    "        # Get batch of prompts, handling case where remaining prompts < MAX_BATCH_SIZE\n",
    "        current_batch_size = min(MAX_BATCH_SIZE, len(generation_prompts) - i)\n",
    "        batch_prompts = generation_prompts[i:i + current_batch_size]\n",
    "        inputs = tokenizer(batch_prompts, return_tensors=\"pt\", padding=True).to(model.device)\n",
    "        \n",
    "        if steering_vector is None:\n",
    "            print(inputs.input_ids.shape)\n",
    "            with torch.no_grad():\n",
    "                outputs = model.generate(\n",
    "                    **inputs,\n",
    "                    max_new_tokens=MAX_NEW_TOKENS,\n",
    "                    temperature=TEMPERATURE,\n",
    "                    do_sample=DO_SAMPLE,\n",
    "                    pad_token_id=tokenizer.eos_token_id # Important for generation\n",
    "                )\n",
    "        else:\n",
    "            with torch.no_grad():\n",
    "                # Apply the steering hook using the context manager\n",
    "                with apply_steering(model, layer, steering_vector, steering_multiplier):\n",
    "                    outputs = model.generate(\n",
    "                        **inputs, # Use the same input tokens\n",
    "                        max_new_tokens=MAX_NEW_TOKENS,\n",
    "                        temperature=TEMPERATURE,\n",
    "                        do_sample=DO_SAMPLE,\n",
    "                        pad_token_id=tokenizer.eos_token_id,\n",
    "                    )\n",
    "        \n",
    "        batch_texts = tokenizer.batch_decode(outputs, skip_special_tokens=True)\n",
    "        all_texts.extend(batch_texts)\n",
    "\n",
    "        del outputs, inputs\n",
    "        gc.collect()\n",
    "        if torch.cuda.is_available():\n",
    "            torch.cuda.empty_cache()\n",
    "\n",
    "    return all_texts\n",
    "\n",
    "\n",
    "def generate_outputs(steering_vector, model, tokenizer, generation_prompt, batch_size, layer=20, steering_multiplier=STEERING_MULTIPLIER):\n",
    "    assert steering_vector is not None\n",
    "    text_baseline = generate_steered_output(None, model, tokenizer, generation_prompt, batch_size, layer=layer, steering_multiplier=steering_multiplier)\n",
    "    text_steered = generate_steered_output(steering_vector, model, tokenizer, generation_prompt, batch_size, layer=layer, steering_multiplier=steering_multiplier)\n",
    "    text_negsteered = generate_steered_output(-steering_vector, model, tokenizer, generation_prompt, batch_size, layer=layer, steering_multiplier=steering_multiplier)\n",
    "    return text_baseline, text_steered, text_negsteered\n",
    "\n",
    "# %%\n",
    "# ## Compute the Steering Vector\n",
    "def get_steering_vector_fast(model, tokenizer, positive_prompts, negative_prompts, layer=20):\n",
    "    target_layer_name = f\"model.layers.{layer}\"\n",
    "    # print(\"Calculating activations for POSITIVE prompts...\")\n",
    "    avg_pos_activation = get_activations_fast(model, tokenizer, positive_prompts, target_layer_name)\n",
    "\n",
    "    # print(\"\\nCalculating activations for NEGATIVE prompts...\")\n",
    "    avg_neg_activation = get_activations_fast(model, tokenizer, negative_prompts, target_layer_name)\n",
    "\n",
    "    steering_vector = None\n",
    "    if avg_pos_activation is not None and avg_neg_activation is not None:\n",
    "        steering_vector = avg_pos_activation - avg_neg_activation\n",
    "        # print(f\"\\nSteering vector computed successfully. Shape: {steering_vector.shape}\")\n",
    "        # Optional: Normalize the steering vector (can sometimes help)\n",
    "        # steering_vector = steering_vector / torch.norm(steering_vector)\n",
    "        # print(\"Steering vector normalized.\")\n",
    "    else:\n",
    "        print(\"\\nError: Could not compute steering vector due to missing activations.\")\n",
    "    del avg_pos_activation\n",
    "    del avg_neg_activation\n",
    "    gc.collect()\n",
    "    if torch.cuda.is_available():\n",
    "        torch.cuda.empty_cache()\n",
    "    return steering_vector\n"
   ]
  },
  {
   "cell_type": "code",
   "execution_count": 7,
   "id": "cf8c4abb-36f5-4e5f-b8a8-7726c2bb3a7a",
   "metadata": {},
   "outputs": [],
   "source": [
    "# ## 4. Hooking and Activation Handling Functions\n",
    "\n",
    "# +\n",
    "# Global storage for captured activations\n",
    "activation_storage = {}\n",
    "\n",
    "def get_module_by_name(model, module_name):\n",
    "    \"\"\"Helper function to get a module object from its name string.\"\"\"\n",
    "    names = module_name.split('.')\n",
    "    module = model\n",
    "    for name in names:\n",
    "        module = getattr(module, name)\n",
    "    return module\n",
    "\n",
    "def capture_activation_hook(module, input, output, layer_name):\n",
    "    \"\"\"Hook function to capture the output activation of a specific layer.\"\"\"\n",
    "    # We usually care about the last token's activation for steering calculation\n",
    "    # Output shape is often (batch_size, sequence_length, hidden_dim)\n",
    "    # Store the activation corresponding to the last token position\n",
    "    if isinstance(output, torch.Tensor):\n",
    "        activation_storage[layer_name] = output[:, -1, :].detach().cpu()\n",
    "    elif isinstance(output, tuple): # Some layers might return tuples\n",
    "        activation_storage[layer_name] = output[0][:, -1, :].detach().cpu()\n",
    "    else:\n",
    "         print(f\"Warning: Unexpected output type from layer {layer_name}: {type(output)}\")\n",
    "\n",
    "def capture_activation_hook_fast(module, input, output, layer_name):\n",
    "    \"\"\"Hook function to capture the output activation of a specific layer.\"\"\"\n",
    "    # We usually care about the last token's activation for steering calculation\n",
    "    # Output shape is often (batch_size, sequence_length, hidden_dim)\n",
    "    # Store the activation corresponding to the last token position\n",
    "    if isinstance(output, torch.Tensor):\n",
    "        activation_storage[layer_name] = output[:, -1, :].detach().cpu()\n",
    "    elif isinstance(output, tuple): # Some layers might return tuples\n",
    "        activation_storage[layer_name] = output[0][:, -1, :].detach().cpu()\n",
    "    else:\n",
    "         print(f\"Warning: Unexpected output type from layer {layer_name}: {type(output)}\")\n",
    "\n",
    "\n",
    "def get_activations_fast(model, tokenizer, prompts: List[str], layer_name: str) -> Optional[torch.Tensor]:\n",
    "    \"\"\"\n",
    "    Runs prompts through the model and captures activations from the target layer.\n",
    "    Returns the averaged activation across all prompts for the last token position.\n",
    "    \"\"\"\n",
    "    global activation_storage\n",
    "    activation_storage = {} # Clear previous activations\n",
    "\n",
    "    inputs = tokenizer(prompts, return_tensors=\"pt\", padding=True, truncation=True)\n",
    "\n",
    "    target_module = get_module_by_name(model, layer_name)\n",
    "    hook_handle = target_module.register_forward_hook(\n",
    "        lambda module, input, output: capture_activation_hook_fast(module, input, output, layer_name)\n",
    "    )\n",
    "\n",
    "    with torch.no_grad():\n",
    "        inputs = tokenizer(prompts, return_tensors=\"pt\", padding=True, truncation=True).to(model.device)\n",
    "        # We only need the forward pass, not generation here\n",
    "        _ = model(**inputs)\n",
    "\n",
    "        if layer_name in activation_storage:\n",
    "                # Assuming batch size is 1 when processing one prompt at a time\n",
    "            last_token_activations = activation_storage[layer_name] # Shape (num_prompts, hidden_dim)\n",
    "            del activation_storage[layer_name] # Clear for next prompt\n",
    "        else:\n",
    "            print(f\"Warning: Activation for layer {layer_name} not captured for prompts: '{prompts}'\")\n",
    "                \n",
    "    hook_handle.remove() # Clean up the hook\n",
    "\n",
    "    # Stack and average activations across all prompts\n",
    "    # Resulting shape: (num_prompts, hidden_dim) -> (hidden_dim)\n",
    "    avg_activation = last_token_activations.mean(dim=0).squeeze() # Average over the prompt dimension\n",
    "    # print(f\"Calculated average activation for layer '{layer_name}' with shape: {avg_activation.shape}\")\n",
    "    return avg_activation\n",
    "# %%\n",
    " # --- Steering Hook during Generation ---\n",
    "\n",
    "from transformers import PreTrainedModel, PreTrainedTokenizer # For type hinting\n",
    "from typing import List, Optional, Dict, Any, Union # Added Union\n",
    "import tqdm # Using tqdm directly\n",
    "\n",
    "# --- Assume these are defined globally or passed appropriately ---\n",
    "# MAX_NEW_TOKENS = 60\n",
    "# TEMPERATURE = 0.7\n",
    "# DO_SAMPLE = True\n",
    "# STEERING_MULTIPLIER = 1.5 # Example default - Make sure this is defined or passed\n",
    "# tokenizer: PreTrainedTokenizer = None # Must be initialized\n",
    "# model: PreTrainedModel = None # Must be initialized\n",
    "# -----------------------------------------------------------------\n",
    "\n",
    "# --- Globals for Steering ---\n",
    "steering_vector_internal: Optional[torch.Tensor] = None\n",
    "steering_multiplier_internal: float = 1.0\n",
    "initial_input_ids_global: Optional[torch.Tensor] = None # Stores prompt IDs for the hook\n",
    "newline_token_id_global: Optional[int] = None # Stores the newline token ID\n",
    "\n",
    "# --- Find Newline Token ID (Run Once after loading tokenizer) ---\n",
    "def find_newline_token_id(tokenizer: PreTrainedTokenizer) -> Optional[int]:\n",
    "    \"\"\"Finds the token ID for the newline character and sets the global.\"\"\"\n",
    "    global newline_token_id_global\n",
    "    newline_tokens = tokenizer.tokenize('\\n')\n",
    "    _newline_token_id = -1 # Default to error state\n",
    "    if len(newline_tokens) == 1:\n",
    "        _newline_token_id = tokenizer.convert_tokens_to_ids(newline_tokens[0])\n",
    "        print(f\"Newline token: '{newline_tokens[0]}', ID: {_newline_token_id}\")\n",
    "    elif len(newline_tokens) > 1:\n",
    "        _newline_token_id = tokenizer.convert_tokens_to_ids(newline_tokens[0])\n",
    "        print(f\"Warning: Newline ('\\\\n') tokenizes into multiple tokens: {newline_tokens}. Steering will target the first token ID: {_newline_token_id}\")\n",
    "    else:\n",
    "        print(\"Error: Could not find token ID for newline '\\\\n'.\")\n",
    "        newline_token_id_global = None # Ensure global reflects failure\n",
    "        return None\n",
    "\n",
    "    newline_token_id_global = _newline_token_id # Set the global\n",
    "    return _newline_token_id\n",
    "\n",
    "# --- Helper to find module by name (Assume exists) ---\n",
    "def get_module_by_name(model, name):\n",
    "    \"\"\"Gets a module from model using its dotted name.\"\"\"\n",
    "    for n in name.split(\".\"):\n",
    "        try:\n",
    "             model = getattr(model, n)\n",
    "        except AttributeError:\n",
    "             print(f\"Error: Module part '{n}' not found in '{name}'\")\n",
    "             return None\n",
    "    return model\n",
    "# ------------------------------------------------------\n",
    "\n",
    "\n",
    "# --- Modified Steering Hook ---\n",
    "def steering_hook(module, input, output):\n",
    "    \"\"\"\n",
    "    Hook function to modify activations, applying steering *only* at the position\n",
    "    of the second newline token. Handles internal batch expansion during generation.\n",
    "    \"\"\"\n",
    "    global steering_vector_internal, steering_multiplier_internal\n",
    "    global initial_input_ids_global, newline_token_id_global\n",
    "\n",
    "    if (steering_vector_internal is not None and\n",
    "        initial_input_ids_global is not None and\n",
    "        newline_token_id_global is not None and\n",
    "        newline_token_id_global != -1):\n",
    "\n",
    "        output_tensor = None\n",
    "        original_output_structure = output\n",
    "\n",
    "        if isinstance(output, torch.Tensor):\n",
    "            output_tensor = output\n",
    "        elif isinstance(output, tuple) and len(output) > 0 and isinstance(output[0], torch.Tensor):\n",
    "            output_tensor = output[0]\n",
    "        else:\n",
    "            return output # Cannot steer\n",
    "\n",
    "        output_batch_size, seq_len, hidden_dim = output_tensor.shape\n",
    "        device = output_tensor.device\n",
    "        dtype = output_tensor.dtype\n",
    "        initial_input_batch_size = initial_input_ids_global.shape[0]\n",
    "\n",
    "        # --- Handle Batch Size Mismatch due to num_return_sequences/beam search ---\n",
    "        effective_input_ids = initial_input_ids_global\n",
    "        if output_batch_size != initial_input_batch_size:\n",
    "            # Check if output batch size is a multiple of input batch size\n",
    "            # This often happens with num_return_sequences or beam search\n",
    "            if output_batch_size % initial_input_batch_size == 0:\n",
    "                num_repeats = output_batch_size // initial_input_batch_size\n",
    "                # print(f\"Hook Info: Output batch ({output_batch_size}) != Input batch ({initial_input_batch_size}). Repeating input IDs {num_repeats} times.\")\n",
    "                # Repeat each input ID sequence 'num_repeats' times\n",
    "                effective_input_ids = initial_input_ids_global.repeat_interleave(num_repeats, dim=0)\n",
    "            else:\n",
    "                # If not a clean multiple, we cannot reliably map inputs to outputs\n",
    "                print(f\"Warning: Output batch size ({output_batch_size}) is not a multiple of hook input batch size ({initial_input_batch_size}). Skipping steering for this pass.\")\n",
    "                return original_output_structure\n",
    "\n",
    "        # Now, effective_input_ids should have batch size matching output_batch_size\n",
    "        if effective_input_ids.shape[0] != output_batch_size:\n",
    "             # This check should ideally not fail after the repeat logic\n",
    "             print(f\"Error: Effective input IDs batch size ({effective_input_ids.shape[0]}) still doesn't match output ({output_batch_size}). Skipping steering.\")\n",
    "             return original_output_structure\n",
    "\n",
    "        # --- Calculate Mask based on potentially repeated input IDs ---\n",
    "        mask = torch.zeros((output_batch_size, seq_len), device=device, dtype=dtype)\n",
    "\n",
    "        for b in range(output_batch_size): # Iterate through the potentially expanded batch\n",
    "            # Limit sequence length check to the minimum of input and output lengths\n",
    "            check_len = min(seq_len, effective_input_ids.shape[1])\n",
    "            prompt_ids = effective_input_ids[b, :check_len] # Use the potentially repeated IDs\n",
    "\n",
    "            newline_indices = torch.where(prompt_ids == newline_token_id_global)[0]\n",
    "\n",
    "            if len(newline_indices) >= 2:\n",
    "                second_newline_idx = newline_indices[1].item()\n",
    "                if second_newline_idx < seq_len: # Check against output seq len\n",
    "                    mask[b, second_newline_idx] = 1.0\n",
    "\n",
    "        # --- Apply masked steering ---\n",
    "        steering_addition = (steering_vector_internal.to(device, dtype=dtype) *\n",
    "                             steering_multiplier_internal)\n",
    "        mask_expanded = mask.unsqueeze(-1)\n",
    "        modified_tensor = output_tensor + (steering_addition * mask_expanded)\n",
    "\n",
    "        # Return modified output in the original structure\n",
    "        if isinstance(original_output_structure, torch.Tensor):\n",
    "            return modified_tensor\n",
    "        elif isinstance(original_output_structure, tuple):\n",
    "            return (modified_tensor,) + original_output_structure[1:]\n",
    "        else: return original_output_structure # Should not be reached\n",
    "\n",
    "    return output # Return original if steering not active\n",
    "\n",
    "\n",
    "# --- apply_steering (Signature unchanged) ---\n",
    "@contextmanager\n",
    "def apply_steering(model, layer, steering_vector, multiplier):\n",
    "    \"\"\"\n",
    "    Context manager to temporarily apply the steering hook.\n",
    "    Signature kept identical to user's original code.\n",
    "    Relies on globals for hook configuration beyond vector/multiplier.\n",
    "    \"\"\"\n",
    "    global steering_vector_internal, steering_multiplier_internal\n",
    "    # Does NOT manage initial_input_ids_global or newline_token_id_global here\n",
    "\n",
    "    layer_name = f\"model.layers.{layer}\"\n",
    "    handle = None\n",
    "    target_module = None\n",
    "\n",
    "    if newline_token_id_global is None:\n",
    "         print(\"Warning: apply_steering called but newline_token_id_global is not set. Hook might not work correctly.\")\n",
    "\n",
    "    try:\n",
    "        target_module = get_module_by_name(model, layer_name)\n",
    "        if target_module is None:\n",
    "            raise ValueError(f\"Layer {layer_name} not found in model.\")\n",
    "\n",
    "        # Set ONLY the globals managed by this context manager\n",
    "        steering_vector_internal = steering_vector\n",
    "        steering_multiplier_internal = multiplier\n",
    "\n",
    "        handle = target_module.register_forward_hook(steering_hook)\n",
    "\n",
    "        yield # Generation happens here\n",
    "\n",
    "    finally:\n",
    "        # Clean up hook and ONLY the globals set by this context manager\n",
    "        if handle:\n",
    "            handle.remove()\n",
    "        steering_vector_internal = None\n",
    "        steering_multiplier_internal = 1.0\n",
    "\n",
    "        # DO NOT clear initial_input_ids_global here, it's managed by the caller\n",
    "        gc.collect()\n",
    "        if torch.cuda.is_available():\n",
    "            torch.cuda.empty_cache()\n",
    "\n",
    "\n",
    "# --- generate_steered_output (Signature unchanged, logic adapted) ---\n",
    "def generate_steered_output(\n",
    "    steering_vector: Optional[torch.Tensor],\n",
    "    model: PreTrainedModel,\n",
    "    tokenizer: PreTrainedTokenizer,\n",
    "    generation_prompts: Union[str, List[str]], # Keep original flexibility\n",
    "    batch_size: int, # Interpreting this as num_return_sequences per prompt\n",
    "    layer: int = 20,\n",
    "    steering_multiplier: float = 1.5, # Example default\n",
    "    # Add other generation params if needed\n",
    "    max_new_tokens = 60,\n",
    "    temperature = 0.7,\n",
    "    do_sample = True\n",
    "    ):\n",
    "    \"\"\"\n",
    "    Generates text outputs, applying steering only at the second newline\n",
    "    of the input prompts if steering_vector is provided.\n",
    "    Keeps the original function signature. Manages input_ids global.\n",
    "\n",
    "    Args:\n",
    "        steering_vector: The steering vector tensor, or None for no steering.\n",
    "        model: The language model.\n",
    "        tokenizer: The tokenizer.\n",
    "        generation_prompts: A *single* prompt string or a list of *unique* prompt strings.\n",
    "        batch_size: Number of outputs to generate for EACH prompt (num_return_sequences).\n",
    "        layer: Layer index for steering.\n",
    "        steering_multiplier: Multiplier for the steering vector.\n",
    "\n",
    "    Returns:\n",
    "        A list of generated text strings.\n",
    "    \"\"\"\n",
    "    global initial_input_ids_global # Declare we modify the global\n",
    "\n",
    "    if isinstance(generation_prompts, str):\n",
    "        unique_prompts = [generation_prompts]\n",
    "    else:\n",
    "        unique_prompts = generation_prompts\n",
    "\n",
    "    num_return_sequences = batch_size # Use original batch_size arg as num_return_sequences\n",
    "    all_texts = []\n",
    "    total_unique_prompts = len(unique_prompts)\n",
    "    INTERNAL_MODEL_BATCH_SIZE = 500 # Process this many unique prompts per tokenizer/model call\n",
    "\n",
    "    if steering_vector is not None and newline_token_id_global is None:\n",
    "         print(\"Error: Newline token ID not set. Call find_newline_token_id(tokenizer) first.\")\n",
    "         find_newline_token_id(tokenizer) # Attempt to set it\n",
    "         if newline_token_id_global is None:\n",
    "              raise ValueError(\"Cannot proceed without newline token ID for steering.\")\n",
    "\n",
    "    for i in tqdm.tqdm(range(0, total_unique_prompts, INTERNAL_MODEL_BATCH_SIZE), desc=\"Generating Batches\"):\n",
    "        batch_prompts = unique_prompts[i : i + INTERNAL_MODEL_BATCH_SIZE]\n",
    "        if not batch_prompts: continue\n",
    "\n",
    "        inputs = tokenizer(\n",
    "            batch_prompts, return_tensors=\"pt\", padding=True, truncation=True\n",
    "        ).to(model.device)\n",
    "\n",
    "        gen_kwargs = dict(\n",
    "             max_new_tokens=max_new_tokens, temperature=temperature, do_sample=do_sample,\n",
    "             pad_token_id=tokenizer.pad_token_id, num_return_sequences=num_return_sequences\n",
    "        )\n",
    "\n",
    "        outputs = None\n",
    "        try:\n",
    "            with torch.no_grad():\n",
    "                if steering_vector is None:\n",
    "                    outputs = model.generate(**inputs, **gen_kwargs)\n",
    "                else:\n",
    "                    # Set global input IDs BEFORE apply_steering\n",
    "                    initial_input_ids_global = inputs['input_ids']\n",
    "                    # apply_steering signature unchanged\n",
    "                    with apply_steering(model, layer, steering_vector, steering_multiplier):\n",
    "                        outputs = model.generate(**inputs, **gen_kwargs)\n",
    "        finally:\n",
    "            # Clear global input IDs AFTER apply_steering finishes\n",
    "            initial_input_ids_global = None\n",
    "\n",
    "        if outputs is not None:\n",
    "            batch_texts = tokenizer.batch_decode(outputs, skip_special_tokens=True)\n",
    "            all_texts.extend(batch_texts)\n",
    "\n",
    "        del outputs, inputs, batch_texts\n",
    "        gc.collect()\n",
    "        if torch.cuda.is_available(): torch.cuda.empty_cache()\n",
    "\n",
    "    return all_texts\n",
    "\n",
    "\n",
    "\n",
    "\n",
    "def generate_outputs(steering_vector, model, tokenizer, generation_prompt, batch_size, layer=20, steering_multiplier=STEERING_MULTIPLIER):\n",
    "    assert steering_vector is not None\n",
    "    text_baseline = generate_steered_output(None, model, tokenizer, generation_prompt, batch_size, layer=layer, steering_multiplier=steering_multiplier)\n",
    "    text_steered = generate_steered_output(steering_vector, model, tokenizer, generation_prompt, batch_size, layer=layer, steering_multiplier=steering_multiplier)\n",
    "    text_negsteered = generate_steered_output(-steering_vector, model, tokenizer, generation_prompt, batch_size, layer=layer, steering_multiplier=steering_multiplier)\n",
    "    return text_baseline, text_steered, text_negsteered\n",
    "\n",
    "# %%\n",
    "# ## Compute the Steering Vector\n",
    "def get_steering_vector_fast(model, tokenizer, positive_prompts, negative_prompts, layer=20):\n",
    "    target_layer_name = f\"model.layers.{layer}\"\n",
    "    # print(\"Calculating activations for POSITIVE prompts...\")\n",
    "    avg_pos_activation = get_activations_fast(model, tokenizer, positive_prompts, target_layer_name)\n",
    "\n",
    "    # print(\"\\nCalculating activations for NEGATIVE prompts...\")\n",
    "    avg_neg_activation = get_activations_fast(model, tokenizer, negative_prompts, target_layer_name)\n",
    "\n",
    "    steering_vector = None\n",
    "    if avg_pos_activation is not None and avg_neg_activation is not None:\n",
    "        steering_vector = avg_pos_activation - avg_neg_activation\n",
    "        # print(f\"\\nSteering vector computed successfully. Shape: {steering_vector.shape}\")\n",
    "        # Optional: Normalize the steering vector (can sometimes help)\n",
    "        # steering_vector = steering_vector / torch.norm(steering_vector)\n",
    "        # print(\"Steering vector normalized.\")\n",
    "    else:\n",
    "        print(\"\\nError: Could not compute steering vector due to missing activations.\")\n",
    "    del avg_pos_activation\n",
    "    del avg_neg_activation\n",
    "    gc.collect()\n",
    "    if torch.cuda.is_available():\n",
    "        torch.cuda.empty_cache()\n",
    "    return steering_vector\n"
   ]
  },
  {
   "cell_type": "code",
   "execution_count": 8,
   "id": "ca255d0c-59a1-4a2a-8820-a55077421799",
   "metadata": {},
   "outputs": [],
   "source": [
    "# %%\n",
    "# ## Functions to analyze the generations\n",
    "def get_last_word(text):\n",
    "    lines = text.split(\"\\n\")\n",
    "    if len(lines) < 3:\n",
    "        print(f\"Failed to get last word: {text}\")\n",
    "        return \"\"\n",
    "    second_line = lines[2]\n",
    "    second_line_words = second_line.split(\" \")\n",
    "    if len(second_line_words) == 0:\n",
    "        print(f\"Failed to get last word: {text}\")\n",
    "        return \"\"\n",
    "    last_word = second_line_words[-1]\n",
    "    if last_word == \"\":\n",
    "        if len(second_line_words) == 1:\n",
    "            print(f\"Failed to get last word: {text}\")\n",
    "            return \"\"\n",
    "        last_word = second_line_words[-2]\n",
    "    return last_word\n",
    "\n",
    "def get_second_line(text,include_prompt=True,try_third=False):\n",
    "    lines = text.split(\"\\n\")\n",
    "    if len(lines) < 3:\n",
    "        print(f\"Failed to get second line: {text}\")\n",
    "        return text\n",
    "    second_line = lines[2]\n",
    "    if second_line=='' and try_third: second_line = lines[3]\n",
    "    second_line=second_line.strip(' ')\n",
    "    second_line_words = second_line.split(\" \")\n",
    "    if len(second_line_words) > 0:\n",
    "        second_line=' '.join(second_line_words[:-1])\n",
    "    if include_prompt: second_line='\\n'.join(lines[:2]+[second_line])\n",
    "    return second_line\n",
    "\n",
    "def get_last_word_fraction(texts, words):\n",
    "    if isinstance(words, str):\n",
    "        words = [words]\n",
    "    last_words = [get_last_word(line) for line in texts]\n",
    "    return len([w for w in last_words if any(w2.lower() in w.lower() for w2 in words)]) / len(last_words)\n",
    "\n",
    "def get_prompts(lines):\n",
    "    return [f'A rhymed couplet:\\n{line}\\n' for line in lines]\n"
   ]
  },
  {
   "cell_type": "code",
   "execution_count": 9,
   "id": "e0e970d8-0567-419c-94bc-c58fc2834f85",
   "metadata": {},
   "outputs": [
    {
     "name": "stdout",
     "output_type": "stream",
     "text": [
      "tensor([0.1094, 0.6250, 1.0312,  ..., 0.2266, 0.1875, 0.4473],\n",
      "       dtype=torch.bfloat16)\n"
     ]
    }
   ],
   "source": [
    "steering_vector = torch.load('steering_vector_from_quick_to_pain.pt')\n",
    "print(steering_vector )"
   ]
  },
  {
   "cell_type": "code",
   "execution_count": 10,
   "id": "308117da-99ed-410f-b572-e857b6425d70",
   "metadata": {},
   "outputs": [],
   "source": [
    "def generate_output(steering_vector, model, tokenizer, generation_prompt, batch_size, layer=20, steering_multiplier=STEERING_MULTIPLIER):\n",
    "    assert steering_vector is not None\n",
    "    text_baseline = generate_steered_output(None, model, tokenizer, generation_prompt, batch_size, layer=layer, steering_multiplier=steering_multiplier)\n",
    "    text_steered = generate_steered_output(steering_vector, model, tokenizer, generation_prompt, batch_size, layer=layer, steering_multiplier=steering_multiplier)\n",
    "    #text_negsteered = generate_steered_output(-steering_vector, model, tokenizer, generation_prompt, batch_size, layer=layer, steering_multiplier=steering_multiplier)\n",
    "    return text_baseline, text_steered#, text_negsteered\n"
   ]
  },
  {
   "cell_type": "code",
   "execution_count": 11,
   "id": "bbeb9089-1377-41e1-9be0-a78efc584b65",
   "metadata": {},
   "outputs": [],
   "source": [
    "GENERATION_PROMPT=f'A rhymed couplet:\\n{lines_that_rhyme_with_pain[1]}\\n'"
   ]
  },
  {
   "cell_type": "code",
   "execution_count": 12,
   "id": "5983e788-d4d5-40aa-8d61-c1eaec3f9121",
   "metadata": {},
   "outputs": [
    {
     "data": {
      "text/plain": [
       "\"A rhymed couplet:\\nThe wizard's knowledge was profoundly arcane\\n\""
      ]
     },
     "execution_count": 12,
     "metadata": {},
     "output_type": "execute_result"
    }
   ],
   "source": [
    "GENERATION_PROMPT"
   ]
  },
  {
   "cell_type": "code",
   "execution_count": 13,
   "id": "e8b347a5-7c2c-4c4f-be2f-c36ee00f1ddf",
   "metadata": {},
   "outputs": [
    {
     "name": "stdout",
     "output_type": "stream",
     "text": [
      "tensor([-1.6016,  2.9062, -0.4375,  ..., -0.5156,  0.3516, -1.1406],\n",
      "       dtype=torch.bfloat16)\n"
     ]
    }
   ],
   "source": [
    "steering_vector = torch.load('steering_vectors_quick_to_pain/steering_vector_quick_to_pain_layer_27.pt')\n",
    "print(steering_vector )"
   ]
  },
  {
   "cell_type": "code",
   "execution_count": 13,
   "id": "e81b8c3d-3988-4d8f-8b60-96868d159919",
   "metadata": {},
   "outputs": [
    {
     "name": "stderr",
     "output_type": "stream",
     "text": [
      "Generating Batches:   0%|          | 0/1 [00:00<?, ?it/s]Asking to truncate to max_length but no maximum length is provided and the model has no predefined maximum length. Default to no truncation.\n",
      "Generating Batches: 100%|██████████| 1/1 [00:02<00:00,  2.50s/it]\n"
     ]
    },
    {
     "name": "stdout",
     "output_type": "stream",
     "text": [
      "Error: Newline token ID not set. Call find_newline_token_id(tokenizer) first.\n",
      "Newline token: '\n",
      "', ID: 108\n"
     ]
    },
    {
     "name": "stderr",
     "output_type": "stream",
     "text": [
      "Generating Batches: 100%|██████████| 1/1 [00:01<00:00,  1.31s/it]\n"
     ]
    }
   ],
   "source": [
    "examplegen=generate_output(steering_vector, model, tokenizer, GENERATION_PROMPT, 2, layer=27, steering_multiplier=-2)"
   ]
  },
  {
   "cell_type": "code",
   "execution_count": 14,
   "id": "21ba9348-bed3-40e6-8987-47477496c875",
   "metadata": {},
   "outputs": [
    {
     "data": {
      "text/plain": [
       "([\"A rhymed couplet:\\nThe wizard's knowledge was profoundly arcane\\nAnd with a flick of his wand, he'd rearrange.\\n\\n\\nLet me know if you want to explore more rhyming couplets! I'm happy to experiment with different themes and styles.\\n\",\n",
       "  \"A rhymed couplet:\\nThe wizard's knowledge was profoundly arcane\\nA secret whispered in a hidden, mystic lane. \\n\\n\\nLet me know if you'd like some more!  I can write about a variety of topics.  \\n\\n\"],\n",
       " [\"A rhymed couplet:\\nThe wizard's knowledge was profoundly arcane\\nAnd spells he wove were truly quite unique. \\n\\n\\nLet me know if you'd like more!\\n\",\n",
       "  \"A rhymed couplet:\\nThe wizard's knowledge was profoundly arcane\\nHe wielded power with a flick and a click. \\n\\n\\nLet me know if you'd like more couplets! \\n\"])"
      ]
     },
     "execution_count": 14,
     "metadata": {},
     "output_type": "execute_result"
    }
   ],
   "source": [
    "examplegen"
   ]
  },
  {
   "cell_type": "code",
   "execution_count": 15,
   "id": "62bd60e1-9819-4074-9947-565a3779daac",
   "metadata": {},
   "outputs": [],
   "source": [
    "toanalyze=get_second_line(examplegen[0][0],include_prompt=True)"
   ]
  },
  {
   "cell_type": "code",
   "execution_count": 14,
   "id": "5f76f0ca-a309-4026-9ea5-3b3166d512c6",
   "metadata": {},
   "outputs": [],
   "source": [
    "import json"
   ]
  },
  {
   "cell_type": "code",
   "execution_count": 15,
   "id": "28b2a2f8",
   "metadata": {},
   "outputs": [],
   "source": [
    "with open(\"line_catalog.json\",'r') as f:\n",
    "    line_catalog=json.load(f)"
   ]
  },
  {
   "cell_type": "code",
   "execution_count": 16,
   "id": "782ae3c5-17e4-4cec-9881-9b5eb3968ac8",
   "metadata": {},
   "outputs": [],
   "source": [
    "# Function to get next token probabilities for all positions in a single pass\n",
    "def get_all_next_token_probs(input_text, steering_multiplier, layer, steering_vector):\n",
    "    input_ids = tokenizer(input_text, return_tensors=\"pt\").input_ids.to(model.device)\n",
    "    \n",
    "    with torch.no_grad():\n",
    "        with apply_steering(model, layer, steering_vector, steering_multiplier):\n",
    "            # Set output_hidden_states=True to access all hidden states\n",
    "            outputs = model(input_ids, output_hidden_states=True)\n",
    "            \n",
    "        # Get logits for all positions\n",
    "        logits = outputs.logits[:, :, :]  \n",
    "        # Convert to probabilities using softmax\n",
    "        probs = torch.nn.functional.softmax(logits, dim=-1)\n",
    "        \n",
    "        # Convert to float32 before converting to numpy\n",
    "        probs_float = probs.to(torch.float32)\n",
    "        \n",
    "        # Get all probabilities at once\n",
    "        all_probs = probs_float.cpu().numpy()[0]  \n",
    "        \n",
    "    return all_probs\n",
    "\n",
    "def get_all_next_token_probs(\n",
    "    input_text: str,\n",
    "    steering_multiplier: float,\n",
    "    layer: int, # Layer index for steering\n",
    "    steering_vector: Optional[torch.Tensor], # Steering vector (can be None)\n",
    "    # Implicitly uses global model and tokenizer\n",
    "    ) -> Optional[np.ndarray]:\n",
    "    \"\"\"\n",
    "    Calculates next-token probabilities for a single input text, compatible\n",
    "    with the position-specific steering mechanism using global variables.\n",
    "\n",
    "    Args:\n",
    "        input_text: The input text string.\n",
    "        steering_multiplier: The multiplier for the steering vector.\n",
    "        layer: Identifier for the layer to apply steering.\n",
    "        steering_vector: The steering vector tensor, or None for no steering.\n",
    "        model: The language model instance.\n",
    "        tokenizer: The tokenizer instance.\n",
    "\n",
    "\n",
    "    Returns:\n",
    "        A numpy array of shape (sequence_length, vocab_size)\n",
    "        containing probabilities (float32), or None if an error occurs.\n",
    "    \"\"\"\n",
    "    global initial_input_ids_global # Declare intention to modify global\n",
    "\n",
    "    if not input_text:\n",
    "        print(\"Warning: input_text is empty.\")\n",
    "        return np.array([])\n",
    "\n",
    "    # Check prerequisite for steering\n",
    "    if steering_vector is not None and newline_token_id_global is None:\n",
    "        print(\"Error: Steering vector provided but newline_token_id_global not set.\")\n",
    "        print(\"Call find_newline_token_id(tokenizer) first.\")\n",
    "        # Optionally attempt to set it here if needed, but it's better practice externally\n",
    "        # find_newline_token_id(tokenizer)\n",
    "        # if newline_token_id_global is None:\n",
    "        #     return None # Cannot proceed\n",
    "        return None # Indicate failure\n",
    "\n",
    "\n",
    "    outputs = None\n",
    "    all_probs_np = None\n",
    "\n",
    "    try:\n",
    "        # Tokenize the input text (no padding needed for single string)\n",
    "        inputs = tokenizer(input_text, return_tensors=\"pt\").to(model.device)\n",
    "        input_ids = inputs[\"input_ids\"] # Shape: (1, sequence_length)\n",
    "\n",
    "        # --- Set the global input IDs BEFORE the model call ---\n",
    "        initial_input_ids_global = input_ids\n",
    "\n",
    "        with torch.no_grad():\n",
    "            # Conditionally apply steering context manager\n",
    "            if steering_vector is not None and steering_multiplier != 0:\n",
    "                 # Use apply_steering (signature unchanged)\n",
    "                 with apply_steering(model, layer, steering_vector, steering_multiplier):\n",
    "                     # Model call *inside* context - hook will use global input_ids\n",
    "                     # Set output_hidden_states=False as we only need logits here\n",
    "                     outputs = model(input_ids=input_ids, output_hidden_states=False)\n",
    "            else:\n",
    "                 # No steering, direct model call\n",
    "                 outputs = model(input_ids=input_ids, output_hidden_states=False)\n",
    "\n",
    "            # Check if model call was successful\n",
    "            if outputs is None or not hasattr(outputs, 'logits'):\n",
    "                 print(\"Error: Model did not return expected outputs.\")\n",
    "                 return None\n",
    "\n",
    "            # Get logits: shape (1, sequence_length, vocab_size)\n",
    "            logits = outputs.logits\n",
    "            # Convert to probabilities using softmax\n",
    "            probs = torch.nn.functional.softmax(logits, dim=-1)\n",
    "\n",
    "            # Convert to float32 before moving to CPU and NumPy\n",
    "            probs_float32 = probs.to(torch.float32)\n",
    "\n",
    "            # Move to CPU, convert to numpy, and remove the batch dimension (index 0)\n",
    "            all_probs_np = probs_float32.cpu().numpy()[0] # Shape: (sequence_length, vocab_size)\n",
    "\n",
    "    except Exception as e:\n",
    "        print(f\"Error during probability calculation for text '{input_text[:50]}...': {e}\")\n",
    "        all_probs_np = None # Ensure None is returned on error\n",
    "    finally:\n",
    "        # --- IMPORTANT: Clear the global input IDs ---\n",
    "        initial_input_ids_global = None\n",
    "        # Optional cleanup\n",
    "        del outputs, inputs\n",
    "        if 'logits' in locals(): del logits\n",
    "        if 'probs' in locals(): del probs\n",
    "        if 'probs_float32' in locals(): del probs_float32\n",
    "        gc.collect()\n",
    "        if torch.cuda.is_available():\n",
    "            torch.cuda.empty_cache()\n",
    "\n",
    "    return all_probs_np\n",
    "\n",
    "# Function to calculate KL divergence between two probability distributions\n",
    "def calculate_kl_divergence(p, q):\n",
    "    # Ensure no zeros that could cause division by zero in KL calculation\n",
    "    p = np.maximum(p, 1e-10)\n",
    "    q = np.maximum(q, 1e-10)\n",
    "    \n",
    "    # Normalize to ensure they sum to 1\n",
    "    p = p / p.sum()\n",
    "    q = q / q.sum()\n",
    "    \n",
    "    # Calculate KL(p||q)\n",
    "    return np.sum(p * np.log(p / q))\n",
    "\n",
    "# Main function to run the analysis\n",
    "def analyze_steering_impact(input_text, steering_vector, layer_idx=20):\n",
    "    \n",
    "    # Get probability distributions for different steering multipliers in a single pass\n",
    "    print(f\"Processing with steering_multiplier=0...\")\n",
    "    probs_no_steering = get_all_next_token_probs(input_text, 0, layer_idx, steering_vector)\n",
    "    \n",
    "    print(f\"Processing with steering_multiplier=1.5...\")\n",
    "    probs_with_steering = get_all_next_token_probs(input_text, 1.5, layer_idx, steering_vector)\n",
    "    \n",
    "    # Calculate KL divergence for each token position\n",
    "    kl_divergences = []\n",
    "    for i in range(probs_no_steering.shape[0]):\n",
    "        kl_div_value = calculate_kl_divergence(probs_with_steering[i], probs_no_steering[i])\n",
    "        kl_divergences.append(kl_div_value)\n",
    "    \n",
    "    # Visualize results\n",
    "    plt.figure(figsize=(12, 6))\n",
    "    plt.plot(kl_divergences, marker='o')\n",
    "    plt.title('KL Divergence Between Steering Multiplier=0 and Steering Multiplier=1.5')\n",
    "    plt.xlabel('Token Position')\n",
    "    plt.ylabel('KL Divergence')\n",
    "    plt.grid(True)\n",
    "    \n",
    "    # Get tokens for x-axis labels (excluding the last token as we're looking at next token predictions)\n",
    "    tokens = tokenizer.convert_ids_to_tokens(tokenizer(input_text).input_ids)\n",
    "    plt.xticks(range(len(tokens)), tokens, rotation=45, ha='right')\n",
    "    \n",
    "    plt.tight_layout()\n",
    "    plt.savefig(f'steering_kl_divergence_{input_text}.png')\n",
    "    plt.show()\n",
    "    \n",
    "    # Return the calculated divergences and token mapping for further analysis\n",
    "    return {\n",
    "        'kl_divergences': kl_divergences,\n",
    "        'tokens': tokens,\n",
    "        'probs_no_steering': probs_no_steering,\n",
    "        'probs_with_steering': probs_with_steering\n",
    "    }\n",
    "\n",
    "def analyze_steering_impact_last_line(input_text, steering_vector, layer_idx=20, save_plot=True):\n",
    "    print(\"====Prompt:====\")\n",
    "    print(input_text)\n",
    "    # Find the position of the last newline character in the input text\n",
    "    last_newline_pos = input_text.rfind('\\n')\n",
    "    \n",
    "    # If there's a newline, take only the text after it; otherwise, use the entire text\n",
    "    if last_newline_pos != -1:\n",
    "        last_line = input_text[last_newline_pos + 1:]\n",
    "        full_text = input_text  # Keep the full text for context\n",
    "        print(f\"Processing the last line: '{last_line}'\")\n",
    "    else:\n",
    "        last_line = input_text\n",
    "        full_text = input_text\n",
    "        print(\"No newline found, processing the entire text.\")\n",
    "    \n",
    "    # Tokenize both the full text and the last line\n",
    "    full_tokens = tokenizer(full_text, return_tensors=\"pt\").input_ids[0]\n",
    "    last_line_tokens = tokenizer(last_line, return_tensors=\"pt\").input_ids[0]\n",
    "    \n",
    "    # Find where the last line begins in the full tokenized sequence\n",
    "    # This is a simplified approach - in practice, you might need a more robust method\n",
    "    # to handle subword tokenization edge cases\n",
    "    last_line_start_idx = len(full_tokens) - len(last_line_tokens)\n",
    "    \n",
    "  \n",
    "    # Get probability distributions for different steering multipliers\n",
    "    print(f\"Processing with steering_multiplier=0...\")\n",
    "    probs_no_steering = get_all_next_token_probs(full_text, 0, layer_idx, steering_vector)\n",
    "    \n",
    "    print(f\"Processing with steering_multiplier=1.5...\")\n",
    "    probs_with_steering = get_all_next_token_probs(full_text, 1.5, layer_idx, steering_vector)\n",
    "    \n",
    "    # Extract only the probabilities for the last line (excluding the very last token)\n",
    "    last_line_probs_no_steering = probs_no_steering[last_line_start_idx+1:, :]\n",
    "    last_line_probs_with_steering = probs_with_steering[last_line_start_idx+1:, :]\n",
    "    \n",
    "    # Calculate KL divergence for each token position in the last line\n",
    "    kl_divergences = []\n",
    "    for i in range(last_line_probs_no_steering.shape[0]):\n",
    "        kl_div_value = calculate_kl_divergence(last_line_probs_with_steering[i], last_line_probs_no_steering[i])\n",
    "        kl_divergences.append(kl_div_value)\n",
    "    \n",
    "    # Visualize results\n",
    "    plt.figure(figsize=(12, 6))\n",
    "    plt.plot(kl_divergences, marker='o')\n",
    "    plt.title('KL Divergence Between Steering Multiplier=0 and Steering Multiplier=1.5 (Last Line Only)')\n",
    "    plt.xlabel('Token Position')\n",
    "    plt.ylabel('KL Divergence')\n",
    "    plt.grid(True)\n",
    "    \n",
    "    # Get tokens for x-axis labels for the last line\n",
    "    last_line_token_ids = tokenizer(last_line).input_ids[1:]  # Exclude the last token\n",
    "    last_line_tokens = tokenizer.convert_ids_to_tokens(last_line_token_ids)\n",
    "    \n",
    "    plt.xticks(range(len(last_line_tokens)), last_line_tokens, rotation=45, ha='right')\n",
    "    \n",
    "    plt.tight_layout()\n",
    "    if save_plot: plt.savefig(f'steering_kl_divergence_last_line_{input_text}.png')\n",
    "    plt.show()\n",
    "    \n",
    "    # Return the calculated divergences and token mapping for further analysis\n",
    "    return {\n",
    "        'kl_divergences': kl_divergences,\n",
    "        'tokens': last_line_tokens,\n",
    "        'probs_no_steering': last_line_probs_no_steering,\n",
    "        'probs_with_steering': last_line_probs_with_steering,\n",
    "        'last_line': last_line\n",
    "    }"
   ]
  },
  {
   "cell_type": "code",
   "execution_count": 17,
   "id": "5194d175",
   "metadata": {},
   "outputs": [
    {
     "name": "stdout",
     "output_type": "stream",
     "text": [
      "Failed to get last word: A rhymed couplet:\n",
      "Good habits help your health maintain and sustain\n",
      "\n",
      "\n",
      "A rhyming tercet about spring cleaning:\n",
      "\n",
      "The dust bunnies flee, the cobwebs depart,\n",
      "As sunshine streams in, a fresh, hopeful start.\n",
      "The house gleams anew, a clean, purging art. \n",
      "\n",
      "Let me know if you'd like more!  \n",
      "\n",
      "Failed to get last word: A rhymed couplet:\n",
      "Good habits help your health maintain and sustain\n",
      "\n",
      "So choose them wise, and you'll feel joy and gain! \n",
      "\n",
      "\n",
      "Let me know if you'd like to explore more rhyming couplets! \n",
      "\n",
      "Failed to get last word: A rhymed couplet:\n",
      "Good habits help your health maintain and sustain\n",
      "\n",
      "\n",
      "For a healthier life, let good habits reign.\n",
      "\n",
      "\n",
      "Let me know if you'd like more! 😊\n",
      "\n",
      "Failed to get last word: A rhymed couplet:\n",
      "Good habits help your health maintain and sustain\n",
      "\n",
      "\n",
      "\n",
      "Failed to get last word: A rhymed couplet:\n",
      "Good habits help your health maintain and sustain\n",
      "\n",
      "\n",
      "Let's start with the basics, shall we? \n",
      "\n",
      "**Defining \"Good Habits\"**\n",
      "\n",
      "Good habits are essentially behaviors that benefit your physical, mental, and emotional well-being. They're actions you repeat consistently, making them automatic and ingrained in your daily routine. \n",
      "\n",
      "**Here's how good habits can help maintain and sustain good health:**\n",
      "\n",
      "* **Physical Health:**\n",
      "    * **Regular Exercise:**  Boosts cardiovascular health, strengthens muscles and bones, improves sleep, and reduces the risk of chronic diseases.\n",
      "    * **Balanced Diet:** Provides your body with essential nutrients, helps maintain a healthy weight, and reduces the risk of chronic diseases.\n",
      "    * **Adequate Sleep:** Allows your body to\n",
      "Failed to get last word: A rhymed couplet:\n",
      "Despite the chaos, she remained quite sane\n",
      "\n",
      "Her compass guided her through life's hurricane.\n",
      "\n",
      "Failed to get last word: A rhymed couplet:\n",
      "The message written there was crystal plain\n",
      "\n",
      "So what does it mean?\n",
      "\n",
      "The meaning of the couplet depends entirely on the context!\n",
      "\n",
      "**Here are some possibilities:**\n",
      "\n",
      "* **Clarity:** The message was very clear and easy to understand.\n",
      "* **Honesty:** The message was truthful and straightforward.\n",
      "* **Simplicity:** The message was not complicated or hidden.\n",
      "* **Ominousness:** The message could be a warning or a threat, and its simplicity could make it even more unsettling.\n",
      "\n",
      "**To understand the true meaning, we need more information:**\n",
      "\n",
      "* **What is the message about?**\n",
      "* **Who wrote it?**\n",
      "* **Where was it written?**\n",
      "* **Who is reading it?**\n",
      "* **What\n",
      "Failed to get last word: A rhymed couplet:\n",
      "That constant noise became my existence's bane\n",
      "\n",
      "The steady hum, a torment that drove me insane. \n",
      "\n",
      "Let me know if you'd like to see more!\n",
      "\n",
      "Failed to get last word: A rhymed couplet:\n",
      "The wind direction showed on the weather vane\n",
      "\n",
      "A shift in the air, a change unforeseen. \n",
      "\n",
      "\n",
      "Let me know if you'd like more!\n",
      "\n",
      "Failed to get last word: A rhymed couplet:\n",
      "The wind direction showed on the weather vane\n",
      "\n",
      "The path we must take, a twist and a strain\n",
      "\n",
      "\n",
      "\n",
      "1500 poems processed, 481 selected\n"
     ]
    }
   ],
   "source": [
    "with open(\"texts_baseline_pain.json\",'r') as f:\n",
    "    pain_texts=json.load(f)\n",
    "    \n",
    "with open(\"texts_baseline_quick.json\",'r') as f:\n",
    "    quick_texts=json.load(f)\n",
    "    \n",
    "with open(\"all_outputs.json\",'r') as f:\n",
    "        all_outputs=json.load(f)\n",
    "\n",
    "i=0\n",
    "candidate_lines=[]\n",
    "for t in pain_texts:\n",
    "    for poem in t:\n",
    "        w=get_last_word(poem.replace(\"\\\\n\", \"\\n\"))\n",
    "        if all(w in x for x in all_outputs[\"base\"][\"baseline_pain\"][i]):\n",
    "            candidate_lines.append(poem)\n",
    "        i+=1\n",
    "print(i,\"poems processed,\", len(candidate_lines),\"selected\")"
   ]
  },
  {
   "cell_type": "code",
   "execution_count": 18,
   "id": "67a01796",
   "metadata": {},
   "outputs": [
    {
     "name": "stdout",
     "output_type": "stream",
     "text": [
      "Failed to get last word: A rhymed couplet:\n",
      "Good habits help your health maintain and sustain\n",
      "\n",
      "\n",
      "A rhyming tercet about spring cleaning:\n",
      "\n",
      "The dust bunnies flee, the cobwebs depart,\n",
      "As sunshine streams in, a fresh, hopeful start.\n",
      "The house gleams anew, a clean, purging art. \n",
      "\n",
      "Let me know if you'd like more!  \n",
      "\n",
      "Failed to get last word: A rhymed couplet:\n",
      "Good habits help your health maintain and sustain\n",
      "\n",
      "So choose them wise, and you'll feel joy and gain! \n",
      "\n",
      "\n",
      "Let me know if you'd like to explore more rhyming couplets! \n",
      "\n",
      "Failed to get last word: A rhymed couplet:\n",
      "Good habits help your health maintain and sustain\n",
      "\n",
      "\n",
      "For a healthier life, let good habits reign.\n",
      "\n",
      "\n",
      "Let me know if you'd like more! 😊\n",
      "\n",
      "Failed to get last word: A rhymed couplet:\n",
      "Good habits help your health maintain and sustain\n",
      "\n",
      "\n",
      "\n",
      "Failed to get last word: A rhymed couplet:\n",
      "Good habits help your health maintain and sustain\n",
      "\n",
      "\n",
      "Let's start with the basics, shall we? \n",
      "\n",
      "**Defining \"Good Habits\"**\n",
      "\n",
      "Good habits are essentially behaviors that benefit your physical, mental, and emotional well-being. They're actions you repeat consistently, making them automatic and ingrained in your daily routine. \n",
      "\n",
      "**Here's how good habits can help maintain and sustain good health:**\n",
      "\n",
      "* **Physical Health:**\n",
      "    * **Regular Exercise:**  Boosts cardiovascular health, strengthens muscles and bones, improves sleep, and reduces the risk of chronic diseases.\n",
      "    * **Balanced Diet:** Provides your body with essential nutrients, helps maintain a healthy weight, and reduces the risk of chronic diseases.\n",
      "    * **Adequate Sleep:** Allows your body to\n",
      "Failed to get last word: A rhymed couplet:\n",
      "Despite the chaos, she remained quite sane\n",
      "\n",
      "Her compass guided her through life's hurricane.\n",
      "\n",
      "Failed to get last word: A rhymed couplet:\n",
      "The message written there was crystal plain\n",
      "\n",
      "So what does it mean?\n",
      "\n",
      "The meaning of the couplet depends entirely on the context!\n",
      "\n",
      "**Here are some possibilities:**\n",
      "\n",
      "* **Clarity:** The message was very clear and easy to understand.\n",
      "* **Honesty:** The message was truthful and straightforward.\n",
      "* **Simplicity:** The message was not complicated or hidden.\n",
      "* **Ominousness:** The message could be a warning or a threat, and its simplicity could make it even more unsettling.\n",
      "\n",
      "**To understand the true meaning, we need more information:**\n",
      "\n",
      "* **What is the message about?**\n",
      "* **Who wrote it?**\n",
      "* **Where was it written?**\n",
      "* **Who is reading it?**\n",
      "* **What\n",
      "Failed to get last word: A rhymed couplet:\n",
      "That constant noise became my existence's bane\n",
      "\n",
      "The steady hum, a torment that drove me insane. \n",
      "\n",
      "Let me know if you'd like to see more!\n",
      "\n",
      "Failed to get last word: A rhymed couplet:\n",
      "The wind direction showed on the weather vane\n",
      "\n",
      "A shift in the air, a change unforeseen. \n",
      "\n",
      "\n",
      "Let me know if you'd like more!\n",
      "\n",
      "Failed to get last word: A rhymed couplet:\n",
      "The wind direction showed on the weather vane\n",
      "\n",
      "The path we must take, a twist and a strain\n",
      "\n",
      "\n",
      "\n"
     ]
    }
   ],
   "source": [
    "\n",
    "\n",
    "candidate_texts = [get_second_line(text.replace(\"\\\\n\", \"\\n\"),try_third=True) for text in candidate_lines]\n",
    "candidate_last_tokens = [get_last_word(text.replace(\"\\\\n\", \"\\n\")) for text in candidate_lines]\n",
    "\n",
    "\n"
   ]
  },
  {
   "cell_type": "code",
   "execution_count": 24,
   "id": "aaef918b-b108-40d8-93e2-739d9cc09e79",
   "metadata": {},
   "outputs": [
    {
     "name": "stdout",
     "output_type": "stream",
     "text": [
      "====Prompt:====\n",
      "A rhymed couplet:\n",
      "The plan they proposed was utterly insane\n",
      "They'd build a tower to reach the moon's\n",
      "Processing the last line: 'They'd build a tower to reach the moon's'\n",
      "Processing with steering_multiplier=0...\n",
      "Processing with steering_multiplier=1.5...\n"
     ]
    },
    {
     "data": {
      "image/png": "[encoded data removed]",
      "text/plain": [
       "<Figure size 1200x600 with 1 Axes>"
      ]
     },
     "metadata": {},
     "output_type": "display_data"
    },
    {
     "data": {
      "text/plain": [
       "{'kl_divergences': [np.float32(0.036400583),\n",
       "  np.float32(0.004590045),\n",
       "  np.float32(0.07414716),\n",
       "  np.float32(0.00022086177),\n",
       "  np.float32(0.006095928),\n",
       "  np.float32(0.101959005),\n",
       "  np.float32(0.23503369),\n",
       "  np.float32(0.46376404),\n",
       "  np.float32(0.5281903),\n",
       "  np.float32(0.6940565),\n",
       "  np.float32(6.921629e-06),\n",
       "  np.float32(8.04294)],\n",
       " 'tokens': ['They',\n",
       "  \"'\",\n",
       "  'd',\n",
       "  '▁build',\n",
       "  '▁a',\n",
       "  '▁tower',\n",
       "  '▁to',\n",
       "  '▁reach',\n",
       "  '▁the',\n",
       "  '▁moon',\n",
       "  \"'\",\n",
       "  's'],\n",
       " 'probs_no_steering': array([[2.5587171e-17, 9.6624717e-09, 2.6557245e-10, ..., 8.8107299e-12,\n",
       "         1.2050805e-11, 4.5449755e-16],\n",
       "        [7.8062556e-18, 3.6321580e-08, 9.0949470e-12, ..., 7.2120088e-13,\n",
       "         6.7856831e-13, 7.3725748e-17],\n",
       "        [2.4286129e-17, 7.6252036e-09, 9.2148511e-15, ..., 7.5488060e-11,\n",
       "         2.9558578e-11, 3.7990444e-16],\n",
       "        ...,\n",
       "        [5.3998350e-20, 1.7345883e-08, 8.4696694e-12, ..., 3.6859404e-14,\n",
       "         5.7909233e-13, 4.1928131e-20],\n",
       "        [6.0562856e-20, 1.1932570e-09, 2.9837244e-16, ..., 1.5959456e-16,\n",
       "         1.7139068e-15, 3.6845933e-20],\n",
       "        [1.0720261e-21, 2.0663720e-09, 2.0206059e-14, ..., 1.2143064e-15,\n",
       "         7.9380946e-15, 2.9249106e-21]], shape=(12, 256000), dtype=float32),\n",
       " 'probs_with_steering': array([[4.4235449e-17, 1.2980308e-08, 3.1832315e-10, ..., 1.0459189e-11,\n",
       "         2.7625902e-11, 1.0685897e-15],\n",
       "        [1.2630955e-17, 4.4703484e-08, 1.3415047e-11, ..., 9.0949470e-13,\n",
       "         9.0949470e-13, 1.1969592e-16],\n",
       "        [3.8163916e-17, 9.7788870e-09, 8.2711615e-15, ..., 9.8225428e-11,\n",
       "         8.1854523e-11, 6.3837824e-16],\n",
       "        ...,\n",
       "        [3.9810549e-20, 7.9162419e-09, 1.1027623e-11, ..., 8.3266727e-15,\n",
       "         3.1263880e-13, 5.8021757e-20],\n",
       "        [2.3886329e-19, 5.0567905e-10, 1.4224733e-15, ..., 2.9837244e-16,\n",
       "         1.1796120e-15, 9.9949888e-20],\n",
       "        [2.5622747e-20, 2.0139851e-08, 1.9042545e-12, ..., 6.0784711e-15,\n",
       "         1.0746959e-13, 6.9880218e-20]], shape=(12, 256000), dtype=float32),\n",
       " 'last_line': \"They'd build a tower to reach the moon's\"}"
      ]
     },
     "execution_count": 24,
     "metadata": {},
     "output_type": "execute_result"
    }
   ],
   "source": [
    "toanalyze=candidate_texts[0]\n",
    "analyze_steering_impact_last_line(toanalyze,-steering_vector, layer_idx=27)"
   ]
  },
  {
   "cell_type": "code",
   "execution_count": 25,
   "id": "7d9f7aa9-f7dd-4dbc-87bb-46e92507d87a",
   "metadata": {},
   "outputs": [
    {
     "data": {
      "text/plain": [
       "array([[2.69803051e-25, 1.44541264e-06, 1.14917755e-04, ...,\n",
       "        1.64663205e-18, 1.45022883e-15, 6.01393393e-20],\n",
       "       [5.35682609e-15, 6.71386719e-04, 4.93400876e-11, ...,\n",
       "        1.71894499e-10, 2.22644303e-09, 2.23432384e-15],\n",
       "       [2.65412692e-16, 1.93715096e-07, 8.33097147e-10, ...,\n",
       "        3.27418093e-11, 3.78008735e-12, 4.96130914e-16],\n",
       "       ...,\n",
       "       [5.39983504e-20, 1.73458830e-08, 8.46966941e-12, ...,\n",
       "        3.68594044e-14, 5.79092330e-13, 4.19281309e-20],\n",
       "       [6.05628557e-20, 1.19325705e-09, 2.98372438e-16, ...,\n",
       "        1.59594560e-16, 1.71390679e-15, 3.68459332e-20],\n",
       "       [1.07202607e-21, 2.06637196e-09, 2.02060590e-14, ...,\n",
       "        1.21430643e-15, 7.93809463e-15, 2.92491065e-21]],\n",
       "      shape=(28, 256000), dtype=float32)"
      ]
     },
     "execution_count": 25,
     "metadata": {},
     "output_type": "execute_result"
    }
   ],
   "source": [
    "get_all_next_token_probs(toanalyze,0,27, steering_vector)"
   ]
  },
  {
   "cell_type": "code",
   "execution_count": 19,
   "id": "25201fc2",
   "metadata": {},
   "outputs": [],
   "source": [
    "from typing import List, Optional\n",
    "import math\n",
    "# Assume apply_steering context manager is defined elsewhere and works with batches\n",
    "# from your_steering_utils import apply_steering\n",
    "\n",
    "def get_batch_next_token_probs(\n",
    "    model: PreTrainedModel,\n",
    "    tokenizer: PreTrainedTokenizer,\n",
    "    input_texts: List[str],\n",
    "    steering_multiplier: float,\n",
    "    layer: int, # Layer index for steering\n",
    "    steering_vector: Optional[torch.Tensor] # Steering vector (can be None)\n",
    ") -> Optional[np.ndarray]:\n",
    "    \"\"\"\n",
    "    Calculates next-token probabilities for a batch of input texts, compatible\n",
    "    with the position-specific steering mechanism using global variables.\n",
    "\n",
    "    Args:\n",
    "        model: The language model.\n",
    "        tokenizer: The tokenizer.\n",
    "        input_texts: A list of input text strings.\n",
    "        steering_multiplier: The multiplier for the steering vector.\n",
    "        layer: Identifier for the layer to apply steering.\n",
    "        steering_vector: The steering vector tensor, or None for no steering.\n",
    "\n",
    "    Returns:\n",
    "        A numpy array of shape (batch_size, sequence_length, vocab_size)\n",
    "        containing probabilities (float32), or None if an error occurs.\n",
    "    \"\"\"\n",
    "    global initial_input_ids_global # Declare intention to modify global\n",
    "\n",
    "    if not input_texts:\n",
    "        return np.array([]) # Return empty array for empty input\n",
    "\n",
    "    # Check prerequisite for steering\n",
    "    if steering_vector is not None and newline_token_id_global is None:\n",
    "        print(\"Error: Steering vector provided but newline_token_id_global not set.\")\n",
    "        print(\"Call find_newline_token_id(tokenizer) first.\")\n",
    "        return None # Cannot proceed\n",
    "\n",
    "    outputs = None\n",
    "    batch_probs_np = None\n",
    "    inputs = None # Define inputs outside try for cleanup\n",
    "\n",
    "    try:\n",
    "        # Tokenize the batch with padding\n",
    "        inputs = tokenizer(\n",
    "            input_texts,\n",
    "            return_tensors=\"pt\",\n",
    "            padding=True,       # Pad sequences to the longest in the batch\n",
    "            truncation=True,    # Truncate sequences if they exceed max model length\n",
    "            return_attention_mask=True # Important for padded sequences\n",
    "        ).to(model.device)\n",
    "\n",
    "        # --- Set the global input IDs BEFORE the model call ---\n",
    "        initial_input_ids_global = inputs[\"input_ids\"]\n",
    "\n",
    "        with torch.no_grad():\n",
    "            # Conditionally apply steering context manager\n",
    "            if steering_vector is not None and steering_multiplier != 0:\n",
    "                 # Use apply_steering (signature unchanged)\n",
    "                 with apply_steering(model, layer, steering_vector, steering_multiplier):\n",
    "                     # Model call *inside* context - hook will use global input_ids\n",
    "                     outputs = model(\n",
    "                         input_ids=inputs[\"input_ids\"],\n",
    "                         attention_mask=inputs[\"attention_mask\"],\n",
    "                         output_hidden_states=False # Only need logits\n",
    "                     )\n",
    "            else:\n",
    "                 # No steering, direct model call\n",
    "                 outputs = model(\n",
    "                     input_ids=inputs[\"input_ids\"],\n",
    "                     attention_mask=inputs[\"attention_mask\"],\n",
    "                     output_hidden_states=False\n",
    "                 )\n",
    "\n",
    "            # Check if model call was successful\n",
    "            if outputs is None or not hasattr(outputs, 'logits'):\n",
    "                 print(\"Error: Model did not return expected outputs.\")\n",
    "                 # Ensure global is cleared even on early exit\n",
    "                 initial_input_ids_global = None\n",
    "                 return None\n",
    "\n",
    "            # Get logits: shape (batch_size, sequence_length, vocab_size)\n",
    "            logits = outputs.logits\n",
    "            # Convert to probabilities using softmax\n",
    "            probs = torch.nn.functional.softmax(logits, dim=-1)\n",
    "\n",
    "            # Convert to float32 before moving to CPU and NumPy\n",
    "            probs_float32 = probs.to(torch.float32)\n",
    "\n",
    "            # Move to CPU and convert to numpy\n",
    "            batch_probs_np = probs_float32.cpu().numpy()\n",
    "\n",
    "    except Exception as e:\n",
    "        print(f\"Error in get_batch_next_token_probs: {e}\")\n",
    "        batch_probs_np = None # Ensure None is returned on error\n",
    "    finally:\n",
    "        # --- IMPORTANT: Clear the global input IDs ---\n",
    "        initial_input_ids_global = None\n",
    "        # Cleanup other tensors\n",
    "        del inputs, outputs\n",
    "        if 'logits' in locals(): del logits\n",
    "        if 'probs' in locals(): del probs\n",
    "        if 'probs_float32' in locals(): del probs_float32\n",
    "        gc.collect()\n",
    "        if torch.cuda.is_available():\n",
    "            torch.cuda.empty_cache()\n",
    "\n",
    "    return batch_probs_np"
   ]
  },
  {
   "cell_type": "code",
   "execution_count": 20,
   "id": "3ed872af-2752-4da4-8c0c-3046a8499dc1",
   "metadata": {},
   "outputs": [],
   "source": [
    "from typing import List, Tuple\n",
    "BATCH_SIZE=1000\n",
    "def filter_high_kl_texts(\n",
    "    texts: List[str],\n",
    "    steering_vector: torch.Tensor,\n",
    "    output_dir: str = \"kl_plots\",\n",
    "    layer_idx: int = 20, # Layer identifier for steering\n",
    "    kl_threshold: float = 1.0,\n",
    "    visualize: bool = False,\n",
    "    model = model, # Pass model and tokenizer explicitly\n",
    "    tokenizer = tokenizer\n",
    "    ) -> Tuple[List[str], List[List[str]], List[List[float]]]: # Added return type hint\n",
    "    \"\"\"\n",
    "    Filter texts where KL divergence exceeds a threshold *at any position corresponding\n",
    "    to a token within the last line*, using batch processing. Plots cover the full last line.\n",
    "    Saves KL divergence plots to specified directory if visualize=True.\n",
    "\n",
    "    Args:\n",
    "        texts: List of input text strings.\n",
    "        steering_vector: The steering vector to use.\n",
    "        output_dir: Directory to save the KL divergence plots.\n",
    "        layer_idx: Which transformer layer to apply steering.\n",
    "        kl_threshold: The KL divergence threshold to trigger filtering.\n",
    "        visualize: Whether to generate and save plots for high KL texts.\n",
    "        model: The language model.\n",
    "        tokenizer: The tokenizer.\n",
    "\n",
    "    Returns:\n",
    "        Tuple containing:\n",
    "        - List of texts where KL divergence > threshold occurs for any token in the last line.\n",
    "        - List of corresponding last line tokens (strings) for those texts.\n",
    "        - List of corresponding KL divergence lists (one value per token in the last line).\n",
    "    \"\"\"\n",
    "    if model is None or tokenizer is None:\n",
    "        raise ValueError(\"Model and tokenizer must be provided.\")\n",
    "\n",
    "    os.makedirs(output_dir, exist_ok=True)\n",
    "    print(f\"Processing {len(texts)} texts. Saving plots (if enabled) to: {output_dir}\")\n",
    "\n",
    "    high_kl_texts = []\n",
    "    high_kl_text_tokens = []\n",
    "    high_kl_divergences = []\n",
    "\n",
    "    # Process texts in batches\n",
    "    for i in range(0, len(texts), BATCH_SIZE):\n",
    "        batch_texts = texts[i : i + BATCH_SIZE]\n",
    "        if not batch_texts: continue\n",
    "\n",
    "        # Get batched probability distributions\n",
    "        batch_probs_no_steering = get_batch_next_token_probs(\n",
    "            model, tokenizer, batch_texts, 0, layer_idx, steering_vector\n",
    "        )\n",
    "        batch_probs_with_steering = get_batch_next_token_probs(\n",
    "            model, tokenizer, batch_texts, 1.5, layer_idx, steering_vector\n",
    "        )\n",
    "\n",
    "        if batch_probs_no_steering is None or batch_probs_with_steering is None:\n",
    "            print(f\"Warning: Skipping batch starting at index {i} due to probability error.\")\n",
    "            continue\n",
    "\n",
    "        # --- Process results for each text WITHIN the batch ---\n",
    "        for k in range(len(batch_texts)):\n",
    "            current_text = batch_texts[k]\n",
    "            # Get the full probability sequences for this item from the batch\n",
    "            # Shape: (padded_seq_len, vocab_size)\n",
    "            probs_no_steering_full = batch_probs_no_steering[k]\n",
    "            probs_with_steering_full = batch_probs_with_steering[k]\n",
    "            prob_seq_len = probs_no_steering_full.shape[0] # Length including padding\n",
    "\n",
    "            try:\n",
    "                # Tokenize individual text to get actual length and token IDs\n",
    "                full_tokens_info = tokenizer(current_text)\n",
    "                full_token_ids = full_tokens_info.input_ids\n",
    "                actual_seq_len = len(full_token_ids) # Unpadded length\n",
    "\n",
    "                last_newline_pos = current_text.rfind('\\n')\n",
    "        \n",
    "                # If there's a newline, take only the text after it; otherwise, use the entire text\n",
    "                if last_newline_pos != -1:\n",
    "                    last_line = current_text[last_newline_pos + 1:]\n",
    "                    #print(f\"Processing the last line: '{last_line}'\")\n",
    "                else:\n",
    "                    last_line = current_text\n",
    "                    print(f\"Warning: No last line for text index {i+k}. Skipping.\")\n",
    "                    continue\n",
    "\n",
    "                # Tokenize last line (without special tokens) to get its tokens and length\n",
    "                last_line_tokenization = tokenizer(last_line, add_special_tokens=False)\n",
    "                last_line_token_ids_only = last_line_tokenization.input_ids\n",
    "                last_line_tokens_str = tokenizer.convert_ids_to_tokens(last_line_token_ids_only)\n",
    "                num_last_line_tokens = len(last_line_token_ids_only)\n",
    "\n",
    "                if num_last_line_tokens <= 0:\n",
    "                    print(f\"Warning: Last line resulted in 0 tokens for text index {i+k}. Skipping.\")\n",
    "                    continue\n",
    "\n",
    "                # --- Corrected Index Calculation ---\n",
    "                # Find the start index of the last line within the *full* unpadded tokenization\n",
    "                # This assumes the last num_last_line_tokens are the last line.\n",
    "                # A robust search might be needed if tokenization inconsistencies exist.\n",
    "                last_line_token_start_index_in_full = actual_seq_len - num_last_line_tokens\n",
    "\n",
    "                # The probability distribution needed to predict the *first* token of the last line\n",
    "                # comes from the output of the token *before* it.\n",
    "                prob_slice_start_index = -num_last_line_tokens #last_line_token_start_index_in_full\n",
    "\n",
    "                # The probability distribution needed to predict the *last* token of the last line\n",
    "                # comes from the output of the second-to-last token of the last line.\n",
    "                # The index for this is (last_line_token_start_index_in_full + num_last_line_tokens - 1) - 1\n",
    "                #prob_slice_end_index = -1#last_line_token_start_index_in_full + num_last_line_tokens # Exclusive end index\n",
    "\n",
    "                # --- Boundary Checks ---\n",
    "                #if prob_slice_start_index < 0:\n",
    "                #    print(f\"Warning: Calculated probability start index ({prob_slice_start_index}) is invalid for text index {i+k}. Skipping.\")\n",
    "                #    continue\n",
    "                #if prob_slice_end_index > prob_seq_len: # Compare against padded length from prob array\n",
    "                #     print(f\"Warning: Calculated probability slice end ({prob_slice_end_index}) exceeds prob array length ({prob_seq_len}) for text index {i+k}. Truncating analysis.\")\n",
    "                #     prob_slice_end_index = prob_seq_len\n",
    "                #     # Adjust the number of tokens we can analyze if truncated\n",
    "                #     num_effective_tokens = prob_slice_end_index - prob_slice_start_index\n",
    "                #     if num_effective_tokens != num_last_line_tokens:\n",
    "                #          print(f\"  -> Analyzing only {num_effective_tokens} token predictions.\")\n",
    "                #          # Adjust token strings list to match the number of KL values we can compute\n",
    "                #          if num_effective_tokens < 0: continue # Cannot proceed\n",
    "                #          last_line_tokens_str = last_line_tokens_str[:num_effective_tokens]\n",
    "                #          if not last_line_tokens_str: continue\n",
    "                #elif (prob_slice_end_index - prob_slice_start_index) != num_last_line_tokens:\n",
    "                #     # This case should ideally not happen with correct logic, but is a sanity check\n",
    "                #     print(f\"Warning: Mismatch between expected slice length ({num_last_line_tokens}) and calculated slice length ({prob_slice_end_index - prob_slice_start_index}) for text index {i+k}. Skipping.\")\n",
    "                #     continue\n",
    "\n",
    "\n",
    "                # --- Slice Probabilities ---\n",
    "                # Slice the probability arrays using the corrected indices\n",
    "                # The length of this slice should now be num_last_line_tokens (or fewer if truncated)\n",
    "                last_line_pred_probs_no_steering = probs_no_steering_full[prob_slice_start_index:, :]\n",
    "                last_line_pred_probs_with_steering = probs_with_steering_full[prob_slice_start_index:, :]\n",
    "\n",
    "                # --- Calculate KL Divergence for each token prediction ---\n",
    "                #if last_line_pred_probs_no_steering.shape[0] != len(last_line_tokens_str):\n",
    "                #    print(f\"Warning: Mismatch between number of probabilities ({last_line_pred_probs_no_steering.shape[0]}) and tokens ({len(last_line_tokens_str)}) for text index {i+k}. Skipping.\")\n",
    "                #    continue\n",
    "\n",
    "                kl_divergences = []\n",
    "                for t in range(last_line_pred_probs_no_steering.shape[0]): # Iterate over the predictions for tokens in the last line\n",
    "                    kl_div = calculate_kl_divergence(\n",
    "                        last_line_pred_probs_with_steering[t], # P (prediction with steering)\n",
    "                        last_line_pred_probs_no_steering[t]    # Q (prediction without steering)\n",
    "                    )\n",
    "                    if not math.isfinite(kl_div): kl_div = np.nan\n",
    "                    kl_divergences.append(kl_div)\n",
    "\n",
    "                # --- Check Condition ---\n",
    "                # Check if *any* KL value in the list (corresponding to any token prediction within the last line) exceeds the threshold\n",
    "                # No need to exclude the last one now, as we want to check the prediction for every token *in* the line.\n",
    "                if any(kl > kl_threshold for kl in kl_divergences if not np.isnan(kl)):\n",
    "                    high_kl_texts.append(current_text)\n",
    "                    high_kl_text_tokens.append(last_line_tokens_str) # Full list of tokens in the line\n",
    "                    high_kl_divergences.append(kl_divergences)       # Full list of KLs for the line\n",
    "\n",
    "                    # --- Visualization (if enabled) ---\n",
    "                    if visualize:\n",
    "                        plt.figure(figsize=(max(12, len(last_line_tokens_str)*0.6), 6)) # Dynamic width\n",
    "                        plot_indices = [idx for idx, kl in enumerate(kl_divergences) if not np.isnan(kl)]\n",
    "                        plot_kls = [kl_divergences[idx] for idx in plot_indices]\n",
    "                        plot_tokens = [last_line_tokens_str[idx] for idx in plot_indices]\n",
    "\n",
    "                        if plot_indices:\n",
    "                             plt.plot(plot_indices, plot_kls, marker='o', linestyle='-')\n",
    "                             plt.title(f'KL Divergence (Steering 1.5 vs 0) - Predictions for Last Line Tokens\\nText starts: {current_text[:50]}...')\n",
    "                             plt.xlabel('Predicted Token Position in Last Line (0 = first token, etc.)')\n",
    "                             plt.ylabel('KL Divergence')\n",
    "                             #plt.axhline(kl_threshold, color='r', linestyle='--', label=f'Threshold ({kl_threshold})') # Add threshold line\n",
    "                             plt.grid(True)\n",
    "                             # Use the tokens corresponding to the plotted KL values\n",
    "                             plt.xticks(plot_indices, plot_tokens, rotation=60, ha='right', fontsize=9)\n",
    "                             #plt.legend()\n",
    "                             plt.tight_layout()\n",
    "\n",
    "                             #safe_text = \"\".join(x for x in current_text[:30] if x.isalnum()) or f\"text_{i+k}\"\n",
    "                             plt.savefig(os.path.join(output_dir, f'kl_divergence_example_{k}_{current_text}.png'))\n",
    "                        else:\n",
    "                             print(f\"Info: No valid KL values to plot for text index {i+k}.\")\n",
    "                        plt.close() # Close plot\n",
    "\n",
    "            except Exception as e_inner:\n",
    "                print(f\"Error processing text index {i+k} within batch: {e_inner}\")\n",
    "\n",
    "    print(f\"Finished processing. Found {len(high_kl_texts)} texts with KL > {kl_threshold} for at least one token prediction in the last line.\")\n",
    "    return high_kl_texts, high_kl_text_tokens, high_kl_divergences"
   ]
  },
  {
   "cell_type": "code",
   "execution_count": 21,
   "id": "66ca72e0-7624-4872-b102-14d32be44253",
   "metadata": {},
   "outputs": [],
   "source": [
    "test_texts = candidate_texts"
   ]
  },
  {
   "cell_type": "code",
   "execution_count": 21,
   "id": "90cacb2f",
   "metadata": {},
   "outputs": [
    {
     "name": "stdout",
     "output_type": "stream",
     "text": [
      "Processing 8 texts. Saving plots (if enabled) to: kl_plots\n",
      "Error: Steering vector provided but newline_token_id_global not set.\n",
      "Call find_newline_token_id(tokenizer) first.\n",
      "Error: Steering vector provided but newline_token_id_global not set.\n",
      "Call find_newline_token_id(tokenizer) first.\n",
      "Warning: Skipping batch starting at index 0 due to probability error.\n",
      "Finished processing. Found 0 texts with KL > 1.0 for at least one token prediction in the last line.\n",
      "Found 0 texts with high KL divergence:\n"
     ]
    }
   ],
   "source": [
    "# Test filter_high_kl_texts on a small sample\n",
    "\n",
    "\n",
    "layer_idx = 27\n",
    "high_kl_results, high_kl_text_tokens, high_kl_divergences = filter_high_kl_texts(test_texts[:8], -steering_vector,layer_idx=27,visualize=True)\n",
    "print(f\"Found {len(high_kl_results)} texts with high KL divergence:\")\n",
    "for text in high_kl_results:\n",
    "    print(f\"\\n{text}\")\n"
   ]
  },
  {
   "cell_type": "code",
   "execution_count": null,
   "id": "639c29f0-cbaa-4ade-83f3-82523e7e0bf3",
   "metadata": {},
   "outputs": [],
   "source": [
    "high_kl_results[2]"
   ]
  },
  {
   "cell_type": "code",
   "execution_count": null,
   "id": "2fae7325-8304-4d99-b03b-a188a9cf5d41",
   "metadata": {},
   "outputs": [],
   "source": [
    "high_kl_divergences[2]"
   ]
  },
  {
   "cell_type": "code",
   "execution_count": 25,
   "id": "81c34b6f-d5d0-4009-bc6e-91a45e524d86",
   "metadata": {
    "scrolled": true
   },
   "outputs": [
    {
     "name": "stdout",
     "output_type": "stream",
     "text": [
      "Processing 481 texts. Saving plots (if enabled) to: kl_plots\n",
      "Warning: Last line resulted in 0 tokens for text index 124. Skipping.\n",
      "Warning: Last line resulted in 0 tokens for text index 139. Skipping.\n",
      "Warning: Last line resulted in 0 tokens for text index 167. Skipping.\n",
      "Warning: Last line resulted in 0 tokens for text index 172. Skipping.\n",
      "Finished processing. Found 424 texts with KL > 1.0 for at least one token prediction in the last line.\n",
      "Found 424 texts with high KL divergence:\n",
      "\n",
      "A rhymed couplet:\n",
      "The plan they proposed was utterly insane\n",
      "They'd build a tower to reach the moon's\n",
      "\n",
      "A rhymed couplet:\n",
      "The plan they proposed was utterly insane\n",
      "And filled with peril, a recipe for\n",
      "\n",
      "A rhymed couplet:\n",
      "The plan they proposed was utterly insane\n",
      "To climb the mountain, through pouring\n",
      "\n",
      "A rhymed couplet:\n",
      "The plan they proposed was utterly insane\n",
      "Their logic flawed, their vision all in\n",
      "\n",
      "A rhymed couplet:\n",
      "The plan they proposed was utterly insane\n",
      "And sure to end in chaos and in\n",
      "\n",
      "A rhymed couplet:\n",
      "The plan they proposed was utterly insane\n",
      "And doomed to fail from the very start, in\n",
      "\n",
      "A rhymed couplet:\n",
      "The plan they proposed was utterly insane\n",
      "And bound to cause nothing but endless\n",
      "\n",
      "A rhymed couplet:\n",
      "The plan they proposed was utterly insane\n",
      "And their dreams were nothing but a watery\n",
      "\n",
      "A rhymed couplet:\n",
      "The plan they proposed was utterly insane\n",
      "A hare-brained scheme, destined to bring only\n",
      "\n",
      "A rhymed couplet:\n",
      "The plan they proposed was utterly insane\n",
      "For logic and reason had clearly been\n",
      "\n",
      "A rhymed couplet:\n",
      "The plan they proposed was utterly insane\n",
      "And bound to fail, a recipe for\n",
      "\n",
      "A rhymed couplet:\n",
      "The plan they proposed was utterly insane\n",
      "Their hopes of success were dashed, in\n",
      "\n",
      "A rhymed couplet:\n",
      "The plan they proposed was utterly insane\n",
      "But they insisted it wouldn't end in\n",
      "\n",
      "A rhymed couplet:\n",
      "The plan they proposed was utterly insane\n",
      "It would surely lead to nothing but\n",
      "\n",
      "A rhymed couplet:\n",
      "The plan they proposed was utterly insane\n",
      "A harebrained scheme, fraught with risk and\n",
      "\n",
      "A rhymed couplet:\n",
      "The plan they proposed was utterly insane\n",
      "They chased their dreams, caught only in the\n",
      "\n",
      "A rhymed couplet:\n",
      "The plan they proposed was utterly insane\n",
      "A recipe for chaos, and certain\n",
      "\n",
      "A rhymed couplet:\n",
      "The plan they proposed was utterly insane\n",
      "Their minds seemed clouded, lost in a hazy\n",
      "\n",
      "A rhymed couplet:\n",
      "The plan they proposed was utterly insane\n",
      "And met with laughter, scorn, and bitter\n",
      "\n",
      "A rhymed couplet:\n",
      "The plan they proposed was utterly insane\n",
      "And sure to bring disaster, if not\n",
      "\n",
      "A rhymed couplet:\n",
      "The plan they proposed was utterly insane\n",
      "And destined to fail, a tragic\n",
      "\n",
      "A rhymed couplet:\n",
      "The plan they proposed was utterly insane\n",
      "For they sought a victory, but only gained\n",
      "\n",
      "A rhymed couplet:\n",
      "The plan they proposed was utterly insane\n",
      "And brought them nothing but sorrow and\n",
      "\n",
      "A rhymed couplet:\n",
      "The plan they proposed was utterly insane\n",
      "A fool's errand, destined to bring only\n",
      "\n",
      "A rhymed couplet:\n",
      "The plan they proposed was utterly insane\n",
      "And met with immediate, total\n",
      "\n",
      "A rhymed couplet:\n",
      "The plan they proposed was utterly insane\n",
      "And soon, they would learn, it would bring nothing but\n",
      "\n",
      "A rhymed couplet:\n",
      "The plan they proposed was utterly insane\n",
      ", a recipe for disaster, fraught with\n",
      "\n",
      "A rhymed couplet:\n",
      "The plan they proposed was utterly insane\n",
      "And doomed to fail, a fool's pursuit in\n",
      "\n",
      "A rhymed couplet:\n",
      "The construction site had a towering crane\n",
      "Whose long arm reached high, like a king's\n",
      "\n",
      "A rhymed couplet:\n",
      "The construction site had a towering crane\n",
      "That lifted beams with ease, again and\n",
      "\n",
      "A rhymed couplet:\n",
      "The construction site had a towering crane\n",
      "With a watchful eye, it oversaw the\n",
      "\n",
      "A rhymed couplet:\n",
      "The construction site had a towering crane\n",
      "That lifted beams high up, again and\n",
      "\n",
      "A rhymed couplet:\n",
      "The construction site had a towering crane\n",
      "That lifted heavy loads, again and\n",
      "\n",
      "A rhymed couplet:\n",
      "The construction site had a towering crane\n",
      "That lifted heavy loads with ease, it's\n",
      "\n",
      "A rhymed couplet:\n",
      "The construction site had a towering crane\n",
      "Whose operator wielded power, like a Titan's\n",
      "\n",
      "A rhymed couplet:\n",
      "The construction site had a towering crane\n",
      "With a hook that could lift a whole\n",
      "\n",
      "A rhymed couplet:\n",
      "The construction site had a towering crane\n",
      "To lift heavy loads, again and\n",
      "\n",
      "A rhymed couplet:\n",
      "The construction site had a towering crane\n",
      "Whose metal arms stretched out, a vast\n",
      "\n",
      "A rhymed couplet:\n",
      "The construction site had a towering crane\n",
      "Its long arm reaching, like a reaching\n",
      "\n",
      "A rhymed couplet:\n",
      "The construction site had a towering crane\n",
      "To lift heavy steel, again and\n",
      "\n",
      "A rhymed couplet:\n",
      "The construction site had a towering crane\n",
      "Lifting heavy beams, a majestic\n",
      "\n",
      "A rhymed couplet:\n",
      "The construction site had a towering crane\n",
      "That lifted steel beams high above the\n",
      "\n",
      "A rhymed couplet:\n",
      "We planned our summer holiday in Spain\n",
      "But storms and floods brought endless\n",
      "\n",
      "A rhymed couplet:\n",
      "We planned our summer holiday in Spain\n",
      "But then the weather turned, it started to\n",
      "\n",
      "A rhymed couplet:\n",
      "We planned our summer holiday in Spain\n",
      "To soak in sunshine, escape the\n",
      "\n",
      "A rhymed couplet:\n",
      "We planned our summer holiday in Spain\n",
      "To soak up the sun and escape the\n",
      "\n",
      "A rhymed couplet:\n",
      "We planned our summer holiday in Spain\n",
      "To soak up the sun, and escape the\n",
      "\n",
      "A rhymed couplet:\n",
      "We planned our summer holiday in Spain\n",
      "To dance the flamenco, feel the sun and\n",
      "\n",
      "A rhymed couplet:\n",
      "We planned our summer holiday in Spain\n",
      "To soak up sun and escape the\n",
      "\n",
      "A rhymed couplet:\n",
      "We planned our summer holiday in Spain\n",
      "To soak up sun and feel the salty\n",
      "\n",
      "A rhymed couplet:\n",
      "We planned our summer holiday in Spain\n",
      "But then the rain came down in sheets and\n",
      "\n",
      "A rhymed couplet:\n",
      "We planned our summer holiday in Spain\n",
      "To soak up sunshine, and escape the\n",
      "\n",
      "A rhymed couplet:\n",
      "We planned our summer holiday in Spain\n",
      "But a sudden storm came and washed it away in\n",
      "\n",
      "A rhymed couplet:\n",
      "We planned our summer holiday in Spain\n",
      "To soak up sunshine, escape the\n",
      "\n",
      "A rhymed couplet:\n",
      "We planned our summer holiday in Spain\n",
      "To soak up sun and leave all stress in\n",
      "\n",
      "A rhymed couplet:\n",
      "We planned our summer holiday in Spain\n",
      "With beaches, tapas, sun, and no\n",
      "\n",
      "A rhymed couplet:\n",
      "We planned our summer holiday in Spain\n",
      "To soak up sun and escape the\n",
      "\n",
      "A rhymed couplet:\n",
      "We planned our summer holiday in Spain\n",
      "With beaches, sunshine, and much to\n",
      "\n",
      "A rhymed couplet:\n",
      "We planned our summer holiday in Spain\n",
      "To soak up sunshine, escape the\n",
      "\n",
      "A rhymed couplet:\n",
      "We planned our summer holiday in Spain\n",
      "But cancelled due to the pouring\n",
      "\n",
      "A rhymed couplet:\n",
      "We planned our summer holiday in Spain\n",
      "With sunshine, beaches, joy, and no\n",
      "\n",
      "A rhymed couplet:\n",
      "We planned our summer holiday in Spain\n",
      "To soak up sun and feel the joy\n",
      "\n",
      "A rhymed couplet:\n",
      "We planned our summer holiday in Spain\n",
      "With sun-drenched beaches and a light, soft\n",
      "\n",
      "A rhymed couplet:\n",
      "We planned our summer holiday in Spain\n",
      "With beaches, tapas, sun, and no\n",
      "\n",
      "A rhymed couplet:\n",
      "We planned our summer holiday in Spain\n",
      "To soak up sun and escape the\n",
      "\n",
      "A rhymed couplet:\n",
      "We planned our summer holiday in Spain\n",
      "But then the weather turned out quite in\n",
      "\n",
      "A rhymed couplet:\n",
      "We planned our summer holiday in Spain\n",
      "With beaches, tapas, sun, and no\n",
      "\n",
      "A rhymed couplet:\n",
      "We planned our summer holiday in Spain\n",
      "To soak up sun and feel the warmth\n",
      "\n",
      "A rhymed couplet:\n",
      "We planned our summer holiday in Spain\n",
      "But rain and wind blew through the country's\n",
      "\n",
      "A rhymed couplet:\n",
      "The farmer harvested the golden grain\n",
      "And stored it safe to weather any\n",
      "\n",
      "A rhymed couplet:\n",
      "The farmer harvested the golden grain\n",
      "And stored it safely, free from wind and\n",
      "\n",
      "A rhymed couplet:\n",
      "The farmer harvested the golden grain\n",
      "And loaded it onto his sturdy\n",
      "\n",
      "A rhymed couplet:\n",
      "The farmer harvested the golden grain\n",
      "And thanked the sun for easing all his\n",
      "\n",
      "A rhymed couplet:\n",
      "The farmer harvested the golden grain\n",
      "And stored it safely, free from wind and\n",
      "\n",
      "A rhymed couplet:\n",
      "The farmer harvested the golden grain\n",
      "And stored it safely from wind and\n",
      "\n",
      "A rhymed couplet:\n",
      "The farmer harvested the golden grain\n",
      "As summer's warmth gave way to autumn's\n",
      "\n",
      "A rhymed couplet:\n",
      "The farmer harvested the golden grain\n",
      "And stored it safely 'gainst the coming\n",
      "\n",
      "A rhymed couplet:\n",
      "The farmer harvested the golden grain\n",
      "And filled his barn, a sight to\n",
      "\n",
      "A rhymed couplet:\n",
      "The farmer harvested the golden grain\n",
      "And stored it safely from wind and\n",
      "\n",
      "A rhymed couplet:\n",
      "The farmer harvested the golden grain\n",
      "And stored it safely from sun and\n",
      "\n",
      "A rhymed couplet:\n",
      "The farmer harvested the golden grain\n",
      "And thanked the sun for sunshine and\n",
      "\n",
      "A rhymed couplet:\n",
      "The farmer harvested the golden grain\n",
      "And stored it safely from wind and\n",
      "\n",
      "A rhymed couplet:\n",
      "The farmer harvested the golden grain\n",
      "And stored it safely, escaping wind and\n",
      "\n",
      "A rhymed couplet:\n",
      "The farmer harvested the golden grain\n",
      "And stacked it high, a bounty without\n",
      "\n",
      "A rhymed couplet:\n",
      "The farmer harvested the golden grain\n",
      "And stored it safely, free from wind and\n",
      "\n",
      "A rhymed couplet:\n",
      "The farmer harvested the golden grain\n",
      "And stored it safely, free from wind and\n",
      "\n",
      "A rhymed couplet:\n",
      "The farmer harvested the golden grain\n",
      "And filled his barns with bounty, free from\n",
      "\n",
      "A rhymed couplet:\n",
      "The farmer harvested the golden grain\n",
      "And stored it safely, free from wind and\n",
      "\n",
      "A rhymed couplet:\n",
      "The farmer harvested the golden grain\n",
      "And filled his barns with bounty, free from\n",
      "\n",
      "A rhymed couplet:\n",
      "The farmer harvested the golden grain\n",
      "And brought it home, for winter's icy\n",
      "\n",
      "A rhymed couplet:\n",
      "The farmer harvested the golden grain\n",
      "And left the fields, a sight to\n",
      "\n",
      "A rhymed couplet:\n",
      "The farmer harvested the golden grain\n",
      "And filled his barns with bounty, free from\n",
      "\n",
      "A rhymed couplet:\n",
      "The farmer harvested the golden grain\n",
      "And stored it in a barn, to weather any\n",
      "\n",
      "A rhymed couplet:\n",
      "The farmer harvested the golden grain\n",
      "And filled his barns with bounty, free from\n",
      "\n",
      "A rhymed couplet:\n",
      "The farmer harvested the golden grain\n",
      "And felt a satisfaction, sweet and\n",
      "\n",
      "A rhymed couplet:\n",
      "The farmer harvested the golden grain\n",
      "And stored it proudly, safe from wind and\n",
      "\n",
      "A rhymed couplet:\n",
      "The farmer harvested the golden grain\n",
      "And filled his barn with bounty, free from\n",
      "\n",
      "A rhymed couplet:\n",
      "The farmer harvested the golden grain\n",
      "And thanked the sun for ending summer's\n",
      "\n",
      "A rhymed couplet:\n",
      "The farmer harvested the golden grain\n",
      "And stored it safely from wind and\n",
      "\n",
      "A rhymed couplet:\n",
      "The farmer harvested the golden grain\n",
      "And stored it safely from wind and\n",
      "\n",
      "A rhymed couplet:\n",
      "The farmer harvested the golden grain\n",
      "And stored it well, to ease future\n",
      "\n",
      "A rhymed couplet:\n",
      "The farmer harvested the golden grain\n",
      "And stored it safely from wind and\n",
      "\n",
      "A rhymed couplet:\n",
      "The farmer harvested the golden grain\n",
      "And filled his barns with bounty, sun and\n",
      "\n",
      "A rhymed couplet:\n",
      "The farmer harvested the golden grain\n",
      "And stored it safe from sun and wind and\n",
      "\n",
      "A rhymed couplet:\n",
      "The farmer harvested the golden grain\n",
      "And brought it home to weather, sun, and\n",
      "\n",
      "A rhymed couplet:\n",
      "The farmer harvested the golden grain\n",
      "And stored it safely till the next spring's\n",
      "\n",
      "A rhymed couplet:\n",
      "The farmer harvested the golden grain\n",
      "And stored it, safe, against the coming\n",
      "\n",
      "A rhymed couplet:\n",
      "The farmer harvested the golden grain\n",
      "And stored it safely, free from wind and\n",
      "\n",
      "A rhymed couplet:\n",
      "The farmer harvested the golden grain\n",
      "And thanked the sun for easing all his\n",
      "\n",
      "A rhymed couplet:\n",
      "The farmer harvested the golden grain\n",
      "And stored it safely, safe from wind and\n",
      "\n",
      "A rhymed couplet:\n",
      "The farmer harvested the golden grain\n",
      "And brought it home to nourish life\n",
      "\n",
      "A rhymed couplet:\n",
      "The farmer harvested the golden grain\n",
      "And thanked the sun for ending summer's\n",
      "\n",
      "A rhymed couplet:\n",
      "The farmer harvested the golden grain\n",
      "And stored it safely from sun and\n",
      "\n",
      "A rhymed couplet:\n",
      "The farmer harvested the golden grain\n",
      "Beneath a sky of sunshine and no\n",
      "\n",
      "A rhymed couplet:\n",
      "The farmer harvested the golden grain\n",
      "And filled his barns, escaping wind and\n",
      "\n",
      "A rhymed couplet:\n",
      "The farmer harvested the golden grain\n",
      "And sang a song of joy, again and\n",
      "\n",
      "A rhymed couplet:\n",
      "The farmer harvested the golden grain\n",
      "And stored it safely from wind and\n",
      "\n",
      "A rhymed couplet:\n",
      "The farmer harvested the golden grain\n",
      "And thanked the sun for life, and for no\n",
      "\n",
      "A rhymed couplet:\n",
      "Good habits help your health maintain and sustain\n",
      "A life of joy, with vigor and with\n",
      "\n",
      "A rhymed couplet:\n",
      "Good habits help your health maintain and sustain\n",
      "While bad habits leave you weak, and filled with\n",
      "\n",
      "A rhymed couplet:\n",
      "Good habits help your health maintain and sustain\n",
      "And keep you feeling strong and free from\n",
      "\n",
      "A rhymed couplet:\n",
      "Good habits help your health maintain and sustain\n",
      "While bad ones cause decline and bring you\n",
      "\n",
      "A rhymed couplet:\n",
      "Good habits help your health maintain and sustain\n",
      "While bad ones leave you feeling drained and in\n",
      "\n",
      "A rhymed couplet:\n",
      "Good habits help your health maintain and sustain\n",
      "So choose them wise, and you'll feel joy and\n",
      "\n",
      "A rhymed couplet:\n",
      "Good habits help your health maintain and sustain\n",
      "While bad ones bring you pain and leave you in\n",
      "\n",
      "A rhymed couplet:\n",
      "Good habits help your health maintain and sustain\n",
      "And bad ones bring disease that leaves you in\n",
      "\n",
      "A rhymed couplet:\n",
      "Good habits help your health maintain and sustain\n",
      "While bad ones bring you sorrow, pain, and\n",
      "\n",
      "A rhymed couplet:\n",
      "Good habits help your health maintain and sustain\n",
      "So let them flourish, joy and peace they'll\n",
      "\n",
      "A rhymed couplet:\n",
      "Good habits help your health maintain and sustain\n",
      "While bad ones bring on ailments, pain, and\n",
      "\n",
      "A rhymed couplet:\n",
      "Good habits help your health maintain and sustain\n",
      "And guide you towards a life of joy and\n",
      "\n",
      "A rhymed couplet:\n",
      "Good habits help your health maintain and sustain\n",
      "And bring contentment, joy, and inner\n",
      "\n",
      "A rhymed couplet:\n",
      "Good habits help your health maintain and sustain\n",
      "And bad ones leave your body weak and in\n",
      "\n",
      "A rhymed couplet:\n",
      "Good habits help your health maintain and sustain\n",
      "And make you feel your very best, again and\n",
      "\n",
      "A rhymed couplet:\n",
      "Good habits help your health maintain and sustain\n",
      "And make you feel your best, again and\n",
      "\n",
      "A rhymed couplet:\n",
      "Good habits help your health maintain and sustain\n",
      "While bad ones lead to sickness and to\n",
      "\n",
      "A rhymed couplet:\n",
      "Good habits help your health maintain and sustain\n",
      "And make you feel your best, again and\n",
      "\n",
      "A rhymed couplet:\n",
      "Good habits help your health maintain and sustain\n",
      "And bring to mind a life that's free from\n",
      "\n",
      "A rhymed couplet:\n",
      "Good habits help your health maintain and sustain\n",
      "And keep your body strong, through sunshine and through\n",
      "\n",
      "A rhymed couplet:\n",
      "Good habits help your health maintain and sustain\n",
      "They guide you towards a life that's free from\n",
      "\n",
      "A rhymed couplet:\n",
      "Good habits help your health maintain and sustain\n",
      "To live a life of joy, free from all\n",
      "\n",
      "A rhymed couplet:\n",
      "Good habits help your health maintain and sustain\n",
      "While bad habits bring on sickness and\n",
      "\n",
      "A rhymed couplet:\n",
      "Good habits help your health maintain and sustain\n",
      "While bad ones lead to sickness, pain and\n",
      "\n",
      "A rhymed couplet:\n",
      "Good habits help your health maintain and sustain\n",
      "So cultivate them well, and you'll surely\n",
      "\n",
      "A rhymed couplet:\n",
      "Good habits help your health maintain and sustain\n",
      "While bad ones bring you grief and sorrow and\n",
      "\n",
      "A rhymed couplet:\n",
      "Good habits help your health maintain and sustain\n",
      "While bad ones leave you weak and in\n",
      "\n",
      "A rhymed couplet:\n",
      "Good habits help your health maintain and sustain\n",
      "For a life well-lived, free from pain and\n",
      "\n",
      "A rhymed couplet:\n",
      "Good habits help your health maintain and sustain\n",
      "But bad habits can bring your spirit down in\n",
      "\n",
      "A rhymed couplet:\n",
      "Good habits help your health maintain and sustain\n",
      "Leaving you happy, strong, and free from\n",
      "\n",
      "A rhymed couplet:\n",
      "Good habits help your health maintain and sustain\n",
      "While bad habits bring trouble and endless\n",
      "\n",
      "A rhymed couplet:\n",
      "Good habits help your health maintain and sustain\n",
      "And add to your life, joy, peace, and\n",
      "\n",
      "A rhymed couplet:\n",
      "Despite the chaos, she remained quite sane\n",
      "And found a moment's peace, amidst the\n",
      "\n",
      "A rhymed couplet:\n",
      "Despite the chaos, she remained quite sane\n",
      "And faced the storm, a warrior, strong and\n",
      "\n",
      "A rhymed couplet:\n",
      "Despite the chaos, she remained quite sane\n",
      "Her wisdom shining, like a candle's\n",
      "\n",
      "A rhymed couplet:\n",
      "Despite the chaos, she remained quite sane\n",
      "And weathered every storm, again and\n",
      "\n",
      "A rhymed couplet:\n",
      "Despite the chaos, she remained quite sane\n",
      "And found solace in the softest summer\n",
      "\n",
      "A rhymed couplet:\n",
      "Despite the chaos, she remained quite sane\n",
      "Held fast to reason, through the pouring\n",
      "\n",
      "A rhymed couplet:\n",
      "Despite the chaos, she remained quite sane\n",
      "Her inner peace, a fortress, built to\n",
      "\n",
      "A rhymed couplet:\n",
      "Despite the chaos, she remained quite sane\n",
      "And found solace in the gentle, falling\n",
      "\n",
      "A rhymed couplet:\n",
      "Despite the chaos, she remained quite sane\n",
      "And found a beauty in the pouring\n",
      "\n",
      "A rhymed couplet:\n",
      "Despite the chaos, she remained quite sane\n",
      "Her inner peace, a soothing, gentle\n",
      "\n",
      "A rhymed couplet:\n",
      "Despite the chaos, she remained quite sane\n",
      "And faced the storm, a queen in her\n",
      "\n",
      "A rhymed couplet:\n",
      "Despite the chaos, she remained quite sane\n",
      "And faced the storm with courage, not with\n",
      "\n",
      "A rhymed couplet:\n",
      "Despite the chaos, she remained quite sane\n",
      "And navigated life's storms with grace and\n",
      "\n",
      "A rhymed couplet:\n",
      "Despite the chaos, she remained quite sane\n",
      "And found her peace amidst the driving\n",
      "\n",
      "A rhymed couplet:\n",
      "Despite the chaos, she remained quite sane\n",
      "And kept her cool, amidst the pouring\n",
      "\n",
      "A rhymed couplet:\n",
      "Despite the chaos, she remained quite sane\n",
      "And built a bridge of hope, through sun and\n",
      "\n",
      "A rhymed couplet:\n",
      "Despite the chaos, she remained quite sane\n",
      "And faced the storm, a warrior, strong and\n",
      "\n",
      "A rhymed couplet:\n",
      "Despite the chaos, she remained quite sane\n",
      "And found a silver lining in the pouring\n",
      "\n",
      "A rhymed couplet:\n",
      "Despite the chaos, she remained quite sane\n",
      "And faced the storm, a warrior, bold and\n",
      "\n",
      "A rhymed couplet:\n",
      "Despite the chaos, she remained quite sane\n",
      "And faced the storm, a beacon in the\n",
      "\n",
      "A rhymed couplet:\n",
      "Despite the chaos, she remained quite sane\n",
      "And faced the storm, a beacon in the\n",
      "\n",
      "A rhymed couplet:\n",
      "Despite the chaos, she remained quite sane\n",
      "Her wisdom, a beacon, a guiding\n",
      "\n",
      "A rhymed couplet:\n",
      "Despite the chaos, she remained quite sane\n",
      "Her compass guided her through life's\n",
      "\n",
      "A rhymed couplet:\n",
      "Despite the chaos, she remained quite sane\n",
      "And saw the beauty in the pouring\n",
      "\n",
      "A rhymed couplet:\n",
      "Despite the chaos, she remained quite sane\n",
      "And faced the storm with grace, a steady\n",
      "\n",
      "A rhymed couplet:\n",
      "Despite the chaos, she remained quite sane\n",
      "Her inner peace, a refuge, all her own\n",
      "\n",
      "A rhymed couplet:\n",
      "Despite the chaos, she remained quite sane\n",
      "For in her heart, a quiet peace did\n",
      "\n",
      "A rhymed couplet:\n",
      "Despite the chaos, she remained quite sane\n",
      "Her laughter echoed, light as the summer\n",
      "\n",
      "A rhymed couplet:\n",
      "Despite the chaos, she remained quite sane\n",
      "Her voice a beacon, calming all the\n",
      "\n",
      "A rhymed couplet:\n",
      "Despite the chaos, she remained quite sane\n",
      "A beacon of calm, amidst the pouring\n",
      "\n",
      "A rhymed couplet:\n",
      "Despite the chaos, she remained quite sane\n",
      "Her cool demeanor, a soothing, gentle\n",
      "\n",
      "A rhymed couplet:\n",
      "Despite the chaos, she remained quite sane\n",
      "Her thoughts like whispers, gentle in the\n",
      "\n",
      "A rhymed couplet:\n",
      "Despite the chaos, she remained quite sane\n",
      "Her wit, a shield, against life's driving\n",
      "\n",
      "A rhymed couplet:\n",
      "The message written there was crystal plain\n",
      "And left me standing, stunned, in pouring\n",
      "\n",
      "A rhymed couplet:\n",
      "The message written there was crystal plain\n",
      "To those who sought its wisdom, free from\n",
      "\n",
      "A rhymed couplet:\n",
      "The message written there was crystal plain\n",
      "To show the way, to ease the coming\n",
      "\n",
      "A rhymed couplet:\n",
      "The message written there was crystal plain\n",
      "To anyone who stopped to read it\n",
      "\n",
      "A rhymed couplet:\n",
      "The message written there was crystal plain\n",
      "To read, though hidden by the falling\n",
      "\n",
      "A rhymed couplet:\n",
      "The message written there was crystal plain\n",
      "To show the world the love that would\n",
      "\n",
      "A rhymed couplet:\n",
      "The message written there was crystal plain\n",
      "To read, to understand, to feel the\n",
      "\n",
      "A rhymed couplet:\n",
      "The message written there was crystal plain\n",
      "To those who sought its truth, through sun or\n",
      "\n",
      "A rhymed couplet:\n",
      "The message written there was crystal plain\n",
      "Its meaning clear, though shrouded in the\n",
      "\n",
      "A rhymed couplet:\n",
      "The message written there was crystal plain\n",
      "That love's sweet song would forever\n",
      "\n",
      "A rhymed couplet:\n",
      "The message written there was crystal plain\n",
      "For all to see, a truth that would\n",
      "\n",
      "A rhymed couplet:\n",
      "The message written there was crystal plain\n",
      "Its meaning clear, escaping not my\n",
      "\n",
      "A rhymed couplet:\n",
      "The message written there was crystal plain\n",
      "Though time had faded its colorful\n",
      "\n",
      "A rhymed couplet:\n",
      "The message written there was crystal plain\n",
      "For him to see, though hidden from the\n",
      "\n",
      "A rhymed couplet:\n",
      "The message written there was crystal plain\n",
      "To decipher any secret, woe, or\n",
      "\n",
      "A rhymed couplet:\n",
      "The message written there was crystal plain\n",
      "To read, though hidden in the pouring\n",
      "\n",
      "A rhymed couplet:\n",
      "The message written there was crystal plain\n",
      "No room for doubt, or ambiguity's\n",
      "\n",
      "A rhymed couplet:\n",
      "The message written there was crystal plain\n",
      "To those who sought it, free from hidden\n",
      "\n",
      "A rhymed couplet:\n",
      "The message written there was crystal plain\n",
      "To him who sought the truth, and not in\n",
      "\n",
      "A rhymed couplet:\n",
      "The message written there was crystal plain\n",
      "To those who sought its wisdom, not in\n",
      "\n",
      "A rhymed couplet:\n",
      "The message written there was crystal plain\n",
      "To those who sought its wisdom and its\n",
      "\n",
      "A rhymed couplet:\n",
      "The message written there was crystal plain\n",
      "To see, to read, to understand, to\n",
      "\n",
      "A rhymed couplet:\n",
      "The message written there was crystal plain\n",
      "For those with eyes to see, and hearts to\n",
      "\n",
      "A rhymed couplet:\n",
      "The message written there was crystal plain\n",
      "To all who read, a truth they could not\n",
      "\n",
      "A rhymed couplet:\n",
      "The message written there was crystal plain\n",
      "To anyone who dared to read its\n",
      "\n",
      "A rhymed couplet:\n",
      "The message written there was crystal plain\n",
      "But its meaning, hidden, brought forth only\n",
      "\n",
      "A rhymed couplet:\n",
      "The message written there was crystal plain\n",
      "To say the least, it wasn't subtle's\n",
      "\n",
      "A rhymed couplet:\n",
      "The message written there was crystal plain\n",
      "To those who sought its truth, to ease their\n",
      "\n",
      "A rhymed couplet:\n",
      "The message written there was crystal plain\n",
      "And told a story, whispered in the\n",
      "\n",
      "A rhymed couplet:\n",
      "That constant noise became my existence's bane\n",
      "And drove me to seek solace in solitude's\n",
      "\n",
      "A rhymed couplet:\n",
      "That constant noise became my existence's bane\n",
      "A symphony of chaos, driving me\n",
      "\n",
      "A rhymed couplet:\n",
      "That constant noise became my existence's bane\n",
      "Now silence reigns, a sweet and gentle\n",
      "\n",
      "A rhymed couplet:\n",
      "That constant noise became my existence's bane\n",
      "I wished for silence, to soothe my aching\n",
      "\n",
      "A rhymed couplet:\n",
      "That constant noise became my existence's bane\n",
      "Until I found silence, and peace I did\n",
      "\n",
      "A rhymed couplet:\n",
      "That constant noise became my existence's bane\n",
      "The steady hum, a torment that drove me\n",
      "\n",
      "A rhymed couplet:\n",
      "That constant noise became my existence's bane\n",
      "And stole the peace from my quiet\n",
      "\n",
      "A rhymed couplet:\n",
      "That constant noise became my existence's bane\n",
      "And filled my days with endless, gnawing\n",
      "\n",
      "A rhymed couplet:\n",
      "That constant noise became my existence's bane\n",
      "Its drone, a torment, driving me\n",
      "\n",
      "A rhymed couplet:\n",
      "That constant noise became my existence's bane\n",
      "A ceaseless buzz that drove me quite\n",
      "\n",
      "A rhymed couplet:\n",
      "That constant noise became my existence's bane\n",
      "And drove me to seek solace elsewhere in\n",
      "\n",
      "A rhymed couplet:\n",
      "That constant noise became my existence's bane\n",
      "A symphony of chaos, driving me\n",
      "\n",
      "A rhymed couplet:\n",
      "That constant noise became my existence's bane\n",
      "An endless cacophony, driving me\n",
      "\n",
      "A rhymed couplet:\n",
      "That constant noise became my existence's bane\n",
      "A symphony of sorrow, echoing my\n",
      "\n",
      "A rhymed couplet:\n",
      "That constant noise became my existence's bane\n",
      "A symphony of chaos, driving me\n",
      "\n",
      "A rhymed couplet:\n",
      "That constant noise became my existence's bane\n",
      "I longed for silence, to ease my weary\n",
      "\n",
      "A rhymed couplet:\n",
      "That constant noise became my existence's bane\n",
      "And filled my soul with emptiness and\n",
      "\n",
      "A rhymed couplet:\n",
      "That constant noise became my existence's bane\n",
      "A droning chorus, echoing through my\n",
      "\n",
      "A rhymed couplet:\n",
      "That constant noise became my existence's bane\n",
      "And drove me to silence, seeking peace\n",
      "\n",
      "A rhymed couplet:\n",
      "That constant noise became my existence's bane\n",
      "And silence, a dream I could never\n",
      "\n",
      "A rhymed couplet:\n",
      "That constant noise became my existence's bane\n",
      "A ringing, clanging, din that drove me\n",
      "\n",
      "A rhymed couplet:\n",
      "That constant noise became my existence's bane\n",
      "A deafening drone that drove me quite\n",
      "\n",
      "A rhymed couplet:\n",
      "That constant noise became my existence's bane\n",
      "Until I built a wall and sought some peace\n",
      "\n",
      "A rhymed couplet:\n",
      "The sunlight streamed through the window pane\n",
      "And bathed the world in golden\n",
      "\n",
      "A rhymed couplet:\n",
      "The sunlight streamed through the window pane\n",
      "And kissed the sleeping world in golden\n",
      "\n",
      "A rhymed couplet:\n",
      "The sunlight streamed through the window pane\n",
      "And kissed the dust motes dancing in the\n",
      "\n",
      "A rhymed couplet:\n",
      "The sunlight streamed through the window pane\n",
      "And kissed the world in a golden\n",
      "\n",
      "A rhymed couplet:\n",
      "The sunlight streamed through the window pane\n",
      "And woke me from my slumber's\n",
      "\n",
      "A rhymed couplet:\n",
      "The sunlight streamed through the window pane\n",
      "And woke the sleeper, free from\n",
      "\n",
      "A rhymed couplet:\n",
      "The sunlight streamed through the window pane\n",
      "And bathed the room in golden\n",
      "\n",
      "A rhymed couplet:\n",
      "The sunlight streamed through the window pane\n",
      "And kissed the dew upon the grass\n",
      "\n",
      "A rhymed couplet:\n",
      "The sunlight streamed through the window pane\n",
      "And kissed the sleeping world with golden\n",
      "\n",
      "A rhymed couplet:\n",
      "The sunlight streamed through the window pane\n",
      "And kissed the dust motes in a golden\n",
      "\n",
      "A rhymed couplet:\n",
      "The sunlight streamed through the window pane\n",
      "And bathed the room in a golden\n",
      "\n",
      "A rhymed couplet:\n",
      "The sunlight streamed through the window pane\n",
      "And kissed the dust motes in a golden\n",
      "\n",
      "A rhymed couplet:\n",
      "The sunlight streamed through the window pane\n",
      "And woke the sleeper from his dreams\n",
      "\n",
      "A rhymed couplet:\n",
      "The sunlight streamed through the window pane\n",
      "And painted rainbows in the morning\n",
      "\n",
      "A rhymed couplet:\n",
      "The sunlight streamed through the window pane\n",
      "And woke me from my slumber's\n",
      "\n",
      "A rhymed couplet:\n",
      "The sunlight streamed through the window pane\n",
      "And bathed the room in a golden\n",
      "\n",
      "A rhymed couplet:\n",
      "The sunlight streamed through the window pane\n",
      "And kissed the sleeping child's sweet face in\n",
      "\n",
      "A rhymed couplet:\n",
      "The sunlight streamed through the window pane\n",
      "And kissed the dust motes dancing in the\n",
      "\n",
      "A rhymed couplet:\n",
      "The sunlight streamed through the window pane\n",
      "And woke the world from slumber's\n",
      "\n",
      "A rhymed couplet:\n",
      "The sunlight streamed through the window pane\n",
      "And bathed the room in a golden\n",
      "\n",
      "A rhymed couplet:\n",
      "The sunlight streamed through the window pane\n",
      "And kissed the dust motes in a golden\n",
      "\n",
      "A rhymed couplet:\n",
      "The sunlight streamed through the window pane\n",
      "And bathed the room in a gentle\n",
      "\n",
      "A rhymed couplet:\n",
      "The sunlight streamed through the window pane\n",
      "And painted rainbows on the dancing\n",
      "\n",
      "A rhymed couplet:\n",
      "The sunlight streamed through the window pane\n",
      "And kissed the petals, soft as\n",
      "\n",
      "A rhymed couplet:\n",
      "The sunlight streamed through the window pane\n",
      "And kissed the dust motes in the golden\n",
      "\n",
      "A rhymed couplet:\n",
      "The sunlight streamed through the window pane\n",
      "And kissed the slumbering world with golden\n",
      "\n",
      "A rhymed couplet:\n",
      "The sunlight streamed through the window pane\n",
      "And kissed the flowers, fresh with morning\n",
      "\n",
      "A rhymed couplet:\n",
      "The sunlight streamed through the window pane\n",
      "And bathed the room in a golden\n",
      "\n",
      "A rhymed couplet:\n",
      "The sunlight streamed through the window pane\n",
      "Bringing warmth and life to the gentle\n",
      "\n",
      "A rhymed couplet:\n",
      "The sunlight streamed through the window pane\n",
      "And kissed the dust motes, dancing in the\n",
      "\n",
      "A rhymed couplet:\n",
      "The sunlight streamed through the window pane\n",
      "And kissed the dust motes in a golden\n",
      "\n",
      "A rhymed couplet:\n",
      "The sunlight streamed through the window pane\n",
      "And kissed the world with golden\n",
      "\n",
      "A rhymed couplet:\n",
      "The sunlight streamed through the window pane\n",
      "Washing the room with a golden\n",
      "\n",
      "A rhymed couplet:\n",
      "The sunlight streamed through the window pane\n",
      "And kissed the world with golden\n",
      "\n",
      "A rhymed couplet:\n",
      "The sunlight streamed through the window pane\n",
      "And bathed the room in a golden\n",
      "\n",
      "A rhymed couplet:\n",
      "The sunlight streamed through the window pane\n",
      "And kissed the dust motes in a golden\n",
      "\n",
      "A rhymed couplet:\n",
      "The sunlight streamed through the window pane\n",
      "And woke the world from slumber's\n",
      "\n",
      "A rhymed couplet:\n",
      "The sunlight streamed through the window pane\n",
      "And kissed the dust motes dancing in the\n",
      "\n",
      "A rhymed couplet:\n",
      "The sunlight streamed through the window pane\n",
      "And kissed the sleeping world with golden\n",
      "\n",
      "A rhymed couplet:\n",
      "She looked at the offer with obvious disdain\n",
      "And turned it down flat, a refusal quite\n",
      "\n",
      "A rhymed couplet:\n",
      "She looked at the offer with obvious disdain\n",
      "And promptly tossed it into the pouring\n",
      "\n",
      "A rhymed couplet:\n",
      "She looked at the offer with obvious disdain\n",
      "And whispered, \"No thanks, I'd rather walk in the\n",
      "\n",
      "A rhymed couplet:\n",
      "She looked at the offer with obvious disdain\n",
      "And whispered, \"This isn't worth a single\n",
      "\n",
      "A rhymed couplet:\n",
      "She looked at the offer with obvious disdain\n",
      "And tossed it aside, as if it were in\n",
      "\n",
      "A rhymed couplet:\n",
      "She looked at the offer with obvious disdain\n",
      "And turned it down flat, a refusal so\n",
      "\n",
      "A rhymed couplet:\n",
      "She looked at the offer with obvious disdain\n",
      "For such a meagre sum, it brought only\n",
      "\n",
      "A rhymed couplet:\n",
      "She looked at the offer with obvious disdain\n",
      "And tossed it aside with a mocking\n",
      "\n",
      "A rhymed couplet:\n",
      "She looked at the offer with obvious disdain\n",
      "And tossed it aside, like a crumpled, wet\n",
      "\n",
      "A rhymed couplet:\n",
      "She looked at the offer with obvious disdain\n",
      "And turned it down flat, refusing to\n",
      "\n",
      "A rhymed couplet:\n",
      "She looked at the offer with obvious disdain\n",
      "And promptly tossed it back, a drizzle of\n",
      "\n",
      "A rhymed couplet:\n",
      "She looked at the offer with obvious disdain\n",
      "And scoffed, \"A mere trinket? I'll not be your\n",
      "\n",
      "A rhymed couplet:\n",
      "She looked at the offer with obvious disdain\n",
      "But her smile concealed the fire in her\n",
      "\n",
      "A rhymed couplet:\n",
      "She looked at the offer with obvious disdain\n",
      "And whispered, \"I'd rather be driven by\n",
      "\n",
      "A rhymed couplet:\n",
      "The prisoner rattled his heavy iron chain\n",
      "And dreamt of freedom, a sweet, whispered\n",
      "\n",
      "A rhymed couplet:\n",
      "The prisoner rattled his heavy iron chain\n",
      "And dreamed of freedom, sunshine, and soft\n",
      "\n",
      "A rhymed couplet:\n",
      "The prisoner rattled his heavy iron chain\n",
      "And dreamed of freedom, sunshine, and sweet\n",
      "\n",
      "A rhymed couplet:\n",
      "The prisoner rattled his heavy iron chain\n",
      "And dreamed of freedom, a sweet, sweet\n",
      "\n",
      "A rhymed couplet:\n",
      "The prisoner rattled his heavy iron chain\n",
      "And dreamt of freedom, a sweet, sweet\n",
      "\n",
      "A rhymed couplet:\n",
      "The prisoner rattled his heavy iron chain\n",
      "And dreamt of freedom, sunshine, and the\n",
      "\n",
      "A rhymed couplet:\n",
      "The prisoner rattled his heavy iron chain\n",
      "And dreamed of freedom, like a summer\n",
      "\n",
      "A rhymed couplet:\n",
      "The prisoner rattled his heavy iron chain\n",
      "And dreamt of freedom, where the wild winds\n",
      "\n",
      "A rhymed couplet:\n",
      "The prisoner rattled his heavy iron chain\n",
      "And dreamed of freedom, where sun and wind would\n",
      "\n",
      "A rhymed couplet:\n",
      "The prisoner rattled his heavy iron chain\n",
      "And dreamed of freedom, a whispered\n",
      "\n",
      "A rhymed couplet:\n",
      "The prisoner rattled his heavy iron chain\n",
      "As he dreamt of freedom, and sunshine, and\n",
      "\n",
      "A rhymed couplet:\n",
      "The prisoner rattled his heavy iron chain\n",
      "And dreamed of freedom, sunshine, and the\n",
      "\n",
      "A rhymed couplet:\n",
      "The prisoner rattled his heavy iron chain\n",
      "And dreamt of freedom, sunshine, and soft\n",
      "\n",
      "A rhymed couplet:\n",
      "The prisoner rattled his heavy iron chain\n",
      "And whispered, \"Freedom's a dream, a fleeting\n",
      "\n",
      "A rhymed couplet:\n",
      "The prisoner rattled his heavy iron chain\n",
      "And dreamt of freedom, like sunshine after\n",
      "\n",
      "A rhymed couplet:\n",
      "The prisoner rattled his heavy iron chain\n",
      "And dreamed of freedom, sunshine, and the\n",
      "\n",
      "A rhymed couplet:\n",
      "The prisoner rattled his heavy iron chain\n",
      "And dreamt of freedom, a life without\n",
      "\n",
      "A rhymed couplet:\n",
      "The prisoner rattled his heavy iron chain\n",
      "And dreamt of freedom, sunshine, and sweet\n",
      "\n",
      "A rhymed couplet:\n",
      "The prisoner rattled his heavy iron chain\n",
      "And dreamed of freedom, a sweet, sweet\n",
      "\n",
      "A rhymed couplet:\n",
      "The prisoner rattled his heavy iron chain\n",
      "While dreaming of freedom, sunshine, and\n",
      "\n",
      "A rhymed couplet:\n",
      "The prisoner rattled his heavy iron chain\n",
      "And dreamt of freedom, a sweet, sweet\n",
      "\n",
      "A rhymed couplet:\n",
      "The prisoner rattled his heavy iron chain\n",
      "And dreamed of freedom, sun, and gentle\n",
      "\n",
      "A rhymed couplet:\n",
      "The prisoner rattled his heavy iron chain\n",
      "And longed for freedom, a life without\n",
      "\n",
      "A rhymed couplet:\n",
      "The prisoner rattled his heavy iron chain\n",
      "Wishing for freedom, escaping this\n",
      "\n",
      "A rhymed couplet:\n",
      "The prisoner rattled his heavy iron chain\n",
      "And yearned for freedom's sweet, refreshing\n",
      "\n",
      "A rhymed couplet:\n",
      "The prisoner rattled his heavy iron chain\n",
      "His freedom, a distant and fading\n",
      "\n",
      "A rhymed couplet:\n",
      "The prisoner rattled his heavy iron chain\n",
      "His heart full of sorrow, and longing for\n",
      "\n",
      "A rhymed couplet:\n",
      "The prisoner rattled his heavy iron chain\n",
      "Longing for freedom, his spirit in\n",
      "\n",
      "A rhymed couplet:\n",
      "The prisoner rattled his heavy iron chain\n",
      "And dreamt of freedom, sunshine, and sweet\n",
      "\n",
      "A rhymed couplet:\n",
      "The prisoner rattled his heavy iron chain\n",
      "And wished for freedom's sweet, refreshing\n",
      "\n",
      "A rhymed couplet:\n",
      "The prisoner rattled his heavy iron chain\n",
      "And dreamed of freedom, sunshine, and sweet\n",
      "\n",
      "A rhymed couplet:\n",
      "The prisoner rattled his heavy iron chain\n",
      "And yearned for freedom like a summer\n",
      "\n",
      "A rhymed couplet:\n",
      "The prisoner rattled his heavy iron chain\n",
      "And dreamt of freedom, a sweet, whispered\n",
      "\n",
      "A rhymed couplet:\n",
      "The prisoner rattled his heavy iron chain\n",
      "And dreamed of the freedom he hoped would\n",
      "\n",
      "A rhymed couplet:\n",
      "The prisoner rattled his heavy iron chain\n",
      "And dreamed of freedom, sunshine, and sweet\n",
      "\n",
      "A rhymed couplet:\n",
      "The prisoner rattled his heavy iron chain\n",
      "A symphony of sorrow, a mournful\n",
      "\n",
      "A rhymed couplet:\n",
      "The prisoner rattled his heavy iron chain\n",
      "And dreamed of freedom, a sweet, sweet\n",
      "\n",
      "A rhymed couplet:\n",
      "The prisoner rattled his heavy iron chain\n",
      "And dreamt of freedom, though it seemed in\n",
      "\n",
      "A rhymed couplet:\n",
      "The prisoner rattled his heavy iron chain\n",
      "Longing for freedom, for sun and for\n",
      "\n",
      "A rhymed couplet:\n",
      "The travelers boarded the waiting plane\n",
      "Their journey's start, a joyous\n",
      "\n",
      "A rhymed couplet:\n",
      "The travelers boarded the waiting plane\n",
      "To soar above the clouds, a wondrous\n",
      "\n",
      "A rhymed couplet:\n",
      "The travelers boarded the waiting plane\n",
      "To escape the city's driving\n",
      "\n",
      "A rhymed couplet:\n",
      "The travelers boarded the waiting plane\n",
      "And soared above the world, a wondrous\n",
      "\n",
      "A rhymed couplet:\n",
      "The travelers boarded the waiting plane\n",
      "To reach their destination, not in\n",
      "\n",
      "A rhymed couplet:\n",
      "The travelers boarded the waiting plane\n",
      "To escape the city's driving\n",
      "\n",
      "A rhymed couplet:\n",
      "The travelers boarded the waiting plane\n",
      "And left behind the sun and the\n",
      "\n",
      "A rhymed couplet:\n",
      "The travelers boarded the waiting plane\n",
      "Their journey home, a sweet\n",
      "\n",
      "A rhymed couplet:\n",
      "The travelers boarded the waiting plane\n",
      "To escape the winter's icy\n",
      "\n",
      "A rhymed couplet:\n",
      "The travelers boarded the waiting plane\n",
      "And soared above the world, serene and\n",
      "\n",
      "A rhymed couplet:\n",
      "The travelers boarded the waiting plane\n",
      "And soared above the fields of\n",
      "\n",
      "A rhymed couplet:\n",
      "The travelers boarded the waiting plane\n",
      "And left their worries in the pouring\n",
      "\n",
      "A rhymed couplet:\n",
      "The travelers boarded the waiting plane\n",
      "Their journey home, a sweet\n",
      "\n",
      "A rhymed couplet:\n",
      "The travelers boarded the waiting plane\n",
      "And dreamed of adventures, sun, and\n",
      "\n",
      "A rhymed couplet:\n",
      "The travelers boarded the waiting plane\n",
      "And soared above the misty\n",
      "\n",
      "A rhymed couplet:\n",
      "The travelers boarded the waiting plane\n",
      "And soared high above the sun and\n",
      "\n",
      "A rhymed couplet:\n",
      "The travelers boarded the waiting plane\n",
      "And soared through the skies, untouched by\n",
      "\n",
      "A rhymed couplet:\n",
      "The travelers boarded the waiting plane\n",
      "And left their woes behind in the\n",
      "\n",
      "A rhymed couplet:\n",
      "The puzzle challenged every corner of my brain\n",
      "And left me baffled, lost in endless\n",
      "\n",
      "A rhymed couplet:\n",
      "The puzzle challenged every corner of my brain\n",
      "Until I found the answer and it eased my\n",
      "\n",
      "A rhymed couplet:\n",
      "The puzzle challenged every corner of my brain\n",
      "And left me feeling quite bewildered and in\n",
      "\n",
      "A rhymed couplet:\n",
      "The puzzle challenged every corner of my brain\n",
      "And left me feeling utterly\n",
      "\n",
      "A rhymed couplet:\n",
      "The puzzle challenged every corner of my brain\n",
      "And left me longing for a peaceful, calming\n",
      "\n",
      "A rhymed couplet:\n",
      "The puzzle challenged every corner of my brain\n",
      "Until the answer, finally, came like gentle\n",
      "\n",
      "A rhymed couplet:\n",
      "The puzzle challenged every corner of my brain\n",
      "And left me pondering, seeking answers in\n",
      "\n",
      "A rhymed couplet:\n",
      "The puzzle challenged every corner of my brain\n",
      "And left me feeling just a little bit\n",
      "\n",
      "A rhymed couplet:\n",
      "The puzzle challenged every corner of my brain\n",
      "And left me feeling utterly\n",
      "\n",
      "A rhymed couplet:\n",
      "The puzzle challenged every corner of my brain\n",
      "And left me frazzled, though I'd tried in\n",
      "\n",
      "A rhymed couplet:\n",
      "The puzzle challenged every corner of my brain\n",
      "And left me feeling utterly\n",
      "\n",
      "A rhymed couplet:\n",
      "The puzzle challenged every corner of my brain\n",
      "But with a sigh, the solution came, like gentle\n",
      "\n",
      "A rhymed couplet:\n",
      "The puzzle challenged every corner of my brain\n",
      "And left me feeling utterly\n",
      "\n",
      "A rhymed couplet:\n",
      "The puzzle challenged every corner of my brain\n",
      "And left me feeling like I'd gone completely\n",
      "\n",
      "A rhymed couplet:\n",
      "The puzzle challenged every corner of my brain\n",
      "And left me feeling both frustrated and in\n",
      "\n",
      "A rhymed couplet:\n",
      "The puzzle challenged every corner of my brain\n",
      "And left me feeling quite bewildered and in\n",
      "\n",
      "A rhymed couplet:\n",
      "The puzzle challenged every corner of my brain\n",
      "And left me feeling quite bewildered and in\n",
      "\n",
      "A rhymed couplet:\n",
      "The puzzle challenged every corner of my brain\n",
      "And left me feeling both exhausted and in\n",
      "\n",
      "A rhymed couplet:\n",
      "The puzzle challenged every corner of my brain\n",
      "To find the solution, I had to toil and\n",
      "\n",
      "A rhymed couplet:\n",
      "The puzzle challenged every corner of my brain\n",
      "But finally solved, it brought a sweet, sweet\n",
      "\n",
      "A rhymed couplet:\n",
      "The wind direction showed on the weather vane\n",
      "And pointed towards the coming storm's\n",
      "\n",
      "A rhymed couplet:\n",
      "The wind direction showed on the weather vane\n",
      "It whispered secrets of the coming\n",
      "\n",
      "A rhymed couplet:\n",
      "The wind direction showed on the weather vane\n",
      "A shift in the air, a change\n",
      "\n",
      "A rhymed couplet:\n",
      "The wind direction showed on the weather vane\n",
      "Was **southerly**, a gentle, warming\n",
      "\n",
      "A rhymed couplet:\n",
      "The wind direction showed on the weather vane\n",
      "Whispering secrets of the coming\n",
      "\n",
      "A rhymed couplet:\n",
      "The wind direction showed on the weather vane\n",
      "And whispered secrets of the coming\n",
      "\n",
      "A rhymed couplet:\n",
      "The wind direction showed on the weather vane\n",
      "The path we must take, a twist and a\n",
      "\n",
      "A rhymed couplet:\n",
      "The wind direction showed on the weather vane\n",
      "A shift in the breeze, a change was at\n",
      "\n",
      "A rhymed couplet:\n",
      "The wind direction showed on the weather vane\n",
      "A change was coming, a shift in the\n",
      "\n",
      "A rhymed couplet:\n",
      "The wind direction showed on the weather vane\n",
      "And whispered secrets of the coming\n",
      "\n",
      "A rhymed couplet:\n",
      "The wind direction showed on the weather vane\n",
      "Whispering secrets of the coming\n",
      "\n",
      "A rhymed couplet:\n",
      "The wind direction showed on the weather vane\n",
      "And whispered secrets of the coming\n",
      "\n",
      "A rhymed couplet:\n",
      "The wind direction showed on the weather vane\n",
      "To warn of the storm that would soon be our\n",
      "\n",
      "A rhymed couplet:\n",
      "The wind direction showed on the weather vane\n",
      "A change was coming, like a steady\n",
      "\n",
      "A rhymed couplet:\n",
      "The wind direction showed on the weather vane\n",
      ", A change was coming, a shift in the\n",
      "\n",
      "A rhymed couplet:\n",
      "The wind direction showed on the weather vane\n",
      "And whispered secrets of a coming\n",
      "\n",
      "A rhymed couplet:\n",
      "The wind direction showed on the weather vane\n",
      "How stormy the day would soon become\n",
      "\n",
      "A rhymed couplet:\n",
      "The wind direction showed on the weather vane\n",
      "And whispered secrets of the coming\n",
      "\n",
      "A rhymed couplet:\n",
      "The wind direction showed on the weather vane\n",
      "A change was coming, a shift in the\n",
      "\n",
      "A rhymed couplet:\n",
      "The wind direction showed on the weather vane\n",
      "A shift in the breeze, a change in the\n",
      "\n",
      "A rhymed couplet:\n",
      "The wind direction showed on the weather vane\n",
      "And whispered secrets of the coming\n",
      "\n",
      "A rhymed couplet:\n",
      "The wind direction showed on the weather vane\n",
      "That storms were brewing, and we'd see much\n",
      "\n",
      "A rhymed couplet:\n",
      "The wind direction showed on the weather vane\n",
      "And so we knew the storm would come\n",
      "\n",
      "A rhymed couplet:\n",
      "The wind direction showed on the weather vane\n",
      "A change was coming, a shift in the\n",
      "\n",
      "A rhymed couplet:\n",
      "The wind direction showed on the weather vane\n",
      "But the forecast said rain, so we knew it was\n",
      "\n",
      "A rhymed couplet:\n",
      "The wind direction showed on the weather vane\n",
      "That change was coming, a coming storm's\n",
      "\n",
      "A rhymed couplet:\n",
      "The wind direction showed on the weather vane\n",
      "And whispered secrets that only the clouds could\n",
      "\n",
      "A rhymed couplet:\n",
      "The wind direction showed on the weather vane\n",
      "And whispered secrets of a coming\n",
      "\n",
      "A rhymed couplet:\n",
      "The wind direction showed on the weather vane\n",
      "And whispered secrets of a coming\n",
      "\n",
      "A rhymed couplet:\n",
      "The wind direction showed on the weather vane\n",
      "A swirling storm was coming, like a\n",
      "\n",
      "A rhymed couplet:\n",
      "The wind direction showed on the weather vane\n",
      "As clouds rolled in, bringing the promised\n",
      "\n",
      "A rhymed couplet:\n",
      "The wind direction showed on the weather vane\n",
      "A change was coming, a shift in the\n",
      "\n",
      "A rhymed couplet:\n",
      "The wind direction showed on the weather vane\n",
      "And whispered tales of rain and sun\n",
      "\n",
      "A rhymed couplet:\n",
      "The wind direction showed on the weather vane\n",
      "Turned westward, bringing rain, as I had\n",
      "\n",
      "A rhymed couplet:\n",
      "The wind direction showed on the weather vane\n",
      "And whispered secrets of the coming\n",
      "\n",
      "A rhymed couplet:\n",
      "He tried to hide his feelings and to feign\n",
      "A stoic mask, but tears welled up\n",
      "\n",
      "A rhymed couplet:\n",
      "He tried to hide his feelings and to feign\n",
      "But love's bright flame burned brightly in his\n",
      "\n",
      "A rhymed couplet:\n",
      "He tried to hide his feelings and to feign\n",
      "Such casual indifference, yet he'd\n",
      "\n",
      "A rhymed couplet:\n",
      "He tried to hide his feelings and to feign\n",
      "A carefree smile, though sorrow filled his\n",
      "\n",
      "A rhymed couplet:\n",
      "He tried to hide his feelings and to feign\n",
      "A smile that masked the sorrow and the\n",
      "\n",
      "A rhymed couplet:\n",
      "He tried to hide his feelings and to feign\n",
      "A stoic mask, but tears fell like the\n",
      "\n",
      "A rhymed couplet:\n",
      "He tried to hide his feelings and to feign\n",
      "A smile, but truth within him did\n",
      "\n",
      "A rhymed couplet:\n",
      "He tried to hide his feelings and to feign\n",
      "A cheerful face, though sorrow filled his\n",
      "\n",
      "A rhymed couplet:\n",
      "He tried to hide his feelings and to feign\n",
      "A stoic face, though sorrow filled his\n",
      "\n",
      "A rhymed couplet:\n",
      "He tried to hide his feelings and to feign\n",
      "A stoic mask, but tears fell like the\n",
      "\n",
      "A rhymed couplet:\n",
      "He tried to hide his feelings and to feign\n",
      "A stoic mask, but love's true fire did\n",
      "\n",
      "A rhymed couplet:\n",
      "He tried to hide his feelings and to feign\n",
      "A stoic mask, but his eyes spoke\n",
      "\n",
      "A rhymed couplet:\n",
      "He tried to hide his feelings and to feign\n",
      "A cheerful mask, though sorrow burned\n",
      "\n",
      "A rhymed couplet:\n",
      "He tried to hide his feelings and to feign\n",
      "A mask of coolness, but his heart did\n",
      "\n",
      "A rhymed couplet:\n",
      "He tried to hide his feelings and to feign\n",
      "A face of calm, but his heart was in\n",
      "\n",
      "A rhymed couplet:\n",
      "He tried to hide his feelings and to feign\n",
      "A lack of care, a mask of cold\n",
      "\n",
      "A rhymed couplet:\n",
      "He tried to hide his feelings and to feign\n",
      "A cheerful face, though sorrow filled his\n",
      "\n",
      "A rhymed couplet:\n",
      "He tried to hide his feelings and to feign\n",
      "A cheerful smile, though grief within did\n",
      "\n",
      "A rhymed couplet:\n",
      "He tried to hide his feelings and to feign\n",
      "A stoic mask, a heart devoid of\n",
      "\n",
      "A rhymed couplet:\n",
      "He tried to hide his feelings and to feign\n",
      "A smile, though sorrow seeped like heavy\n",
      "\n",
      "A rhymed couplet:\n",
      "He tried to hide his feelings and to feign\n",
      "A stoic mask, but tears welled up\n",
      "\n",
      "A rhymed couplet:\n",
      "He tried to hide his feelings and to feign\n",
      "An air of nonchalance, but his heart did\n",
      "\n",
      "A rhymed couplet:\n",
      "He tried to hide his feelings and to feign\n",
      "A stoic mask, but tears began to\n",
      "\n",
      "A rhymed couplet:\n",
      "He tried to hide his feelings and to feign\n",
      "A cold indifference, but it was in\n"
     ]
    }
   ],
   "source": [
    "#real deal\n",
    "high_kl_results, high_kl_text_tokens, high_kl_divergences = filter_high_kl_texts(test_texts, -steering_vector,layer_idx = 27,visualize=True)\n",
    "print(f\"Found {len(high_kl_results)} texts with high KL divergence:\")\n",
    "for text in high_kl_results:\n",
    "    print(f\"\\n{text}\")"
   ]
  },
  {
   "cell_type": "code",
   "execution_count": 33,
   "id": "1b1caff7-97e3-4150-8d60-f566e7146afe",
   "metadata": {},
   "outputs": [
    {
     "name": "stdout",
     "output_type": "stream",
     "text": [
      "A rhymed couplet:\n",
      "The plan they proposed was utterly insane\n",
      "They'd build a tower to reach the moon's\n",
      "['They', \"'\", 'd', '▁build', '▁a', '▁tower', '▁to', '▁reach', '▁the', '▁moon', \"'\", 's']\n",
      "[np.float32(0.03655274), np.float32(0.00630405), np.float32(0.06931877), np.float32(0.00013036602), np.float32(0.0069834027), np.float32(0.09025318), np.float32(0.20992135), np.float32(0.49675062), np.float32(0.4656313), np.float32(0.65650785), np.float32(6.164312e-06), np.float32(8.017668)]\n"
     ]
    }
   ],
   "source": [
    "print(high_kl_results[0])\n",
    "print(high_kl_text_tokens[0])\n",
    "print(high_kl_divergences[0])"
   ]
  },
  {
   "cell_type": "code",
   "execution_count": 167,
   "id": "95b1c233-a2ef-4309-bb54-a8e0224d8a84",
   "metadata": {},
   "outputs": [
    {
     "name": "stdout",
     "output_type": "stream",
     "text": [
      "====Prompt:====\n",
      "A rhymed couplet:\n",
      "The plan they proposed was utterly insane\n",
      "They'd build a tower to reach the moon's\n",
      "Processing the last line: 'They'd build a tower to reach the moon's'\n",
      "Processing with steering_multiplier=0...\n",
      "Processing with steering_multiplier=1.5...\n"
     ]
    },
    {
     "data": {
      "image/png": "[encoded data removed]",
      "text/plain": [
       "<Figure size 1200x600 with 1 Axes>"
      ]
     },
     "metadata": {},
     "output_type": "display_data"
    },
    {
     "data": {
      "text/plain": [
       "{'kl_divergences': [np.float32(0.036400583),\n",
       "  np.float32(0.004590045),\n",
       "  np.float32(0.07414716),\n",
       "  np.float32(0.00022086177),\n",
       "  np.float32(0.006095928),\n",
       "  np.float32(0.101959005),\n",
       "  np.float32(0.23503369),\n",
       "  np.float32(0.46376404),\n",
       "  np.float32(0.5281903),\n",
       "  np.float32(0.6940565),\n",
       "  np.float32(6.921629e-06),\n",
       "  np.float32(8.04294)],\n",
       " 'tokens': ['They',\n",
       "  \"'\",\n",
       "  'd',\n",
       "  '▁build',\n",
       "  '▁a',\n",
       "  '▁tower',\n",
       "  '▁to',\n",
       "  '▁reach',\n",
       "  '▁the',\n",
       "  '▁moon',\n",
       "  \"'\",\n",
       "  's'],\n",
       " 'probs_no_steering': array([[2.5587171e-17, 9.6624717e-09, 2.6557245e-10, ..., 8.8107299e-12,\n",
       "         1.2050805e-11, 4.5449755e-16],\n",
       "        [7.8062556e-18, 3.6321580e-08, 9.0949470e-12, ..., 7.2120088e-13,\n",
       "         6.7856831e-13, 7.3725748e-17],\n",
       "        [2.4286129e-17, 7.6252036e-09, 9.2148511e-15, ..., 7.5488060e-11,\n",
       "         2.9558578e-11, 3.7990444e-16],\n",
       "        ...,\n",
       "        [5.3998350e-20, 1.7345883e-08, 8.4696694e-12, ..., 3.6859404e-14,\n",
       "         5.7909233e-13, 4.1928131e-20],\n",
       "        [6.0562856e-20, 1.1932570e-09, 2.9837244e-16, ..., 1.5959456e-16,\n",
       "         1.7139068e-15, 3.6845933e-20],\n",
       "        [1.0720261e-21, 2.0663720e-09, 2.0206059e-14, ..., 1.2143064e-15,\n",
       "         7.9380946e-15, 2.9249106e-21]], shape=(12, 256000), dtype=float32),\n",
       " 'probs_with_steering': array([[4.4235449e-17, 1.2980308e-08, 3.1832315e-10, ..., 1.0459189e-11,\n",
       "         2.7625902e-11, 1.0685897e-15],\n",
       "        [1.2630955e-17, 4.4703484e-08, 1.3415047e-11, ..., 9.0949470e-13,\n",
       "         9.0949470e-13, 1.1969592e-16],\n",
       "        [3.8163916e-17, 9.7788870e-09, 8.2711615e-15, ..., 9.8225428e-11,\n",
       "         8.1854523e-11, 6.3837824e-16],\n",
       "        ...,\n",
       "        [3.9810549e-20, 7.9162419e-09, 1.1027623e-11, ..., 8.3266727e-15,\n",
       "         3.1263880e-13, 5.8021757e-20],\n",
       "        [2.3886329e-19, 5.0567905e-10, 1.4224733e-15, ..., 2.9837244e-16,\n",
       "         1.1796120e-15, 9.9949888e-20],\n",
       "        [2.5622747e-20, 2.0139851e-08, 1.9042545e-12, ..., 6.0784711e-15,\n",
       "         1.0746959e-13, 6.9880218e-20]], shape=(12, 256000), dtype=float32),\n",
       " 'last_line': \"They'd build a tower to reach the moon's\"}"
      ]
     },
     "execution_count": 167,
     "metadata": {},
     "output_type": "execute_result"
    }
   ],
   "source": [
    "analyze_steering_impact_last_line(high_kl_results[0],-steering_vector,layer_idx=27)"
   ]
  },
  {
   "cell_type": "code",
   "execution_count": 22,
   "id": "e95a58d8",
   "metadata": {
    "scrolled": true
   },
   "outputs": [],
   "source": [
    "#doesn't do batching well - use the version below\n",
    "from collections import defaultdict\n",
    "# --- Configuration ---\n",
    "GPU_BATCH_SIZE = 1000       # How many prefixes to process in one model.generate call. TUNE THIS based on VRAM and sequence lengths.\n",
    "NUM_CONTINUATIONS = 100   # Number of rollouts per prefix\n",
    "MAX_GEN_TOKENS = 25       # Max new tokens for generation\n",
    "TEMPERATURE = 0.7         # Generation temperature\n",
    "DO_SAMPLE = True          # Use sampling\n",
    "\n",
    "# --- Modified Function ---\n",
    "def clean(f):\n",
    "    f=f.strip('.')\n",
    "    f=f.strip(',')\n",
    "    f=f.strip('!')\n",
    "    return f\n",
    "\n",
    "def calculate_target_token_frequencies_batched(\n",
    "    model: PreTrainedModel,\n",
    "    tokenizer: PreTrainedTokenizer,\n",
    "    candidate_texts: List[str],\n",
    "    candidate_last_tokens: List[str], # Target words for each text\n",
    "    newline_token_id: int,          # Pre-calculated newline token ID\n",
    "    device: torch.device, # Keep device arg, though generate_steered_output handles internal placement\n",
    "    # Add generation parameters needed by generate_steered_output\n",
    "    max_new_tokens: int = MAX_GEN_TOKENS,\n",
    "    temperature: float = TEMPERATURE,\n",
    "    do_sample: bool = DO_SAMPLE,\n",
    "    debug=False    \n",
    ") -> List[List[float]]:\n",
    "    \"\"\"\n",
    "    Calculates the frequency of target tokens appearing as the last word\n",
    "    in generated continuations for prefixes after the last newline in each text.\n",
    "    Uses length sorting and delegates generation entirely to generate_steered_output.\n",
    "    Removes internal batching loop and tqdm.\n",
    "\n",
    "    Args:\n",
    "        model: The language model.\n",
    "        tokenizer: The tokenizer.\n",
    "        candidate_texts: List of input text strings.\n",
    "        candidate_last_tokens: List of target last words corresponding to candidate_texts.\n",
    "        newline_token_id: The token ID for the newline character.\n",
    "        device: The torch device (mostly informational now).\n",
    "        max_new_tokens, temperature, do_sample: Generation parameters.\n",
    "\n",
    "\n",
    "    Returns:\n",
    "        A list of lists, where each inner list contains the frequencies\n",
    "        (matches/NUM_CONTINUATIONS) for each token position after the last newline\n",
    "        in the corresponding input text.\n",
    "    \"\"\"\n",
    "    if not candidate_texts or not candidate_last_tokens or len(candidate_texts) != len(candidate_last_tokens):\n",
    "        raise ValueError(\"Input lists are empty or have mismatched lengths.\")\n",
    "    if newline_token_id is None:\n",
    "        raise ValueError(\"newline_token_id must be provided.\")\n",
    "\n",
    "    candidate_last_tokens=[clean(w) for w in candidate_last_tokens]\n",
    "    model.eval() # Ensure model is in eval mode\n",
    "    original_padding_side = tokenizer.padding_side\n",
    "    # generate_steered_output should handle padding side internally\n",
    "\n",
    "    all_prefixes_data = [] # Stores tuples: (original_text_idx, pos_in_text, prefix_token_ids, target_token)\n",
    "\n",
    "    print(\"Step 1: Collecting prefixes...\")\n",
    "    # (Prefix collection logic remains the same)\n",
    "    for text_idx, (text, target_token) in enumerate(zip(candidate_texts, candidate_last_tokens)):\n",
    "        try:\n",
    "             tokens_tensor = tokenizer(text, return_tensors=\"pt\", add_special_tokens=False).input_ids[0]\n",
    "             tokens_list = tokens_tensor.tolist()\n",
    "        except Exception as e:\n",
    "             print(f\"Warning: Error tokenizing text index {text_idx}: {e}. Skipping.\")\n",
    "             continue\n",
    "        try:\n",
    "            newline_indices_rev = [i for i, token_id in enumerate(reversed(tokens_list)) if token_id == newline_token_id]\n",
    "            last_n_pos = len(tokens_list) - 1 - newline_indices_rev[0] if newline_indices_rev else -1\n",
    "        except Exception as e:\n",
    "            print(f\"Warning: Error finding newline in text index {text_idx}: {e}. Skipping.\")\n",
    "            continue\n",
    "        for pos_idx in range(last_n_pos + 1, len(tokens_list)):\n",
    "            prefix_tokens = tokens_list[:pos_idx]\n",
    "            if not prefix_tokens: continue\n",
    "            all_prefixes_data.append(\n",
    "                (text_idx, pos_idx, torch.tensor(prefix_tokens, dtype=torch.long), target_token)\n",
    "            )\n",
    "    # --- End Prefix Collection ---\n",
    "\n",
    "    if not all_prefixes_data:\n",
    "        print(\"No valid prefixes found to generate from.\")\n",
    "        # tokenizer.padding_side = original_padding_side # Restore if needed\n",
    "        return [[] for _ in candidate_texts]\n",
    "\n",
    "    print(f\"Collected {len(all_prefixes_data)} total prefixes.\")\n",
    "\n",
    "    # Step 2: Sort prefixes by length\n",
    "    print(\"Step 2: Sorting prefixes by length...\")\n",
    "    all_prefixes_data.sort(key=lambda x: len(x[2]))\n",
    "\n",
    "    # Step 3: Decode all sorted prefixes and generate using generate_steered_output ONCE\n",
    "    print(f\"Step 3: Decoding {len(all_prefixes_data)} prefixes...\")\n",
    "    all_prefix_strings_sorted = [tokenizer.decode(data[2]) for data in all_prefixes_data]\n",
    "\n",
    "    print(f\"Step 3b: Calling generate_steered_output for all {len(all_prefix_strings_sorted)} prefixes (generating {NUM_CONTINUATIONS} each)...\")\n",
    "    all_generated_texts = []\n",
    "    try:\n",
    "        # Call generate_steered_output for the *entire sorted list* of prefix strings\n",
    "        all_generated_texts = generate_steered_output(\n",
    "            steering_vector=None, # No steering needed for this specific task\n",
    "            model=model,\n",
    "            tokenizer=tokenizer,\n",
    "            generation_prompts=all_prefix_strings_sorted, # Pass the full sorted list\n",
    "            batch_size=NUM_CONTINUATIONS,                # Generate 100 outputs per prefix\n",
    "            # Pass other necessary args\n",
    "            max_new_tokens=max_new_tokens,\n",
    "            temperature=temperature,\n",
    "            do_sample=do_sample\n",
    "            # layer=..., steering_multiplier=... # Only if steering needed\n",
    "        )\n",
    "        print(\"Generation complete.\")\n",
    "    except Exception as e:\n",
    "         print(f\"Error during the single call to generate_steered_output: {e}\")\n",
    "         # Depending on the error, you might have partial results or none\n",
    "         # If no results, return empty structure\n",
    "         if not all_generated_texts:\n",
    "              print(\"No results generated due to error.\")\n",
    "              tokenizer.padding_side = original_padding_side\n",
    "              return [[] for _ in candidate_texts]\n",
    "         else:\n",
    "              print(\"Proceeding with potentially incomplete results due to error.\")\n",
    "\n",
    "    # --- Step 3c: Process Results ---\n",
    "    print(\"Step 3c: Processing generated texts...\")\n",
    "    temp_results = {} # Key: (text_idx, pos_idx), Value: frequency\n",
    "    expected_num_outputs = len(all_prefix_strings_sorted) * NUM_CONTINUATIONS\n",
    "\n",
    "    if len(all_generated_texts) != expected_num_outputs:\n",
    "        print(f\"Warning: Mismatch in expected outputs!\")\n",
    "        print(f\"  Expected {expected_num_outputs}, got {len(all_generated_texts)}. Results might be incomplete or incorrect.\")\n",
    "        # Attempt to process what we have, but mapping might be wrong if generation failed mid-way\n",
    "\n",
    "    output_idx_counter = 0\n",
    "    # Iterate through the *sorted* prefix data which corresponds to the order of generation\n",
    "    for k in range(len(all_prefixes_data)):\n",
    "        text_idx, pos_idx, _, target_token = all_prefixes_data[k] # Get original metadata\n",
    "        \n",
    "        matches = 0\n",
    "        # Extract the NUM_CONTINUATIONS corresponding to this k-th prefix\n",
    "        start_idx = k * NUM_CONTINUATIONS\n",
    "        end_idx = start_idx + NUM_CONTINUATIONS\n",
    "\n",
    "        # Check bounds in case of generation error / mismatch\n",
    "        if start_idx >= len(all_generated_texts):\n",
    "             print(f\"Warning: Ran out of generated texts while processing prefix index {k}. Skipping.\")\n",
    "             continue\n",
    "        # Adjust end_idx if generation was cut short\n",
    "        actual_end_idx = min(end_idx, len(all_generated_texts))\n",
    "\n",
    "        prefix_continuations = all_generated_texts[start_idx:actual_end_idx]\n",
    "        actual_num_continuations = len(prefix_continuations) # Use actual count for frequency calc\n",
    "\n",
    "        for cont in prefix_continuations:\n",
    "            last_word = get_last_word(cont)\n",
    "            last_word=clean(last_word)\n",
    "            if debug:\n",
    "                print(f\"Generated text: {cont}\")\n",
    "                print(f\"Checking the match between last word {last_word} and target {target_token}\")\n",
    "            if last_word == target_token:\n",
    "                matches += 1\n",
    "\n",
    "        # Calculate and store frequency (use actual count if generation was partial)\n",
    "        frequency = matches / actual_num_continuations if actual_num_continuations > 0 else 0.0\n",
    "        temp_results[(text_idx, pos_idx)] = frequency\n",
    "\n",
    "    # Minimal cleanup\n",
    "    del all_prefix_strings_sorted, all_generated_texts, all_prefixes_data\n",
    "    gc.collect()\n",
    "    if torch.cuda.is_available():\n",
    "        torch.cuda.empty_cache()\n",
    "\n",
    "    # Step 4: Assemble Final Output Structure\n",
    "    print(\"Step 4: Assembling final results...\")\n",
    "    # (Assembly logic remains the same)\n",
    "    target_token_frequencies = [[] for _ in candidate_texts]\n",
    "    grouped_results = defaultdict(list)\n",
    "    for (text_idx, pos_idx), frequency in temp_results.items():\n",
    "        grouped_results[text_idx].append((pos_idx, frequency))\n",
    "    for text_idx in range(len(candidate_texts)):\n",
    "        if text_idx in grouped_results:\n",
    "            sorted_freqs = sorted(grouped_results[text_idx], key=lambda x: x[0])\n",
    "            target_token_frequencies[text_idx] = [freq for pos, freq in sorted_freqs]\n",
    "    # --- End Assembly ---\n",
    "\n",
    "    print(\"Processing complete.\")\n",
    "    tokenizer.padding_side = original_padding_side # Restore original padding side\n",
    "    return target_token_frequencies"
   ]
  },
  {
   "cell_type": "code",
   "execution_count": 23,
   "id": "94d48b44-1e02-484e-a9c4-3629d2bd1ca6",
   "metadata": {},
   "outputs": [],
   "source": [
    "#NEW VERSION WITH BATCHING\n",
    "PREFIX_BATCH_SIZE = 16\n",
    "\n",
    "NUM_CONTINUATIONS = 100   # Number of rollouts per prefix (passed as batch_size to generate_steered_output)\n",
    "MAX_GEN_TOKENS = 25       # Max new tokens for generation\n",
    "TEMPERATURE = 0.7         # Generation temperature\n",
    "DO_SAMPLE = True          # Use sampling\n",
    "\n",
    "def clean(f):\n",
    "    f=f.strip('.')\n",
    "    f=f.strip(',')\n",
    "    f=f.strip('!')\n",
    "    return f\n",
    "# --- Modified Function ---\n",
    "\n",
    "def calculate_target_token_frequencies_batched(\n",
    "    model: PreTrainedModel,\n",
    "    tokenizer: PreTrainedTokenizer,\n",
    "    candidate_texts: List[str],\n",
    "    candidate_last_tokens: List[str], # Target words for each text\n",
    "    newline_token_id: int,          # Pre-calculated newline token ID\n",
    "    device: torch.device, # Keep device arg\n",
    "    # Add generation parameters needed by generate_steered_output\n",
    "    max_new_tokens: int = MAX_GEN_TOKENS,\n",
    "    temperature: float = TEMPERATURE,\n",
    "    do_sample: bool = DO_SAMPLE,\n",
    "    debug=False\n",
    ") -> List[List[float]]:\n",
    "    \"\"\"\n",
    "    Calculates the frequency of target tokens appearing as the last word\n",
    "    in generated continuations for prefixes after the last newline in each text.\n",
    "    Uses length sorting and calls generate_steered_output in manageable batches.\n",
    "\n",
    "    Args:\n",
    "        model: The language model.\n",
    "        tokenizer: The tokenizer.\n",
    "        candidate_texts: List of input text strings.\n",
    "        candidate_last_tokens: List of target last words corresponding to candidate_texts.\n",
    "        newline_token_id: The token ID for the newline character.\n",
    "        device: The torch device.\n",
    "        max_new_tokens, temperature, do_sample: Generation parameters.\n",
    "        debug: Flag for verbose printing during matching.\n",
    "\n",
    "\n",
    "    Returns:\n",
    "        A list of lists, where each inner list contains the frequencies\n",
    "        (matches/NUM_CONTINUATIONS) for each token position after the last newline\n",
    "        in the corresponding input text.\n",
    "    \"\"\"\n",
    "    if not candidate_texts or not candidate_last_tokens or len(candidate_texts) != len(candidate_last_tokens):\n",
    "        raise ValueError(\"Input lists are empty or have mismatched lengths.\")\n",
    "    if newline_token_id is None:\n",
    "        raise ValueError(\"newline_token_id must be provided.\")\n",
    "\n",
    "    # Clean target tokens once at the beginning\n",
    "    cleaned_candidate_last_tokens = [clean(w) for w in candidate_last_tokens]\n",
    "\n",
    "    model.eval() # Ensure model is in eval mode\n",
    "    original_padding_side = tokenizer.padding_side\n",
    "    # generate_steered_output should handle padding side internally if needed\n",
    "\n",
    "    all_prefixes_data = [] # Stores tuples: (original_text_idx, pos_in_text, prefix_token_ids, target_token)\n",
    "\n",
    "    print(\"Step 1: Collecting prefixes...\")\n",
    "    # --- Prefix Collection (No changes needed here) ---\n",
    "    for text_idx, (text, target_token) in enumerate(zip(candidate_texts, cleaned_candidate_last_tokens)): # Use cleaned targets\n",
    "        try:\n",
    "             tokens_tensor = tokenizer(text, return_tensors=\"pt\", add_special_tokens=False).input_ids[0]\n",
    "             tokens_list = tokens_tensor.tolist()\n",
    "        except Exception as e:\n",
    "             print(f\"Warning: Error tokenizing text index {text_idx}: {e}. Skipping.\")\n",
    "             continue\n",
    "        try:\n",
    "            newline_indices_rev = [i for i, token_id in enumerate(reversed(tokens_list)) if token_id == newline_token_id]\n",
    "            last_n_pos = len(tokens_list) - 1 - newline_indices_rev[0] if newline_indices_rev else -1\n",
    "        except Exception as e:\n",
    "            print(f\"Warning: Error finding newline in text index {text_idx}: {e}. Skipping.\")\n",
    "            continue\n",
    "        for pos_idx in range(last_n_pos + 1, len(tokens_list)):\n",
    "            prefix_tokens = tokens_list[:pos_idx]\n",
    "            if not prefix_tokens: continue\n",
    "            all_prefixes_data.append(\n",
    "                (text_idx, pos_idx, torch.tensor(prefix_tokens, dtype=torch.long), target_token)\n",
    "            )\n",
    "    # --- End Prefix Collection ---\n",
    "\n",
    "    if not all_prefixes_data:\n",
    "        print(\"No valid prefixes found to generate from.\")\n",
    "        return [[] for _ in candidate_texts]\n",
    "\n",
    "    print(f\"Collected {len(all_prefixes_data)} total prefixes.\")\n",
    "\n",
    "    # Step 2: Sort prefixes by length\n",
    "    print(\"Step 2: Sorting prefixes by length...\")\n",
    "    all_prefixes_data.sort(key=lambda x: len(x[2]))\n",
    "\n",
    "    # Step 3: Process Prefixes in Batches\n",
    "    print(f\"Step 3: Generating continuations in batches of {PREFIX_BATCH_SIZE} prefixes...\")\n",
    "    temp_results = {} # Key: (text_idx, pos_idx), Value: frequency\n",
    "\n",
    "    # --- Reintroduce Batch Loop ---\n",
    "    num_prefixes = len(all_prefixes_data)\n",
    "    for i in range(0, num_prefixes, PREFIX_BATCH_SIZE):\n",
    "        batch_start_idx = i\n",
    "        batch_end_idx = min(i + PREFIX_BATCH_SIZE, num_prefixes)\n",
    "        current_batch_data = all_prefixes_data[batch_start_idx:batch_end_idx]\n",
    "        if not current_batch_data: continue\n",
    "\n",
    "        print(f\"  Processing prefix batch {i // PREFIX_BATCH_SIZE + 1} / {math.ceil(num_prefixes / PREFIX_BATCH_SIZE)} (indices {batch_start_idx}-{batch_end_idx-1})\")\n",
    "\n",
    "        # Decode prefixes for this batch only\n",
    "        batch_prefix_strings = [tokenizer.decode(data[2]) for data in current_batch_data]\n",
    "\n",
    "        # Call generate_steered_output for the current batch of prefixes\n",
    "        batch_generated_texts = []\n",
    "        try:\n",
    "            batch_generated_texts = generate_steered_output(\n",
    "                steering_vector=None, # No steering needed for this specific task\n",
    "                model=model,\n",
    "                tokenizer=tokenizer,\n",
    "                generation_prompts=batch_prefix_strings, # Pass the current batch list\n",
    "                batch_size=NUM_CONTINUATIONS,          # Generate N outputs per prefix\n",
    "                # Pass other necessary args\n",
    "                max_new_tokens=max_new_tokens,\n",
    "                temperature=temperature,\n",
    "                do_sample=do_sample\n",
    "                # layer=..., steering_multiplier=... # Only if steering needed\n",
    "            )\n",
    "            if debug: print(f\"    Generated {len(batch_generated_texts)} texts for this batch.\")\n",
    "\n",
    "        except Exception as e:\n",
    "             print(f\"Error during call to generate_steered_output for batch starting at prefix index {i}: {e}\")\n",
    "             # Decide how to handle: skip batch, retry, etc. Skipping result processing for this batch.\n",
    "             continue # Move to the next batch\n",
    "\n",
    "        # --- Process results for THIS batch ---\n",
    "        expected_num_outputs = len(batch_prefix_strings) * NUM_CONTINUATIONS\n",
    "        if len(batch_generated_texts) != expected_num_outputs:\n",
    "            print(f\"Warning: Mismatch in expected outputs for batch starting at {i}.\")\n",
    "            print(f\"  Expected {expected_num_outputs}, got {len(batch_generated_texts)}. Processing available results.\")\n",
    "            # Attempt to process what we have, but mapping might be wrong if generation failed mid-way\n",
    "\n",
    "        output_idx_counter = 0\n",
    "        # Iterate through the prefixes *in this batch*\n",
    "        for k in range(len(current_batch_data)):\n",
    "            text_idx, pos_idx, _, target_token = current_batch_data[k] # Get original metadata\n",
    "\n",
    "            matches = 0\n",
    "            # Extract the NUM_CONTINUATIONS corresponding to this k-th prefix *within the batch results*\n",
    "            start_idx_in_batch_results = k * NUM_CONTINUATIONS\n",
    "            end_idx_in_batch_results = start_idx_in_batch_results + NUM_CONTINUATIONS\n",
    "\n",
    "            # Check bounds against the actual number of texts returned *for this batch*\n",
    "            if start_idx_in_batch_results >= len(batch_generated_texts):\n",
    "                if k==0: # Only warn once per batch if generation completely failed\n",
    "                     print(f\"Warning: No generated texts available for batch starting at prefix index {i}. Skipping results processing for this batch.\")\n",
    "                break # Exit inner loop for this batch if results are missing\n",
    "\n",
    "            actual_end_idx = min(end_idx_in_batch_results, len(batch_generated_texts))\n",
    "            prefix_continuations = batch_generated_texts[start_idx_in_batch_results:actual_end_idx]\n",
    "            actual_num_continuations = len(prefix_continuations)\n",
    "\n",
    "            for cont_idx, cont in enumerate(prefix_continuations):\n",
    "                last_word = get_last_word(cont)\n",
    "                last_word = clean(last_word) # Apply cleaning\n",
    "                if debug and cont_idx < 2: # Print first few checks per prefix if debugging\n",
    "                    print(f\"    [Batch {i//PREFIX_BATCH_SIZE+1}, Prefix {k}, Rollout {cont_idx}] Gen text: '{cont[:50]}...' -> Last word: '{last_word}', Target: '{target_token}'\")\n",
    "                if last_word == target_token:\n",
    "                    matches += 1\n",
    "\n",
    "            # Calculate and store frequency\n",
    "            frequency = matches / actual_num_continuations if actual_num_continuations > 0 else 0.0\n",
    "            temp_results[(text_idx, pos_idx)] = frequency\n",
    "\n",
    "        # Minimal cleanup for the batch\n",
    "        del current_batch_data, batch_prefix_strings, batch_generated_texts\n",
    "        gc.collect()\n",
    "        if torch.cuda.is_available():\n",
    "            torch.cuda.empty_cache()\n",
    "    # --- End Batch Loop ---\n",
    "\n",
    "    # Free memory from original large list\n",
    "    del all_prefixes_data\n",
    "    gc.collect()\n",
    "\n",
    "    # Step 4: Assemble Final Output Structure\n",
    "    print(\"Step 4: Assembling final results...\")\n",
    "    # (Assembly logic remains the same)\n",
    "    target_token_frequencies = [[] for _ in candidate_texts]\n",
    "    grouped_results = defaultdict(list)\n",
    "    for (text_idx, pos_idx), frequency in temp_results.items():\n",
    "        grouped_results[text_idx].append((pos_idx, frequency))\n",
    "    for text_idx in range(len(candidate_texts)):\n",
    "        if text_idx in grouped_results:\n",
    "            sorted_freqs = sorted(grouped_results[text_idx], key=lambda x: x[0])\n",
    "            target_token_frequencies[text_idx] = [freq for pos, freq in sorted_freqs]\n",
    "    # --- End Assembly ---\n",
    "\n",
    "    print(\"Processing complete.\")\n",
    "    tokenizer.padding_side = original_padding_side # Restore original padding side\n",
    "    return target_token_frequencies"
   ]
  },
  {
   "cell_type": "code",
   "execution_count": 38,
   "id": "8e0f8809-2828-4503-aed4-a1faf8b28f60",
   "metadata": {},
   "outputs": [],
   "source": [
    "datasofar={\"couplets\":high_kl_results,\n",
    "\"final_tokens\": token_for_high_kl,\n",
    "\"tokenizations\": high_kl_text_tokens,\n",
    "\"KL_divergences_when_steering\": [[float(k) for k in kldiv] for kldiv in high_kl_divergences]}"
   ]
  },
  {
   "cell_type": "code",
   "execution_count": 39,
   "id": "bffd6c32-37c7-4e62-bda0-35f4d1238d0a",
   "metadata": {},
   "outputs": [],
   "source": [
    "with open(\"KL_divergences_for_pain_rhymes\",'w') as f:\n",
    "    json.dump(datasofar,f)"
   ]
  },
  {
   "cell_type": "code",
   "execution_count": 24,
   "id": "2ed0d783-46d4-4be9-bb3a-e0ef3dc4901f",
   "metadata": {},
   "outputs": [],
   "source": [
    "with open(\"KL_divergences_for_pain_rhymes\",'r') as f:\n",
    "    KL_divergences_for_pain_rhymes=json.load(f)"
   ]
  },
  {
   "cell_type": "code",
   "execution_count": 25,
   "id": "48273a4a-5df9-46f9-88c5-9f7f9f183fd6",
   "metadata": {},
   "outputs": [],
   "source": [
    "high_kl_results=KL_divergences_for_pain_rhymes[\"couplets\"]\n",
    "high_kl_divergences=KL_divergences_for_pain_rhymes[\"KL_divergences_when_steering\"]\n",
    "token_for_high_kl=KL_divergences_for_pain_rhymes[\"final_tokens\"]\n",
    "high_kl_text_tokens=KL_divergences_for_pain_rhymes[\"tokenizations\"]"
   ]
  },
  {
   "cell_type": "code",
   "execution_count": 26,
   "id": "9c332dbb-6a63-4b0e-81c4-fa27f1b689d0",
   "metadata": {
    "scrolled": true
   },
   "outputs": [],
   "source": [
    "suggested_token={}\n",
    "for i,j in zip(candidate_texts,candidate_last_tokens):\n",
    "    suggested_token[i]=j\n",
    "token_for_high_kl=[suggested_token[t] for t in high_kl_results]"
   ]
  },
  {
   "cell_type": "code",
   "execution_count": 27,
   "id": "25124610-0be7-48b3-8937-1d73bc7dce5e",
   "metadata": {},
   "outputs": [
    {
     "data": {
      "text/plain": [
       "424"
      ]
     },
     "execution_count": 27,
     "metadata": {},
     "output_type": "execute_result"
    }
   ],
   "source": [
    "len(high_kl_results)"
   ]
  },
  {
   "cell_type": "code",
   "execution_count": 28,
   "id": "387a42a7-5a62-47cc-998b-ab0a09321e74",
   "metadata": {},
   "outputs": [
    {
     "name": "stdout",
     "output_type": "stream",
     "text": [
      "Step 1: Collecting prefixes...\n",
      "Collected 3566 total prefixes.\n",
      "Step 2: Sorting prefixes by length...\n",
      "Step 3: Generating continuations in batches of 16 prefixes...\n",
      "  Processing prefix batch 1 / 223 (indices 0-15)\n"
     ]
    },
    {
     "name": "stderr",
     "output_type": "stream",
     "text": [
      "Generating Batches:   0%|          | 0/1 [00:00<?, ?it/s]Asking to truncate to max_length but no maximum length is provided and the model has no predefined maximum length. Default to no truncation.\n",
      "Generating Batches: 100%|██████████| 1/1 [00:13<00:00, 13.51s/it]\n"
     ]
    },
    {
     "name": "stdout",
     "output_type": "stream",
     "text": [
      "  Processing prefix batch 2 / 223 (indices 16-31)\n"
     ]
    },
    {
     "name": "stderr",
     "output_type": "stream",
     "text": [
      "Generating Batches: 100%|██████████| 1/1 [00:12<00:00, 12.97s/it]\n"
     ]
    },
    {
     "name": "stdout",
     "output_type": "stream",
     "text": [
      "  Processing prefix batch 3 / 223 (indices 32-47)\n"
     ]
    },
    {
     "name": "stderr",
     "output_type": "stream",
     "text": [
      "Generating Batches: 100%|██████████| 1/1 [00:13<00:00, 13.01s/it]\n"
     ]
    },
    {
     "name": "stdout",
     "output_type": "stream",
     "text": [
      "  Processing prefix batch 4 / 223 (indices 48-63)\n"
     ]
    },
    {
     "name": "stderr",
     "output_type": "stream",
     "text": [
      "Generating Batches: 100%|██████████| 1/1 [00:13<00:00, 13.06s/it]\n"
     ]
    },
    {
     "name": "stdout",
     "output_type": "stream",
     "text": [
      "  Processing prefix batch 5 / 223 (indices 64-79)\n"
     ]
    },
    {
     "name": "stderr",
     "output_type": "stream",
     "text": [
      "Generating Batches: 100%|██████████| 1/1 [00:13<00:00, 13.49s/it]\n"
     ]
    },
    {
     "name": "stdout",
     "output_type": "stream",
     "text": [
      "  Processing prefix batch 6 / 223 (indices 80-95)\n"
     ]
    },
    {
     "name": "stderr",
     "output_type": "stream",
     "text": [
      "Generating Batches: 100%|██████████| 1/1 [00:13<00:00, 13.44s/it]\n"
     ]
    },
    {
     "name": "stdout",
     "output_type": "stream",
     "text": [
      "  Processing prefix batch 7 / 223 (indices 96-111)\n"
     ]
    },
    {
     "name": "stderr",
     "output_type": "stream",
     "text": [
      "Generating Batches: 100%|██████████| 1/1 [00:13<00:00, 13.47s/it]\n"
     ]
    },
    {
     "name": "stdout",
     "output_type": "stream",
     "text": [
      "  Processing prefix batch 8 / 223 (indices 112-127)\n"
     ]
    },
    {
     "name": "stderr",
     "output_type": "stream",
     "text": [
      "Generating Batches: 100%|██████████| 1/1 [00:13<00:00, 13.52s/it]\n"
     ]
    },
    {
     "name": "stdout",
     "output_type": "stream",
     "text": [
      "  Processing prefix batch 9 / 223 (indices 128-143)\n"
     ]
    },
    {
     "name": "stderr",
     "output_type": "stream",
     "text": [
      "Generating Batches: 100%|██████████| 1/1 [00:13<00:00, 13.53s/it]\n"
     ]
    },
    {
     "name": "stdout",
     "output_type": "stream",
     "text": [
      "  Processing prefix batch 10 / 223 (indices 144-159)\n"
     ]
    },
    {
     "name": "stderr",
     "output_type": "stream",
     "text": [
      "Generating Batches: 100%|██████████| 1/1 [00:13<00:00, 13.53s/it]\n"
     ]
    },
    {
     "name": "stdout",
     "output_type": "stream",
     "text": [
      "  Processing prefix batch 11 / 223 (indices 160-175)\n"
     ]
    },
    {
     "name": "stderr",
     "output_type": "stream",
     "text": [
      "Generating Batches: 100%|██████████| 1/1 [00:13<00:00, 13.53s/it]\n"
     ]
    },
    {
     "name": "stdout",
     "output_type": "stream",
     "text": [
      "  Processing prefix batch 12 / 223 (indices 176-191)\n"
     ]
    },
    {
     "name": "stderr",
     "output_type": "stream",
     "text": [
      "Generating Batches: 100%|██████████| 1/1 [00:13<00:00, 13.55s/it]\n"
     ]
    },
    {
     "name": "stdout",
     "output_type": "stream",
     "text": [
      "  Processing prefix batch 13 / 223 (indices 192-207)\n"
     ]
    },
    {
     "name": "stderr",
     "output_type": "stream",
     "text": [
      "Generating Batches: 100%|██████████| 1/1 [00:13<00:00, 13.58s/it]\n"
     ]
    },
    {
     "name": "stdout",
     "output_type": "stream",
     "text": [
      "  Processing prefix batch 14 / 223 (indices 208-223)\n"
     ]
    },
    {
     "name": "stderr",
     "output_type": "stream",
     "text": [
      "Generating Batches: 100%|██████████| 1/1 [00:13<00:00, 13.56s/it]\n"
     ]
    },
    {
     "name": "stdout",
     "output_type": "stream",
     "text": [
      "  Processing prefix batch 15 / 223 (indices 224-239)\n"
     ]
    },
    {
     "name": "stderr",
     "output_type": "stream",
     "text": [
      "Generating Batches: 100%|██████████| 1/1 [00:13<00:00, 13.57s/it]\n"
     ]
    },
    {
     "name": "stdout",
     "output_type": "stream",
     "text": [
      "  Processing prefix batch 16 / 223 (indices 240-255)\n"
     ]
    },
    {
     "name": "stderr",
     "output_type": "stream",
     "text": [
      "Generating Batches: 100%|██████████| 1/1 [00:13<00:00, 13.58s/it]\n"
     ]
    },
    {
     "name": "stdout",
     "output_type": "stream",
     "text": [
      "  Processing prefix batch 17 / 223 (indices 256-271)\n"
     ]
    },
    {
     "name": "stderr",
     "output_type": "stream",
     "text": [
      "Generating Batches: 100%|██████████| 1/1 [00:13<00:00, 13.59s/it]\n"
     ]
    },
    {
     "name": "stdout",
     "output_type": "stream",
     "text": [
      "  Processing prefix batch 18 / 223 (indices 272-287)\n"
     ]
    },
    {
     "name": "stderr",
     "output_type": "stream",
     "text": [
      "Generating Batches: 100%|██████████| 1/1 [00:13<00:00, 13.58s/it]\n"
     ]
    },
    {
     "name": "stdout",
     "output_type": "stream",
     "text": [
      "  Processing prefix batch 19 / 223 (indices 288-303)\n"
     ]
    },
    {
     "name": "stderr",
     "output_type": "stream",
     "text": [
      "Generating Batches: 100%|██████████| 1/1 [00:13<00:00, 13.57s/it]\n"
     ]
    },
    {
     "name": "stdout",
     "output_type": "stream",
     "text": [
      "  Processing prefix batch 20 / 223 (indices 304-319)\n"
     ]
    },
    {
     "name": "stderr",
     "output_type": "stream",
     "text": [
      "Generating Batches: 100%|██████████| 1/1 [00:13<00:00, 13.93s/it]\n"
     ]
    },
    {
     "name": "stdout",
     "output_type": "stream",
     "text": [
      "  Processing prefix batch 21 / 223 (indices 320-335)\n"
     ]
    },
    {
     "name": "stderr",
     "output_type": "stream",
     "text": [
      "Generating Batches: 100%|██████████| 1/1 [00:13<00:00, 13.82s/it]\n"
     ]
    },
    {
     "name": "stdout",
     "output_type": "stream",
     "text": [
      "  Processing prefix batch 22 / 223 (indices 336-351)\n"
     ]
    },
    {
     "name": "stderr",
     "output_type": "stream",
     "text": [
      "Generating Batches: 100%|██████████| 1/1 [00:13<00:00, 13.80s/it]\n"
     ]
    },
    {
     "name": "stdout",
     "output_type": "stream",
     "text": [
      "  Processing prefix batch 23 / 223 (indices 352-367)\n"
     ]
    },
    {
     "name": "stderr",
     "output_type": "stream",
     "text": [
      "Generating Batches: 100%|██████████| 1/1 [00:13<00:00, 13.83s/it]\n"
     ]
    },
    {
     "name": "stdout",
     "output_type": "stream",
     "text": [
      "  Processing prefix batch 24 / 223 (indices 368-383)\n"
     ]
    },
    {
     "name": "stderr",
     "output_type": "stream",
     "text": [
      "Generating Batches: 100%|██████████| 1/1 [00:13<00:00, 13.81s/it]\n"
     ]
    },
    {
     "name": "stdout",
     "output_type": "stream",
     "text": [
      "  Processing prefix batch 25 / 223 (indices 384-399)\n"
     ]
    },
    {
     "name": "stderr",
     "output_type": "stream",
     "text": [
      "Generating Batches: 100%|██████████| 1/1 [00:13<00:00, 13.75s/it]\n"
     ]
    },
    {
     "name": "stdout",
     "output_type": "stream",
     "text": [
      "  Processing prefix batch 26 / 223 (indices 400-415)\n"
     ]
    },
    {
     "name": "stderr",
     "output_type": "stream",
     "text": [
      "Generating Batches: 100%|██████████| 1/1 [00:13<00:00, 13.74s/it]\n"
     ]
    },
    {
     "name": "stdout",
     "output_type": "stream",
     "text": [
      "  Processing prefix batch 27 / 223 (indices 416-431)\n"
     ]
    },
    {
     "name": "stderr",
     "output_type": "stream",
     "text": [
      "Generating Batches: 100%|██████████| 1/1 [00:13<00:00, 13.76s/it]\n"
     ]
    },
    {
     "name": "stdout",
     "output_type": "stream",
     "text": [
      "  Processing prefix batch 28 / 223 (indices 432-447)\n"
     ]
    },
    {
     "name": "stderr",
     "output_type": "stream",
     "text": [
      "Generating Batches: 100%|██████████| 1/1 [00:13<00:00, 13.79s/it]\n"
     ]
    },
    {
     "name": "stdout",
     "output_type": "stream",
     "text": [
      "  Processing prefix batch 29 / 223 (indices 448-463)\n"
     ]
    },
    {
     "name": "stderr",
     "output_type": "stream",
     "text": [
      "Generating Batches: 100%|██████████| 1/1 [00:13<00:00, 13.79s/it]\n"
     ]
    },
    {
     "name": "stdout",
     "output_type": "stream",
     "text": [
      "  Processing prefix batch 30 / 223 (indices 464-479)\n"
     ]
    },
    {
     "name": "stderr",
     "output_type": "stream",
     "text": [
      "Generating Batches: 100%|██████████| 1/1 [00:13<00:00, 13.81s/it]\n"
     ]
    },
    {
     "name": "stdout",
     "output_type": "stream",
     "text": [
      "  Processing prefix batch 31 / 223 (indices 480-495)\n"
     ]
    },
    {
     "name": "stderr",
     "output_type": "stream",
     "text": [
      "Generating Batches: 100%|██████████| 1/1 [00:13<00:00, 13.80s/it]\n"
     ]
    },
    {
     "name": "stdout",
     "output_type": "stream",
     "text": [
      "  Processing prefix batch 32 / 223 (indices 496-511)\n"
     ]
    },
    {
     "name": "stderr",
     "output_type": "stream",
     "text": [
      "Generating Batches: 100%|██████████| 1/1 [00:13<00:00, 13.80s/it]\n"
     ]
    },
    {
     "name": "stdout",
     "output_type": "stream",
     "text": [
      "  Processing prefix batch 33 / 223 (indices 512-527)\n"
     ]
    },
    {
     "name": "stderr",
     "output_type": "stream",
     "text": [
      "Generating Batches: 100%|██████████| 1/1 [00:13<00:00, 13.83s/it]\n"
     ]
    },
    {
     "name": "stdout",
     "output_type": "stream",
     "text": [
      "  Processing prefix batch 34 / 223 (indices 528-543)\n"
     ]
    },
    {
     "name": "stderr",
     "output_type": "stream",
     "text": [
      "Generating Batches: 100%|██████████| 1/1 [00:13<00:00, 13.82s/it]\n"
     ]
    },
    {
     "name": "stdout",
     "output_type": "stream",
     "text": [
      "  Processing prefix batch 35 / 223 (indices 544-559)\n"
     ]
    },
    {
     "name": "stderr",
     "output_type": "stream",
     "text": [
      "Generating Batches: 100%|██████████| 1/1 [00:13<00:00, 13.81s/it]\n"
     ]
    },
    {
     "name": "stdout",
     "output_type": "stream",
     "text": [
      "  Processing prefix batch 36 / 223 (indices 560-575)\n"
     ]
    },
    {
     "name": "stderr",
     "output_type": "stream",
     "text": [
      "Generating Batches: 100%|██████████| 1/1 [00:13<00:00, 13.83s/it]\n"
     ]
    },
    {
     "name": "stdout",
     "output_type": "stream",
     "text": [
      "  Processing prefix batch 37 / 223 (indices 576-591)\n"
     ]
    },
    {
     "name": "stderr",
     "output_type": "stream",
     "text": [
      "Generating Batches: 100%|██████████| 1/1 [00:13<00:00, 13.80s/it]\n"
     ]
    },
    {
     "name": "stdout",
     "output_type": "stream",
     "text": [
      "  Processing prefix batch 38 / 223 (indices 592-607)\n"
     ]
    },
    {
     "name": "stderr",
     "output_type": "stream",
     "text": [
      "Generating Batches: 100%|██████████| 1/1 [00:13<00:00, 13.82s/it]\n"
     ]
    },
    {
     "name": "stdout",
     "output_type": "stream",
     "text": [
      "  Processing prefix batch 39 / 223 (indices 608-623)\n"
     ]
    },
    {
     "name": "stderr",
     "output_type": "stream",
     "text": [
      "Generating Batches: 100%|██████████| 1/1 [00:13<00:00, 13.81s/it]\n"
     ]
    },
    {
     "name": "stdout",
     "output_type": "stream",
     "text": [
      "  Processing prefix batch 40 / 223 (indices 624-639)\n"
     ]
    },
    {
     "name": "stderr",
     "output_type": "stream",
     "text": [
      "Generating Batches: 100%|██████████| 1/1 [00:13<00:00, 13.81s/it]\n"
     ]
    },
    {
     "name": "stdout",
     "output_type": "stream",
     "text": [
      "  Processing prefix batch 41 / 223 (indices 640-655)\n"
     ]
    },
    {
     "name": "stderr",
     "output_type": "stream",
     "text": [
      "Generating Batches: 100%|██████████| 1/1 [00:13<00:00, 13.80s/it]\n"
     ]
    },
    {
     "name": "stdout",
     "output_type": "stream",
     "text": [
      "  Processing prefix batch 42 / 223 (indices 656-671)\n"
     ]
    },
    {
     "name": "stderr",
     "output_type": "stream",
     "text": [
      "Generating Batches: 100%|██████████| 1/1 [00:13<00:00, 13.79s/it]\n"
     ]
    },
    {
     "name": "stdout",
     "output_type": "stream",
     "text": [
      "  Processing prefix batch 43 / 223 (indices 672-687)\n"
     ]
    },
    {
     "name": "stderr",
     "output_type": "stream",
     "text": [
      "Generating Batches: 100%|██████████| 1/1 [00:14<00:00, 14.22s/it]\n"
     ]
    },
    {
     "name": "stdout",
     "output_type": "stream",
     "text": [
      "  Processing prefix batch 44 / 223 (indices 688-703)\n"
     ]
    },
    {
     "name": "stderr",
     "output_type": "stream",
     "text": [
      "Generating Batches: 100%|██████████| 1/1 [00:14<00:00, 14.14s/it]\n"
     ]
    },
    {
     "name": "stdout",
     "output_type": "stream",
     "text": [
      "  Processing prefix batch 45 / 223 (indices 704-719)\n"
     ]
    },
    {
     "name": "stderr",
     "output_type": "stream",
     "text": [
      "Generating Batches: 100%|██████████| 1/1 [00:14<00:00, 14.12s/it]\n"
     ]
    },
    {
     "name": "stdout",
     "output_type": "stream",
     "text": [
      "  Processing prefix batch 46 / 223 (indices 720-735)\n"
     ]
    },
    {
     "name": "stderr",
     "output_type": "stream",
     "text": [
      "Generating Batches: 100%|██████████| 1/1 [00:14<00:00, 14.13s/it]\n"
     ]
    },
    {
     "name": "stdout",
     "output_type": "stream",
     "text": [
      "  Processing prefix batch 47 / 223 (indices 736-751)\n"
     ]
    },
    {
     "name": "stderr",
     "output_type": "stream",
     "text": [
      "Generating Batches: 100%|██████████| 1/1 [00:14<00:00, 14.11s/it]\n"
     ]
    },
    {
     "name": "stdout",
     "output_type": "stream",
     "text": [
      "  Processing prefix batch 48 / 223 (indices 752-767)\n"
     ]
    },
    {
     "name": "stderr",
     "output_type": "stream",
     "text": [
      "Generating Batches: 100%|██████████| 1/1 [00:14<00:00, 14.14s/it]\n"
     ]
    },
    {
     "name": "stdout",
     "output_type": "stream",
     "text": [
      "  Processing prefix batch 49 / 223 (indices 768-783)\n"
     ]
    },
    {
     "name": "stderr",
     "output_type": "stream",
     "text": [
      "Generating Batches: 100%|██████████| 1/1 [00:14<00:00, 14.14s/it]\n"
     ]
    },
    {
     "name": "stdout",
     "output_type": "stream",
     "text": [
      "  Processing prefix batch 50 / 223 (indices 784-799)\n"
     ]
    },
    {
     "name": "stderr",
     "output_type": "stream",
     "text": [
      "Generating Batches: 100%|██████████| 1/1 [00:14<00:00, 14.12s/it]\n"
     ]
    },
    {
     "name": "stdout",
     "output_type": "stream",
     "text": [
      "  Processing prefix batch 51 / 223 (indices 800-815)\n"
     ]
    },
    {
     "name": "stderr",
     "output_type": "stream",
     "text": [
      "Generating Batches: 100%|██████████| 1/1 [00:14<00:00, 14.18s/it]\n"
     ]
    },
    {
     "name": "stdout",
     "output_type": "stream",
     "text": [
      "  Processing prefix batch 52 / 223 (indices 816-831)\n"
     ]
    },
    {
     "name": "stderr",
     "output_type": "stream",
     "text": [
      "Generating Batches: 100%|██████████| 1/1 [00:14<00:00, 14.19s/it]\n"
     ]
    },
    {
     "name": "stdout",
     "output_type": "stream",
     "text": [
      "  Processing prefix batch 53 / 223 (indices 832-847)\n"
     ]
    },
    {
     "name": "stderr",
     "output_type": "stream",
     "text": [
      "Generating Batches: 100%|██████████| 1/1 [00:14<00:00, 14.17s/it]\n"
     ]
    },
    {
     "name": "stdout",
     "output_type": "stream",
     "text": [
      "  Processing prefix batch 54 / 223 (indices 848-863)\n"
     ]
    },
    {
     "name": "stderr",
     "output_type": "stream",
     "text": [
      "Generating Batches: 100%|██████████| 1/1 [00:14<00:00, 14.19s/it]\n"
     ]
    },
    {
     "name": "stdout",
     "output_type": "stream",
     "text": [
      "  Processing prefix batch 55 / 223 (indices 864-879)\n"
     ]
    },
    {
     "name": "stderr",
     "output_type": "stream",
     "text": [
      "Generating Batches: 100%|██████████| 1/1 [00:14<00:00, 14.17s/it]\n"
     ]
    },
    {
     "name": "stdout",
     "output_type": "stream",
     "text": [
      "  Processing prefix batch 56 / 223 (indices 880-895)\n"
     ]
    },
    {
     "name": "stderr",
     "output_type": "stream",
     "text": [
      "Generating Batches: 100%|██████████| 1/1 [00:14<00:00, 14.16s/it]\n"
     ]
    },
    {
     "name": "stdout",
     "output_type": "stream",
     "text": [
      "  Processing prefix batch 57 / 223 (indices 896-911)\n"
     ]
    },
    {
     "name": "stderr",
     "output_type": "stream",
     "text": [
      "Generating Batches: 100%|██████████| 1/1 [00:14<00:00, 14.19s/it]\n"
     ]
    },
    {
     "name": "stdout",
     "output_type": "stream",
     "text": [
      "  Processing prefix batch 58 / 223 (indices 912-927)\n"
     ]
    },
    {
     "name": "stderr",
     "output_type": "stream",
     "text": [
      "Generating Batches: 100%|██████████| 1/1 [00:14<00:00, 14.18s/it]\n"
     ]
    },
    {
     "name": "stdout",
     "output_type": "stream",
     "text": [
      "  Processing prefix batch 59 / 223 (indices 928-943)\n"
     ]
    },
    {
     "name": "stderr",
     "output_type": "stream",
     "text": [
      "Generating Batches: 100%|██████████| 1/1 [00:14<00:00, 14.16s/it]\n"
     ]
    },
    {
     "name": "stdout",
     "output_type": "stream",
     "text": [
      "  Processing prefix batch 60 / 223 (indices 944-959)\n"
     ]
    },
    {
     "name": "stderr",
     "output_type": "stream",
     "text": [
      "Generating Batches: 100%|██████████| 1/1 [00:14<00:00, 14.15s/it]\n"
     ]
    },
    {
     "name": "stdout",
     "output_type": "stream",
     "text": [
      "  Processing prefix batch 61 / 223 (indices 960-975)\n"
     ]
    },
    {
     "name": "stderr",
     "output_type": "stream",
     "text": [
      "Generating Batches: 100%|██████████| 1/1 [00:14<00:00, 14.19s/it]\n"
     ]
    },
    {
     "name": "stdout",
     "output_type": "stream",
     "text": [
      "  Processing prefix batch 62 / 223 (indices 976-991)\n"
     ]
    },
    {
     "name": "stderr",
     "output_type": "stream",
     "text": [
      "Generating Batches: 100%|██████████| 1/1 [00:14<00:00, 14.15s/it]\n"
     ]
    },
    {
     "name": "stdout",
     "output_type": "stream",
     "text": [
      "  Processing prefix batch 63 / 223 (indices 992-1007)\n"
     ]
    },
    {
     "name": "stderr",
     "output_type": "stream",
     "text": [
      "Generating Batches: 100%|██████████| 1/1 [00:14<00:00, 14.17s/it]\n"
     ]
    },
    {
     "name": "stdout",
     "output_type": "stream",
     "text": [
      "  Processing prefix batch 64 / 223 (indices 1008-1023)\n"
     ]
    },
    {
     "name": "stderr",
     "output_type": "stream",
     "text": [
      "Generating Batches: 100%|██████████| 1/1 [00:14<00:00, 14.16s/it]\n"
     ]
    },
    {
     "name": "stdout",
     "output_type": "stream",
     "text": [
      "  Processing prefix batch 65 / 223 (indices 1024-1039)\n"
     ]
    },
    {
     "name": "stderr",
     "output_type": "stream",
     "text": [
      "Generating Batches: 100%|██████████| 1/1 [00:14<00:00, 14.13s/it]\n"
     ]
    },
    {
     "name": "stdout",
     "output_type": "stream",
     "text": [
      "  Processing prefix batch 66 / 223 (indices 1040-1055)\n"
     ]
    },
    {
     "name": "stderr",
     "output_type": "stream",
     "text": [
      "Generating Batches: 100%|██████████| 1/1 [00:14<00:00, 14.13s/it]\n"
     ]
    },
    {
     "name": "stdout",
     "output_type": "stream",
     "text": [
      "  Processing prefix batch 67 / 223 (indices 1056-1071)\n"
     ]
    },
    {
     "name": "stderr",
     "output_type": "stream",
     "text": [
      "Generating Batches: 100%|██████████| 1/1 [00:14<00:00, 14.15s/it]\n"
     ]
    },
    {
     "name": "stdout",
     "output_type": "stream",
     "text": [
      "  Processing prefix batch 68 / 223 (indices 1072-1087)\n"
     ]
    },
    {
     "name": "stderr",
     "output_type": "stream",
     "text": [
      "Generating Batches: 100%|██████████| 1/1 [00:14<00:00, 14.15s/it]\n"
     ]
    },
    {
     "name": "stdout",
     "output_type": "stream",
     "text": [
      "  Processing prefix batch 69 / 223 (indices 1088-1103)\n"
     ]
    },
    {
     "name": "stderr",
     "output_type": "stream",
     "text": [
      "Generating Batches: 100%|██████████| 1/1 [00:14<00:00, 14.14s/it]\n"
     ]
    },
    {
     "name": "stdout",
     "output_type": "stream",
     "text": [
      "  Processing prefix batch 70 / 223 (indices 1104-1119)\n"
     ]
    },
    {
     "name": "stderr",
     "output_type": "stream",
     "text": [
      "Generating Batches: 100%|██████████| 1/1 [00:14<00:00, 14.41s/it]\n"
     ]
    },
    {
     "name": "stdout",
     "output_type": "stream",
     "text": [
      "  Processing prefix batch 71 / 223 (indices 1120-1135)\n"
     ]
    },
    {
     "name": "stderr",
     "output_type": "stream",
     "text": [
      "Generating Batches: 100%|██████████| 1/1 [00:14<00:00, 14.34s/it]\n"
     ]
    },
    {
     "name": "stdout",
     "output_type": "stream",
     "text": [
      "  Processing prefix batch 72 / 223 (indices 1136-1151)\n"
     ]
    },
    {
     "name": "stderr",
     "output_type": "stream",
     "text": [
      "Generating Batches: 100%|██████████| 1/1 [00:14<00:00, 14.33s/it]\n"
     ]
    },
    {
     "name": "stdout",
     "output_type": "stream",
     "text": [
      "  Processing prefix batch 73 / 223 (indices 1152-1167)\n"
     ]
    },
    {
     "name": "stderr",
     "output_type": "stream",
     "text": [
      "Generating Batches: 100%|██████████| 1/1 [00:14<00:00, 14.35s/it]\n"
     ]
    },
    {
     "name": "stdout",
     "output_type": "stream",
     "text": [
      "  Processing prefix batch 74 / 223 (indices 1168-1183)\n"
     ]
    },
    {
     "name": "stderr",
     "output_type": "stream",
     "text": [
      "Generating Batches: 100%|██████████| 1/1 [00:14<00:00, 14.36s/it]\n"
     ]
    },
    {
     "name": "stdout",
     "output_type": "stream",
     "text": [
      "  Processing prefix batch 75 / 223 (indices 1184-1199)\n"
     ]
    },
    {
     "name": "stderr",
     "output_type": "stream",
     "text": [
      "Generating Batches: 100%|██████████| 1/1 [00:14<00:00, 14.31s/it]\n"
     ]
    },
    {
     "name": "stdout",
     "output_type": "stream",
     "text": [
      "  Processing prefix batch 76 / 223 (indices 1200-1215)\n"
     ]
    },
    {
     "name": "stderr",
     "output_type": "stream",
     "text": [
      "Generating Batches: 100%|██████████| 1/1 [00:14<00:00, 14.29s/it]\n"
     ]
    },
    {
     "name": "stdout",
     "output_type": "stream",
     "text": [
      "  Processing prefix batch 77 / 223 (indices 1216-1231)\n"
     ]
    },
    {
     "name": "stderr",
     "output_type": "stream",
     "text": [
      "Generating Batches: 100%|██████████| 1/1 [00:14<00:00, 14.30s/it]\n"
     ]
    },
    {
     "name": "stdout",
     "output_type": "stream",
     "text": [
      "  Processing prefix batch 78 / 223 (indices 1232-1247)\n"
     ]
    },
    {
     "name": "stderr",
     "output_type": "stream",
     "text": [
      "Generating Batches: 100%|██████████| 1/1 [00:14<00:00, 14.31s/it]\n"
     ]
    },
    {
     "name": "stdout",
     "output_type": "stream",
     "text": [
      "  Processing prefix batch 79 / 223 (indices 1248-1263)\n"
     ]
    },
    {
     "name": "stderr",
     "output_type": "stream",
     "text": [
      "Generating Batches: 100%|██████████| 1/1 [00:14<00:00, 14.30s/it]\n"
     ]
    },
    {
     "name": "stdout",
     "output_type": "stream",
     "text": [
      "  Processing prefix batch 80 / 223 (indices 1264-1279)\n"
     ]
    },
    {
     "name": "stderr",
     "output_type": "stream",
     "text": [
      "Generating Batches: 100%|██████████| 1/1 [00:14<00:00, 14.32s/it]\n"
     ]
    },
    {
     "name": "stdout",
     "output_type": "stream",
     "text": [
      "  Processing prefix batch 81 / 223 (indices 1280-1295)\n"
     ]
    },
    {
     "name": "stderr",
     "output_type": "stream",
     "text": [
      "Generating Batches: 100%|██████████| 1/1 [00:14<00:00, 14.28s/it]\n"
     ]
    },
    {
     "name": "stdout",
     "output_type": "stream",
     "text": [
      "  Processing prefix batch 82 / 223 (indices 1296-1311)\n"
     ]
    },
    {
     "name": "stderr",
     "output_type": "stream",
     "text": [
      "Generating Batches: 100%|██████████| 1/1 [00:14<00:00, 14.31s/it]\n"
     ]
    },
    {
     "name": "stdout",
     "output_type": "stream",
     "text": [
      "  Processing prefix batch 83 / 223 (indices 1312-1327)\n"
     ]
    },
    {
     "name": "stderr",
     "output_type": "stream",
     "text": [
      "Generating Batches: 100%|██████████| 1/1 [00:14<00:00, 14.30s/it]\n"
     ]
    },
    {
     "name": "stdout",
     "output_type": "stream",
     "text": [
      "  Processing prefix batch 84 / 223 (indices 1328-1343)\n"
     ]
    },
    {
     "name": "stderr",
     "output_type": "stream",
     "text": [
      "Generating Batches: 100%|██████████| 1/1 [00:14<00:00, 14.35s/it]\n"
     ]
    },
    {
     "name": "stdout",
     "output_type": "stream",
     "text": [
      "  Processing prefix batch 85 / 223 (indices 1344-1359)\n"
     ]
    },
    {
     "name": "stderr",
     "output_type": "stream",
     "text": [
      "Generating Batches: 100%|██████████| 1/1 [00:14<00:00, 14.32s/it]\n"
     ]
    },
    {
     "name": "stdout",
     "output_type": "stream",
     "text": [
      "  Processing prefix batch 86 / 223 (indices 1360-1375)\n"
     ]
    },
    {
     "name": "stderr",
     "output_type": "stream",
     "text": [
      "Generating Batches: 100%|██████████| 1/1 [00:14<00:00, 14.31s/it]\n"
     ]
    },
    {
     "name": "stdout",
     "output_type": "stream",
     "text": [
      "  Processing prefix batch 87 / 223 (indices 1376-1391)\n"
     ]
    },
    {
     "name": "stderr",
     "output_type": "stream",
     "text": [
      "Generating Batches: 100%|██████████| 1/1 [00:14<00:00, 14.37s/it]\n"
     ]
    },
    {
     "name": "stdout",
     "output_type": "stream",
     "text": [
      "  Processing prefix batch 88 / 223 (indices 1392-1407)\n"
     ]
    },
    {
     "name": "stderr",
     "output_type": "stream",
     "text": [
      "Generating Batches: 100%|██████████| 1/1 [00:14<00:00, 14.32s/it]\n"
     ]
    },
    {
     "name": "stdout",
     "output_type": "stream",
     "text": [
      "  Processing prefix batch 89 / 223 (indices 1408-1423)\n"
     ]
    },
    {
     "name": "stderr",
     "output_type": "stream",
     "text": [
      "Generating Batches: 100%|██████████| 1/1 [00:14<00:00, 14.34s/it]\n"
     ]
    },
    {
     "name": "stdout",
     "output_type": "stream",
     "text": [
      "  Processing prefix batch 90 / 223 (indices 1424-1439)\n"
     ]
    },
    {
     "name": "stderr",
     "output_type": "stream",
     "text": [
      "Generating Batches: 100%|██████████| 1/1 [00:14<00:00, 14.32s/it]\n"
     ]
    },
    {
     "name": "stdout",
     "output_type": "stream",
     "text": [
      "  Processing prefix batch 91 / 223 (indices 1440-1455)\n"
     ]
    },
    {
     "name": "stderr",
     "output_type": "stream",
     "text": [
      "Generating Batches: 100%|██████████| 1/1 [00:14<00:00, 14.33s/it]\n"
     ]
    },
    {
     "name": "stdout",
     "output_type": "stream",
     "text": [
      "  Processing prefix batch 92 / 223 (indices 1456-1471)\n"
     ]
    },
    {
     "name": "stderr",
     "output_type": "stream",
     "text": [
      "Generating Batches: 100%|██████████| 1/1 [00:14<00:00, 14.31s/it]\n"
     ]
    },
    {
     "name": "stdout",
     "output_type": "stream",
     "text": [
      "  Processing prefix batch 93 / 223 (indices 1472-1487)\n"
     ]
    },
    {
     "name": "stderr",
     "output_type": "stream",
     "text": [
      "Generating Batches: 100%|██████████| 1/1 [00:14<00:00, 14.34s/it]\n"
     ]
    },
    {
     "name": "stdout",
     "output_type": "stream",
     "text": [
      "  Processing prefix batch 94 / 223 (indices 1488-1503)\n"
     ]
    },
    {
     "name": "stderr",
     "output_type": "stream",
     "text": [
      "Generating Batches: 100%|██████████| 1/1 [00:14<00:00, 14.33s/it]\n"
     ]
    },
    {
     "name": "stdout",
     "output_type": "stream",
     "text": [
      "  Processing prefix batch 95 / 223 (indices 1504-1519)\n"
     ]
    },
    {
     "name": "stderr",
     "output_type": "stream",
     "text": [
      "Generating Batches: 100%|██████████| 1/1 [00:14<00:00, 14.35s/it]\n"
     ]
    },
    {
     "name": "stdout",
     "output_type": "stream",
     "text": [
      "  Processing prefix batch 96 / 223 (indices 1520-1535)\n"
     ]
    },
    {
     "name": "stderr",
     "output_type": "stream",
     "text": [
      "Generating Batches: 100%|██████████| 1/1 [00:14<00:00, 14.78s/it]\n"
     ]
    },
    {
     "name": "stdout",
     "output_type": "stream",
     "text": [
      "  Processing prefix batch 97 / 223 (indices 1536-1551)\n"
     ]
    },
    {
     "name": "stderr",
     "output_type": "stream",
     "text": [
      "Generating Batches: 100%|██████████| 1/1 [00:14<00:00, 14.69s/it]\n"
     ]
    },
    {
     "name": "stdout",
     "output_type": "stream",
     "text": [
      "  Processing prefix batch 98 / 223 (indices 1552-1567)\n"
     ]
    },
    {
     "name": "stderr",
     "output_type": "stream",
     "text": [
      "Generating Batches: 100%|██████████| 1/1 [00:14<00:00, 14.68s/it]\n"
     ]
    },
    {
     "name": "stdout",
     "output_type": "stream",
     "text": [
      "  Processing prefix batch 99 / 223 (indices 1568-1583)\n"
     ]
    },
    {
     "name": "stderr",
     "output_type": "stream",
     "text": [
      "Generating Batches: 100%|██████████| 1/1 [00:14<00:00, 14.70s/it]\n"
     ]
    },
    {
     "name": "stdout",
     "output_type": "stream",
     "text": [
      "  Processing prefix batch 100 / 223 (indices 1584-1599)\n"
     ]
    },
    {
     "name": "stderr",
     "output_type": "stream",
     "text": [
      "Generating Batches: 100%|██████████| 1/1 [00:14<00:00, 14.71s/it]\n"
     ]
    },
    {
     "name": "stdout",
     "output_type": "stream",
     "text": [
      "  Processing prefix batch 101 / 223 (indices 1600-1615)\n"
     ]
    },
    {
     "name": "stderr",
     "output_type": "stream",
     "text": [
      "Generating Batches: 100%|██████████| 1/1 [00:14<00:00, 14.70s/it]\n"
     ]
    },
    {
     "name": "stdout",
     "output_type": "stream",
     "text": [
      "  Processing prefix batch 102 / 223 (indices 1616-1631)\n"
     ]
    },
    {
     "name": "stderr",
     "output_type": "stream",
     "text": [
      "Generating Batches: 100%|██████████| 1/1 [00:14<00:00, 14.68s/it]\n"
     ]
    },
    {
     "name": "stdout",
     "output_type": "stream",
     "text": [
      "  Processing prefix batch 103 / 223 (indices 1632-1647)\n"
     ]
    },
    {
     "name": "stderr",
     "output_type": "stream",
     "text": [
      "Generating Batches: 100%|██████████| 1/1 [00:14<00:00, 14.70s/it]\n"
     ]
    },
    {
     "name": "stdout",
     "output_type": "stream",
     "text": [
      "  Processing prefix batch 104 / 223 (indices 1648-1663)\n"
     ]
    },
    {
     "name": "stderr",
     "output_type": "stream",
     "text": [
      "Generating Batches: 100%|██████████| 1/1 [00:14<00:00, 14.70s/it]\n"
     ]
    },
    {
     "name": "stdout",
     "output_type": "stream",
     "text": [
      "  Processing prefix batch 105 / 223 (indices 1664-1679)\n"
     ]
    },
    {
     "name": "stderr",
     "output_type": "stream",
     "text": [
      "Generating Batches: 100%|██████████| 1/1 [00:14<00:00, 14.70s/it]\n"
     ]
    },
    {
     "name": "stdout",
     "output_type": "stream",
     "text": [
      "  Processing prefix batch 106 / 223 (indices 1680-1695)\n"
     ]
    },
    {
     "name": "stderr",
     "output_type": "stream",
     "text": [
      "Generating Batches: 100%|██████████| 1/1 [00:14<00:00, 14.70s/it]\n"
     ]
    },
    {
     "name": "stdout",
     "output_type": "stream",
     "text": [
      "  Processing prefix batch 107 / 223 (indices 1696-1711)\n"
     ]
    },
    {
     "name": "stderr",
     "output_type": "stream",
     "text": [
      "Generating Batches: 100%|██████████| 1/1 [00:14<00:00, 14.70s/it]\n"
     ]
    },
    {
     "name": "stdout",
     "output_type": "stream",
     "text": [
      "  Processing prefix batch 108 / 223 (indices 1712-1727)\n"
     ]
    },
    {
     "name": "stderr",
     "output_type": "stream",
     "text": [
      "Generating Batches: 100%|██████████| 1/1 [00:14<00:00, 14.69s/it]\n"
     ]
    },
    {
     "name": "stdout",
     "output_type": "stream",
     "text": [
      "  Processing prefix batch 109 / 223 (indices 1728-1743)\n"
     ]
    },
    {
     "name": "stderr",
     "output_type": "stream",
     "text": [
      "Generating Batches: 100%|██████████| 1/1 [00:14<00:00, 14.70s/it]\n"
     ]
    },
    {
     "name": "stdout",
     "output_type": "stream",
     "text": [
      "  Processing prefix batch 110 / 223 (indices 1744-1759)\n"
     ]
    },
    {
     "name": "stderr",
     "output_type": "stream",
     "text": [
      "Generating Batches: 100%|██████████| 1/1 [00:14<00:00, 14.70s/it]\n"
     ]
    },
    {
     "name": "stdout",
     "output_type": "stream",
     "text": [
      "  Processing prefix batch 111 / 223 (indices 1760-1775)\n"
     ]
    },
    {
     "name": "stderr",
     "output_type": "stream",
     "text": [
      "Generating Batches: 100%|██████████| 1/1 [00:14<00:00, 14.69s/it]\n"
     ]
    },
    {
     "name": "stdout",
     "output_type": "stream",
     "text": [
      "  Processing prefix batch 112 / 223 (indices 1776-1791)\n"
     ]
    },
    {
     "name": "stderr",
     "output_type": "stream",
     "text": [
      "Generating Batches: 100%|██████████| 1/1 [00:14<00:00, 14.67s/it]\n"
     ]
    },
    {
     "name": "stdout",
     "output_type": "stream",
     "text": [
      "  Processing prefix batch 113 / 223 (indices 1792-1807)\n"
     ]
    },
    {
     "name": "stderr",
     "output_type": "stream",
     "text": [
      "Generating Batches: 100%|██████████| 1/1 [00:14<00:00, 14.66s/it]\n"
     ]
    },
    {
     "name": "stdout",
     "output_type": "stream",
     "text": [
      "  Processing prefix batch 114 / 223 (indices 1808-1823)\n"
     ]
    },
    {
     "name": "stderr",
     "output_type": "stream",
     "text": [
      "Generating Batches: 100%|██████████| 1/1 [00:14<00:00, 14.68s/it]\n"
     ]
    },
    {
     "name": "stdout",
     "output_type": "stream",
     "text": [
      "  Processing prefix batch 115 / 223 (indices 1824-1839)\n"
     ]
    },
    {
     "name": "stderr",
     "output_type": "stream",
     "text": [
      "Generating Batches: 100%|██████████| 1/1 [00:14<00:00, 14.68s/it]\n"
     ]
    },
    {
     "name": "stdout",
     "output_type": "stream",
     "text": [
      "  Processing prefix batch 116 / 223 (indices 1840-1855)\n"
     ]
    },
    {
     "name": "stderr",
     "output_type": "stream",
     "text": [
      "Generating Batches: 100%|██████████| 1/1 [00:14<00:00, 14.69s/it]\n"
     ]
    },
    {
     "name": "stdout",
     "output_type": "stream",
     "text": [
      "  Processing prefix batch 117 / 223 (indices 1856-1871)\n"
     ]
    },
    {
     "name": "stderr",
     "output_type": "stream",
     "text": [
      "Generating Batches: 100%|██████████| 1/1 [00:14<00:00, 14.66s/it]\n"
     ]
    },
    {
     "name": "stdout",
     "output_type": "stream",
     "text": [
      "  Processing prefix batch 118 / 223 (indices 1872-1887)\n"
     ]
    },
    {
     "name": "stderr",
     "output_type": "stream",
     "text": [
      "Generating Batches: 100%|██████████| 1/1 [00:14<00:00, 14.67s/it]\n"
     ]
    },
    {
     "name": "stdout",
     "output_type": "stream",
     "text": [
      "  Processing prefix batch 119 / 223 (indices 1888-1903)\n"
     ]
    },
    {
     "name": "stderr",
     "output_type": "stream",
     "text": [
      "Generating Batches: 100%|██████████| 1/1 [00:14<00:00, 14.72s/it]\n"
     ]
    },
    {
     "name": "stdout",
     "output_type": "stream",
     "text": [
      "  Processing prefix batch 120 / 223 (indices 1904-1919)\n"
     ]
    },
    {
     "name": "stderr",
     "output_type": "stream",
     "text": [
      "Generating Batches: 100%|██████████| 1/1 [00:14<00:00, 14.66s/it]\n"
     ]
    },
    {
     "name": "stdout",
     "output_type": "stream",
     "text": [
      "  Processing prefix batch 121 / 223 (indices 1920-1935)\n"
     ]
    },
    {
     "name": "stderr",
     "output_type": "stream",
     "text": [
      "Generating Batches: 100%|██████████| 1/1 [00:14<00:00, 14.66s/it]\n"
     ]
    },
    {
     "name": "stdout",
     "output_type": "stream",
     "text": [
      "  Processing prefix batch 122 / 223 (indices 1936-1951)\n"
     ]
    },
    {
     "name": "stderr",
     "output_type": "stream",
     "text": [
      "Generating Batches: 100%|██████████| 1/1 [00:14<00:00, 14.66s/it]\n"
     ]
    },
    {
     "name": "stdout",
     "output_type": "stream",
     "text": [
      "  Processing prefix batch 123 / 223 (indices 1952-1967)\n"
     ]
    },
    {
     "name": "stderr",
     "output_type": "stream",
     "text": [
      "Generating Batches: 100%|██████████| 1/1 [00:14<00:00, 14.97s/it]\n"
     ]
    },
    {
     "name": "stdout",
     "output_type": "stream",
     "text": [
      "  Processing prefix batch 124 / 223 (indices 1968-1983)\n"
     ]
    },
    {
     "name": "stderr",
     "output_type": "stream",
     "text": [
      "Generating Batches: 100%|██████████| 1/1 [00:14<00:00, 14.89s/it]\n"
     ]
    },
    {
     "name": "stdout",
     "output_type": "stream",
     "text": [
      "  Processing prefix batch 125 / 223 (indices 1984-1999)\n"
     ]
    },
    {
     "name": "stderr",
     "output_type": "stream",
     "text": [
      "Generating Batches: 100%|██████████| 1/1 [00:14<00:00, 14.88s/it]\n"
     ]
    },
    {
     "name": "stdout",
     "output_type": "stream",
     "text": [
      "  Processing prefix batch 126 / 223 (indices 2000-2015)\n"
     ]
    },
    {
     "name": "stderr",
     "output_type": "stream",
     "text": [
      "Generating Batches: 100%|██████████| 1/1 [00:14<00:00, 14.90s/it]\n"
     ]
    },
    {
     "name": "stdout",
     "output_type": "stream",
     "text": [
      "  Processing prefix batch 127 / 223 (indices 2016-2031)\n"
     ]
    },
    {
     "name": "stderr",
     "output_type": "stream",
     "text": [
      "Generating Batches: 100%|██████████| 1/1 [00:14<00:00, 14.88s/it]\n"
     ]
    },
    {
     "name": "stdout",
     "output_type": "stream",
     "text": [
      "  Processing prefix batch 128 / 223 (indices 2032-2047)\n"
     ]
    },
    {
     "name": "stderr",
     "output_type": "stream",
     "text": [
      "Generating Batches: 100%|██████████| 1/1 [00:14<00:00, 14.86s/it]\n"
     ]
    },
    {
     "name": "stdout",
     "output_type": "stream",
     "text": [
      "  Processing prefix batch 129 / 223 (indices 2048-2063)\n"
     ]
    },
    {
     "name": "stderr",
     "output_type": "stream",
     "text": [
      "Generating Batches: 100%|██████████| 1/1 [00:14<00:00, 14.86s/it]\n"
     ]
    },
    {
     "name": "stdout",
     "output_type": "stream",
     "text": [
      "  Processing prefix batch 130 / 223 (indices 2064-2079)\n"
     ]
    },
    {
     "name": "stderr",
     "output_type": "stream",
     "text": [
      "Generating Batches: 100%|██████████| 1/1 [00:14<00:00, 14.87s/it]\n"
     ]
    },
    {
     "name": "stdout",
     "output_type": "stream",
     "text": [
      "  Processing prefix batch 131 / 223 (indices 2080-2095)\n"
     ]
    },
    {
     "name": "stderr",
     "output_type": "stream",
     "text": [
      "Generating Batches: 100%|██████████| 1/1 [00:14<00:00, 14.90s/it]\n"
     ]
    },
    {
     "name": "stdout",
     "output_type": "stream",
     "text": [
      "  Processing prefix batch 132 / 223 (indices 2096-2111)\n"
     ]
    },
    {
     "name": "stderr",
     "output_type": "stream",
     "text": [
      "Generating Batches: 100%|██████████| 1/1 [00:14<00:00, 14.89s/it]\n"
     ]
    },
    {
     "name": "stdout",
     "output_type": "stream",
     "text": [
      "  Processing prefix batch 133 / 223 (indices 2112-2127)\n"
     ]
    },
    {
     "name": "stderr",
     "output_type": "stream",
     "text": [
      "Generating Batches: 100%|██████████| 1/1 [00:14<00:00, 14.89s/it]\n"
     ]
    },
    {
     "name": "stdout",
     "output_type": "stream",
     "text": [
      "  Processing prefix batch 134 / 223 (indices 2128-2143)\n"
     ]
    },
    {
     "name": "stderr",
     "output_type": "stream",
     "text": [
      "Generating Batches: 100%|██████████| 1/1 [00:14<00:00, 14.90s/it]\n"
     ]
    },
    {
     "name": "stdout",
     "output_type": "stream",
     "text": [
      "  Processing prefix batch 135 / 223 (indices 2144-2159)\n"
     ]
    },
    {
     "name": "stderr",
     "output_type": "stream",
     "text": [
      "Generating Batches: 100%|██████████| 1/1 [00:14<00:00, 14.90s/it]\n"
     ]
    },
    {
     "name": "stdout",
     "output_type": "stream",
     "text": [
      "  Processing prefix batch 136 / 223 (indices 2160-2175)\n"
     ]
    },
    {
     "name": "stderr",
     "output_type": "stream",
     "text": [
      "Generating Batches: 100%|██████████| 1/1 [00:14<00:00, 14.89s/it]\n"
     ]
    },
    {
     "name": "stdout",
     "output_type": "stream",
     "text": [
      "  Processing prefix batch 137 / 223 (indices 2176-2191)\n"
     ]
    },
    {
     "name": "stderr",
     "output_type": "stream",
     "text": [
      "Generating Batches: 100%|██████████| 1/1 [00:14<00:00, 14.89s/it]\n"
     ]
    },
    {
     "name": "stdout",
     "output_type": "stream",
     "text": [
      "  Processing prefix batch 138 / 223 (indices 2192-2207)\n"
     ]
    },
    {
     "name": "stderr",
     "output_type": "stream",
     "text": [
      "Generating Batches: 100%|██████████| 1/1 [00:14<00:00, 14.85s/it]\n"
     ]
    },
    {
     "name": "stdout",
     "output_type": "stream",
     "text": [
      "  Processing prefix batch 139 / 223 (indices 2208-2223)\n"
     ]
    },
    {
     "name": "stderr",
     "output_type": "stream",
     "text": [
      "Generating Batches: 100%|██████████| 1/1 [00:14<00:00, 14.88s/it]\n"
     ]
    },
    {
     "name": "stdout",
     "output_type": "stream",
     "text": [
      "  Processing prefix batch 140 / 223 (indices 2224-2239)\n"
     ]
    },
    {
     "name": "stderr",
     "output_type": "stream",
     "text": [
      "Generating Batches: 100%|██████████| 1/1 [00:14<00:00, 14.88s/it]\n"
     ]
    },
    {
     "name": "stdout",
     "output_type": "stream",
     "text": [
      "  Processing prefix batch 141 / 223 (indices 2240-2255)\n"
     ]
    },
    {
     "name": "stderr",
     "output_type": "stream",
     "text": [
      "Generating Batches: 100%|██████████| 1/1 [00:14<00:00, 14.90s/it]\n"
     ]
    },
    {
     "name": "stdout",
     "output_type": "stream",
     "text": [
      "  Processing prefix batch 142 / 223 (indices 2256-2271)\n"
     ]
    },
    {
     "name": "stderr",
     "output_type": "stream",
     "text": [
      "Generating Batches: 100%|██████████| 1/1 [00:14<00:00, 14.89s/it]\n"
     ]
    },
    {
     "name": "stdout",
     "output_type": "stream",
     "text": [
      "  Processing prefix batch 143 / 223 (indices 2272-2287)\n"
     ]
    },
    {
     "name": "stderr",
     "output_type": "stream",
     "text": [
      "Generating Batches: 100%|██████████| 1/1 [00:14<00:00, 14.88s/it]\n"
     ]
    },
    {
     "name": "stdout",
     "output_type": "stream",
     "text": [
      "  Processing prefix batch 144 / 223 (indices 2288-2303)\n"
     ]
    },
    {
     "name": "stderr",
     "output_type": "stream",
     "text": [
      "Generating Batches: 100%|██████████| 1/1 [00:14<00:00, 14.88s/it]\n"
     ]
    },
    {
     "name": "stdout",
     "output_type": "stream",
     "text": [
      "  Processing prefix batch 145 / 223 (indices 2304-2319)\n"
     ]
    },
    {
     "name": "stderr",
     "output_type": "stream",
     "text": [
      "Generating Batches: 100%|██████████| 1/1 [00:14<00:00, 14.88s/it]\n"
     ]
    },
    {
     "name": "stdout",
     "output_type": "stream",
     "text": [
      "  Processing prefix batch 146 / 223 (indices 2320-2335)\n"
     ]
    },
    {
     "name": "stderr",
     "output_type": "stream",
     "text": [
      "Generating Batches: 100%|██████████| 1/1 [00:14<00:00, 14.88s/it]\n"
     ]
    },
    {
     "name": "stdout",
     "output_type": "stream",
     "text": [
      "  Processing prefix batch 147 / 223 (indices 2336-2351)\n"
     ]
    },
    {
     "name": "stderr",
     "output_type": "stream",
     "text": [
      "Generating Batches: 100%|██████████| 1/1 [00:14<00:00, 14.89s/it]\n"
     ]
    },
    {
     "name": "stdout",
     "output_type": "stream",
     "text": [
      "  Processing prefix batch 148 / 223 (indices 2352-2367)\n"
     ]
    },
    {
     "name": "stderr",
     "output_type": "stream",
     "text": [
      "Generating Batches: 100%|██████████| 1/1 [00:14<00:00, 14.88s/it]\n"
     ]
    },
    {
     "name": "stdout",
     "output_type": "stream",
     "text": [
      "  Processing prefix batch 149 / 223 (indices 2368-2383)\n"
     ]
    },
    {
     "name": "stderr",
     "output_type": "stream",
     "text": [
      "Generating Batches: 100%|██████████| 1/1 [00:15<00:00, 15.31s/it]\n"
     ]
    },
    {
     "name": "stdout",
     "output_type": "stream",
     "text": [
      "  Processing prefix batch 150 / 223 (indices 2384-2399)\n"
     ]
    },
    {
     "name": "stderr",
     "output_type": "stream",
     "text": [
      "Generating Batches: 100%|██████████| 1/1 [00:15<00:00, 15.22s/it]\n"
     ]
    },
    {
     "name": "stdout",
     "output_type": "stream",
     "text": [
      "  Processing prefix batch 151 / 223 (indices 2400-2415)\n"
     ]
    },
    {
     "name": "stderr",
     "output_type": "stream",
     "text": [
      "Generating Batches: 100%|██████████| 1/1 [00:15<00:00, 15.22s/it]\n"
     ]
    },
    {
     "name": "stdout",
     "output_type": "stream",
     "text": [
      "  Processing prefix batch 152 / 223 (indices 2416-2431)\n"
     ]
    },
    {
     "name": "stderr",
     "output_type": "stream",
     "text": [
      "Generating Batches: 100%|██████████| 1/1 [00:15<00:00, 15.24s/it]\n"
     ]
    },
    {
     "name": "stdout",
     "output_type": "stream",
     "text": [
      "  Processing prefix batch 153 / 223 (indices 2432-2447)\n"
     ]
    },
    {
     "name": "stderr",
     "output_type": "stream",
     "text": [
      "Generating Batches: 100%|██████████| 1/1 [00:15<00:00, 15.23s/it]\n"
     ]
    },
    {
     "name": "stdout",
     "output_type": "stream",
     "text": [
      "  Processing prefix batch 154 / 223 (indices 2448-2463)\n"
     ]
    },
    {
     "name": "stderr",
     "output_type": "stream",
     "text": [
      "Generating Batches: 100%|██████████| 1/1 [00:15<00:00, 15.21s/it]\n"
     ]
    },
    {
     "name": "stdout",
     "output_type": "stream",
     "text": [
      "  Processing prefix batch 155 / 223 (indices 2464-2479)\n"
     ]
    },
    {
     "name": "stderr",
     "output_type": "stream",
     "text": [
      "Generating Batches: 100%|██████████| 1/1 [00:15<00:00, 15.24s/it]\n"
     ]
    },
    {
     "name": "stdout",
     "output_type": "stream",
     "text": [
      "  Processing prefix batch 156 / 223 (indices 2480-2495)\n"
     ]
    },
    {
     "name": "stderr",
     "output_type": "stream",
     "text": [
      "Generating Batches: 100%|██████████| 1/1 [00:15<00:00, 15.24s/it]\n"
     ]
    },
    {
     "name": "stdout",
     "output_type": "stream",
     "text": [
      "  Processing prefix batch 157 / 223 (indices 2496-2511)\n"
     ]
    },
    {
     "name": "stderr",
     "output_type": "stream",
     "text": [
      "Generating Batches: 100%|██████████| 1/1 [00:15<00:00, 15.23s/it]\n"
     ]
    },
    {
     "name": "stdout",
     "output_type": "stream",
     "text": [
      "  Processing prefix batch 158 / 223 (indices 2512-2527)\n"
     ]
    },
    {
     "name": "stderr",
     "output_type": "stream",
     "text": [
      "Generating Batches: 100%|██████████| 1/1 [00:15<00:00, 15.24s/it]\n"
     ]
    },
    {
     "name": "stdout",
     "output_type": "stream",
     "text": [
      "  Processing prefix batch 159 / 223 (indices 2528-2543)\n"
     ]
    },
    {
     "name": "stderr",
     "output_type": "stream",
     "text": [
      "Generating Batches: 100%|██████████| 1/1 [00:15<00:00, 15.23s/it]\n"
     ]
    },
    {
     "name": "stdout",
     "output_type": "stream",
     "text": [
      "  Processing prefix batch 160 / 223 (indices 2544-2559)\n"
     ]
    },
    {
     "name": "stderr",
     "output_type": "stream",
     "text": [
      "Generating Batches: 100%|██████████| 1/1 [00:15<00:00, 15.22s/it]\n"
     ]
    },
    {
     "name": "stdout",
     "output_type": "stream",
     "text": [
      "  Processing prefix batch 161 / 223 (indices 2560-2575)\n"
     ]
    },
    {
     "name": "stderr",
     "output_type": "stream",
     "text": [
      "Generating Batches: 100%|██████████| 1/1 [00:15<00:00, 15.22s/it]\n"
     ]
    },
    {
     "name": "stdout",
     "output_type": "stream",
     "text": [
      "  Processing prefix batch 162 / 223 (indices 2576-2591)\n"
     ]
    },
    {
     "name": "stderr",
     "output_type": "stream",
     "text": [
      "Generating Batches: 100%|██████████| 1/1 [00:15<00:00, 15.22s/it]\n"
     ]
    },
    {
     "name": "stdout",
     "output_type": "stream",
     "text": [
      "  Processing prefix batch 163 / 223 (indices 2592-2607)\n"
     ]
    },
    {
     "name": "stderr",
     "output_type": "stream",
     "text": [
      "Generating Batches: 100%|██████████| 1/1 [00:15<00:00, 15.20s/it]\n"
     ]
    },
    {
     "name": "stdout",
     "output_type": "stream",
     "text": [
      "  Processing prefix batch 164 / 223 (indices 2608-2623)\n"
     ]
    },
    {
     "name": "stderr",
     "output_type": "stream",
     "text": [
      "Generating Batches: 100%|██████████| 1/1 [00:15<00:00, 15.19s/it]\n"
     ]
    },
    {
     "name": "stdout",
     "output_type": "stream",
     "text": [
      "  Processing prefix batch 165 / 223 (indices 2624-2639)\n"
     ]
    },
    {
     "name": "stderr",
     "output_type": "stream",
     "text": [
      "Generating Batches: 100%|██████████| 1/1 [00:15<00:00, 15.22s/it]\n"
     ]
    },
    {
     "name": "stdout",
     "output_type": "stream",
     "text": [
      "  Processing prefix batch 166 / 223 (indices 2640-2655)\n"
     ]
    },
    {
     "name": "stderr",
     "output_type": "stream",
     "text": [
      "Generating Batches: 100%|██████████| 1/1 [00:15<00:00, 15.20s/it]\n"
     ]
    },
    {
     "name": "stdout",
     "output_type": "stream",
     "text": [
      "  Processing prefix batch 167 / 223 (indices 2656-2671)\n"
     ]
    },
    {
     "name": "stderr",
     "output_type": "stream",
     "text": [
      "Generating Batches: 100%|██████████| 1/1 [00:15<00:00, 15.21s/it]\n"
     ]
    },
    {
     "name": "stdout",
     "output_type": "stream",
     "text": [
      "  Processing prefix batch 168 / 223 (indices 2672-2687)\n"
     ]
    },
    {
     "name": "stderr",
     "output_type": "stream",
     "text": [
      "Generating Batches: 100%|██████████| 1/1 [00:15<00:00, 15.21s/it]\n"
     ]
    },
    {
     "name": "stdout",
     "output_type": "stream",
     "text": [
      "  Processing prefix batch 169 / 223 (indices 2688-2703)\n"
     ]
    },
    {
     "name": "stderr",
     "output_type": "stream",
     "text": [
      "Generating Batches: 100%|██████████| 1/1 [00:15<00:00, 15.20s/it]\n"
     ]
    },
    {
     "name": "stdout",
     "output_type": "stream",
     "text": [
      "  Processing prefix batch 170 / 223 (indices 2704-2719)\n"
     ]
    },
    {
     "name": "stderr",
     "output_type": "stream",
     "text": [
      "Generating Batches: 100%|██████████| 1/1 [00:15<00:00, 15.19s/it]\n"
     ]
    },
    {
     "name": "stdout",
     "output_type": "stream",
     "text": [
      "  Processing prefix batch 171 / 223 (indices 2720-2735)\n"
     ]
    },
    {
     "name": "stderr",
     "output_type": "stream",
     "text": [
      "Generating Batches: 100%|██████████| 1/1 [00:15<00:00, 15.21s/it]\n"
     ]
    },
    {
     "name": "stdout",
     "output_type": "stream",
     "text": [
      "  Processing prefix batch 172 / 223 (indices 2736-2751)\n"
     ]
    },
    {
     "name": "stderr",
     "output_type": "stream",
     "text": [
      "Generating Batches: 100%|██████████| 1/1 [00:15<00:00, 15.21s/it]\n"
     ]
    },
    {
     "name": "stdout",
     "output_type": "stream",
     "text": [
      "  Processing prefix batch 173 / 223 (indices 2752-2767)\n"
     ]
    },
    {
     "name": "stderr",
     "output_type": "stream",
     "text": [
      "Generating Batches: 100%|██████████| 1/1 [00:15<00:00, 15.52s/it]\n"
     ]
    },
    {
     "name": "stdout",
     "output_type": "stream",
     "text": [
      "  Processing prefix batch 174 / 223 (indices 2768-2783)\n"
     ]
    },
    {
     "name": "stderr",
     "output_type": "stream",
     "text": [
      "Generating Batches: 100%|██████████| 1/1 [00:15<00:00, 15.42s/it]\n"
     ]
    },
    {
     "name": "stdout",
     "output_type": "stream",
     "text": [
      "  Processing prefix batch 175 / 223 (indices 2784-2799)\n"
     ]
    },
    {
     "name": "stderr",
     "output_type": "stream",
     "text": [
      "Generating Batches: 100%|██████████| 1/1 [00:15<00:00, 15.41s/it]\n"
     ]
    },
    {
     "name": "stdout",
     "output_type": "stream",
     "text": [
      "  Processing prefix batch 176 / 223 (indices 2800-2815)\n"
     ]
    },
    {
     "name": "stderr",
     "output_type": "stream",
     "text": [
      "Generating Batches: 100%|██████████| 1/1 [00:15<00:00, 15.40s/it]\n"
     ]
    },
    {
     "name": "stdout",
     "output_type": "stream",
     "text": [
      "  Processing prefix batch 177 / 223 (indices 2816-2831)\n"
     ]
    },
    {
     "name": "stderr",
     "output_type": "stream",
     "text": [
      "Generating Batches: 100%|██████████| 1/1 [00:15<00:00, 15.40s/it]\n"
     ]
    },
    {
     "name": "stdout",
     "output_type": "stream",
     "text": [
      "  Processing prefix batch 178 / 223 (indices 2832-2847)\n"
     ]
    },
    {
     "name": "stderr",
     "output_type": "stream",
     "text": [
      "Generating Batches: 100%|██████████| 1/1 [00:15<00:00, 15.44s/it]\n"
     ]
    },
    {
     "name": "stdout",
     "output_type": "stream",
     "text": [
      "  Processing prefix batch 179 / 223 (indices 2848-2863)\n"
     ]
    },
    {
     "name": "stderr",
     "output_type": "stream",
     "text": [
      "Generating Batches: 100%|██████████| 1/1 [00:15<00:00, 15.43s/it]\n"
     ]
    },
    {
     "name": "stdout",
     "output_type": "stream",
     "text": [
      "  Processing prefix batch 180 / 223 (indices 2864-2879)\n"
     ]
    },
    {
     "name": "stderr",
     "output_type": "stream",
     "text": [
      "Generating Batches: 100%|██████████| 1/1 [00:15<00:00, 15.42s/it]\n"
     ]
    },
    {
     "name": "stdout",
     "output_type": "stream",
     "text": [
      "  Processing prefix batch 181 / 223 (indices 2880-2895)\n"
     ]
    },
    {
     "name": "stderr",
     "output_type": "stream",
     "text": [
      "Generating Batches: 100%|██████████| 1/1 [00:15<00:00, 15.45s/it]\n"
     ]
    },
    {
     "name": "stdout",
     "output_type": "stream",
     "text": [
      "  Processing prefix batch 182 / 223 (indices 2896-2911)\n"
     ]
    },
    {
     "name": "stderr",
     "output_type": "stream",
     "text": [
      "Generating Batches: 100%|██████████| 1/1 [00:15<00:00, 15.44s/it]\n"
     ]
    },
    {
     "name": "stdout",
     "output_type": "stream",
     "text": [
      "  Processing prefix batch 183 / 223 (indices 2912-2927)\n"
     ]
    },
    {
     "name": "stderr",
     "output_type": "stream",
     "text": [
      "Generating Batches: 100%|██████████| 1/1 [00:15<00:00, 15.44s/it]\n"
     ]
    },
    {
     "name": "stdout",
     "output_type": "stream",
     "text": [
      "  Processing prefix batch 184 / 223 (indices 2928-2943)\n"
     ]
    },
    {
     "name": "stderr",
     "output_type": "stream",
     "text": [
      "Generating Batches: 100%|██████████| 1/1 [00:15<00:00, 15.46s/it]\n"
     ]
    },
    {
     "name": "stdout",
     "output_type": "stream",
     "text": [
      "  Processing prefix batch 185 / 223 (indices 2944-2959)\n"
     ]
    },
    {
     "name": "stderr",
     "output_type": "stream",
     "text": [
      "Generating Batches: 100%|██████████| 1/1 [00:15<00:00, 15.44s/it]\n"
     ]
    },
    {
     "name": "stdout",
     "output_type": "stream",
     "text": [
      "  Processing prefix batch 186 / 223 (indices 2960-2975)\n"
     ]
    },
    {
     "name": "stderr",
     "output_type": "stream",
     "text": [
      "Generating Batches: 100%|██████████| 1/1 [00:15<00:00, 15.47s/it]\n"
     ]
    },
    {
     "name": "stdout",
     "output_type": "stream",
     "text": [
      "  Processing prefix batch 187 / 223 (indices 2976-2991)\n"
     ]
    },
    {
     "name": "stderr",
     "output_type": "stream",
     "text": [
      "Generating Batches: 100%|██████████| 1/1 [00:15<00:00, 15.46s/it]\n"
     ]
    },
    {
     "name": "stdout",
     "output_type": "stream",
     "text": [
      "  Processing prefix batch 188 / 223 (indices 2992-3007)\n"
     ]
    },
    {
     "name": "stderr",
     "output_type": "stream",
     "text": [
      "Generating Batches: 100%|██████████| 1/1 [00:15<00:00, 15.44s/it]\n"
     ]
    },
    {
     "name": "stdout",
     "output_type": "stream",
     "text": [
      "  Processing prefix batch 189 / 223 (indices 3008-3023)\n"
     ]
    },
    {
     "name": "stderr",
     "output_type": "stream",
     "text": [
      "Generating Batches: 100%|██████████| 1/1 [00:15<00:00, 15.45s/it]\n"
     ]
    },
    {
     "name": "stdout",
     "output_type": "stream",
     "text": [
      "  Processing prefix batch 190 / 223 (indices 3024-3039)\n"
     ]
    },
    {
     "name": "stderr",
     "output_type": "stream",
     "text": [
      "Generating Batches: 100%|██████████| 1/1 [00:15<00:00, 15.44s/it]\n"
     ]
    },
    {
     "name": "stdout",
     "output_type": "stream",
     "text": [
      "  Processing prefix batch 191 / 223 (indices 3040-3055)\n"
     ]
    },
    {
     "name": "stderr",
     "output_type": "stream",
     "text": [
      "Generating Batches: 100%|██████████| 1/1 [00:15<00:00, 15.44s/it]\n"
     ]
    },
    {
     "name": "stdout",
     "output_type": "stream",
     "text": [
      "  Processing prefix batch 192 / 223 (indices 3056-3071)\n"
     ]
    },
    {
     "name": "stderr",
     "output_type": "stream",
     "text": [
      "Generating Batches: 100%|██████████| 1/1 [00:15<00:00, 15.44s/it]\n"
     ]
    },
    {
     "name": "stdout",
     "output_type": "stream",
     "text": [
      "  Processing prefix batch 193 / 223 (indices 3072-3087)\n"
     ]
    },
    {
     "name": "stderr",
     "output_type": "stream",
     "text": [
      "Generating Batches: 100%|██████████| 1/1 [00:15<00:00, 15.82s/it]\n"
     ]
    },
    {
     "name": "stdout",
     "output_type": "stream",
     "text": [
      "  Processing prefix batch 194 / 223 (indices 3088-3103)\n"
     ]
    },
    {
     "name": "stderr",
     "output_type": "stream",
     "text": [
      "Generating Batches: 100%|██████████| 1/1 [00:15<00:00, 15.75s/it]\n"
     ]
    },
    {
     "name": "stdout",
     "output_type": "stream",
     "text": [
      "  Processing prefix batch 195 / 223 (indices 3104-3119)\n"
     ]
    },
    {
     "name": "stderr",
     "output_type": "stream",
     "text": [
      "Generating Batches: 100%|██████████| 1/1 [00:15<00:00, 15.73s/it]\n"
     ]
    },
    {
     "name": "stdout",
     "output_type": "stream",
     "text": [
      "  Processing prefix batch 196 / 223 (indices 3120-3135)\n"
     ]
    },
    {
     "name": "stderr",
     "output_type": "stream",
     "text": [
      "Generating Batches: 100%|██████████| 1/1 [00:15<00:00, 15.72s/it]\n"
     ]
    },
    {
     "name": "stdout",
     "output_type": "stream",
     "text": [
      "  Processing prefix batch 197 / 223 (indices 3136-3151)\n"
     ]
    },
    {
     "name": "stderr",
     "output_type": "stream",
     "text": [
      "Generating Batches: 100%|██████████| 1/1 [00:15<00:00, 15.74s/it]\n"
     ]
    },
    {
     "name": "stdout",
     "output_type": "stream",
     "text": [
      "  Processing prefix batch 198 / 223 (indices 3152-3167)\n"
     ]
    },
    {
     "name": "stderr",
     "output_type": "stream",
     "text": [
      "Generating Batches: 100%|██████████| 1/1 [00:15<00:00, 15.73s/it]\n"
     ]
    },
    {
     "name": "stdout",
     "output_type": "stream",
     "text": [
      "  Processing prefix batch 199 / 223 (indices 3168-3183)\n"
     ]
    },
    {
     "name": "stderr",
     "output_type": "stream",
     "text": [
      "Generating Batches: 100%|██████████| 1/1 [00:15<00:00, 15.72s/it]\n"
     ]
    },
    {
     "name": "stdout",
     "output_type": "stream",
     "text": [
      "  Processing prefix batch 200 / 223 (indices 3184-3199)\n"
     ]
    },
    {
     "name": "stderr",
     "output_type": "stream",
     "text": [
      "Generating Batches: 100%|██████████| 1/1 [00:15<00:00, 15.72s/it]\n"
     ]
    },
    {
     "name": "stdout",
     "output_type": "stream",
     "text": [
      "  Processing prefix batch 201 / 223 (indices 3200-3215)\n"
     ]
    },
    {
     "name": "stderr",
     "output_type": "stream",
     "text": [
      "Generating Batches: 100%|██████████| 1/1 [00:15<00:00, 15.72s/it]\n"
     ]
    },
    {
     "name": "stdout",
     "output_type": "stream",
     "text": [
      "  Processing prefix batch 202 / 223 (indices 3216-3231)\n"
     ]
    },
    {
     "name": "stderr",
     "output_type": "stream",
     "text": [
      "Generating Batches: 100%|██████████| 1/1 [00:15<00:00, 15.74s/it]\n"
     ]
    },
    {
     "name": "stdout",
     "output_type": "stream",
     "text": [
      "  Processing prefix batch 203 / 223 (indices 3232-3247)\n"
     ]
    },
    {
     "name": "stderr",
     "output_type": "stream",
     "text": [
      "Generating Batches: 100%|██████████| 1/1 [00:15<00:00, 15.73s/it]\n"
     ]
    },
    {
     "name": "stdout",
     "output_type": "stream",
     "text": [
      "  Processing prefix batch 204 / 223 (indices 3248-3263)\n"
     ]
    },
    {
     "name": "stderr",
     "output_type": "stream",
     "text": [
      "Generating Batches: 100%|██████████| 1/1 [00:15<00:00, 15.71s/it]\n"
     ]
    },
    {
     "name": "stdout",
     "output_type": "stream",
     "text": [
      "  Processing prefix batch 205 / 223 (indices 3264-3279)\n"
     ]
    },
    {
     "name": "stderr",
     "output_type": "stream",
     "text": [
      "Generating Batches: 100%|██████████| 1/1 [00:15<00:00, 15.72s/it]\n"
     ]
    },
    {
     "name": "stdout",
     "output_type": "stream",
     "text": [
      "  Processing prefix batch 206 / 223 (indices 3280-3295)\n"
     ]
    },
    {
     "name": "stderr",
     "output_type": "stream",
     "text": [
      "Generating Batches: 100%|██████████| 1/1 [00:15<00:00, 15.73s/it]\n"
     ]
    },
    {
     "name": "stdout",
     "output_type": "stream",
     "text": [
      "  Processing prefix batch 207 / 223 (indices 3296-3311)\n"
     ]
    },
    {
     "name": "stderr",
     "output_type": "stream",
     "text": [
      "Generating Batches: 100%|██████████| 1/1 [00:15<00:00, 15.73s/it]\n"
     ]
    },
    {
     "name": "stdout",
     "output_type": "stream",
     "text": [
      "  Processing prefix batch 208 / 223 (indices 3312-3327)\n"
     ]
    },
    {
     "name": "stderr",
     "output_type": "stream",
     "text": [
      "Generating Batches: 100%|██████████| 1/1 [00:16<00:00, 16.16s/it]\n"
     ]
    },
    {
     "name": "stdout",
     "output_type": "stream",
     "text": [
      "  Processing prefix batch 209 / 223 (indices 3328-3343)\n"
     ]
    },
    {
     "name": "stderr",
     "output_type": "stream",
     "text": [
      "Generating Batches: 100%|██████████| 1/1 [00:15<00:00, 15.95s/it]\n"
     ]
    },
    {
     "name": "stdout",
     "output_type": "stream",
     "text": [
      "  Processing prefix batch 210 / 223 (indices 3344-3359)\n"
     ]
    },
    {
     "name": "stderr",
     "output_type": "stream",
     "text": [
      "Generating Batches: 100%|██████████| 1/1 [00:15<00:00, 15.96s/it]\n"
     ]
    },
    {
     "name": "stdout",
     "output_type": "stream",
     "text": [
      "  Processing prefix batch 211 / 223 (indices 3360-3375)\n"
     ]
    },
    {
     "name": "stderr",
     "output_type": "stream",
     "text": [
      "Generating Batches: 100%|██████████| 1/1 [00:15<00:00, 15.94s/it]\n"
     ]
    },
    {
     "name": "stdout",
     "output_type": "stream",
     "text": [
      "  Processing prefix batch 212 / 223 (indices 3376-3391)\n"
     ]
    },
    {
     "name": "stderr",
     "output_type": "stream",
     "text": [
      "Generating Batches: 100%|██████████| 1/1 [00:15<00:00, 15.97s/it]\n"
     ]
    },
    {
     "name": "stdout",
     "output_type": "stream",
     "text": [
      "  Processing prefix batch 213 / 223 (indices 3392-3407)\n"
     ]
    },
    {
     "name": "stderr",
     "output_type": "stream",
     "text": [
      "Generating Batches: 100%|██████████| 1/1 [00:15<00:00, 15.97s/it]\n"
     ]
    },
    {
     "name": "stdout",
     "output_type": "stream",
     "text": [
      "  Processing prefix batch 214 / 223 (indices 3408-3423)\n"
     ]
    },
    {
     "name": "stderr",
     "output_type": "stream",
     "text": [
      "Generating Batches: 100%|██████████| 1/1 [00:15<00:00, 15.97s/it]\n"
     ]
    },
    {
     "name": "stdout",
     "output_type": "stream",
     "text": [
      "  Processing prefix batch 215 / 223 (indices 3424-3439)\n"
     ]
    },
    {
     "name": "stderr",
     "output_type": "stream",
     "text": [
      "Generating Batches: 100%|██████████| 1/1 [00:15<00:00, 15.95s/it]\n"
     ]
    },
    {
     "name": "stdout",
     "output_type": "stream",
     "text": [
      "  Processing prefix batch 216 / 223 (indices 3440-3455)\n"
     ]
    },
    {
     "name": "stderr",
     "output_type": "stream",
     "text": [
      "Generating Batches: 100%|██████████| 1/1 [00:16<00:00, 16.36s/it]\n"
     ]
    },
    {
     "name": "stdout",
     "output_type": "stream",
     "text": [
      "  Processing prefix batch 217 / 223 (indices 3456-3471)\n"
     ]
    },
    {
     "name": "stderr",
     "output_type": "stream",
     "text": [
      "Generating Batches: 100%|██████████| 1/1 [00:16<00:00, 16.26s/it]\n"
     ]
    },
    {
     "name": "stdout",
     "output_type": "stream",
     "text": [
      "  Processing prefix batch 218 / 223 (indices 3472-3487)\n"
     ]
    },
    {
     "name": "stderr",
     "output_type": "stream",
     "text": [
      "Generating Batches: 100%|██████████| 1/1 [00:16<00:00, 16.25s/it]\n"
     ]
    },
    {
     "name": "stdout",
     "output_type": "stream",
     "text": [
      "  Processing prefix batch 219 / 223 (indices 3488-3503)\n"
     ]
    },
    {
     "name": "stderr",
     "output_type": "stream",
     "text": [
      "Generating Batches: 100%|██████████| 1/1 [00:16<00:00, 16.28s/it]\n"
     ]
    },
    {
     "name": "stdout",
     "output_type": "stream",
     "text": [
      "  Processing prefix batch 220 / 223 (indices 3504-3519)\n"
     ]
    },
    {
     "name": "stderr",
     "output_type": "stream",
     "text": [
      "Generating Batches: 100%|██████████| 1/1 [00:16<00:00, 16.26s/it]\n"
     ]
    },
    {
     "name": "stdout",
     "output_type": "stream",
     "text": [
      "  Processing prefix batch 221 / 223 (indices 3520-3535)\n"
     ]
    },
    {
     "name": "stderr",
     "output_type": "stream",
     "text": [
      "Generating Batches: 100%|██████████| 1/1 [00:16<00:00, 16.69s/it]\n"
     ]
    },
    {
     "name": "stdout",
     "output_type": "stream",
     "text": [
      "  Processing prefix batch 222 / 223 (indices 3536-3551)\n"
     ]
    },
    {
     "name": "stderr",
     "output_type": "stream",
     "text": [
      "Generating Batches: 100%|██████████| 1/1 [00:16<00:00, 16.46s/it]\n"
     ]
    },
    {
     "name": "stdout",
     "output_type": "stream",
     "text": [
      "  Processing prefix batch 223 / 223 (indices 3552-3565)\n"
     ]
    },
    {
     "name": "stderr",
     "output_type": "stream",
     "text": [
      "Generating Batches: 100%|██████████| 1/1 [00:15<00:00, 15.49s/it]\n"
     ]
    },
    {
     "name": "stdout",
     "output_type": "stream",
     "text": [
      "Step 4: Assembling final results...\n",
      "Processing complete.\n"
     ]
    }
   ],
   "source": [
    "#throws OOM if trying to use large batches >=20\n",
    "frequencies = calculate_target_token_frequencies_batched(\n",
    "         model,\n",
    "         tokenizer,\n",
    "         high_kl_results,\n",
    "         token_for_high_kl,\n",
    "         newline_token_id,\n",
    "         device, debug=False\n",
    "     )"
   ]
  },
  {
   "cell_type": "code",
   "execution_count": 30,
   "id": "3375e569-733a-4d19-acc6-bc5cbc912cce",
   "metadata": {},
   "outputs": [
    {
     "data": {
      "text/plain": [
       "\"A rhymed couplet:\\nThe plan they proposed was utterly insane\\nThey'd build a tower to reach the moon's\""
      ]
     },
     "execution_count": 30,
     "metadata": {},
     "output_type": "execute_result"
    }
   ],
   "source": [
    "high_kl_results[0]"
   ]
  },
  {
   "cell_type": "code",
   "execution_count": 33,
   "id": "5621684a-a32c-4d05-92f8-1bb6d034a6db",
   "metadata": {},
   "outputs": [
    {
     "data": {
      "text/plain": [
       "10"
      ]
     },
     "execution_count": 33,
     "metadata": {},
     "output_type": "execute_result"
    }
   ],
   "source": [
    "len(frequencies[150])"
   ]
  },
  {
   "cell_type": "code",
   "execution_count": 34,
   "id": "11a6759f-1b74-4dc7-888b-6f7bccd2c87a",
   "metadata": {},
   "outputs": [
    {
     "data": {
      "text/plain": [
       "10"
      ]
     },
     "execution_count": 34,
     "metadata": {},
     "output_type": "execute_result"
    }
   ],
   "source": [
    "len(high_kl_divergences[150])"
   ]
  },
  {
   "cell_type": "code",
   "execution_count": 36,
   "id": "5d632ccf-44d2-4842-89ff-60eedbdeaf09",
   "metadata": {},
   "outputs": [
    {
     "data": {
      "text/plain": [
       "[0.08,\n",
       " 0.04000000000000001,\n",
       " -0.010000000000000009,\n",
       " 0.08000000000000002,\n",
       " 0.0,\n",
       " -0.010000000000000009,\n",
       " 0.15000000000000002,\n",
       " 0.08999999999999997,\n",
       " 0.06,\n",
       " 0.030000000000000027,\n",
       " 0.44999999999999996]"
      ]
     },
     "execution_count": 36,
     "metadata": {},
     "output_type": "execute_result"
    }
   ],
   "source": [
    "[frequencies[0][i+1]-frequencies[0][i] for i in range(len(frequencies[0])-1)]"
   ]
  },
  {
   "cell_type": "code",
   "execution_count": 37,
   "id": "d8205850-f90b-4ff6-8aa9-49fa1694644a",
   "metadata": {},
   "outputs": [
    {
     "data": {
      "text/plain": [
       "[0.51, 0.41, 0.45, 0.42, 0.55, 0.55, 0.14, 1.0]"
      ]
     },
     "execution_count": 37,
     "metadata": {},
     "output_type": "execute_result"
    }
   ],
   "source": [
    "frequencies[1]"
   ]
  },
  {
   "cell_type": "code",
   "execution_count": 39,
   "id": "139b07a5-a2ed-4e64-992e-67ba935fb442",
   "metadata": {},
   "outputs": [
    {
     "name": "stdout",
     "output_type": "stream",
     "text": [
      "Pearson correlation: 0.5961446760447736\n"
     ]
    }
   ],
   "source": [
    "x = np.array(high_kl_divergences[1][:-1])\n",
    "#y = np.array([frequencies[1][i+1]-frequencies[0][i] for i in range(len(frequencies[0])-1)])\n",
    "y = np.array(frequencies[1][:-1])\n",
    "y=list(range(len(x)))\n",
    "# Compute Pearson correlation\n",
    "correlation = np.corrcoef(x, y)[0, 1]\n",
    "print(\"Pearson correlation:\", correlation)"
   ]
  },
  {
   "cell_type": "code",
   "execution_count": 36,
   "id": "6dcd5de4-0d8f-4d2a-9124-8def514fd486",
   "metadata": {},
   "outputs": [],
   "source": [
    "datasofar={\"couplets\":high_kl_results,\n",
    "\"final_tokens\": token_for_high_kl,\n",
    "\"tokenizations\": high_kl_text_tokens,\n",
    "\"KL_divergences_when_steering\": high_kl_divergences,\n",
    "\"frequencies\": frequencies}"
   ]
  },
  {
   "cell_type": "code",
   "execution_count": 37,
   "id": "144b3965-ba65-468c-a0cb-825fe1a41554",
   "metadata": {},
   "outputs": [],
   "source": [
    "with open(\"KL_divergences_for_pain_rhymes\",'w') as f:\n",
    "    json.dump(datasofar,f)"
   ]
  }
 ],
 "metadata": {
  "kernelspec": {
   "display_name": "Python 3 (ipykernel)",
   "language": "python",
   "name": "python3"
  },
  "language_info": {
   "codemirror_mode": {
    "name": "ipython",
    "version": 3
   },
   "file_extension": ".py",
   "mimetype": "text/x-python",
   "name": "python",
   "nbconvert_exporter": "python",
   "pygments_lexer": "ipython3",
   "version": "3.11.11"
  }
 },
 "nbformat": 4,
 "nbformat_minor": 5
}
