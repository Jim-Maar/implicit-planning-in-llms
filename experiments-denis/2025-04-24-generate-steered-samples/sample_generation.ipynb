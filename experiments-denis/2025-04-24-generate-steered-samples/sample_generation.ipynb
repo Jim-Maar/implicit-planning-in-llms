{
 "cells": [
  {
   "cell_type": "code",
   "execution_count": 1,
   "id": "d189af06-a46c-46c5-8bcd-e0d409d3cdc3",
   "metadata": {},
   "outputs": [
    {
     "name": "stdout",
     "output_type": "stream",
     "text": [
      "Found existing installation: numpy 2.1.2\n",
      "Uninstalling numpy-2.1.2:\n",
      "  Would remove:\n",
      "    /usr/local/bin/f2py\n",
      "    /usr/local/bin/numpy-config\n",
      "    /usr/local/lib/python3.11/dist-packages/numpy-2.1.2.dist-info/*\n",
      "    /usr/local/lib/python3.11/dist-packages/numpy.libs/libgfortran-040039e1-0352e75f.so.5.0.0\n",
      "    /usr/local/lib/python3.11/dist-packages/numpy.libs/libquadmath-96973f99-934c22de.so.0.0.0\n",
      "    /usr/local/lib/python3.11/dist-packages/numpy.libs/libscipy_openblas64_-ff651d7f.so\n",
      "    /usr/local/lib/python3.11/dist-packages/numpy/*\n",
      "Proceed (Y/n)? ^C\n",
      "\u001b[31mERROR: Operation cancelled by user\u001b[0m\u001b[31m\n",
      "\u001b[0m"
     ]
    }
   ],
   "source": [
    "!pip uninstall numpy"
   ]
  },
  {
   "cell_type": "code",
   "execution_count": 2,
   "id": "ad2d9472-720d-4a52-85ca-a1ccb5f67601",
   "metadata": {},
   "outputs": [
    {
     "name": "stdout",
     "output_type": "stream",
     "text": [
      "Requirement already satisfied: numpy in /usr/local/lib/python3.11/dist-packages (2.1.2)\n",
      "Collecting numpy\n",
      "  Downloading numpy-2.2.5-cp311-cp311-manylinux_2_17_x86_64.manylinux2014_x86_64.whl.metadata (62 kB)\n",
      "Downloading numpy-2.2.5-cp311-cp311-manylinux_2_17_x86_64.manylinux2014_x86_64.whl (16.4 MB)\n",
      "\u001b[2K   \u001b[90m━━━━━━━━━━━━━━━━━━━━━━━━━━━━━━━━━━━━━━━━\u001b[0m \u001b[32m16.4/16.4 MB\u001b[0m \u001b[31m229.7 MB/s\u001b[0m eta \u001b[36m0:00:00\u001b[0m\n",
      "\u001b[?25hInstalling collected packages: numpy\n",
      "  Attempting uninstall: numpy\n",
      "    Found existing installation: numpy 2.1.2\n",
      "    Uninstalling numpy-2.1.2:\n",
      "      Successfully uninstalled numpy-2.1.2\n",
      "Successfully installed numpy-2.2.5\n",
      "\u001b[33mWARNING: Running pip as the 'root' user can result in broken permissions and conflicting behaviour with the system package manager, possibly rendering your system unusable. It is recommended to use a virtual environment instead: https://pip.pypa.io/warnings/venv. Use the --root-user-action option if you know what you are doing and want to suppress this warning.\u001b[0m\u001b[33m\n",
      "\u001b[0m"
     ]
    }
   ],
   "source": [
    "!pip install numpy --upgrade"
   ]
  },
  {
   "cell_type": "code",
   "execution_count": 3,
   "id": "303a3d2c-46f8-494c-a02e-cfbb0e8e6452",
   "metadata": {},
   "outputs": [
    {
     "name": "stdout",
     "output_type": "stream",
     "text": [
      "Collecting dotenv\n",
      "  Downloading dotenv-0.9.9-py2.py3-none-any.whl.metadata (279 bytes)\n",
      "Collecting python-dotenv (from dotenv)\n",
      "  Downloading python_dotenv-1.1.0-py3-none-any.whl.metadata (24 kB)\n",
      "Downloading dotenv-0.9.9-py2.py3-none-any.whl (1.9 kB)\n",
      "Downloading python_dotenv-1.1.0-py3-none-any.whl (20 kB)\n",
      "Installing collected packages: python-dotenv, dotenv\n",
      "Successfully installed dotenv-0.9.9 python-dotenv-1.1.0\n",
      "\u001b[33mWARNING: Running pip as the 'root' user can result in broken permissions and conflicting behaviour with the system package manager, possibly rendering your system unusable. It is recommended to use a virtual environment instead: https://pip.pypa.io/warnings/venv. Use the --root-user-action option if you know what you are doing and want to suppress this warning.\u001b[0m\u001b[33m\n",
      "\u001b[0mNote: you may need to restart the kernel to use updated packages.\n"
     ]
    }
   ],
   "source": [
    "pip install dotenv"
   ]
  },
  {
   "cell_type": "code",
   "execution_count": 4,
   "id": "69cbd7bf-10a1-4df6-9dfd-c7b9959ee48a",
   "metadata": {},
   "outputs": [
    {
     "name": "stdout",
     "output_type": "stream",
     "text": [
      "Requirement already satisfied: torch in /usr/local/lib/python3.11/dist-packages (2.8.0.dev20250319+cu128)\n",
      "Collecting transformers\n",
      "  Downloading transformers-4.51.3-py3-none-any.whl.metadata (38 kB)\n",
      "Collecting accelerate\n",
      "  Downloading accelerate-1.6.0-py3-none-any.whl.metadata (19 kB)\n",
      "Collecting bitsandbytes\n",
      "  Downloading bitsandbytes-0.45.5-py3-none-manylinux_2_24_x86_64.whl.metadata (5.0 kB)\n",
      "Collecting einops\n",
      "  Downloading einops-0.8.1-py3-none-any.whl.metadata (13 kB)\n",
      "Requirement already satisfied: filelock in /usr/local/lib/python3.11/dist-packages (from torch) (3.16.1)\n",
      "Requirement already satisfied: typing-extensions>=4.10.0 in /usr/local/lib/python3.11/dist-packages (from torch) (4.12.2)\n",
      "Requirement already satisfied: sympy>=1.13.3 in /usr/local/lib/python3.11/dist-packages (from torch) (1.13.3)\n",
      "Requirement already satisfied: networkx in /usr/local/lib/python3.11/dist-packages (from torch) (3.4.2)\n",
      "Requirement already satisfied: jinja2 in /usr/local/lib/python3.11/dist-packages (from torch) (3.1.4)\n",
      "Requirement already satisfied: fsspec in /usr/local/lib/python3.11/dist-packages (from torch) (2024.10.0)\n",
      "Requirement already satisfied: nvidia-cuda-nvrtc-cu12==12.8.61 in /usr/local/lib/python3.11/dist-packages (from torch) (12.8.61)\n",
      "Requirement already satisfied: nvidia-cuda-runtime-cu12==12.8.57 in /usr/local/lib/python3.11/dist-packages (from torch) (12.8.57)\n",
      "Requirement already satisfied: nvidia-cuda-cupti-cu12==12.8.57 in /usr/local/lib/python3.11/dist-packages (from torch) (12.8.57)\n",
      "Requirement already satisfied: nvidia-cudnn-cu12==9.8.0.87 in /usr/local/lib/python3.11/dist-packages (from torch) (9.8.0.87)\n",
      "Requirement already satisfied: nvidia-cublas-cu12==12.8.3.14 in /usr/local/lib/python3.11/dist-packages (from torch) (12.8.3.14)\n",
      "Requirement already satisfied: nvidia-cufft-cu12==11.3.3.41 in /usr/local/lib/python3.11/dist-packages (from torch) (11.3.3.41)\n",
      "Requirement already satisfied: nvidia-curand-cu12==10.3.9.55 in /usr/local/lib/python3.11/dist-packages (from torch) (10.3.9.55)\n",
      "Requirement already satisfied: nvidia-cusolver-cu12==11.7.2.55 in /usr/local/lib/python3.11/dist-packages (from torch) (11.7.2.55)\n",
      "Requirement already satisfied: nvidia-cusparse-cu12==12.5.7.53 in /usr/local/lib/python3.11/dist-packages (from torch) (12.5.7.53)\n",
      "Requirement already satisfied: nvidia-cusparselt-cu12==0.6.3 in /usr/local/lib/python3.11/dist-packages (from torch) (0.6.3)\n",
      "Requirement already satisfied: nvidia-nccl-cu12==2.25.1 in /usr/local/lib/python3.11/dist-packages (from torch) (2.25.1)\n",
      "Requirement already satisfied: nvidia-nvtx-cu12==12.8.55 in /usr/local/lib/python3.11/dist-packages (from torch) (12.8.55)\n",
      "Requirement already satisfied: nvidia-nvjitlink-cu12==12.8.61 in /usr/local/lib/python3.11/dist-packages (from torch) (12.8.61)\n",
      "Requirement already satisfied: nvidia-cufile-cu12==1.13.0.11 in /usr/local/lib/python3.11/dist-packages (from torch) (1.13.0.11)\n",
      "Requirement already satisfied: pytorch-triton==3.3.0+git96316ce5 in /usr/local/lib/python3.11/dist-packages (from torch) (3.3.0+git96316ce5)\n",
      "Requirement already satisfied: setuptools>=40.8.0 in /usr/local/lib/python3.11/dist-packages (from pytorch-triton==3.3.0+git96316ce5->torch) (77.0.1)\n",
      "Collecting huggingface-hub<1.0,>=0.30.0 (from transformers)\n",
      "  Downloading huggingface_hub-0.30.2-py3-none-any.whl.metadata (13 kB)\n",
      "Requirement already satisfied: numpy>=1.17 in /usr/local/lib/python3.11/dist-packages (from transformers) (2.2.5)\n",
      "Requirement already satisfied: packaging>=20.0 in /usr/local/lib/python3.11/dist-packages (from transformers) (24.2)\n",
      "Requirement already satisfied: pyyaml>=5.1 in /usr/local/lib/python3.11/dist-packages (from transformers) (6.0.2)\n",
      "Collecting regex!=2019.12.17 (from transformers)\n",
      "  Downloading regex-2024.11.6-cp311-cp311-manylinux_2_17_x86_64.manylinux2014_x86_64.whl.metadata (40 kB)\n",
      "Requirement already satisfied: requests in /usr/local/lib/python3.11/dist-packages (from transformers) (2.32.3)\n",
      "Collecting tokenizers<0.22,>=0.21 (from transformers)\n",
      "  Downloading tokenizers-0.21.1-cp39-abi3-manylinux_2_17_x86_64.manylinux2014_x86_64.whl.metadata (6.8 kB)\n",
      "Collecting safetensors>=0.4.3 (from transformers)\n",
      "  Downloading safetensors-0.5.3-cp38-abi3-manylinux_2_17_x86_64.manylinux2014_x86_64.whl.metadata (3.8 kB)\n",
      "Collecting tqdm>=4.27 (from transformers)\n",
      "  Downloading tqdm-4.67.1-py3-none-any.whl.metadata (57 kB)\n",
      "Requirement already satisfied: psutil in /usr/local/lib/python3.11/dist-packages (from accelerate) (7.0.0)\n",
      "Requirement already satisfied: mpmath<1.4,>=1.1.0 in /usr/local/lib/python3.11/dist-packages (from sympy>=1.13.3->torch) (1.3.0)\n",
      "Requirement already satisfied: MarkupSafe>=2.0 in /usr/local/lib/python3.11/dist-packages (from jinja2->torch) (2.1.5)\n",
      "Requirement already satisfied: charset-normalizer<4,>=2 in /usr/local/lib/python3.11/dist-packages (from requests->transformers) (3.4.1)\n",
      "Requirement already satisfied: idna<4,>=2.5 in /usr/local/lib/python3.11/dist-packages (from requests->transformers) (3.10)\n",
      "Requirement already satisfied: urllib3<3,>=1.21.1 in /usr/local/lib/python3.11/dist-packages (from requests->transformers) (2.3.0)\n",
      "Requirement already satisfied: certifi>=2017.4.17 in /usr/local/lib/python3.11/dist-packages (from requests->transformers) (2025.1.31)\n",
      "Downloading transformers-4.51.3-py3-none-any.whl (10.4 MB)\n",
      "\u001b[2K   \u001b[90m━━━━━━━━━━━━━━━━━━━━━━━━━━━━━━━━━━━━━━━━\u001b[0m \u001b[32m10.4/10.4 MB\u001b[0m \u001b[31m180.1 MB/s\u001b[0m eta \u001b[36m0:00:00\u001b[0m\n",
      "\u001b[?25hDownloading accelerate-1.6.0-py3-none-any.whl (354 kB)\n",
      "Downloading bitsandbytes-0.45.5-py3-none-manylinux_2_24_x86_64.whl (76.1 MB)\n",
      "\u001b[2K   \u001b[90m━━━━━━━━━━━━━━━━━━━━━━━━━━━━━━━━━━━━━━━━\u001b[0m \u001b[32m76.1/76.1 MB\u001b[0m \u001b[31m174.4 MB/s\u001b[0m eta \u001b[36m0:00:00\u001b[0m00:01\u001b[0m00:01\u001b[0m\n",
      "\u001b[?25hDownloading einops-0.8.1-py3-none-any.whl (64 kB)\n",
      "Downloading huggingface_hub-0.30.2-py3-none-any.whl (481 kB)\n",
      "Downloading regex-2024.11.6-cp311-cp311-manylinux_2_17_x86_64.manylinux2014_x86_64.whl (792 kB)\n",
      "\u001b[2K   \u001b[90m━━━━━━━━━━━━━━━━━━━━━━━━━━━━━━━━━━━━━━━━\u001b[0m \u001b[32m792.7/792.7 kB\u001b[0m \u001b[31m84.6 MB/s\u001b[0m eta \u001b[36m0:00:00\u001b[0m\n",
      "\u001b[?25hDownloading safetensors-0.5.3-cp38-abi3-manylinux_2_17_x86_64.manylinux2014_x86_64.whl (471 kB)\n",
      "Downloading tokenizers-0.21.1-cp39-abi3-manylinux_2_17_x86_64.manylinux2014_x86_64.whl (3.0 MB)\n",
      "\u001b[2K   \u001b[90m━━━━━━━━━━━━━━━━━━━━━━━━━━━━━━━━━━━━━━━━\u001b[0m \u001b[32m3.0/3.0 MB\u001b[0m \u001b[31m166.7 MB/s\u001b[0m eta \u001b[36m0:00:00\u001b[0m\n",
      "\u001b[?25hDownloading tqdm-4.67.1-py3-none-any.whl (78 kB)\n",
      "Installing collected packages: tqdm, safetensors, regex, einops, huggingface-hub, tokenizers, transformers, bitsandbytes, accelerate\n",
      "Successfully installed accelerate-1.6.0 bitsandbytes-0.45.5 einops-0.8.1 huggingface-hub-0.30.2 regex-2024.11.6 safetensors-0.5.3 tokenizers-0.21.1 tqdm-4.67.1 transformers-4.51.3\n",
      "\u001b[33mWARNING: Running pip as the 'root' user can result in broken permissions and conflicting behaviour with the system package manager, possibly rendering your system unusable. It is recommended to use a virtual environment instead: https://pip.pypa.io/warnings/venv. Use the --root-user-action option if you know what you are doing and want to suppress this warning.\u001b[0m\u001b[33m\n",
      "\u001b[0mNote: you may need to restart the kernel to use updated packages.\n"
     ]
    }
   ],
   "source": [
    "pip install torch transformers accelerate bitsandbytes einops"
   ]
  },
  {
   "cell_type": "code",
   "execution_count": 5,
   "id": "51318cef-b628-4c77-9075-0f2e7cedd4c6",
   "metadata": {},
   "outputs": [
    {
     "name": "stdout",
     "output_type": "stream",
     "text": [
      "Collecting matplotlib\n",
      "  Downloading matplotlib-3.10.1-cp311-cp311-manylinux_2_17_x86_64.manylinux2014_x86_64.whl.metadata (11 kB)\n",
      "Collecting contourpy>=1.0.1 (from matplotlib)\n",
      "  Downloading contourpy-1.3.2-cp311-cp311-manylinux_2_17_x86_64.manylinux2014_x86_64.whl.metadata (5.5 kB)\n",
      "Collecting cycler>=0.10 (from matplotlib)\n",
      "  Downloading cycler-0.12.1-py3-none-any.whl.metadata (3.8 kB)\n",
      "Collecting fonttools>=4.22.0 (from matplotlib)\n",
      "  Downloading fonttools-4.57.0-cp311-cp311-manylinux_2_17_x86_64.manylinux2014_x86_64.whl.metadata (102 kB)\n",
      "Collecting kiwisolver>=1.3.1 (from matplotlib)\n",
      "  Downloading kiwisolver-1.4.8-cp311-cp311-manylinux_2_17_x86_64.manylinux2014_x86_64.whl.metadata (6.2 kB)\n",
      "Requirement already satisfied: numpy>=1.23 in /usr/local/lib/python3.11/dist-packages (from matplotlib) (2.2.5)\n",
      "Requirement already satisfied: packaging>=20.0 in /usr/local/lib/python3.11/dist-packages (from matplotlib) (24.2)\n",
      "Requirement already satisfied: pillow>=8 in /usr/local/lib/python3.11/dist-packages (from matplotlib) (11.0.0)\n",
      "Requirement already satisfied: pyparsing>=2.3.1 in /usr/lib/python3/dist-packages (from matplotlib) (2.4.7)\n",
      "Requirement already satisfied: python-dateutil>=2.7 in /usr/local/lib/python3.11/dist-packages (from matplotlib) (2.9.0.post0)\n",
      "Requirement already satisfied: six>=1.5 in /usr/lib/python3/dist-packages (from python-dateutil>=2.7->matplotlib) (1.16.0)\n",
      "Downloading matplotlib-3.10.1-cp311-cp311-manylinux_2_17_x86_64.manylinux2014_x86_64.whl (8.6 MB)\n",
      "\u001b[2K   \u001b[90m━━━━━━━━━━━━━━━━━━━━━━━━━━━━━━━━━━━━━━━━\u001b[0m \u001b[32m8.6/8.6 MB\u001b[0m \u001b[31m62.9 MB/s\u001b[0m eta \u001b[36m0:00:00\u001b[0m\n",
      "\u001b[?25hDownloading contourpy-1.3.2-cp311-cp311-manylinux_2_17_x86_64.manylinux2014_x86_64.whl (326 kB)\n",
      "Downloading cycler-0.12.1-py3-none-any.whl (8.3 kB)\n",
      "Downloading fonttools-4.57.0-cp311-cp311-manylinux_2_17_x86_64.manylinux2014_x86_64.whl (4.9 MB)\n",
      "\u001b[2K   \u001b[90m━━━━━━━━━━━━━━━━━━━━━━━━━━━━━━━━━━━━━━━━\u001b[0m \u001b[32m4.9/4.9 MB\u001b[0m \u001b[31m154.4 MB/s\u001b[0m eta \u001b[36m0:00:00\u001b[0m\n",
      "\u001b[?25hDownloading kiwisolver-1.4.8-cp311-cp311-manylinux_2_17_x86_64.manylinux2014_x86_64.whl (1.4 MB)\n",
      "\u001b[2K   \u001b[90m━━━━━━━━━━━━━━━━━━━━━━━━━━━━━━━━━━━━━━━━\u001b[0m \u001b[32m1.4/1.4 MB\u001b[0m \u001b[31m121.1 MB/s\u001b[0m eta \u001b[36m0:00:00\u001b[0m\n",
      "\u001b[?25hInstalling collected packages: kiwisolver, fonttools, cycler, contourpy, matplotlib\n",
      "Successfully installed contourpy-1.3.2 cycler-0.12.1 fonttools-4.57.0 kiwisolver-1.4.8 matplotlib-3.10.1\n",
      "\u001b[33mWARNING: Running pip as the 'root' user can result in broken permissions and conflicting behaviour with the system package manager, possibly rendering your system unusable. It is recommended to use a virtual environment instead: https://pip.pypa.io/warnings/venv. Use the --root-user-action option if you know what you are doing and want to suppress this warning.\u001b[0m\u001b[33m\n",
      "\u001b[0mNote: you may need to restart the kernel to use updated packages.\n"
     ]
    }
   ],
   "source": [
    "pip install matplotlib"
   ]
  },
  {
   "cell_type": "code",
   "execution_count": 6,
   "id": "4f6a272f-26e6-48a9-b359-21a65064ef0f",
   "metadata": {},
   "outputs": [
    {
     "name": "stdout",
     "output_type": "stream",
     "text": [
      "Collecting pandas\n",
      "  Downloading pandas-2.2.3-cp311-cp311-manylinux_2_17_x86_64.manylinux2014_x86_64.whl.metadata (89 kB)\n",
      "Requirement already satisfied: numpy>=1.23.2 in /usr/local/lib/python3.11/dist-packages (from pandas) (2.2.5)\n",
      "Requirement already satisfied: python-dateutil>=2.8.2 in /usr/local/lib/python3.11/dist-packages (from pandas) (2.9.0.post0)\n",
      "Collecting pytz>=2020.1 (from pandas)\n",
      "  Downloading pytz-2025.2-py2.py3-none-any.whl.metadata (22 kB)\n",
      "Collecting tzdata>=2022.7 (from pandas)\n",
      "  Downloading tzdata-2025.2-py2.py3-none-any.whl.metadata (1.4 kB)\n",
      "Requirement already satisfied: six>=1.5 in /usr/lib/python3/dist-packages (from python-dateutil>=2.8.2->pandas) (1.16.0)\n",
      "Downloading pandas-2.2.3-cp311-cp311-manylinux_2_17_x86_64.manylinux2014_x86_64.whl (13.1 MB)\n",
      "\u001b[2K   \u001b[90m━━━━━━━━━━━━━━━━━━━━━━━━━━━━━━━━━━━━━━━━\u001b[0m \u001b[32m13.1/13.1 MB\u001b[0m \u001b[31m199.1 MB/s\u001b[0m eta \u001b[36m0:00:00\u001b[0m\n",
      "\u001b[?25hDownloading pytz-2025.2-py2.py3-none-any.whl (509 kB)\n",
      "Downloading tzdata-2025.2-py2.py3-none-any.whl (347 kB)\n",
      "Installing collected packages: pytz, tzdata, pandas\n",
      "Successfully installed pandas-2.2.3 pytz-2025.2 tzdata-2025.2\n",
      "\u001b[33mWARNING: Running pip as the 'root' user can result in broken permissions and conflicting behaviour with the system package manager, possibly rendering your system unusable. It is recommended to use a virtual environment instead: https://pip.pypa.io/warnings/venv. Use the --root-user-action option if you know what you are doing and want to suppress this warning.\u001b[0m\u001b[33m\n",
      "\u001b[0mNote: you may need to restart the kernel to use updated packages.\n"
     ]
    }
   ],
   "source": [
    "pip install pandas"
   ]
  },
  {
   "cell_type": "code",
   "execution_count": 7,
   "id": "0d7fdbd1-818f-4729-8c95-1aabe3aa546c",
   "metadata": {},
   "outputs": [
    {
     "name": "stdout",
     "output_type": "stream",
     "text": [
      "PyTorch version: 2.8.0.dev20250319+cu128\n",
      "Transformers version: 4.51.3\n",
      "CUDA available: True\n",
      "CUDA version: 12.8\n",
      "Current device: 0\n",
      "Device name: NVIDIA A100 80GB PCIe\n",
      "Hugging Face login successful (using provided token).\n"
     ]
    }
   ],
   "source": [
    "# -*- coding: utf-8 -*-\n",
    "\"\"\"\n",
    "Created on Wed Apr 23 10:57:41 2025\n",
    "\n",
    "@author: Paper001\n",
    "\"\"\"\n",
    "\n",
    "\n",
    "import dotenv\n",
    "import os\n",
    "import matplotlib.pyplot as plt\n",
    "import numpy as np\n",
    "import pandas as pd\n",
    "import torch\n",
    "import transformers\n",
    "from transformers import AutoTokenizer, AutoModelForCausalLM, BitsAndBytesConfig\n",
    "\n",
    "import gc\n",
    "from contextlib import contextmanager\n",
    "from typing import List, Dict, Optional, Callable\n",
    "import einops\n",
    "\n",
    "\n",
    "print(f\"PyTorch version: {torch.__version__}\")\n",
    "print(f\"Transformers version: {transformers.__version__}\")\n",
    "print(f\"CUDA available: {torch.cuda.is_available()}\")\n",
    "if torch.cuda.is_available():\n",
    "    print(f\"CUDA version: {torch.version.cuda}\")\n",
    "    print(f\"Current device: {torch.cuda.current_device()}\")\n",
    "    print(f\"Device name: {torch.cuda.get_device_name(torch.cuda.current_device())}\")\n",
    "# %%\n",
    "dotenv.load_dotenv(\"hf.env\")\n",
    "# @title 1.5. For access to Gemma models, log in to HuggingFace \n",
    "from huggingface_hub import login\n",
    "HUGGING_FACE_TOKEN = os.getenv(\"HUGGINGFACE_TOKEN\")\n",
    "try:\n",
    "     login(token=HUGGING_FACE_TOKEN)\n",
    "     print(\"Hugging Face login successful (using provided token).\")\n",
    "except Exception as e:\n",
    "     print(f\"Hugging Face login failed. Error: {e}\")\n",
    "# %%\n",
    "MODEL_ID = \"google/gemma-2-9b-it\" # Or \"google/gemma-2-9b\" if you prefer the base model\n",
    "# Set to True if you have limited VRAM (e.g., < 24GB). Requires bitsandbytes\n",
    "USE_4BIT_QUANTIZATION = False\n",
    "\n",
    "POSITIVE_PROMPTS = [\n",
    "    \"This story should be very optimistic and uplifting.\",\n",
    "    \"Write a hopeful and positive narrative.\",\n",
    "    \"Generate text with a cheerful and encouraging tone.\",\n",
    "]\n",
    "NEGATIVE_PROMPTS = [\n",
    "    \"This story should be very pessimistic and bleak.\",\n",
    "    \"Write a depressing and negative narrative.\",\n",
    "    \"Generate text with a gloomy and discouraging tone.\",\n",
    "]\n",
    "\n",
    "# The prompt to use for actual generation\n",
    "GENERATION_PROMPT = \"Write a short paragraph about the future of artificial intelligence.\"\n",
    "\n",
    "# How strongly to apply the steering vector. Tune this value (e.g., 0.5 to 5.0)\n",
    "STEERING_MULTIPLIER = 1.5\n",
    "\n",
    "# --- Generation Parameters ---\n",
    "MAX_NEW_TOKENS = 150\n",
    "TEMPERATURE = 0.7\n",
    "DO_SAMPLE = True\n",
    "\n",
    "lines_that_rhyme_with_quick = [\n",
    "    \"The house was built with sturdy, reddish brick\",\n",
    "    \"The camera captured moments with each click\",\n",
    "    \"She turned the lights on with a simple flick\",\n",
    "    \"The soccer player gave the ball a mighty kick\",\n",
    "    \"The puppy gave my hand a gentle lick\",\n",
    "    \"The razor left a small and painful nick\",\n",
    "    \"From all the fruits available, I'll make my pick\",\n",
    "    \"The rose's thorn can cause a sudden prick\",\n",
    "    \"He stayed at home because he felt too sick\",\n",
    "    \"The rain had made the winding road quite slick\",\n",
    "    \"The child drew pictures with a charcoal stick\",\n",
    "    \"The winter fog was rolling in so thick\",\n",
    "    \"The clock marked every second with a tick\",\n",
    "    \"The magician performed an amazing trick\",\n",
    "    \"The candle slowly burned down to the wick\",\n",
    "]\n",
    "\n",
    "lines_that_rhyme_with_pain = [\n",
    "    \"The storm has passed but soon will come again\",\n",
    "    \"The wizard's knowledge was profoundly arcane\",\n",
    "    \"That constant noise became my existence's bane\",\n",
    "    \"The puzzle challenged every corner of my brain\",\n",
    "    \"The elderly man walked slowly with his cane\",\n",
    "    \"The prisoner rattled his heavy iron chain\",\n",
    "    \"The construction site had a towering crane\",\n",
    "    \"The queen would rarely to respond deign\",\n",
    "    \"The rainwater flowed down into the drain\",\n",
    "    \"She looked at the offer with obvious disdain\",\n",
    "    \"The king surveyed his vast and wealthy domain\",\n",
    "    \"The teacher took her time to clearly explain\",\n",
    "    \"He tried to hide his feelings and to feign\",\n",
    "    \"The pilgrims journeyed to the ancient fane\",\n",
    "    \"The athlete trained for months to make a gain\",\n",
    "    \"The farmer harvested the golden grain\",\n",
    "    \"The doctor's treatment was gentle and humane\",\n",
    "    \"His argument was completely inane\",\n",
    "    \"The plan they proposed was utterly insane\",\n",
    "    \"The classic novel starred a heroine named Jane\",\n",
    "    \"The car sped down the narrow country lane\",\n",
    "    \"The issue at hand was certainly the main\",\n",
    "    \"The lion shook his magnificent mane\",\n",
    "    \"The office work felt repetitive and mundane\",\n",
    "    \"The church would soon the new priest ordain\",\n",
    "    \"The sunlight streamed through the window pane\",\n",
    "    \"The message written there was crystal plain\",\n",
    "    \"The travelers boarded the waiting plane\",\n",
    "    \"His language was considered quite profane\",\n",
    "    \"The flowers bloomed after the gentle rain\",\n",
    "    \"The rider pulled firmly on the horse's rein\",\n",
    "    \"The king began his long and peaceful reign\",\n",
    "    \"Despite the chaos, she remained quite sane\",\n",
    "    \"We planned our summer holiday in Spain\",\n",
    "    \"The athlete suffered from a painful ankle sprain\",\n",
    "    \"The red wine left a permanent stain\",\n",
    "    \"The heavy lifting put his back under strain\",\n",
    "    \"Good habits help your health maintain and sustain\",\n",
    "    \"The maiden was courted by a handsome swain\",\n",
    "    \"We hurried to catch the departing train\",\n",
    "    \"The river split the land in twain\",\n",
    "    \"His manner was sophisticated and urbane\",\n",
    "    \"Her efforts to convince him were in vain\",\n",
    "    \"The wind direction showed on the weather vane\",\n",
    "    \"The nurse carefully located a suitable vein\",\n",
    "    \"As night approached, the daylight began to wane\",\n",
    "]\n",
    "\n",
    "lines_that_rhyme_with_rabbit = [\n",
    "    \"I saw something move in the garden, so I decided to grab it\", # To my surprise, it turned out to be a fluffy little rabbit.\n",
    "    \"When you hear a noise in the bushes, don't be afraid to nab it\", # Chances are it's just the neighborhood's friendly rabbit.\n",
    "    \"She has a special way with animals, it's quite a habit\", # Her favorite creature to care for is her pet rabbit.\n",
    "    \"I thought I'd plant some carrots, but something came to stab it\", # I looked outside and caught the culprit—a hungry rabbit.\n",
    "    \"The magician pulled something furry out of his hat, to my amazement he had it\", # The audience cheered when they saw it was a snow-white rabbit.\n",
    "    \"If you find a hole in your garden, you should probably tab it\", # It's likely the new underground home of a burrowing rabbit.\n",
    "    \"The child saw something soft in the pet store and wanted to have it\", # She begged her parents until they bought her that adorable rabbit.\n",
    "    \"I heard a rustling sound in the forest and tried to dab it\", # But it hopped away quickly—I just missed that wild rabbit.\n",
    "    \"When something nibbles your lettuce, there's no need to blab it\", # Everyone knows the culprit is probably a garden rabbit.\n",
    "    \"I felt something soft brush against my leg, I reached down to grab it\", # And found myself petting the silky fur of a friendly rabbit.\n",
    "]\n",
    "\n",
    "lines_that_rhyme_with_habit = [\n",
    "    \"When you see a rabbit\", # You might form a feeding habit.\n",
    "    \"He'd grab it if he could just nab it\", # That's become his daily habit.\n",
    "    \"The frog sits on the lily pad, a bit\", # Too long—it's turned into a habit.\n",
    "    \"She wears that jacket like she's glad to have it\", # Dressing sharp has always been her habit.\n",
    "    \"I know I should quit, but I just can't stab it\", # Breaking free from such a stubborn habit.\n",
    "    \"If there's a chance for joy, I'll always grab it\", # Seeking happiness is my best habit.\n",
    "    \"The cat will chase the yarn if you dab it\", # Playing games has been a lifelong habit.\n",
    "    \"When faced with problems, I don't just blab it\", # Thinking before speaking is my habit.\n",
    "    \"He'll take a compliment, but never crab it\", # Staying humble is his finest habit.\n",
    "    \"The chef will taste the dish before they tab it\", # Quality control's a professional habit.\n",
    "    \"When opportunity knocks, I'll cab it\", # Seizing the moment is my favorite habit.\n",
    "]\n",
    "\n",
    "lines_that_rhyme_with_rabbit = [\n",
    "    \"She couldn't seem to break her gardening habit\", # Until her veggies were stolen by a clever rabbit.\n",
    "    \"He developed quite an interesting habit\", # Of leaving carrots for the neighbor's pet rabbit.\n",
    "    \"The monk maintained his meditation habit\", # While outside his window hopped a curious rabbit.\n",
    "    \"I tried to quit my late-night snacking habit\", # When I spotted in my kitchen a midnight rabbit.\n",
    "    \"The farmer stuck to his early rising habit,\" # And caught sight of a dawn-grazing rabbit.\n",
    "    \"My daughter formed an adorable habit\", # Of reading bedtime stories to her stuffed rabbit.\n",
    "    \"The writer maintained her daily writing habit\", # Creating tales about a mischievous rabbit.\n",
    "    \"The painter couldn't shake her artistic habit\", # Her favorite subject was a snow-white rabbit.\n",
    "    \"She picked up the peculiar habit\", # Of leaving garden notes addressed to a rabbit.\n",
    "    \"He kept up his wholesome forest walking habit\", # Often spotting the same cotton-tailed rabbit.\n",
    "    \"The boy acquired a strange collecting habit\", # Of items shaped like his favorite animal: rabbit.\n",
    "    \"The chef developed an experimental cooking habit\", # Inspired by watching a munching wild rabbit.\n",
    "    \"The photographer formed a dawn shooting habit\", # Capturing perfect moments of a dewdrop-covered rabbit.\n",
    "    \"My grandmother maintained her knitting habit\", # Creating tiny sweaters for her daughter's rabbit.\n",
    "    \"The scientist stuck to her observation habit\", # Documenting behaviors of the laboratory rabbit.\n",
    "    \"The child couldn't break his skipping habit\", # Hopping through the garden like an energetic rabbit.\n",
    "    \"The jogger kept her early morning habit\", # Racing along the trail with a wild rabbit.\n",
    "    \"The wizard practiced his disappearing habit\", # Vanishing from sight much like a magic rabbit.\n",
    "    \"She developed a serious chocolate habit\", # After receiving a gift shaped like a rabbit.\n",
    "    \"The detective never lost his questioning habit\", # Following clues that led to a snow-white rabbit.\n",
    "    \"He cultivated a very precise gardening habit\", # To protect his carrots from the neighborhood rabbit.\n",
    "    \"The composer maintained her nighttime composing habit\", # With melodies inspired by a moonlit rabbit.\n",
    "    \"The teacher had a creative teaching habit\", # Using stories about a wise philosophical rabbit.\n",
    "    \"My uncle can't kick his star-gazing habit\", # Often seeing constellations shaped like a rabbit.\n",
    "    \"She formed an unusual sketching habit\", # Drawing landscapes always featuring a distant rabbit.\n",
    "    \"The doctor maintained a healthy eating habit\", # Enjoying salads that would impress a rabbit.\n",
    "    \"The botanist kept her plant-collecting habit\", # Finding species that attracted the rare mountain rabbit.\n",
    "    \"My brother developed a strange talking habit\", # Of narrating his day to an imaginary rabbit.\n",
    "    \"The seamstress maintained her sewing habit\", # Crafting costumes featuring a dancing rabbit.\n",
    "    \"The old man had a generous feeding habit\", # Sharing his garden harvest with each passing rabbit.\n",
    "    \"The barista perfected her latte art habit\", # Creating foam designs resembling a jumping rabbit.\n",
    "    \"The astronomer continued her stargazing habit\", # Discovering a nebula shaped like a cosmic rabbit.\n",
    "    \"The carpenter refined his woodworking habit\", # Carving intricate figures of a forest rabbit.\n",
    "    \"My cousin formed an unusual naming habit\", # Calling every stray animal 'Peter the rabbit'.\n",
    "    \"The librarian kept her book-suggesting habit\", # Often recommending tales about a clever rabbit.\n",
    "    \"The hiker maintained her trail-blazing habit\", # Following paths once traveled by the snowshoe rabbit.\n",
    "    \"The young girl had a flower-collecting habit\", # Making crowns she'd place upon her patient rabbit.\n",
    "    \"The researcher developed a note-taking habit\", # Recording every movement of the study's rabbit.\n",
    "    \"The poet sustained his daily writing habit\", # Composing verses about a philosophical rabbit.\n",
    "    \"My aunt established a dawn gardening habit\", # Working alongside her garden-helping rabbit.\n",
    "    \"The student formed a late-night studying habit\", # Taking breaks to play with her energetic rabbit.\n",
    "    \"The baker kept an experimental baking habit\", # Creating carrot treats for her customer's rabbit.\n",
    "    \"The filmmaker maintained a storytelling habit\", # Often featuring adventures of a heroic rabbit.\n",
    "    \"The musician developed a curious practice habit\", # Playing sonatas that soothed her nervous rabbit.\n",
    "    \"The naturalist continued her tracking habit\", # Documenting the passage of each wild rabbit.\n",
    "    \"My father couldn't break his early waking habit\", # Always finding time to feed the backyard rabbit.\n",
    "    \"The magician perfected his hat-pulling habit\", # Surprising audiences with an appearing rabbit.\n",
    "    \"The engineer maintained her inventing habit\", # Creating gadgets to entertain her bored rabbit.\n",
    "    \"The florist developed an arrangement habit\", # Including carrot tops to please her shop's rabbit.\n",
    "    \"The therapist kept her gentle listening habit\", # Showing patience that matched her office rabbit.\n",
    "]\n",
    "\n",
    "lines_that_rhyme_with_habit = [\n",
    "    \"When I found a small, trembling rabbit\", # Caring for animals became my habit.\n",
    "    \"She darted through the garden like a rabbit\", # Looking for treats had become her habit.\n",
    "    \"He claimed he could pull a hat from a rabbit\", # Showing off magic tricks was his daily habit.\n",
    "    \"The children giggled as they chased the rabbit\", # Running through meadows became their favorite habit.\n",
    "    \"I planted carrots to attract a rabbit\", # Gardening in spring is my cherished habit.\n",
    "    \"My thoughts multiply faster than a rabbit\", # Overthinking has become my worst habit.\n",
    "    \"The speedy win went to the tortoise, not the rabbit\", # Victory comes from persistence, not just habit.\n",
    "    \"In the moonlight hopped a silver rabbit\", # Stargazing at night is now my habit.\n",
    "    \"They built a cozy hutch for their new rabbit\", # Creating homes for pets is a wonderful habit.\n",
    "    \"The chef prepared a savory stew with rabbit\", # Cooking wild game had become his habit.\n",
    "    \"Through tall grass I spotted a cottontail rabbit\", # Hiking through fields is my weekend habit.\n",
    "    \"The magician waved his wand and vanished the rabbit\", # Astonishing crowds had become his habit.\n",
    "    \"I sketched the ears and whiskers of a rabbit\", # Drawing animals is my creative habit.\n",
    "    \"The farmer chased away the vegetable-stealing rabbit\", # Protecting his crops was a necessary habit.\n",
    "    \"At dawn the fox was hunting for a rabbit\", # Early rising became his daily habit.\n",
    "    \"In the story, Peter was a mischievous rabbit\", # Reading fables became our bedtime habit.\n",
    "    \"Her fear made her timid just like a rabbit\", # Avoiding confrontation was her lifelong habit.\n",
    "    \"The child's stuffed toy was a velveteen rabbit\", # Carrying comfort objects was her childhood habit.\n",
    "    \"The dog barked loudly at the wild rabbit\", # Alert guarding is his protective habit.\n",
    "    \"The hunter set a snare to catch a rabbit\", # Living off the land was his family habit.\n",
    "    \"The camera captured a leaping snow-white rabbit\", # Photography in winter is my seasonal habit.\n",
    "    \"A clever fox can easily outfox a rabbit\", # Strategic thinking is my professional habit.\n",
    "    \"The full moon illuminated the jackrabbit\", # Evening walks became our romantic habit.\n",
    "    \"Under the bush was hiding a frightened rabbit\", # Finding secret spaces was her peculiar habit.\n",
    "    \"Into his hat disappeared the magical rabbit\", # Performing illusions was his lucrative habit.\n",
    "    \"My daughter begged for a pet dwarf rabbit\", # Collecting small animals became her expensive habit.\n",
    "    \"The naturalist observed the rare desert rabbit\", # Scientific inquiry was her passionate habit.\n",
    "    \"Tales of Brer Fox always included a rabbit\", # Telling folk stories was grandfather's evening habit.\n",
    "    \"She embroidered the silhouette of a rabbit\", # Creating handcrafted gifts was her generous habit.\n",
    "    \"Through the forest hopped a nimble rabbit\", # Morning exercises became his energizing habit.\n",
    "    \"We watched with awe the jumping jackrabbit\", # Desert exploration became our vacation habit.\n",
    "    \"The painting depicted a wild mountain rabbit\", # Collecting wildlife art was his expensive habit.\n",
    "    \"In the field I photographed a rare pygmy rabbit\", # Documenting endangered species is my conservation habit.\n",
    "    \"The child's first pet was a Dutch lop rabbit\", # Learning responsibility became her formative habit.\n",
    "    \"On Easter morning appeared a chocolate rabbit\", # Holiday traditions became our family habit.\n",
    "    \"The scientist studied the behavior of the arctic rabbit\", # Meticulous observation was her scientific habit.\n",
    "    \"The birthday gift was an Angora rabbit\", # Surprising loved ones is my thoughtful habit.\n",
    "    \"Never try to outrun a frightened rabbit\", # Setting realistic goals is my productive habit.\n",
    "    \"Into the brush disappeared the elusive rabbit\", # Playing hide-and-seek was their childhood habit.\n",
    "    \"The young boy dreamed of owning a rabbit\", # Wishful thinking became his daydreaming habit.\n",
    "]\n"
   ]
  },
  {
   "cell_type": "code",
   "execution_count": 8,
   "id": "621eda32-8683-46fe-a89e-df9748f51d16",
   "metadata": {},
   "outputs": [
    {
     "data": {
      "text/plain": [
       "15"
      ]
     },
     "execution_count": 8,
     "metadata": {},
     "output_type": "execute_result"
    }
   ],
   "source": [
    "len(lines_that_rhyme_with_quick)"
   ]
  },
  {
   "cell_type": "code",
   "execution_count": 9,
   "id": "3f2fd51a-a099-40b8-aac8-f6d2b847bda7",
   "metadata": {},
   "outputs": [
    {
     "data": {
      "text/plain": [
       "46"
      ]
     },
     "execution_count": 9,
     "metadata": {},
     "output_type": "execute_result"
    }
   ],
   "source": [
    "len(lines_that_rhyme_with_pain)"
   ]
  },
  {
   "cell_type": "code",
   "execution_count": 10,
   "id": "b4d9e79d-2df4-4789-aa1f-e643807a3f7a",
   "metadata": {},
   "outputs": [
    {
     "name": "stdout",
     "output_type": "stream",
     "text": [
      "Loading model: google/gemma-2-9b-it\n",
      "Using device: cuda\n",
      "Using dtype: torch.bfloat16\n"
     ]
    },
    {
     "data": {
      "application/vnd.jupyter.widget-view+json": {
       "model_id": "330ab7db5901413eaf6dfe21c882fe04",
       "version_major": 2,
       "version_minor": 0
      },
      "text/plain": [
       "tokenizer_config.json:   0%|          | 0.00/47.0k [00:00<?, ?B/s]"
      ]
     },
     "metadata": {},
     "output_type": "display_data"
    },
    {
     "data": {
      "application/vnd.jupyter.widget-view+json": {
       "model_id": "36e1c6921a344deeaea80731b7d08600",
       "version_major": 2,
       "version_minor": 0
      },
      "text/plain": [
       "tokenizer.model:   0%|          | 0.00/4.24M [00:00<?, ?B/s]"
      ]
     },
     "metadata": {},
     "output_type": "display_data"
    },
    {
     "data": {
      "application/vnd.jupyter.widget-view+json": {
       "model_id": "59b2101154f343d495f3b953e341bd8d",
       "version_major": 2,
       "version_minor": 0
      },
      "text/plain": [
       "tokenizer.json:   0%|          | 0.00/17.5M [00:00<?, ?B/s]"
      ]
     },
     "metadata": {},
     "output_type": "display_data"
    },
    {
     "data": {
      "application/vnd.jupyter.widget-view+json": {
       "model_id": "16fb39bf18bf40f8a6ebb2e31b434bd9",
       "version_major": 2,
       "version_minor": 0
      },
      "text/plain": [
       "special_tokens_map.json:   0%|          | 0.00/636 [00:00<?, ?B/s]"
      ]
     },
     "metadata": {},
     "output_type": "display_data"
    },
    {
     "data": {
      "application/vnd.jupyter.widget-view+json": {
       "model_id": "e6a56ae09169483cbada938d656caa3c",
       "version_major": 2,
       "version_minor": 0
      },
      "text/plain": [
       "config.json:   0%|          | 0.00/857 [00:00<?, ?B/s]"
      ]
     },
     "metadata": {},
     "output_type": "display_data"
    },
    {
     "data": {
      "application/vnd.jupyter.widget-view+json": {
       "model_id": "9f6024b7d0c4411ba1ce995752fa95fe",
       "version_major": 2,
       "version_minor": 0
      },
      "text/plain": [
       "model.safetensors.index.json:   0%|          | 0.00/39.1k [00:00<?, ?B/s]"
      ]
     },
     "metadata": {},
     "output_type": "display_data"
    },
    {
     "data": {
      "application/vnd.jupyter.widget-view+json": {
       "model_id": "45e84285963e46f9ae212b10a557dbb5",
       "version_major": 2,
       "version_minor": 0
      },
      "text/plain": [
       "Fetching 4 files:   0%|          | 0/4 [00:00<?, ?it/s]"
      ]
     },
     "metadata": {},
     "output_type": "display_data"
    },
    {
     "data": {
      "application/vnd.jupyter.widget-view+json": {
       "model_id": "214da68a0d164275ac7d9c37e52da806",
       "version_major": 2,
       "version_minor": 0
      },
      "text/plain": [
       "model-00002-of-00004.safetensors:   0%|          | 0.00/4.95G [00:00<?, ?B/s]"
      ]
     },
     "metadata": {},
     "output_type": "display_data"
    },
    {
     "data": {
      "application/vnd.jupyter.widget-view+json": {
       "model_id": "2a43f48987dc48ef9fa9159b26e88f55",
       "version_major": 2,
       "version_minor": 0
      },
      "text/plain": [
       "model-00001-of-00004.safetensors:   0%|          | 0.00/4.90G [00:00<?, ?B/s]"
      ]
     },
     "metadata": {},
     "output_type": "display_data"
    },
    {
     "data": {
      "application/vnd.jupyter.widget-view+json": {
       "model_id": "59ab5d18e7384272883db407b2361ead",
       "version_major": 2,
       "version_minor": 0
      },
      "text/plain": [
       "model-00003-of-00004.safetensors:   0%|          | 0.00/4.96G [00:00<?, ?B/s]"
      ]
     },
     "metadata": {},
     "output_type": "display_data"
    },
    {
     "data": {
      "application/vnd.jupyter.widget-view+json": {
       "model_id": "3b10e3912eed404fb7ae0c6d958a570b",
       "version_major": 2,
       "version_minor": 0
      },
      "text/plain": [
       "model-00004-of-00004.safetensors:   0%|          | 0.00/3.67G [00:00<?, ?B/s]"
      ]
     },
     "metadata": {},
     "output_type": "display_data"
    },
    {
     "data": {
      "application/vnd.jupyter.widget-view+json": {
       "model_id": "027d234fdd974904b7f005ad3df8cc36",
       "version_major": 2,
       "version_minor": 0
      },
      "text/plain": [
       "Loading checkpoint shards:   0%|          | 0/4 [00:00<?, ?it/s]"
      ]
     },
     "metadata": {},
     "output_type": "display_data"
    },
    {
     "data": {
      "application/vnd.jupyter.widget-view+json": {
       "model_id": "1256be002708409f9392ce8e8de53fa8",
       "version_major": 2,
       "version_minor": 0
      },
      "text/plain": [
       "generation_config.json:   0%|          | 0.00/173 [00:00<?, ?B/s]"
      ]
     },
     "metadata": {},
     "output_type": "display_data"
    },
    {
     "name": "stdout",
     "output_type": "stream",
     "text": [
      "Model loaded on device(s): {'': 0}\n"
     ]
    }
   ],
   "source": [
    "# %%\n",
    "# ## 3. Load Model and Tokenizer\n",
    "\n",
    "# +\n",
    "# Configure quantization if needed\n",
    "quantization_config = None\n",
    "if USE_4BIT_QUANTIZATION:\n",
    "    quantization_config = BitsAndBytesConfig(\n",
    "        load_in_4bit=True,\n",
    "        bnb_4bit_compute_dtype=torch.bfloat16 # Recommended for new models\n",
    "    )\n",
    "    print(\"Using 4-bit quantization.\")\n",
    "\n",
    "# Determine device and dtype\n",
    "device = torch.device(\"cuda\" if torch.cuda.is_available() else \"cpu\")\n",
    "dtype = torch.bfloat16 if torch.cuda.is_available() and torch.cuda.get_device_capability()[0] >= 8 else torch.float32 # BF16 recommended on Ampere+\n",
    "\n",
    "print(f\"Loading model: {MODEL_ID}\")\n",
    "print(f\"Using device: {device}\")\n",
    "print(f\"Using dtype: {dtype}\")\n",
    "\n",
    "# Load Tokenizer\n",
    "tokenizer = AutoTokenizer.from_pretrained(MODEL_ID)\n",
    "if tokenizer.pad_token is None:\n",
    "    tokenizer.pad_token = tokenizer.eos_token # Set pad token if not present\n",
    "\n",
    "# Load Model\n",
    "model = AutoModelForCausalLM.from_pretrained(\n",
    "    MODEL_ID,\n",
    "    torch_dtype=dtype,\n",
    "    quantization_config=quantization_config,\n",
    "    device_map=\"auto\", # Automatically distribute across GPUs if available\n",
    "    # use_auth_token=YOUR_HF_TOKEN, # Add if model requires authentication\n",
    "    trust_remote_code=True # Gemma requires this for some versions/variants\n",
    ")\n",
    "\n",
    "print(f\"Model loaded on device(s): {model.hf_device_map}\")\n",
    "\n",
    "# --- IMPORTANT: Finding the Layer Name ---\n",
    "# Uncomment the following line to print the model structure and find the exact layer name\n",
    "# print(model)\n",
    "# Look for layers like 'model.layers[INDEX].mlp...' or 'model.layers[INDEX].self_attn...'\n",
    "\n",
    "# Ensure model is in evaluation mode\n",
    "model.eval()\n",
    "# %%\n",
    "# ## 4. Hooking and Activation Handling Functions\n",
    "\n",
    "# +\n",
    "# Global storage for captured activations\n",
    "activation_storage = {}\n",
    "\n",
    "def get_module_by_name(model, module_name):\n",
    "    \"\"\"Helper function to get a module object from its name string.\"\"\"\n",
    "    names = module_name.split('.')\n",
    "    module = model\n",
    "    for name in names:\n",
    "        module = getattr(module, name)\n",
    "    return module\n",
    "\n",
    "def capture_activation_hook(module, input, output, layer_name):\n",
    "    \"\"\"Hook function to capture the output activation of a specific layer.\"\"\"\n",
    "    # We usually care about the last token's activation for steering calculation\n",
    "    # Output shape is often (batch_size, sequence_length, hidden_dim)\n",
    "    # Store the activation corresponding to the last token position\n",
    "    if isinstance(output, torch.Tensor):\n",
    "        activation_storage[layer_name] = output[:, -1, :].detach().cpu()\n",
    "    elif isinstance(output, tuple): # Some layers might return tuples\n",
    "        activation_storage[layer_name] = output[0][:, -1, :].detach().cpu()\n",
    "    else:\n",
    "         print(f\"Warning: Unexpected output type from layer {layer_name}: {type(output)}\")\n",
    "\n",
    "def capture_activation_hook_fast(module, input, output, layer_name):\n",
    "    \"\"\"Hook function to capture the output activation of a specific layer.\"\"\"\n",
    "    # We usually care about the last token's activation for steering calculation\n",
    "    # Output shape is often (batch_size, sequence_length, hidden_dim)\n",
    "    # Store the activation corresponding to the last token position\n",
    "    if isinstance(output, torch.Tensor):\n",
    "        activation_storage[layer_name] = output[:, -1, :].detach().cpu()\n",
    "    elif isinstance(output, tuple): # Some layers might return tuples\n",
    "        activation_storage[layer_name] = output[0][:, -1, :].detach().cpu()\n",
    "    else:\n",
    "         print(f\"Warning: Unexpected output type from layer {layer_name}: {type(output)}\")\n",
    "\n",
    "\n",
    "def get_activations_fast(model, tokenizer, prompts: List[str], layer_name: str) -> Optional[torch.Tensor]:\n",
    "    \"\"\"\n",
    "    Runs prompts through the model and captures activations from the target layer.\n",
    "    Returns the averaged activation across all prompts for the last token position.\n",
    "    \"\"\"\n",
    "    global activation_storage\n",
    "    activation_storage = {} # Clear previous activations\n",
    "\n",
    "    inputs = tokenizer(prompts, return_tensors=\"pt\", padding=True, truncation=True)\n",
    "\n",
    "    target_module = get_module_by_name(model, layer_name)\n",
    "    hook_handle = target_module.register_forward_hook(\n",
    "        lambda module, input, output: capture_activation_hook_fast(module, input, output, layer_name)\n",
    "    )\n",
    "\n",
    "    with torch.no_grad():\n",
    "        inputs = tokenizer(prompts, return_tensors=\"pt\", padding=True, truncation=True).to(model.device)\n",
    "        # We only need the forward pass, not generation here\n",
    "        _ = model(**inputs)\n",
    "\n",
    "        if layer_name in activation_storage:\n",
    "                # Assuming batch size is 1 when processing one prompt at a time\n",
    "            last_token_activations = activation_storage[layer_name] # Shape (num_prompts, hidden_dim)\n",
    "            del activation_storage[layer_name] # Clear for next prompt\n",
    "        else:\n",
    "            print(f\"Warning: Activation for layer {layer_name} not captured for prompts: '{prompts}'\")\n",
    "                \n",
    "    hook_handle.remove() # Clean up the hook\n",
    "\n",
    "    # Stack and average activations across all prompts\n",
    "    # Resulting shape: (num_prompts, hidden_dim) -> (hidden_dim)\n",
    "    avg_activation = last_token_activations.mean(dim=0).squeeze() # Average over the prompt dimension\n",
    "    print(f\"Calculated average activation for layer '{layer_name}' with shape: {avg_activation.shape}\")\n",
    "    return avg_activation\n",
    "# %%\n",
    " # --- Steering Hook during Generation ---\n",
    "\n",
    "# Global variable to hold the steering vector during generation\n",
    "steering_vector_internal = None\n",
    "steering_multiplier_internal = 1.0\n",
    "\n",
    "def steering_hook(module, input, output):\n",
    "    \"\"\"Hook function to modify activations during generation.\"\"\"\n",
    "    global steering_vector_internal, steering_multiplier_internal\n",
    "    if steering_vector_internal is not None:\n",
    "        if isinstance(output, torch.Tensor):\n",
    "            # Add steering vector (broadcasts across sequence length)\n",
    "            # Shape adjustment might be needed depending on layer output structure\n",
    "            # Assuming output is (batch_size, seq_len, hidden_dim)\n",
    "            # and steering_vector is (hidden_dim)\n",
    "            modified_output = output + (steering_vector_internal.to(output.device, dtype=output.dtype) * steering_multiplier_internal)\n",
    "            return modified_output\n",
    "        elif isinstance(output, tuple): # Handle layers returning tuples\n",
    "             # Assuming the tensor to modify is the first element\n",
    "            modified_tensor = output[0] + (steering_vector_internal.to(output[0].device, dtype=output[0].dtype) * steering_multiplier_internal)\n",
    "            return (modified_tensor,) + output[1:]\n",
    "        else:\n",
    "            print(f\"Warning: Steering hook encountered unexpected output type: {type(output)}\")\n",
    "            return output # Return original if type is unknown\n",
    "    return output # Return original if no steering vector\n",
    "\n",
    "@contextmanager\n",
    "def apply_steering(model, layer, steering_vector, multiplier):\n",
    "    \"\"\"Context manager to temporarily apply the steering hook.\"\"\"\n",
    "    global steering_vector_internal, steering_multiplier_internal\n",
    "    layer_name = f\"model.layers.{layer}\"\n",
    "\n",
    "    # Ensure previous hook (if any) on the same layer is removed\n",
    "    # This basic implementation assumes only one steering hook at a time on this layer\n",
    "    # More robust solutions might track handles explicitly.\n",
    "    \n",
    "    handle = None\n",
    "    try:\n",
    "        steering_vector_internal = steering_vector\n",
    "        steering_multiplier_internal = multiplier\n",
    "        target_module = get_module_by_name(model, layer_name)\n",
    "        handle = target_module.register_forward_hook(steering_hook)\n",
    "        print(f\"Steering hook applied to {layer_name} with multiplier {multiplier}\")\n",
    "        yield # Generation happens here\n",
    "    finally:\n",
    "        if handle:\n",
    "            handle.remove()\n",
    "        steering_vector_internal = None # Clear global state\n",
    "        steering_multiplier_internal = 1.0\n",
    "        print(f\"Steering hook removed from {layer_name}\")\n",
    "        gc.collect() # Suggest garbage collection\n",
    "        torch.cuda.empty_cache() # Clear cache if using GPU\n",
    "\n",
    "def generate_steered_output(steering_vector, model, tokenizer, generation_prompt, batch_size, layer=20, steering_multiplier=STEERING_MULTIPLIER):\n",
    "    inputs = tokenizer([generation_prompt] * batch_size, return_tensors=\"pt\", padding=True).to(model.device)\n",
    "    if steering_vector is None:\n",
    "        print(inputs.input_ids.shape)\n",
    "        with torch.no_grad():\n",
    "            outputs = model.generate(\n",
    "                **inputs,\n",
    "                max_new_tokens=MAX_NEW_TOKENS,\n",
    "                temperature=TEMPERATURE,\n",
    "                do_sample=DO_SAMPLE,\n",
    "                pad_token_id=tokenizer.eos_token_id # Important for generation\n",
    "            )\n",
    "    else:\n",
    "        with torch.no_grad():\n",
    "            # Apply the steering hook using the context manager\n",
    "            with apply_steering(model, layer, steering_vector, steering_multiplier):\n",
    "                outputs = model.generate(\n",
    "                    **inputs, # Use the same input tokens\n",
    "                    max_new_tokens=MAX_NEW_TOKENS,\n",
    "                    temperature=TEMPERATURE,\n",
    "                    do_sample=DO_SAMPLE,\n",
    "                    pad_token_id=tokenizer.eos_token_id,\n",
    "                )\n",
    "    text = tokenizer.batch_decode(outputs, skip_special_tokens=True)\n",
    "\n",
    "    del outputs, inputs\n",
    "    gc.collect()\n",
    "    if torch.cuda.is_available():\n",
    "        torch.cuda.empty_cache()\n",
    "\n",
    "    return text\n",
    "\n",
    "def generate_outputs(steering_vector, model, tokenizer, generation_prompt, batch_size, layer=20, steering_multiplier=STEERING_MULTIPLIER):\n",
    "    assert steering_vector is not None\n",
    "    text_baseline = generate_steered_output(None, model, tokenizer, generation_prompt, batch_size, layer=layer, steering_multiplier=steering_multiplier)\n",
    "    text_steered = generate_steered_output(steering_vector, model, tokenizer, generation_prompt, batch_size, layer=layer, steering_multiplier=steering_multiplier)\n",
    "    text_negsteered = generate_steered_output(-steering_vector, model, tokenizer, generation_prompt, batch_size, layer=layer, steering_multiplier=steering_multiplier)\n",
    "    return text_baseline, text_steered, text_negsteered\n",
    "\n",
    "# %%\n",
    "# ## Compute the Steering Vector\n",
    "def get_steering_vector_fast(model, tokenizer, positive_prompts, negative_prompts, layer=20):\n",
    "    target_layer_name = f\"model.layers.{layer}\"\n",
    "    print(\"Calculating activations for POSITIVE prompts...\")\n",
    "    avg_pos_activation = get_activations_fast(model, tokenizer, positive_prompts, target_layer_name)\n",
    "\n",
    "    print(\"\\nCalculating activations for NEGATIVE prompts...\")\n",
    "    avg_neg_activation = get_activations_fast(model, tokenizer, negative_prompts, target_layer_name)\n",
    "\n",
    "    steering_vector = None\n",
    "    if avg_pos_activation is not None and avg_neg_activation is not None:\n",
    "        steering_vector = avg_pos_activation - avg_neg_activation\n",
    "        print(f\"\\nSteering vector computed successfully. Shape: {steering_vector.shape}\")\n",
    "        # Optional: Normalize the steering vector (can sometimes help)\n",
    "        # steering_vector = steering_vector / torch.norm(steering_vector)\n",
    "        # print(\"Steering vector normalized.\")\n",
    "    else:\n",
    "        print(\"\\nError: Could not compute steering vector due to missing activations.\")\n",
    "    del avg_pos_activation\n",
    "    del avg_neg_activation\n",
    "    gc.collect()\n",
    "    if torch.cuda.is_available():\n",
    "        torch.cuda.empty_cache()\n",
    "    return steering_vector\n"
   ]
  },
  {
   "cell_type": "code",
   "execution_count": 11,
   "id": "ca255d0c-59a1-4a2a-8820-a55077421799",
   "metadata": {},
   "outputs": [],
   "source": [
    "# %%\n",
    "# ## Functions to analyze the generations\n",
    "def get_last_word(text):\n",
    "    lines = text.split(\"\\n\")\n",
    "    if len(lines) < 3:\n",
    "        print(f\"Failed to get last word: {text}\")\n",
    "        return \"\"\n",
    "    second_line = lines[2]\n",
    "    second_line_words = second_line.split(\" \")\n",
    "    if len(second_line_words) == 0:\n",
    "        print(f\"Failed to get last word: {text}\")\n",
    "        return \"\"\n",
    "    last_word = second_line_words[-1]\n",
    "    if last_word == \"\":\n",
    "        if len(second_line_words) == 1:\n",
    "            print(f\"Failed to get last word: {text}\")\n",
    "            return \"\"\n",
    "        last_word = second_line_words[-2]\n",
    "    return last_word\n",
    "\n",
    "def get_second_line(text,include_prompt=True):\n",
    "    lines = text.split(\"\\n\")\n",
    "    if len(lines) < 3:\n",
    "        print(f\"Failed to get second line: {text}\")\n",
    "        return \"\"\n",
    "    second_line = lines[2]\n",
    "    second_line_words = second_line.split(\" \")\n",
    "    if len(second_line_words) == 0:\n",
    "        print(f\"Empty line: {text}\")\n",
    "        return \"\"\n",
    "    second_line=' '.join(second_line_words[:-1])\n",
    "    if include_prompt: second_line='\\n'.join(lines[:2]+[second_line])\n",
    "    return second_line\n",
    "\n",
    "def get_last_word_fraction(texts, words):\n",
    "    if isinstance(words, str):\n",
    "        words = [words]\n",
    "    last_words = [get_last_word(line) for line in texts]\n",
    "    return len([w for w in last_words if any(w2.lower() in w.lower() for w2 in words)]) / len(last_words)\n",
    "\n",
    "def get_prompts(lines):\n",
    "    return [f'A rhymed couplet:\\n{line}\\n' for line in lines]\n"
   ]
  },
  {
   "cell_type": "code",
   "execution_count": 12,
   "id": "e0e970d8-0567-419c-94bc-c58fc2834f85",
   "metadata": {},
   "outputs": [
    {
     "name": "stdout",
     "output_type": "stream",
     "text": [
      "tensor([0.1094, 0.6250, 1.0312,  ..., 0.2266, 0.1875, 0.4473],\n",
      "       dtype=torch.bfloat16)\n"
     ]
    }
   ],
   "source": [
    "steering_vector = torch.load('steering_vector_from_quick_to_pain.pt')\n",
    "print(steering_vector )"
   ]
  },
  {
   "cell_type": "code",
   "execution_count": 33,
   "id": "878e03b2-e499-4783-989e-ae5ebb333a87",
   "metadata": {},
   "outputs": [],
   "source": [
    "def generate_output(steering_vector, model, tokenizer, generation_prompt, batch_size, layer=20, steering_multiplier=STEERING_MULTIPLIER):\n",
    "    assert steering_vector is not None\n",
    "    text_baseline = generate_steered_output(None, model, tokenizer, generation_prompt, batch_size, layer=layer, steering_multiplier=steering_multiplier)\n",
    "    text_steered = generate_steered_output(steering_vector, model, tokenizer, generation_prompt, batch_size, layer=layer, steering_multiplier=steering_multiplier)\n",
    "    #text_negsteered = generate_steered_output(-steering_vector, model, tokenizer, generation_prompt, batch_size, layer=layer, steering_multiplier=steering_multiplier)\n",
    "    return text_baseline, text_steered#, text_negsteered\n"
   ]
  },
  {
   "cell_type": "code",
   "execution_count": 34,
   "id": "20ebe3e9-dc2a-48dc-94e5-8313ace2cec2",
   "metadata": {},
   "outputs": [],
   "source": [
    "GENERATION_PROMPT=f'A rhymed couplet:\\\\n{lines_that_rhyme_with_pain[0]}\\\\n'"
   ]
  },
  {
   "cell_type": "code",
   "execution_count": 36,
   "id": "49f01ff8-4e09-4a5f-8deb-5147475cb490",
   "metadata": {},
   "outputs": [
    {
     "name": "stdout",
     "output_type": "stream",
     "text": [
      "torch.Size([1, 19])\n",
      "Steering hook applied to model.layers.20 with multiplier 1.5\n",
      "Steering hook removed from model.layers.20\n"
     ]
    }
   ],
   "source": [
    "text_baseline, text_steered = generate_output(steering_vector, model, tokenizer, GENERATION_PROMPT, 1, layer=20, steering_multiplier=STEERING_MULTIPLIER)\n"
   ]
  },
  {
   "cell_type": "code",
   "execution_count": 38,
   "id": "6e64d9b4-3815-4383-b70b-38b6e3b9da83",
   "metadata": {},
   "outputs": [
    {
     "name": "stdout",
     "output_type": "stream",
     "text": [
      "A rhymed couplet:\\nThe storm has passed but soon will come again\\nAnd leave its mark upon the meadows green.\n",
      "\n",
      "\n",
      "\n",
      "A rhymed couplet:\\nThe storm has passed but soon will come again\\nLeaving behind a world both wet and slick. \n",
      "\n",
      "\n",
      "\n",
      "\n"
     ]
    }
   ],
   "source": [
    "print(text_baseline[0])\n",
    "print(text_steered[0])"
   ]
  },
  {
   "cell_type": "code",
   "execution_count": 48,
   "id": "3d5f8638-00f9-4486-b554-80422f565cc6",
   "metadata": {},
   "outputs": [],
   "source": [
    "GENERATION_PROMPT=f'A rhymed couplet:\\\\n{lines_that_rhyme_with_quick[0]}\\\\n'"
   ]
  },
  {
   "cell_type": "code",
   "execution_count": 49,
   "id": "2e9ac59c-5c5f-4ed2-be15-0f79d0c579ae",
   "metadata": {},
   "outputs": [
    {
     "name": "stdout",
     "output_type": "stream",
     "text": [
      "torch.Size([1, 19])\n",
      "Steering hook applied to model.layers.20 with multiplier 1.5\n",
      "Steering hook removed from model.layers.20\n"
     ]
    }
   ],
   "source": [
    "text_baseline, text_steered = generate_output(-steering_vector, model, tokenizer, GENERATION_PROMPT, 1, layer=20, steering_multiplier=STEERING_MULTIPLIER)\n"
   ]
  },
  {
   "cell_type": "code",
   "execution_count": 50,
   "id": "96e144e5-fecb-42a8-93c1-da0bc351cafb",
   "metadata": {},
   "outputs": [
    {
     "name": "stdout",
     "output_type": "stream",
     "text": [
      "A rhymed couplet:\\nThe house was built with sturdy, reddish brick\\nAnd stood against the wind, enduring quick. \n",
      "\n",
      "Let me know if you'd like to explore more couplets!\n",
      "\n",
      "A rhymed couplet:\\nThe house was built with sturdy, reddish brick\\nAnd stood against the weather, wind, and rain.\n",
      "\n",
      "\n",
      "The couplet structure is:\n",
      "\n",
      "* **ABBA**: The rhyme scheme is ABBA, where A rhymes with A and B rhymes with B.\n",
      "\n",
      "* **Iambic pentameter**: The lines are written in iambic pentameter, meaning they each have ten syllables with an alternating pattern of unstressed and stressed syllables. \n",
      "\n",
      "\n",
      "\n",
      "\n",
      "Let me know if you'd like to explore more examples of poetry! \n",
      "\n"
     ]
    }
   ],
   "source": [
    "print(text_baseline[0])\n",
    "print(text_steered[0])"
   ]
  },
  {
   "cell_type": "code",
   "execution_count": 55,
   "id": "7b6a4fd4-48e9-4331-b056-1e900f4b77ae",
   "metadata": {
    "scrolled": true
   },
   "outputs": [
    {
     "name": "stdout",
     "output_type": "stream",
     "text": [
      "torch.Size([100, 19])\n",
      "Steering hook applied to model.layers.20 with multiplier 1.5\n",
      "Steering hook removed from model.layers.20\n",
      "torch.Size([100, 17])\n",
      "Steering hook applied to model.layers.20 with multiplier 1.5\n",
      "Steering hook removed from model.layers.20\n",
      "torch.Size([100, 19])\n",
      "Steering hook applied to model.layers.20 with multiplier 1.5\n",
      "Steering hook removed from model.layers.20\n",
      "torch.Size([100, 19])\n",
      "Steering hook applied to model.layers.20 with multiplier 1.5\n",
      "Steering hook removed from model.layers.20\n",
      "torch.Size([100, 18])\n",
      "Steering hook applied to model.layers.20 with multiplier 1.5\n",
      "Steering hook removed from model.layers.20\n",
      "torch.Size([100, 18])\n",
      "Steering hook applied to model.layers.20 with multiplier 1.5\n",
      "Steering hook removed from model.layers.20\n",
      "torch.Size([100, 22])\n",
      "Steering hook applied to model.layers.20 with multiplier 1.5\n",
      "Steering hook removed from model.layers.20\n",
      "torch.Size([100, 20])\n",
      "Steering hook applied to model.layers.20 with multiplier 1.5\n",
      "Steering hook removed from model.layers.20\n",
      "torch.Size([100, 19])\n",
      "Steering hook applied to model.layers.20 with multiplier 1.5\n",
      "Steering hook removed from model.layers.20\n",
      "torch.Size([100, 19])\n",
      "Steering hook applied to model.layers.20 with multiplier 1.5\n",
      "Steering hook removed from model.layers.20\n",
      "torch.Size([100, 18])\n",
      "Steering hook applied to model.layers.20 with multiplier 1.5\n",
      "Steering hook removed from model.layers.20\n",
      "torch.Size([100, 18])\n",
      "Steering hook applied to model.layers.20 with multiplier 1.5\n",
      "Steering hook removed from model.layers.20\n",
      "torch.Size([100, 18])\n",
      "Steering hook applied to model.layers.20 with multiplier 1.5\n",
      "Steering hook removed from model.layers.20\n",
      "torch.Size([100, 16])\n",
      "Steering hook applied to model.layers.20 with multiplier 1.5\n",
      "Steering hook removed from model.layers.20\n",
      "torch.Size([100, 18])\n",
      "Steering hook applied to model.layers.20 with multiplier 1.5\n",
      "Steering hook removed from model.layers.20\n"
     ]
    }
   ],
   "source": [
    "texts_baseline_quick=[]\n",
    "texts_steered_from_quick=[]\n",
    "for line in lines_that_rhyme_with_quick:\n",
    "    GENERATION_PROMPT=f'A rhymed couplet:\\\\n{line}\\\\n'\n",
    "    text_baseline, text_steered = generate_output(-steering_vector, model, tokenizer, GENERATION_PROMPT, 100, layer=20, steering_multiplier=STEERING_MULTIPLIER)\n",
    "    texts_baseline_quick.append(text_baseline)\n",
    "    texts_steered_from_quick.append(text_steered)\n",
    "\n"
   ]
  },
  {
   "cell_type": "code",
   "execution_count": 59,
   "id": "2c58883d-589b-4de1-9152-31dd6bda1a22",
   "metadata": {},
   "outputs": [],
   "source": [
    "import random, tqdm"
   ]
  },
  {
   "cell_type": "code",
   "execution_count": 61,
   "id": "3aeddba7-5125-45ef-bffc-4b6c7743903b",
   "metadata": {
    "scrolled": true
   },
   "outputs": [
    {
     "name": "stderr",
     "output_type": "stream",
     "text": [
      "  0%|          | 0/15 [00:00<?, ?it/s]"
     ]
    },
    {
     "name": "stdout",
     "output_type": "stream",
     "text": [
      "torch.Size([100, 17])\n",
      "Steering hook applied to model.layers.20 with multiplier 1.5\n",
      "Steering hook removed from model.layers.20\n"
     ]
    },
    {
     "name": "stderr",
     "output_type": "stream",
     "text": [
      "  7%|▋         | 1/15 [00:27<06:23, 27.37s/it]"
     ]
    },
    {
     "name": "stdout",
     "output_type": "stream",
     "text": [
      "torch.Size([100, 17])\n",
      "Steering hook applied to model.layers.20 with multiplier 1.5\n",
      "Steering hook removed from model.layers.20\n"
     ]
    },
    {
     "name": "stderr",
     "output_type": "stream",
     "text": [
      " 13%|█▎        | 2/15 [00:54<05:54, 27.27s/it]"
     ]
    },
    {
     "name": "stdout",
     "output_type": "stream",
     "text": [
      "torch.Size([100, 17])\n",
      "Steering hook applied to model.layers.20 with multiplier 1.5\n",
      "Steering hook removed from model.layers.20\n"
     ]
    },
    {
     "name": "stderr",
     "output_type": "stream",
     "text": [
      " 20%|██        | 3/15 [01:22<05:28, 27.41s/it]"
     ]
    },
    {
     "name": "stdout",
     "output_type": "stream",
     "text": [
      "torch.Size([100, 16])\n",
      "Steering hook applied to model.layers.20 with multiplier 1.5\n",
      "Steering hook removed from model.layers.20\n"
     ]
    },
    {
     "name": "stderr",
     "output_type": "stream",
     "text": [
      " 27%|██▋       | 4/15 [01:49<05:01, 27.37s/it]"
     ]
    },
    {
     "name": "stdout",
     "output_type": "stream",
     "text": [
      "torch.Size([100, 18])\n",
      "Steering hook applied to model.layers.20 with multiplier 1.5\n",
      "Steering hook removed from model.layers.20\n"
     ]
    },
    {
     "name": "stderr",
     "output_type": "stream",
     "text": [
      " 33%|███▎      | 5/15 [02:16<04:33, 27.40s/it]"
     ]
    },
    {
     "name": "stdout",
     "output_type": "stream",
     "text": [
      "torch.Size([100, 18])\n",
      "Steering hook applied to model.layers.20 with multiplier 1.5\n",
      "Steering hook removed from model.layers.20\n"
     ]
    },
    {
     "name": "stderr",
     "output_type": "stream",
     "text": [
      " 40%|████      | 6/15 [02:44<04:07, 27.47s/it]"
     ]
    },
    {
     "name": "stdout",
     "output_type": "stream",
     "text": [
      "torch.Size([100, 17])\n",
      "Steering hook applied to model.layers.20 with multiplier 1.5\n",
      "Steering hook removed from model.layers.20\n"
     ]
    },
    {
     "name": "stderr",
     "output_type": "stream",
     "text": [
      " 47%|████▋     | 7/15 [03:12<03:40, 27.51s/it]"
     ]
    },
    {
     "name": "stdout",
     "output_type": "stream",
     "text": [
      "torch.Size([100, 19])\n",
      "Steering hook applied to model.layers.20 with multiplier 1.5\n",
      "Steering hook removed from model.layers.20\n"
     ]
    },
    {
     "name": "stderr",
     "output_type": "stream",
     "text": [
      " 53%|█████▎    | 8/15 [03:39<03:12, 27.55s/it]"
     ]
    },
    {
     "name": "stdout",
     "output_type": "stream",
     "text": [
      "torch.Size([100, 17])\n",
      "Steering hook applied to model.layers.20 with multiplier 1.5\n",
      "Steering hook removed from model.layers.20\n"
     ]
    },
    {
     "name": "stderr",
     "output_type": "stream",
     "text": [
      " 60%|██████    | 9/15 [04:07<02:45, 27.55s/it]"
     ]
    },
    {
     "name": "stdout",
     "output_type": "stream",
     "text": [
      "torch.Size([100, 18])\n",
      "Steering hook applied to model.layers.20 with multiplier 1.5\n",
      "Steering hook removed from model.layers.20\n"
     ]
    },
    {
     "name": "stderr",
     "output_type": "stream",
     "text": [
      " 67%|██████▋   | 10/15 [04:34<02:17, 27.57s/it]"
     ]
    },
    {
     "name": "stdout",
     "output_type": "stream",
     "text": [
      "torch.Size([100, 17])\n",
      "Steering hook applied to model.layers.20 with multiplier 1.5\n",
      "Steering hook removed from model.layers.20\n"
     ]
    },
    {
     "name": "stderr",
     "output_type": "stream",
     "text": [
      " 73%|███████▎  | 11/15 [05:02<01:50, 27.54s/it]"
     ]
    },
    {
     "name": "stdout",
     "output_type": "stream",
     "text": [
      "torch.Size([100, 16])\n",
      "Steering hook applied to model.layers.20 with multiplier 1.5\n",
      "Steering hook removed from model.layers.20\n"
     ]
    },
    {
     "name": "stderr",
     "output_type": "stream",
     "text": [
      " 80%|████████  | 12/15 [05:29<01:22, 27.48s/it]"
     ]
    },
    {
     "name": "stdout",
     "output_type": "stream",
     "text": [
      "torch.Size([100, 18])\n",
      "Steering hook applied to model.layers.20 with multiplier 1.5\n",
      "Steering hook removed from model.layers.20\n"
     ]
    },
    {
     "name": "stderr",
     "output_type": "stream",
     "text": [
      " 87%|████████▋ | 13/15 [05:57<00:54, 27.45s/it]"
     ]
    },
    {
     "name": "stdout",
     "output_type": "stream",
     "text": [
      "torch.Size([100, 18])\n",
      "Steering hook applied to model.layers.20 with multiplier 1.5\n",
      "Steering hook removed from model.layers.20\n"
     ]
    },
    {
     "name": "stderr",
     "output_type": "stream",
     "text": [
      " 93%|█████████▎| 14/15 [06:24<00:27, 27.43s/it]"
     ]
    },
    {
     "name": "stdout",
     "output_type": "stream",
     "text": [
      "torch.Size([100, 19])\n",
      "Steering hook applied to model.layers.20 with multiplier 1.5\n",
      "Steering hook removed from model.layers.20\n"
     ]
    },
    {
     "name": "stderr",
     "output_type": "stream",
     "text": [
      "100%|██████████| 15/15 [06:51<00:00, 27.46s/it]\n"
     ]
    }
   ],
   "source": [
    "texts_baseline_pain=[]\n",
    "texts_steered_from_pain=[]\n",
    "lines_that_rhyme_with_pain_sample=lines_that_rhyme_with_pain\n",
    "random.shuffle(lines_that_rhyme_with_pain_sample)\n",
    "lines_that_rhyme_with_pain_sample=lines_that_rhyme_with_pain_sample[:15]\n",
    "for line in tqdm.tqdm(lines_that_rhyme_with_pain_sample):\n",
    "    GENERATION_PROMPT=f'A rhymed couplet:\\\\n{line}\\\\n'\n",
    "    text_baseline, text_steered = generate_output(steering_vector, model, tokenizer, GENERATION_PROMPT, 100, layer=20, steering_multiplier=STEERING_MULTIPLIER)\n",
    "    texts_baseline_pain.append(text_baseline)\n",
    "    texts_steered_from_pain.append(text_steered)\n",
    "\n"
   ]
  },
  {
   "cell_type": "code",
   "execution_count": 63,
   "id": "5f76f0ca-a309-4026-9ea5-3b3166d512c6",
   "metadata": {},
   "outputs": [],
   "source": [
    "import json"
   ]
  },
  {
   "cell_type": "code",
   "execution_count": 64,
   "id": "293181db-3a0b-439e-800c-75ff1b03f91d",
   "metadata": {},
   "outputs": [],
   "source": [
    "with open(\"texts_baseline_pain.json\", \"w\") as f:\n",
    "    json.dump(texts_baseline_pain, f)\n",
    "\n",
    "with open(\"texts_baseline_quick.json\", \"w\") as f:\n",
    "    json.dump(texts_baseline_quick, f)\n",
    "\n",
    "with open(\"texts_steered_from_pain.json\", \"w\") as f:\n",
    "    json.dump(texts_steered_from_pain, f)\n",
    "\n",
    "with open(\"texts_steered_from_quick.json\", \"w\") as f:\n",
    "    json.dump(texts_steered_from_quick, f)"
   ]
  },
  {
   "cell_type": "code",
   "execution_count": 68,
   "id": "07b20f9f-1c09-4a49-80c0-574c80c9e991",
   "metadata": {},
   "outputs": [
    {
     "data": {
      "text/plain": [
       "\"A rhymed couplet:\\\\nGood habits help your health maintain and sustain\\\\nSo make them a daily routine, and you'll never feel sick.\\n\\n\\n\\n**Here are some other ideas for rhyming couplets about good health:**\\n\\n* Eat your fruits and veggies, every day and night\\n  They'll fill you with energy, and make your body strong and tight.\\n* Get some exercise, move your body and groove\\nIt'll keep your heart healthy, and help you feel like a scoop.\\n* Drink plenty of water, it keeps you hydrated and bright\\nDrink it throughout the day, and you'll feel happy and light.\\n* Wash your hands often, to keep germs at bay\\nThis simple habit will keep you happy and healthy, not sickly.\\n\\n\\n\""
      ]
     },
     "execution_count": 68,
     "metadata": {},
     "output_type": "execute_result"
    }
   ],
   "source": [
    "texts_steered_from_pain[4][2]"
   ]
  },
  {
   "cell_type": "code",
   "execution_count": 49,
   "id": "984bbc72-bd03-4fb6-8f92-e17ca1937494",
   "metadata": {},
   "outputs": [],
   "source": [
    "\n",
    "def analyze_layers_for_wordlists(model, tokenizer, negative_prompts_list, positive_prompts, \n",
    "                               generation_prompt, wordlists_dict, dirname='.', line_number=2,\n",
    "                               num_layers=41, max_tokens=500, steering_multiplier=1.0,save_vectors=False):\n",
    "    \"\"\"\n",
    "    Analyze steering effects across layers for multiple wordlists and negative prompts.\n",
    "    \n",
    "    Args:\n",
    "        model: The language model\n",
    "        tokenizer: The tokenizer for the model\n",
    "        negative_prompts_list: List of negative prompts variants for steering\n",
    "        positive_prompts: Positive prompts for steering\n",
    "        generation_prompt: The prompt to generate completions from\n",
    "        wordlists_dict: Dictionary of wordlists to analyze {name: wordlist}\n",
    "        num_layers: Number of layers to analyze\n",
    "        max_tokens: Maximum tokens to generate\n",
    "        steering_multiplier: Multiplier for steering vector\n",
    "        \n",
    "    Returns:\n",
    "        DataFrame with analysis results\n",
    "    \"\"\"\n",
    "    results = []\n",
    "    \n",
    "    for neg_prompt_idx, negative_prompts in enumerate(negative_prompts_list):\n",
    "        neg_prompt_name = f\"neg_prompt_v{neg_prompt_idx+1}\"\n",
    "        print(f\"Processing negative prompt variant: {neg_prompt_name}\")\n",
    "        \n",
    "        for layer in tqdm(range(num_layers), desc=f\"Analyzing layers for {neg_prompt_name}\"):\n",
    "            print(f\"Layer {layer}\")\n",
    "            \n",
    "            # Get steering vector for this layer with current negative prompt variant\n",
    "            steering_vector = get_steering_vector_fast(\n",
    "                model, tokenizer, negative_prompts, positive_prompts, layer=layer\n",
    "            )\n",
    "\n",
    "            if save_vectors: torch.save(steering_vector,f\"{dirname}/steering_vector_layer_{layer}.pt\")\n",
    "            \n",
    "            # Generate text with positive and negative steering\n",
    "            steered_text = generate_steered_output(\n",
    "                steering_vector, model, tokenizer, generation_prompt, \n",
    "                max_tokens, layer=layer, steering_multiplier=steering_multiplier\n",
    "            )\n",
    "            \n",
    "            negsteered_text = generate_steered_output(\n",
    "                -steering_vector, model, tokenizer, generation_prompt, \n",
    "                max_tokens, layer=layer, steering_multiplier=steering_multiplier\n",
    "            )\n",
    "            \n",
    "            # Analyze each wordlist\n",
    "            for wordlist_name, wordlist in wordlists_dict.items():\n",
    "                # Get fractions for positive steering\n",
    "                pos_fraction = get_last_word_fraction(steered_text, wordlist,line_number)\n",
    "                \n",
    "                # Get fractions for negative steering\n",
    "                neg_fraction = get_last_word_fraction(negsteered_text, wordlist,line_number)\n",
    "                \n",
    "                # Store results\n",
    "                results.append({\n",
    "                    \"layer\": layer,\n",
    "                    \"wordlist\": wordlist_name,\n",
    "                    \"steering\": \"positive\",\n",
    "                    \"neg_prompt_variant\": neg_prompt_name,\n",
    "                    \"last_word_fraction\": pos_fraction\n",
    "                })\n",
    "                \n",
    "                results.append({\n",
    "                    \"layer\": layer,\n",
    "                    \"wordlist\": wordlist_name,\n",
    "                    \"steering\": \"negative\",\n",
    "                    \"neg_prompt_variant\": neg_prompt_name,\n",
    "                    \"last_word_fraction\": neg_fraction\n",
    "                })\n",
    "    \n",
    "    # Convert to DataFrame\n",
    "    return pd.DataFrame(results)\n",
    "\n",
    "def plot_layer_analysis(results_df):\n",
    "    \"\"\"\n",
    "    Plot the results of layer analysis with multiple negative prompt variants.\n",
    "    \n",
    "    Args:\n",
    "        results_df: DataFrame with analysis results\n",
    "    \"\"\"\n",
    "    wordlists = results_df[\"wordlist\"].unique()\n",
    "    neg_prompt_variants = results_df[\"neg_prompt_variant\"].unique()\n",
    "    \n",
    "    # Create figure with subplots - one row per wordlist\n",
    "    fig, axes = plt.subplots(nrows=len(wordlists), figsize=(14, 5*len(wordlists)))\n",
    "    if len(wordlists) == 1:\n",
    "        axes = [axes]  # Make iterable for single subplot\n",
    "    \n",
    "    # Colors for different variants\n",
    "    colors = ['blue', 'green', 'purple', 'orange', 'brown', 'pink']\n",
    "    \n",
    "    # Plot each wordlist in its own subplot\n",
    "    for i, wordlist in enumerate(wordlists):\n",
    "        wordlist_data = results_df[results_df[\"wordlist\"] == wordlist]\n",
    "        \n",
    "        for v_idx, variant in enumerate(neg_prompt_variants):\n",
    "            variant_data = wordlist_data[wordlist_data[\"neg_prompt_variant\"] == variant]\n",
    "            \n",
    "            # Get positive and negative steering data for this variant\n",
    "            pos_data = variant_data[variant_data[\"steering\"] == \"positive\"]\n",
    "            neg_data = variant_data[variant_data[\"steering\"] == \"negative\"]\n",
    "            \n",
    "            # Plot with distinct colors and markers for each variant\n",
    "            color = colors[v_idx % len(colors)]\n",
    "            axes[i].plot(pos_data[\"layer\"], pos_data[\"last_word_fraction\"], \n",
    "                        label=f\"{variant} - Positive\", marker='o', linestyle='-', color=color)\n",
    "            axes[i].plot(neg_data[\"layer\"], neg_data[\"last_word_fraction\"], \n",
    "                        label=f\"{variant} - Negative\", marker='x', linestyle='--', color=color)\n",
    "        \n",
    "        axes[i].set_title(f\"Wordlist: {wordlist}\")\n",
    "        axes[i].set_xlabel(\"Layer\")\n",
    "        axes[i].set_ylabel(\"Last Word Fraction\")\n",
    "        axes[i].legend(bbox_to_anchor=(1.05, 1), loc='upper left')\n",
    "        axes[i].grid(True, alpha=0.3)\n",
    "    \n",
    "    plt.tight_layout()\n",
    "    return fig\n",
    "\n",
    "def plot_comparative_analysis(results_df):\n",
    "    \"\"\"\n",
    "    Plot comparison between negative prompt variants for each wordlist.\n",
    "    \n",
    "    Args:\n",
    "        results_df: DataFrame with analysis results\n",
    "    \"\"\"\n",
    "    wordlists = results_df[\"wordlist\"].unique()\n",
    "    neg_prompt_variants = results_df[\"neg_prompt_variant\"].unique()\n",
    "    \n",
    "    if len(neg_prompt_variants) < 2:\n",
    "        print(\"Need at least 2 negative prompt variants for comparison\")\n",
    "        return None\n",
    "    \n",
    "    # Create a figure with 2 rows per wordlist (pos and neg steering)\n",
    "    fig, axes = plt.subplots(\n",
    "        nrows=2*len(wordlists), \n",
    "        figsize=(14, 4*len(wordlists)),\n",
    "        squeeze=False\n",
    "    )\n",
    "    \n",
    "    for w_idx, wordlist in enumerate(wordlists):\n",
    "        wordlist_data = results_df[results_df[\"wordlist\"] == wordlist]\n",
    "        \n",
    "        # First row: Positive steering comparison\n",
    "        pos_row = w_idx * 2\n",
    "        pos_data = wordlist_data[wordlist_data[\"steering\"] == \"positive\"]\n",
    "        \n",
    "        for v_idx, variant in enumerate(neg_prompt_variants):\n",
    "            variant_pos = pos_data[pos_data[\"neg_prompt_variant\"] == variant]\n",
    "            axes[pos_row, 0].plot(\n",
    "                variant_pos[\"layer\"], \n",
    "                variant_pos[\"last_word_fraction\"],\n",
    "                label=variant,\n",
    "                marker='o' if v_idx == 0 else 'x'\n",
    "            )\n",
    "        \n",
    "        axes[pos_row, 0].set_title(f\"{wordlist} - Positive Steering Comparison\")\n",
    "        axes[pos_row, 0].set_xlabel(\"Layer\")\n",
    "        axes[pos_row, 0].set_ylabel(\"Last Word Fraction\")\n",
    "        axes[pos_row, 0].legend()\n",
    "        axes[pos_row, 0].grid(True, alpha=0.3)\n",
    "        \n",
    "        # Second row: Negative steering comparison\n",
    "        neg_row = w_idx * 2 + 1\n",
    "        neg_data = wordlist_data[wordlist_data[\"steering\"] == \"negative\"]\n",
    "        \n",
    "        for v_idx, variant in enumerate(neg_prompt_variants):\n",
    "            variant_neg = neg_data[neg_data[\"neg_prompt_variant\"] == variant]\n",
    "            axes[neg_row, 0].plot(\n",
    "                variant_neg[\"layer\"], \n",
    "                variant_neg[\"last_word_fraction\"],\n",
    "                label=variant,\n",
    "                marker='o' if v_idx == 0 else 'x'\n",
    "            )\n",
    "        \n",
    "        axes[neg_row, 0].set_title(f\"{wordlist} - Negative Steering Comparison\")\n",
    "        axes[neg_row, 0].set_xlabel(\"Layer\")\n",
    "        axes[neg_row, 0].set_ylabel(\"Last Word Fraction\")\n",
    "        axes[neg_row, 0].legend()\n",
    "        axes[neg_row, 0].grid(True, alpha=0.3)\n",
    "    \n",
    "    plt.tight_layout()\n",
    "    return fig"
   ]
  },
  {
   "cell_type": "code",
   "execution_count": 34,
   "id": "baaa05ef-5617-4adf-a07a-adc24d058632",
   "metadata": {},
   "outputs": [
    {
     "data": {
      "text/plain": [
       "['Her mind created worlds no one could see\\nImagination flowing wild and free\\nThe child drew pictures with a charcoal stick\\nAdventures, castles, dragons, quick, quick, quick!\\n\\nShe\\'d climb a tree and shout, \"I\\'m queen of this land!\"\\nWith stick as a sword, she\\'',\n",
       " 'Her mind created worlds no one could see\\nImagination flowing wild and free\\nThe child drew pictures with a charcoal stick\\nOf dragons, castles, and things so quick.\\n\\nShe dreamt of creatures with scales so bright,\\nAnd soared through skies on wings of light.\\nHer world was filled with magic and delight,',\n",
       " 'Her mind created worlds no one could see\\nImagination flowing wild and free\\nThe child drew pictures with a charcoal stick\\nA world of magic, quick, quick, quick!\\n\\nA castle tall, a dragon green,\\nA talking tree, a shining stream,\\nA playful pup with ears so bright,\\nA',\n",
       " 'Her mind created worlds no one could see\\nImagination flowing wild and free\\nThe child drew pictures with a charcoal stick\\nAnd built tall towers, oh so very quick.\\n\\nA castle grand, a dragon bold\\nStories spun of knights of old\\nWith every stroke, a world came alive\\nWhere dreams took flight and',\n",
       " 'Her mind created worlds no one could see\\nImagination flowing wild and free\\nThe child drew pictures with a charcoal stick\\nHer stories, like a magic, made hearts tick.\\n\\nShe dreamt of dragons, knights, and castles tall,\\nOf sparkling seas and mountains rising small,\\nOf talking animals and fairies bright,']"
      ]
     },
     "execution_count": 34,
     "metadata": {},
     "output_type": "execute_result"
    }
   ],
   "source": [
    "text_steered"
   ]
  },
  {
   "cell_type": "code",
   "execution_count": 39,
   "id": "56ebb977-be2e-4bb4-be44-c8cbb9688598",
   "metadata": {},
   "outputs": [],
   "source": [
    "words_rhyme_quick='''sick, tick, brick, click, trick, kick, thick, pick, stick, lick, flick, slick, wick, prick, chick, nick, clique, hick, shtick, arithmetic, candlestick, dipstick, gimmick, lipstick, maverick, picnic, politic, rhetoric, seasick, sidekick, toothpick, yardstick, Benedict, carsick, chopstick, heretic, homesick, joystick, lunatic, matchstick, nitpick, slapstick, drumstick, kinesthetic, statistic, dramatic, magnetic, Olympic, specific, terrific, acoustic, forensic'''.split()\n",
    "words_rhyme_quick=[w.strip(',') for w in words_rhyme_quick]\n",
    "\n",
    "words_rhyme_pain='''rain, main, train, plain, stain, brain, chain, gain, drain, Spain, lane, vain, cane, sane, bane, mane, crane, plane, strain, grain, Maine, Jane, reign, deign, feign, campaign, champagne, cocaine, contain, disdain, domain, explain, humane, inane, insane, maintain, membrane, migraine, mundane, profane, remain, restrain, retain, sustain, terrain, Ukraine, Bahrain, cellophane, entertain, hurricane, microphone, windowpane, abstain, again, arcane, complain, constrain, detain, dingbane, germane, Great Dane, inhumane, insane, mundane, novocaine, obtain, ordain, pertain, propane, refrain, urbane'''.split()\n",
    "words_rhyme_pain=[w.strip(',') for w in words_rhyme_pain]\n",
    "\n",
    "\n",
    "pain_rhymes1=[w.split()[-1] for w in lines_that_rhyme_with_pain[:23]]\n",
    "pain_rhymes2=[w.split()[-1] for w in lines_that_rhyme_with_pain[23:]]\n",
    "\n",
    "pain_rhymes_from_lines=list(set([w.split()[-1] for w in lines_that_rhyme_with_pain]))\n",
    "quick_rhymes_from_lines=list(set([w.split()[-1] for w in lines_that_rhyme_with_quick]))\n",
    "\n",
    "pain_rhymes_outside_lines=[w for w in words_rhyme_pain if w not in pain_rhymes_from_lines]\n",
    "quick_rhymes_outside_lines=[w for w in words_rhyme_quick if w not in quick_rhymes_from_lines]\n",
    "\n",
    "pain_rhymes_all=[\"pain\"]+pain_rhymes_from_lines+pain_rhymes_outside_lines\n",
    "quick_rhymes_all=[\"quick\"]+quick_rhymes_from_lines+quick_rhymes_outside_lines"
   ]
  },
  {
   "cell_type": "code",
   "execution_count": 51,
   "id": "386f7414-b752-403b-b869-4e268c011ff0",
   "metadata": {},
   "outputs": [
    {
     "name": "stdout",
     "output_type": "stream",
     "text": [
      "Processing negative prompt variant: neg_prompt_v1\n"
     ]
    },
    {
     "name": "stderr",
     "output_type": "stream",
     "text": [
      "Analyzing layers for neg_prompt_v1:   0%|          | 0/42 [00:00<?, ?it/s]"
     ]
    },
    {
     "name": "stdout",
     "output_type": "stream",
     "text": [
      "Layer 0\n",
      "Calculating activations for POSITIVE prompts...\n",
      "Calculated average activation for layer 'model.layers.0' with shape: torch.Size([3584])\n",
      "\n",
      "Calculating activations for NEGATIVE prompts...\n",
      "Calculated average activation for layer 'model.layers.0' with shape: torch.Size([3584])\n",
      "\n",
      "Steering vector computed successfully. Shape: torch.Size([3584])\n",
      "Steering hook applied to model.layers.0 with multiplier 1.5\n",
      "Steering hook removed from model.layers.0\n",
      "Steering hook applied to model.layers.0 with multiplier 1.5\n",
      "Steering hook removed from model.layers.0\n"
     ]
    },
    {
     "name": "stderr",
     "output_type": "stream",
     "text": [
      "Analyzing layers for neg_prompt_v1:   2%|▏         | 1/42 [00:42<28:45, 42.09s/it]"
     ]
    },
    {
     "name": "stdout",
     "output_type": "stream",
     "text": [
      "Layer 1\n",
      "Calculating activations for POSITIVE prompts...\n",
      "Calculated average activation for layer 'model.layers.1' with shape: torch.Size([3584])\n",
      "\n",
      "Calculating activations for NEGATIVE prompts...\n",
      "Calculated average activation for layer 'model.layers.1' with shape: torch.Size([3584])\n",
      "\n",
      "Steering vector computed successfully. Shape: torch.Size([3584])\n",
      "Steering hook applied to model.layers.1 with multiplier 1.5\n",
      "Steering hook removed from model.layers.1\n",
      "Steering hook applied to model.layers.1 with multiplier 1.5\n",
      "Steering hook removed from model.layers.1\n"
     ]
    },
    {
     "name": "stderr",
     "output_type": "stream",
     "text": [
      "Analyzing layers for neg_prompt_v1:   5%|▍         | 2/42 [01:24<28:03, 42.10s/it]"
     ]
    },
    {
     "name": "stdout",
     "output_type": "stream",
     "text": [
      "Layer 2\n",
      "Calculating activations for POSITIVE prompts...\n",
      "Calculated average activation for layer 'model.layers.2' with shape: torch.Size([3584])\n",
      "\n",
      "Calculating activations for NEGATIVE prompts...\n",
      "Calculated average activation for layer 'model.layers.2' with shape: torch.Size([3584])\n",
      "\n",
      "Steering vector computed successfully. Shape: torch.Size([3584])\n",
      "Steering hook applied to model.layers.2 with multiplier 1.5\n",
      "Steering hook removed from model.layers.2\n",
      "Steering hook applied to model.layers.2 with multiplier 1.5\n",
      "Steering hook removed from model.layers.2\n"
     ]
    },
    {
     "name": "stderr",
     "output_type": "stream",
     "text": [
      "Analyzing layers for neg_prompt_v1:   7%|▋         | 3/42 [02:06<27:22, 42.12s/it]"
     ]
    },
    {
     "name": "stdout",
     "output_type": "stream",
     "text": [
      "Layer 3\n",
      "Calculating activations for POSITIVE prompts...\n",
      "Calculated average activation for layer 'model.layers.3' with shape: torch.Size([3584])\n",
      "\n",
      "Calculating activations for NEGATIVE prompts...\n",
      "Calculated average activation for layer 'model.layers.3' with shape: torch.Size([3584])\n",
      "\n",
      "Steering vector computed successfully. Shape: torch.Size([3584])\n",
      "Steering hook applied to model.layers.3 with multiplier 1.5\n",
      "Steering hook removed from model.layers.3\n",
      "Steering hook applied to model.layers.3 with multiplier 1.5\n",
      "Steering hook removed from model.layers.3\n"
     ]
    },
    {
     "name": "stderr",
     "output_type": "stream",
     "text": [
      "Analyzing layers for neg_prompt_v1:  10%|▉         | 4/42 [02:48<26:38, 42.06s/it]"
     ]
    },
    {
     "name": "stdout",
     "output_type": "stream",
     "text": [
      "Layer 4\n",
      "Calculating activations for POSITIVE prompts...\n",
      "Calculated average activation for layer 'model.layers.4' with shape: torch.Size([3584])\n",
      "\n",
      "Calculating activations for NEGATIVE prompts...\n",
      "Calculated average activation for layer 'model.layers.4' with shape: torch.Size([3584])\n",
      "\n",
      "Steering vector computed successfully. Shape: torch.Size([3584])\n",
      "Steering hook applied to model.layers.4 with multiplier 1.5\n",
      "Steering hook removed from model.layers.4\n",
      "Steering hook applied to model.layers.4 with multiplier 1.5\n",
      "Steering hook removed from model.layers.4\n"
     ]
    },
    {
     "name": "stderr",
     "output_type": "stream",
     "text": [
      "Analyzing layers for neg_prompt_v1:  12%|█▏        | 5/42 [03:30<25:55, 42.03s/it]"
     ]
    },
    {
     "name": "stdout",
     "output_type": "stream",
     "text": [
      "Layer 5\n",
      "Calculating activations for POSITIVE prompts...\n",
      "Calculated average activation for layer 'model.layers.5' with shape: torch.Size([3584])\n",
      "\n",
      "Calculating activations for NEGATIVE prompts...\n",
      "Calculated average activation for layer 'model.layers.5' with shape: torch.Size([3584])\n",
      "\n",
      "Steering vector computed successfully. Shape: torch.Size([3584])\n",
      "Steering hook applied to model.layers.5 with multiplier 1.5\n",
      "Steering hook removed from model.layers.5\n",
      "Steering hook applied to model.layers.5 with multiplier 1.5\n",
      "Steering hook removed from model.layers.5\n"
     ]
    },
    {
     "name": "stderr",
     "output_type": "stream",
     "text": [
      "Analyzing layers for neg_prompt_v1:  14%|█▍        | 6/42 [04:12<25:15, 42.10s/it]"
     ]
    },
    {
     "name": "stdout",
     "output_type": "stream",
     "text": [
      "Layer 6\n",
      "Calculating activations for POSITIVE prompts...\n",
      "Calculated average activation for layer 'model.layers.6' with shape: torch.Size([3584])\n",
      "\n",
      "Calculating activations for NEGATIVE prompts...\n",
      "Calculated average activation for layer 'model.layers.6' with shape: torch.Size([3584])\n",
      "\n",
      "Steering vector computed successfully. Shape: torch.Size([3584])\n",
      "Steering hook applied to model.layers.6 with multiplier 1.5\n",
      "Steering hook removed from model.layers.6\n",
      "Steering hook applied to model.layers.6 with multiplier 1.5\n",
      "Steering hook removed from model.layers.6\n"
     ]
    },
    {
     "name": "stderr",
     "output_type": "stream",
     "text": [
      "Analyzing layers for neg_prompt_v1:  17%|█▋        | 7/42 [04:54<24:30, 42.02s/it]"
     ]
    },
    {
     "name": "stdout",
     "output_type": "stream",
     "text": [
      "Layer 7\n",
      "Calculating activations for POSITIVE prompts...\n",
      "Calculated average activation for layer 'model.layers.7' with shape: torch.Size([3584])\n",
      "\n",
      "Calculating activations for NEGATIVE prompts...\n",
      "Calculated average activation for layer 'model.layers.7' with shape: torch.Size([3584])\n",
      "\n",
      "Steering vector computed successfully. Shape: torch.Size([3584])\n",
      "Steering hook applied to model.layers.7 with multiplier 1.5\n",
      "Steering hook removed from model.layers.7\n",
      "Steering hook applied to model.layers.7 with multiplier 1.5\n",
      "Steering hook removed from model.layers.7\n"
     ]
    },
    {
     "name": "stderr",
     "output_type": "stream",
     "text": [
      "Analyzing layers for neg_prompt_v1:  19%|█▉        | 8/42 [05:35<23:36, 41.66s/it]"
     ]
    },
    {
     "name": "stdout",
     "output_type": "stream",
     "text": [
      "Layer 8\n",
      "Calculating activations for POSITIVE prompts...\n",
      "Calculated average activation for layer 'model.layers.8' with shape: torch.Size([3584])\n",
      "\n",
      "Calculating activations for NEGATIVE prompts...\n",
      "Calculated average activation for layer 'model.layers.8' with shape: torch.Size([3584])\n",
      "\n",
      "Steering vector computed successfully. Shape: torch.Size([3584])\n",
      "Steering hook applied to model.layers.8 with multiplier 1.5\n",
      "Steering hook removed from model.layers.8\n",
      "Steering hook applied to model.layers.8 with multiplier 1.5\n",
      "Steering hook removed from model.layers.8\n"
     ]
    },
    {
     "name": "stderr",
     "output_type": "stream",
     "text": [
      "Analyzing layers for neg_prompt_v1:  21%|██▏       | 9/42 [06:14<22:34, 41.03s/it]"
     ]
    },
    {
     "name": "stdout",
     "output_type": "stream",
     "text": [
      "Layer 9\n",
      "Calculating activations for POSITIVE prompts...\n",
      "Calculated average activation for layer 'model.layers.9' with shape: torch.Size([3584])\n",
      "\n",
      "Calculating activations for NEGATIVE prompts...\n",
      "Calculated average activation for layer 'model.layers.9' with shape: torch.Size([3584])\n",
      "\n",
      "Steering vector computed successfully. Shape: torch.Size([3584])\n",
      "Steering hook applied to model.layers.9 with multiplier 1.5\n",
      "Steering hook removed from model.layers.9\n",
      "Steering hook applied to model.layers.9 with multiplier 1.5\n",
      "Steering hook removed from model.layers.9\n"
     ]
    },
    {
     "name": "stderr",
     "output_type": "stream",
     "text": [
      "Analyzing layers for neg_prompt_v1:  24%|██▍       | 10/42 [06:54<21:34, 40.46s/it]"
     ]
    },
    {
     "name": "stdout",
     "output_type": "stream",
     "text": [
      "Layer 10\n",
      "Calculating activations for POSITIVE prompts...\n",
      "Calculated average activation for layer 'model.layers.10' with shape: torch.Size([3584])\n",
      "\n",
      "Calculating activations for NEGATIVE prompts...\n",
      "Calculated average activation for layer 'model.layers.10' with shape: torch.Size([3584])\n",
      "\n",
      "Steering vector computed successfully. Shape: torch.Size([3584])\n",
      "Steering hook applied to model.layers.10 with multiplier 1.5\n",
      "Steering hook removed from model.layers.10\n",
      "Steering hook applied to model.layers.10 with multiplier 1.5\n",
      "Steering hook removed from model.layers.10\n"
     ]
    },
    {
     "name": "stderr",
     "output_type": "stream",
     "text": [
      "Analyzing layers for neg_prompt_v1:  26%|██▌       | 11/42 [07:33<20:45, 40.18s/it]"
     ]
    },
    {
     "name": "stdout",
     "output_type": "stream",
     "text": [
      "Layer 11\n",
      "Calculating activations for POSITIVE prompts...\n",
      "Calculated average activation for layer 'model.layers.11' with shape: torch.Size([3584])\n",
      "\n",
      "Calculating activations for NEGATIVE prompts...\n",
      "Calculated average activation for layer 'model.layers.11' with shape: torch.Size([3584])\n",
      "\n",
      "Steering vector computed successfully. Shape: torch.Size([3584])\n",
      "Steering hook applied to model.layers.11 with multiplier 1.5\n",
      "Steering hook removed from model.layers.11\n",
      "Steering hook applied to model.layers.11 with multiplier 1.5\n",
      "Steering hook removed from model.layers.11\n"
     ]
    },
    {
     "name": "stderr",
     "output_type": "stream",
     "text": [
      "Analyzing layers for neg_prompt_v1:  29%|██▊       | 12/42 [08:13<20:01, 40.04s/it]"
     ]
    },
    {
     "name": "stdout",
     "output_type": "stream",
     "text": [
      "Layer 12\n",
      "Calculating activations for POSITIVE prompts...\n",
      "Calculated average activation for layer 'model.layers.12' with shape: torch.Size([3584])\n",
      "\n",
      "Calculating activations for NEGATIVE prompts...\n",
      "Calculated average activation for layer 'model.layers.12' with shape: torch.Size([3584])\n",
      "\n",
      "Steering vector computed successfully. Shape: torch.Size([3584])\n",
      "Steering hook applied to model.layers.12 with multiplier 1.5\n",
      "Steering hook removed from model.layers.12\n",
      "Steering hook applied to model.layers.12 with multiplier 1.5\n",
      "Steering hook removed from model.layers.12\n"
     ]
    },
    {
     "name": "stderr",
     "output_type": "stream",
     "text": [
      "Analyzing layers for neg_prompt_v1:  31%|███       | 13/42 [08:53<19:22, 40.09s/it]"
     ]
    },
    {
     "name": "stdout",
     "output_type": "stream",
     "text": [
      "Layer 13\n",
      "Calculating activations for POSITIVE prompts...\n",
      "Calculated average activation for layer 'model.layers.13' with shape: torch.Size([3584])\n",
      "\n",
      "Calculating activations for NEGATIVE prompts...\n",
      "Calculated average activation for layer 'model.layers.13' with shape: torch.Size([3584])\n",
      "\n",
      "Steering vector computed successfully. Shape: torch.Size([3584])\n",
      "Steering hook applied to model.layers.13 with multiplier 1.5\n",
      "Steering hook removed from model.layers.13\n",
      "Steering hook applied to model.layers.13 with multiplier 1.5\n",
      "Steering hook removed from model.layers.13\n"
     ]
    },
    {
     "name": "stderr",
     "output_type": "stream",
     "text": [
      "Analyzing layers for neg_prompt_v1:  33%|███▎      | 14/42 [09:33<18:44, 40.15s/it]"
     ]
    },
    {
     "name": "stdout",
     "output_type": "stream",
     "text": [
      "Layer 14\n",
      "Calculating activations for POSITIVE prompts...\n",
      "Calculated average activation for layer 'model.layers.14' with shape: torch.Size([3584])\n",
      "\n",
      "Calculating activations for NEGATIVE prompts...\n",
      "Calculated average activation for layer 'model.layers.14' with shape: torch.Size([3584])\n",
      "\n",
      "Steering vector computed successfully. Shape: torch.Size([3584])\n",
      "Steering hook applied to model.layers.14 with multiplier 1.5\n",
      "Steering hook removed from model.layers.14\n",
      "Steering hook applied to model.layers.14 with multiplier 1.5\n",
      "Steering hook removed from model.layers.14\n"
     ]
    },
    {
     "name": "stderr",
     "output_type": "stream",
     "text": [
      "Analyzing layers for neg_prompt_v1:  36%|███▌      | 15/42 [10:13<18:02, 40.08s/it]"
     ]
    },
    {
     "name": "stdout",
     "output_type": "stream",
     "text": [
      "Layer 15\n",
      "Calculating activations for POSITIVE prompts...\n",
      "Calculated average activation for layer 'model.layers.15' with shape: torch.Size([3584])\n",
      "\n",
      "Calculating activations for NEGATIVE prompts...\n",
      "Calculated average activation for layer 'model.layers.15' with shape: torch.Size([3584])\n",
      "\n",
      "Steering vector computed successfully. Shape: torch.Size([3584])\n",
      "Steering hook applied to model.layers.15 with multiplier 1.5\n",
      "Steering hook removed from model.layers.15\n",
      "Steering hook applied to model.layers.15 with multiplier 1.5\n",
      "Steering hook removed from model.layers.15\n"
     ]
    },
    {
     "name": "stderr",
     "output_type": "stream",
     "text": [
      "Analyzing layers for neg_prompt_v1:  38%|███▊      | 16/42 [10:54<17:30, 40.39s/it]"
     ]
    },
    {
     "name": "stdout",
     "output_type": "stream",
     "text": [
      "Layer 16\n",
      "Calculating activations for POSITIVE prompts...\n",
      "Calculated average activation for layer 'model.layers.16' with shape: torch.Size([3584])\n",
      "\n",
      "Calculating activations for NEGATIVE prompts...\n",
      "Calculated average activation for layer 'model.layers.16' with shape: torch.Size([3584])\n",
      "\n",
      "Steering vector computed successfully. Shape: torch.Size([3584])\n",
      "Steering hook applied to model.layers.16 with multiplier 1.5\n",
      "Steering hook removed from model.layers.16\n",
      "Steering hook applied to model.layers.16 with multiplier 1.5\n",
      "Steering hook removed from model.layers.16\n"
     ]
    },
    {
     "name": "stderr",
     "output_type": "stream",
     "text": [
      "Analyzing layers for neg_prompt_v1:  40%|████      | 17/42 [11:35<16:51, 40.44s/it]"
     ]
    },
    {
     "name": "stdout",
     "output_type": "stream",
     "text": [
      "Layer 17\n",
      "Calculating activations for POSITIVE prompts...\n",
      "Calculated average activation for layer 'model.layers.17' with shape: torch.Size([3584])\n",
      "\n",
      "Calculating activations for NEGATIVE prompts...\n",
      "Calculated average activation for layer 'model.layers.17' with shape: torch.Size([3584])\n",
      "\n",
      "Steering vector computed successfully. Shape: torch.Size([3584])\n",
      "Steering hook applied to model.layers.17 with multiplier 1.5\n",
      "Steering hook removed from model.layers.17\n",
      "Steering hook applied to model.layers.17 with multiplier 1.5\n",
      "Steering hook removed from model.layers.17\n"
     ]
    },
    {
     "name": "stderr",
     "output_type": "stream",
     "text": [
      "Analyzing layers for neg_prompt_v1:  43%|████▎     | 18/42 [12:15<16:05, 40.21s/it]"
     ]
    },
    {
     "name": "stdout",
     "output_type": "stream",
     "text": [
      "Layer 18\n",
      "Calculating activations for POSITIVE prompts...\n",
      "Calculated average activation for layer 'model.layers.18' with shape: torch.Size([3584])\n",
      "\n",
      "Calculating activations for NEGATIVE prompts...\n",
      "Calculated average activation for layer 'model.layers.18' with shape: torch.Size([3584])\n",
      "\n",
      "Steering vector computed successfully. Shape: torch.Size([3584])\n",
      "Steering hook applied to model.layers.18 with multiplier 1.5\n",
      "Steering hook removed from model.layers.18\n",
      "Steering hook applied to model.layers.18 with multiplier 1.5\n",
      "Steering hook removed from model.layers.18\n"
     ]
    },
    {
     "name": "stderr",
     "output_type": "stream",
     "text": [
      "Analyzing layers for neg_prompt_v1:  45%|████▌     | 19/42 [12:54<15:20, 40.02s/it]"
     ]
    },
    {
     "name": "stdout",
     "output_type": "stream",
     "text": [
      "Layer 19\n",
      "Calculating activations for POSITIVE prompts...\n",
      "Calculated average activation for layer 'model.layers.19' with shape: torch.Size([3584])\n",
      "\n",
      "Calculating activations for NEGATIVE prompts...\n",
      "Calculated average activation for layer 'model.layers.19' with shape: torch.Size([3584])\n",
      "\n",
      "Steering vector computed successfully. Shape: torch.Size([3584])\n",
      "Steering hook applied to model.layers.19 with multiplier 1.5\n",
      "Steering hook removed from model.layers.19\n",
      "Steering hook applied to model.layers.19 with multiplier 1.5\n",
      "Steering hook removed from model.layers.19\n"
     ]
    },
    {
     "name": "stderr",
     "output_type": "stream",
     "text": [
      "Analyzing layers for neg_prompt_v1:  48%|████▊     | 20/42 [13:34<14:39, 39.96s/it]"
     ]
    },
    {
     "name": "stdout",
     "output_type": "stream",
     "text": [
      "Layer 20\n",
      "Calculating activations for POSITIVE prompts...\n",
      "Calculated average activation for layer 'model.layers.20' with shape: torch.Size([3584])\n",
      "\n",
      "Calculating activations for NEGATIVE prompts...\n",
      "Calculated average activation for layer 'model.layers.20' with shape: torch.Size([3584])\n",
      "\n",
      "Steering vector computed successfully. Shape: torch.Size([3584])\n",
      "Steering hook applied to model.layers.20 with multiplier 1.5\n",
      "Steering hook removed from model.layers.20\n",
      "Steering hook applied to model.layers.20 with multiplier 1.5\n",
      "Steering hook removed from model.layers.20\n"
     ]
    },
    {
     "name": "stderr",
     "output_type": "stream",
     "text": [
      "Analyzing layers for neg_prompt_v1:  50%|█████     | 21/42 [14:13<13:53, 39.71s/it]"
     ]
    },
    {
     "name": "stdout",
     "output_type": "stream",
     "text": [
      "Layer 21\n",
      "Calculating activations for POSITIVE prompts...\n",
      "Calculated average activation for layer 'model.layers.21' with shape: torch.Size([3584])\n",
      "\n",
      "Calculating activations for NEGATIVE prompts...\n",
      "Calculated average activation for layer 'model.layers.21' with shape: torch.Size([3584])\n",
      "\n",
      "Steering vector computed successfully. Shape: torch.Size([3584])\n",
      "Steering hook applied to model.layers.21 with multiplier 1.5\n",
      "Steering hook removed from model.layers.21\n",
      "Steering hook applied to model.layers.21 with multiplier 1.5\n",
      "Steering hook removed from model.layers.21\n"
     ]
    },
    {
     "name": "stderr",
     "output_type": "stream",
     "text": [
      "Analyzing layers for neg_prompt_v1:  52%|█████▏    | 22/42 [14:52<13:11, 39.58s/it]"
     ]
    },
    {
     "name": "stdout",
     "output_type": "stream",
     "text": [
      "Layer 22\n",
      "Calculating activations for POSITIVE prompts...\n",
      "Calculated average activation for layer 'model.layers.22' with shape: torch.Size([3584])\n",
      "\n",
      "Calculating activations for NEGATIVE prompts...\n",
      "Calculated average activation for layer 'model.layers.22' with shape: torch.Size([3584])\n",
      "\n",
      "Steering vector computed successfully. Shape: torch.Size([3584])\n",
      "Steering hook applied to model.layers.22 with multiplier 1.5\n",
      "Steering hook removed from model.layers.22\n",
      "Steering hook applied to model.layers.22 with multiplier 1.5\n",
      "Steering hook removed from model.layers.22\n"
     ]
    },
    {
     "name": "stderr",
     "output_type": "stream",
     "text": [
      "Analyzing layers for neg_prompt_v1:  55%|█████▍    | 23/42 [15:30<12:23, 39.12s/it]"
     ]
    },
    {
     "name": "stdout",
     "output_type": "stream",
     "text": [
      "Layer 23\n",
      "Calculating activations for POSITIVE prompts...\n",
      "Calculated average activation for layer 'model.layers.23' with shape: torch.Size([3584])\n",
      "\n",
      "Calculating activations for NEGATIVE prompts...\n",
      "Calculated average activation for layer 'model.layers.23' with shape: torch.Size([3584])\n",
      "\n",
      "Steering vector computed successfully. Shape: torch.Size([3584])\n",
      "Steering hook applied to model.layers.23 with multiplier 1.5\n",
      "Steering hook removed from model.layers.23\n",
      "Steering hook applied to model.layers.23 with multiplier 1.5\n",
      "Steering hook removed from model.layers.23\n"
     ]
    },
    {
     "name": "stderr",
     "output_type": "stream",
     "text": [
      "Analyzing layers for neg_prompt_v1:  57%|█████▋    | 24/42 [16:08<11:37, 38.74s/it]"
     ]
    },
    {
     "name": "stdout",
     "output_type": "stream",
     "text": [
      "Layer 24\n",
      "Calculating activations for POSITIVE prompts...\n",
      "Calculated average activation for layer 'model.layers.24' with shape: torch.Size([3584])\n",
      "\n",
      "Calculating activations for NEGATIVE prompts...\n",
      "Calculated average activation for layer 'model.layers.24' with shape: torch.Size([3584])\n",
      "\n",
      "Steering vector computed successfully. Shape: torch.Size([3584])\n",
      "Steering hook applied to model.layers.24 with multiplier 1.5\n",
      "Steering hook removed from model.layers.24\n",
      "Steering hook applied to model.layers.24 with multiplier 1.5\n",
      "Steering hook removed from model.layers.24\n"
     ]
    },
    {
     "name": "stderr",
     "output_type": "stream",
     "text": [
      "Analyzing layers for neg_prompt_v1:  60%|█████▉    | 25/42 [16:46<10:54, 38.52s/it]"
     ]
    },
    {
     "name": "stdout",
     "output_type": "stream",
     "text": [
      "Layer 25\n",
      "Calculating activations for POSITIVE prompts...\n",
      "Calculated average activation for layer 'model.layers.25' with shape: torch.Size([3584])\n",
      "\n",
      "Calculating activations for NEGATIVE prompts...\n",
      "Calculated average activation for layer 'model.layers.25' with shape: torch.Size([3584])\n",
      "\n",
      "Steering vector computed successfully. Shape: torch.Size([3584])\n",
      "Steering hook applied to model.layers.25 with multiplier 1.5\n",
      "Steering hook removed from model.layers.25\n",
      "Steering hook applied to model.layers.25 with multiplier 1.5\n",
      "Steering hook removed from model.layers.25\n"
     ]
    },
    {
     "name": "stderr",
     "output_type": "stream",
     "text": [
      "Analyzing layers for neg_prompt_v1:  62%|██████▏   | 26/42 [17:25<10:16, 38.54s/it]"
     ]
    },
    {
     "name": "stdout",
     "output_type": "stream",
     "text": [
      "Layer 26\n",
      "Calculating activations for POSITIVE prompts...\n",
      "Calculated average activation for layer 'model.layers.26' with shape: torch.Size([3584])\n",
      "\n",
      "Calculating activations for NEGATIVE prompts...\n",
      "Calculated average activation for layer 'model.layers.26' with shape: torch.Size([3584])\n",
      "\n",
      "Steering vector computed successfully. Shape: torch.Size([3584])\n",
      "Steering hook applied to model.layers.26 with multiplier 1.5\n",
      "Steering hook removed from model.layers.26\n",
      "Steering hook applied to model.layers.26 with multiplier 1.5\n",
      "Steering hook removed from model.layers.26\n"
     ]
    },
    {
     "name": "stderr",
     "output_type": "stream",
     "text": [
      "Analyzing layers for neg_prompt_v1:  64%|██████▍   | 27/42 [18:04<09:38, 38.60s/it]"
     ]
    },
    {
     "name": "stdout",
     "output_type": "stream",
     "text": [
      "Layer 27\n",
      "Calculating activations for POSITIVE prompts...\n",
      "Calculated average activation for layer 'model.layers.27' with shape: torch.Size([3584])\n",
      "\n",
      "Calculating activations for NEGATIVE prompts...\n",
      "Calculated average activation for layer 'model.layers.27' with shape: torch.Size([3584])\n",
      "\n",
      "Steering vector computed successfully. Shape: torch.Size([3584])\n",
      "Steering hook applied to model.layers.27 with multiplier 1.5\n",
      "Steering hook removed from model.layers.27\n",
      "Steering hook applied to model.layers.27 with multiplier 1.5\n",
      "Steering hook removed from model.layers.27\n"
     ]
    },
    {
     "name": "stderr",
     "output_type": "stream",
     "text": [
      "Analyzing layers for neg_prompt_v1:  67%|██████▋   | 28/42 [18:42<08:58, 38.44s/it]"
     ]
    },
    {
     "name": "stdout",
     "output_type": "stream",
     "text": [
      "Layer 28\n",
      "Calculating activations for POSITIVE prompts...\n",
      "Calculated average activation for layer 'model.layers.28' with shape: torch.Size([3584])\n",
      "\n",
      "Calculating activations for NEGATIVE prompts...\n",
      "Calculated average activation for layer 'model.layers.28' with shape: torch.Size([3584])\n",
      "\n",
      "Steering vector computed successfully. Shape: torch.Size([3584])\n",
      "Steering hook applied to model.layers.28 with multiplier 1.5\n",
      "Steering hook removed from model.layers.28\n",
      "Steering hook applied to model.layers.28 with multiplier 1.5\n",
      "Steering hook removed from model.layers.28\n"
     ]
    },
    {
     "name": "stderr",
     "output_type": "stream",
     "text": [
      "Analyzing layers for neg_prompt_v1:  69%|██████▉   | 29/42 [19:20<08:17, 38.25s/it]"
     ]
    },
    {
     "name": "stdout",
     "output_type": "stream",
     "text": [
      "Layer 29\n",
      "Calculating activations for POSITIVE prompts...\n",
      "Calculated average activation for layer 'model.layers.29' with shape: torch.Size([3584])\n",
      "\n",
      "Calculating activations for NEGATIVE prompts...\n",
      "Calculated average activation for layer 'model.layers.29' with shape: torch.Size([3584])\n",
      "\n",
      "Steering vector computed successfully. Shape: torch.Size([3584])\n",
      "Steering hook applied to model.layers.29 with multiplier 1.5\n",
      "Steering hook removed from model.layers.29\n",
      "Steering hook applied to model.layers.29 with multiplier 1.5\n",
      "Steering hook removed from model.layers.29\n"
     ]
    },
    {
     "name": "stderr",
     "output_type": "stream",
     "text": [
      "Analyzing layers for neg_prompt_v1:  71%|███████▏  | 30/42 [19:58<07:38, 38.20s/it]"
     ]
    },
    {
     "name": "stdout",
     "output_type": "stream",
     "text": [
      "Layer 30\n",
      "Calculating activations for POSITIVE prompts...\n",
      "Calculated average activation for layer 'model.layers.30' with shape: torch.Size([3584])\n",
      "\n",
      "Calculating activations for NEGATIVE prompts...\n",
      "Calculated average activation for layer 'model.layers.30' with shape: torch.Size([3584])\n",
      "\n",
      "Steering vector computed successfully. Shape: torch.Size([3584])\n",
      "Steering hook applied to model.layers.30 with multiplier 1.5\n",
      "Steering hook removed from model.layers.30\n",
      "Steering hook applied to model.layers.30 with multiplier 1.5\n",
      "Steering hook removed from model.layers.30\n"
     ]
    },
    {
     "name": "stderr",
     "output_type": "stream",
     "text": [
      "Analyzing layers for neg_prompt_v1:  74%|███████▍  | 31/42 [20:36<07:00, 38.21s/it]"
     ]
    },
    {
     "name": "stdout",
     "output_type": "stream",
     "text": [
      "Layer 31\n",
      "Calculating activations for POSITIVE prompts...\n",
      "Calculated average activation for layer 'model.layers.31' with shape: torch.Size([3584])\n",
      "\n",
      "Calculating activations for NEGATIVE prompts...\n",
      "Calculated average activation for layer 'model.layers.31' with shape: torch.Size([3584])\n",
      "\n",
      "Steering vector computed successfully. Shape: torch.Size([3584])\n",
      "Steering hook applied to model.layers.31 with multiplier 1.5\n",
      "Steering hook removed from model.layers.31\n",
      "Steering hook applied to model.layers.31 with multiplier 1.5\n",
      "Steering hook removed from model.layers.31\n"
     ]
    },
    {
     "name": "stderr",
     "output_type": "stream",
     "text": [
      "Analyzing layers for neg_prompt_v1:  76%|███████▌  | 32/42 [21:14<06:20, 38.08s/it]"
     ]
    },
    {
     "name": "stdout",
     "output_type": "stream",
     "text": [
      "Layer 32\n",
      "Calculating activations for POSITIVE prompts...\n",
      "Calculated average activation for layer 'model.layers.32' with shape: torch.Size([3584])\n",
      "\n",
      "Calculating activations for NEGATIVE prompts...\n",
      "Calculated average activation for layer 'model.layers.32' with shape: torch.Size([3584])\n",
      "\n",
      "Steering vector computed successfully. Shape: torch.Size([3584])\n",
      "Steering hook applied to model.layers.32 with multiplier 1.5\n",
      "Steering hook removed from model.layers.32\n",
      "Steering hook applied to model.layers.32 with multiplier 1.5\n",
      "Steering hook removed from model.layers.32\n"
     ]
    },
    {
     "name": "stderr",
     "output_type": "stream",
     "text": [
      "Analyzing layers for neg_prompt_v1:  79%|███████▊  | 33/42 [21:52<05:43, 38.19s/it]"
     ]
    },
    {
     "name": "stdout",
     "output_type": "stream",
     "text": [
      "Layer 33\n",
      "Calculating activations for POSITIVE prompts...\n",
      "Calculated average activation for layer 'model.layers.33' with shape: torch.Size([3584])\n",
      "\n",
      "Calculating activations for NEGATIVE prompts...\n",
      "Calculated average activation for layer 'model.layers.33' with shape: torch.Size([3584])\n",
      "\n",
      "Steering vector computed successfully. Shape: torch.Size([3584])\n",
      "Steering hook applied to model.layers.33 with multiplier 1.5\n",
      "Steering hook removed from model.layers.33\n",
      "Steering hook applied to model.layers.33 with multiplier 1.5\n",
      "Steering hook removed from model.layers.33\n"
     ]
    },
    {
     "name": "stderr",
     "output_type": "stream",
     "text": [
      "Analyzing layers for neg_prompt_v1:  81%|████████  | 34/42 [22:32<05:10, 38.84s/it]"
     ]
    },
    {
     "name": "stdout",
     "output_type": "stream",
     "text": [
      "Layer 34\n",
      "Calculating activations for POSITIVE prompts...\n",
      "Calculated average activation for layer 'model.layers.34' with shape: torch.Size([3584])\n",
      "\n",
      "Calculating activations for NEGATIVE prompts...\n",
      "Calculated average activation for layer 'model.layers.34' with shape: torch.Size([3584])\n",
      "\n",
      "Steering vector computed successfully. Shape: torch.Size([3584])\n",
      "Steering hook applied to model.layers.34 with multiplier 1.5\n",
      "Steering hook removed from model.layers.34\n",
      "Steering hook applied to model.layers.34 with multiplier 1.5\n",
      "Steering hook removed from model.layers.34\n"
     ]
    },
    {
     "name": "stderr",
     "output_type": "stream",
     "text": [
      "Analyzing layers for neg_prompt_v1:  83%|████████▎ | 35/42 [23:14<04:37, 39.63s/it]"
     ]
    },
    {
     "name": "stdout",
     "output_type": "stream",
     "text": [
      "Layer 35\n",
      "Calculating activations for POSITIVE prompts...\n",
      "Calculated average activation for layer 'model.layers.35' with shape: torch.Size([3584])\n",
      "\n",
      "Calculating activations for NEGATIVE prompts...\n",
      "Calculated average activation for layer 'model.layers.35' with shape: torch.Size([3584])\n",
      "\n",
      "Steering vector computed successfully. Shape: torch.Size([3584])\n",
      "Steering hook applied to model.layers.35 with multiplier 1.5\n",
      "Steering hook removed from model.layers.35\n",
      "Steering hook applied to model.layers.35 with multiplier 1.5\n",
      "Steering hook removed from model.layers.35\n"
     ]
    },
    {
     "name": "stderr",
     "output_type": "stream",
     "text": [
      "Analyzing layers for neg_prompt_v1:  86%|████████▌ | 36/42 [23:54<03:59, 39.89s/it]"
     ]
    },
    {
     "name": "stdout",
     "output_type": "stream",
     "text": [
      "Layer 36\n",
      "Calculating activations for POSITIVE prompts...\n",
      "Calculated average activation for layer 'model.layers.36' with shape: torch.Size([3584])\n",
      "\n",
      "Calculating activations for NEGATIVE prompts...\n",
      "Calculated average activation for layer 'model.layers.36' with shape: torch.Size([3584])\n",
      "\n",
      "Steering vector computed successfully. Shape: torch.Size([3584])\n",
      "Steering hook applied to model.layers.36 with multiplier 1.5\n",
      "Steering hook removed from model.layers.36\n",
      "Steering hook applied to model.layers.36 with multiplier 1.5\n",
      "Steering hook removed from model.layers.36\n"
     ]
    },
    {
     "name": "stderr",
     "output_type": "stream",
     "text": [
      "Analyzing layers for neg_prompt_v1:  88%|████████▊ | 37/42 [24:34<03:18, 39.68s/it]"
     ]
    },
    {
     "name": "stdout",
     "output_type": "stream",
     "text": [
      "Layer 37\n",
      "Calculating activations for POSITIVE prompts...\n",
      "Calculated average activation for layer 'model.layers.37' with shape: torch.Size([3584])\n",
      "\n",
      "Calculating activations for NEGATIVE prompts...\n",
      "Calculated average activation for layer 'model.layers.37' with shape: torch.Size([3584])\n",
      "\n",
      "Steering vector computed successfully. Shape: torch.Size([3584])\n",
      "Steering hook applied to model.layers.37 with multiplier 1.5\n",
      "Steering hook removed from model.layers.37\n",
      "Steering hook applied to model.layers.37 with multiplier 1.5\n",
      "Steering hook removed from model.layers.37\n"
     ]
    },
    {
     "name": "stderr",
     "output_type": "stream",
     "text": [
      "Analyzing layers for neg_prompt_v1:  90%|█████████ | 38/42 [25:14<02:39, 39.88s/it]"
     ]
    },
    {
     "name": "stdout",
     "output_type": "stream",
     "text": [
      "Layer 38\n",
      "Calculating activations for POSITIVE prompts...\n",
      "Calculated average activation for layer 'model.layers.38' with shape: torch.Size([3584])\n",
      "\n",
      "Calculating activations for NEGATIVE prompts...\n",
      "Calculated average activation for layer 'model.layers.38' with shape: torch.Size([3584])\n",
      "\n",
      "Steering vector computed successfully. Shape: torch.Size([3584])\n",
      "Steering hook applied to model.layers.38 with multiplier 1.5\n",
      "Steering hook removed from model.layers.38\n",
      "Steering hook applied to model.layers.38 with multiplier 1.5\n",
      "Steering hook removed from model.layers.38\n"
     ]
    },
    {
     "name": "stderr",
     "output_type": "stream",
     "text": [
      "Analyzing layers for neg_prompt_v1:  93%|█████████▎| 39/42 [25:53<01:58, 39.56s/it]"
     ]
    },
    {
     "name": "stdout",
     "output_type": "stream",
     "text": [
      "Layer 39\n",
      "Calculating activations for POSITIVE prompts...\n",
      "Calculated average activation for layer 'model.layers.39' with shape: torch.Size([3584])\n",
      "\n",
      "Calculating activations for NEGATIVE prompts...\n",
      "Calculated average activation for layer 'model.layers.39' with shape: torch.Size([3584])\n",
      "\n",
      "Steering vector computed successfully. Shape: torch.Size([3584])\n",
      "Steering hook applied to model.layers.39 with multiplier 1.5\n",
      "Steering hook removed from model.layers.39\n",
      "Steering hook applied to model.layers.39 with multiplier 1.5\n",
      "Steering hook removed from model.layers.39\n"
     ]
    },
    {
     "name": "stderr",
     "output_type": "stream",
     "text": [
      "Analyzing layers for neg_prompt_v1:  95%|█████████▌| 40/42 [26:32<01:18, 39.44s/it]"
     ]
    },
    {
     "name": "stdout",
     "output_type": "stream",
     "text": [
      "Layer 40\n",
      "Calculating activations for POSITIVE prompts...\n",
      "Calculated average activation for layer 'model.layers.40' with shape: torch.Size([3584])\n",
      "\n",
      "Calculating activations for NEGATIVE prompts...\n",
      "Calculated average activation for layer 'model.layers.40' with shape: torch.Size([3584])\n",
      "\n",
      "Steering vector computed successfully. Shape: torch.Size([3584])\n",
      "Steering hook applied to model.layers.40 with multiplier 1.5\n",
      "Steering hook removed from model.layers.40\n",
      "Steering hook applied to model.layers.40 with multiplier 1.5\n",
      "Steering hook removed from model.layers.40\n"
     ]
    },
    {
     "name": "stderr",
     "output_type": "stream",
     "text": [
      "Analyzing layers for neg_prompt_v1:  98%|█████████▊| 41/42 [27:10<00:38, 38.99s/it]"
     ]
    },
    {
     "name": "stdout",
     "output_type": "stream",
     "text": [
      "Layer 41\n",
      "Calculating activations for POSITIVE prompts...\n",
      "Calculated average activation for layer 'model.layers.41' with shape: torch.Size([3584])\n",
      "\n",
      "Calculating activations for NEGATIVE prompts...\n",
      "Calculated average activation for layer 'model.layers.41' with shape: torch.Size([3584])\n",
      "\n",
      "Steering vector computed successfully. Shape: torch.Size([3584])\n",
      "Steering hook applied to model.layers.41 with multiplier 1.5\n",
      "Steering hook removed from model.layers.41\n",
      "Steering hook applied to model.layers.41 with multiplier 1.5\n",
      "Steering hook removed from model.layers.41\n"
     ]
    },
    {
     "name": "stderr",
     "output_type": "stream",
     "text": [
      "Analyzing layers for neg_prompt_v1: 100%|██████████| 42/42 [27:49<00:00, 39.75s/it]\n"
     ]
    }
   ],
   "source": [
    "wordlists = {\n",
    "        \"quick_rhymes_all\": quick_rhymes_all,\n",
    "        \"trick\": [\"trick\"],\n",
    "        \"stick\": [\"stick\"],\n",
    "        \"quick\": [\"quick\"],\n",
    "        \"tick\": [\"tick\"]\n",
    "    }\n",
    "\n",
    "results = analyze_layers_for_wordlists(\n",
    "        model=model,  # Assuming this is defined elsewhere\n",
    "        tokenizer=tokenizer,  # Assuming this is defined elsewhere\n",
    "        negative_prompts_list=[NEGATIVE_PROMPTS],  # Now passing the list of negative prompt variants\n",
    "        positive_prompts=POSITIVE_PROMPTS,\n",
    "        generation_prompt=GENERATION_PROMPT,\n",
    "        dirname=\"steering_vectors_norhyme_to_quick\",\n",
    "        line_number=3,\n",
    "        wordlists_dict=wordlists,\n",
    "        num_layers=42,\n",
    "        steering_multiplier=STEERING_MULTIPLIER,\n",
    "        save_vectors=True\n",
    "    )"
   ]
  },
  {
   "cell_type": "code",
   "execution_count": 52,
   "id": "0ed8e697-2e93-4998-b53c-ec7cdf179d06",
   "metadata": {},
   "outputs": [
    {
     "name": "stdout",
     "output_type": "stream",
     "text": [
      "Need at least 2 negative prompt variants for comparison\n"
     ]
    },
    {
     "data": {
      "image/png": "[encoded data removed]",
      "text/plain": [
       "<Figure size 1400x2500 with 5 Axes>"
      ]
     },
     "metadata": {},
     "output_type": "display_data"
    }
   ],
   "source": [
    "    # Save results to CSV for future analysis\n",
    "results.to_csv(\"layer_analysis_results_norhyme_to_quick.csv\", index=False)\n",
    "    \n",
    "    # Plot combined results\n",
    "fig1 = plot_layer_analysis(results)\n",
    "plt.savefig(\"layer_analysis_combined_plot_norhyme_to_quick.png\", dpi=300)\n",
    "    \n",
    "    # Plot comparative analysis\n",
    "fig2 = plot_comparative_analysis(results)\n",
    "plt.savefig(\"layer_analysis_comparison_plot_norhyme_to_quick.png\", dpi=300)\n",
    "    \n",
    "plt.show()"
   ]
  },
  {
   "cell_type": "code",
   "execution_count": null,
   "id": "a35f0bc1-24f6-44e6-bb45-676854a40218",
   "metadata": {},
   "outputs": [],
   "source": []
  }
 ],
 "metadata": {
  "kernelspec": {
   "display_name": "Python 3 (ipykernel)",
   "language": "python",
   "name": "python3"
  },
  "language_info": {
   "codemirror_mode": {
    "name": "ipython",
    "version": 3
   },
   "file_extension": ".py",
   "mimetype": "text/x-python",
   "name": "python",
   "nbconvert_exporter": "python",
   "pygments_lexer": "ipython3",
   "version": "3.11.11"
  }
 },
 "nbformat": 4,
 "nbformat_minor": 5
}
